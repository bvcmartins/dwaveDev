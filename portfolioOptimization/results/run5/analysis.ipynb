{
 "cells": [
  {
   "cell_type": "code",
   "execution_count": 1,
   "outputs": [],
   "source": [
    "import pandas as pd"
   ],
   "metadata": {
    "collapsed": false,
    "pycharm": {
     "name": "#%%\n"
    }
   }
  },
  {
   "cell_type": "code",
   "execution_count": 2,
   "outputs": [
    {
     "data": {
      "text/plain": "                AAPL       MSFT       AAL        WMT\nDate                                                \n2010-01-29  5.864812  21.670120  5.005956  40.058247\n2010-02-26  6.248348  22.150023  6.910294  40.538067\n2010-03-31  7.176042  22.629034  6.929150  41.920120\n2010-04-30  7.205665  22.528589  6.976287  41.837185",
      "text/html": "<div>\n<style scoped>\n    .dataframe tbody tr th:only-of-type {\n        vertical-align: middle;\n    }\n\n    .dataframe tbody tr th {\n        vertical-align: top;\n    }\n\n    .dataframe thead th {\n        text-align: right;\n    }\n</style>\n<table border=\"1\" class=\"dataframe\">\n  <thead>\n    <tr style=\"text-align: right;\">\n      <th></th>\n      <th>AAPL</th>\n      <th>MSFT</th>\n      <th>AAL</th>\n      <th>WMT</th>\n    </tr>\n    <tr>\n      <th>Date</th>\n      <th></th>\n      <th></th>\n      <th></th>\n      <th></th>\n    </tr>\n  </thead>\n  <tbody>\n    <tr>\n      <th>2010-01-29</th>\n      <td>5.864812</td>\n      <td>21.670120</td>\n      <td>5.005956</td>\n      <td>40.058247</td>\n    </tr>\n    <tr>\n      <th>2010-02-26</th>\n      <td>6.248348</td>\n      <td>22.150023</td>\n      <td>6.910294</td>\n      <td>40.538067</td>\n    </tr>\n    <tr>\n      <th>2010-03-31</th>\n      <td>7.176042</td>\n      <td>22.629034</td>\n      <td>6.929150</td>\n      <td>41.920120</td>\n    </tr>\n    <tr>\n      <th>2010-04-30</th>\n      <td>7.205665</td>\n      <td>22.528589</td>\n      <td>6.976287</td>\n      <td>41.837185</td>\n    </tr>\n  </tbody>\n</table>\n</div>"
     },
     "execution_count": 2,
     "metadata": {},
     "output_type": "execute_result"
    }
   ],
   "source": [
    "df_all = pd.read_pickle('df_all.pkl')\n",
    "df_all"
   ],
   "metadata": {
    "collapsed": false,
    "pycharm": {
     "name": "#%%\n"
    }
   }
  },
  {
   "cell_type": "code",
   "execution_count": 3,
   "outputs": [
    {
     "data": {
      "text/plain": "                  ^GSPC\nDate                   \n2010-01-29  1073.869995\n2010-02-26  1104.489990\n2010-03-31  1169.430054\n2010-04-30  1178.099976",
      "text/html": "<div>\n<style scoped>\n    .dataframe tbody tr th:only-of-type {\n        vertical-align: middle;\n    }\n\n    .dataframe tbody tr th {\n        vertical-align: top;\n    }\n\n    .dataframe thead th {\n        text-align: right;\n    }\n</style>\n<table border=\"1\" class=\"dataframe\">\n  <thead>\n    <tr style=\"text-align: right;\">\n      <th></th>\n      <th>^GSPC</th>\n    </tr>\n    <tr>\n      <th>Date</th>\n      <th></th>\n    </tr>\n  </thead>\n  <tbody>\n    <tr>\n      <th>2010-01-29</th>\n      <td>1073.869995</td>\n    </tr>\n    <tr>\n      <th>2010-02-26</th>\n      <td>1104.489990</td>\n    </tr>\n    <tr>\n      <th>2010-03-31</th>\n      <td>1169.430054</td>\n    </tr>\n    <tr>\n      <th>2010-04-30</th>\n      <td>1178.099976</td>\n    </tr>\n  </tbody>\n</table>\n</div>"
     },
     "execution_count": 3,
     "metadata": {},
     "output_type": "execute_result"
    }
   ],
   "source": [
    "df_baseline = pd.read_pickle('df_baseline.pkl')\n",
    "df_baseline"
   ],
   "metadata": {
    "collapsed": false,
    "pycharm": {
     "name": "#%%\n"
    }
   }
  },
  {
   "cell_type": "code",
   "execution_count": 4,
   "outputs": [
    {
     "data": {
      "text/plain": "         Date       Value AAPL MSFT AAL WMT  Variance  Returns\n1  2010-04-30  999.847365  101    0  39   0   5663.13    88.25",
      "text/html": "<div>\n<style scoped>\n    .dataframe tbody tr th:only-of-type {\n        vertical-align: middle;\n    }\n\n    .dataframe tbody tr th {\n        vertical-align: top;\n    }\n\n    .dataframe thead th {\n        text-align: right;\n    }\n</style>\n<table border=\"1\" class=\"dataframe\">\n  <thead>\n    <tr style=\"text-align: right;\">\n      <th></th>\n      <th>Date</th>\n      <th>Value</th>\n      <th>AAPL</th>\n      <th>MSFT</th>\n      <th>AAL</th>\n      <th>WMT</th>\n      <th>Variance</th>\n      <th>Returns</th>\n    </tr>\n  </thead>\n  <tbody>\n    <tr>\n      <th>1</th>\n      <td>2010-04-30</td>\n      <td>999.847365</td>\n      <td>101</td>\n      <td>0</td>\n      <td>39</td>\n      <td>0</td>\n      <td>5663.13</td>\n      <td>88.25</td>\n    </tr>\n  </tbody>\n</table>\n</div>"
     },
     "execution_count": 4,
     "metadata": {},
     "output_type": "execute_result"
    }
   ],
   "source": [
    "opt_results_df = pd.read_pickle('opt_results_df.pkl')\n",
    "opt_results_df"
   ],
   "metadata": {
    "collapsed": false,
    "pycharm": {
     "name": "#%%\n"
    }
   }
  },
  {
   "cell_type": "code",
   "execution_count": 5,
   "outputs": [
    {
     "data": {
      "text/plain": "       AAPL       MSFT       AAL        WMT\n1  7.205665  22.528589  6.976287  41.837185",
      "text/html": "<div>\n<style scoped>\n    .dataframe tbody tr th:only-of-type {\n        vertical-align: middle;\n    }\n\n    .dataframe tbody tr th {\n        vertical-align: top;\n    }\n\n    .dataframe thead th {\n        text-align: right;\n    }\n</style>\n<table border=\"1\" class=\"dataframe\">\n  <thead>\n    <tr style=\"text-align: right;\">\n      <th></th>\n      <th>AAPL</th>\n      <th>MSFT</th>\n      <th>AAL</th>\n      <th>WMT</th>\n    </tr>\n  </thead>\n  <tbody>\n    <tr>\n      <th>1</th>\n      <td>7.205665</td>\n      <td>22.528589</td>\n      <td>6.976287</td>\n      <td>41.837185</td>\n    </tr>\n  </tbody>\n</table>\n</div>"
     },
     "execution_count": 5,
     "metadata": {},
     "output_type": "execute_result"
    }
   ],
   "source": [
    "price_df = pd.read_pickle('price_df.pkl')\n",
    "price_df"
   ],
   "metadata": {
    "collapsed": false,
    "pycharm": {
     "name": "#%%\n"
    }
   }
  },
  {
   "cell_type": "code",
   "execution_count": null,
   "outputs": [],
   "source": [
    "result_df_3 = pd.read_pickle('result_df_3.pkl')\n",
    "result_df_3"
   ],
   "metadata": {
    "collapsed": false,
    "pycharm": {
     "name": "#%%\n"
    }
   }
  },
  {
   "cell_type": "code",
   "execution_count": 10,
   "outputs": [
    {
     "name": "stdout",
     "output_type": "stream",
     "text": [
      "num_month: 4\n",
      "\n",
      "Date: 2010-04-30 00:00:00\n"
     ]
    },
    {
     "data": {
      "text/plain": "^GSPC    1178.099976\nName: 2010-04-30 00:00:00, dtype: float64"
     },
     "metadata": {},
     "output_type": "display_data"
    },
    {
     "name": "stdout",
     "output_type": "stream",
     "text": [
      "^GSPC    0.848824\n",
      "Name: 2010-04-30 00:00:00, dtype: float64\n"
     ]
    }
   ],
   "source": [
    "stocks = ['AAPL', 'MSFT', 'AAL', 'WMT']\n",
    "budget = 1000\n",
    "baseline='^GSPC'\n",
    "\n",
    "initial_budget = budget\n",
    "num_months = len(df_all)\n",
    "print(f'num_month: {num_months}')\n",
    "first_purchase = True\n",
    "result = {}\n",
    "baseline_result = {}\n",
    "baseline_values = [0]\n",
    "update_values = [0]\n",
    "months = []\n",
    "\n",
    "# Define dataframe to save output data\n",
    "headers = ['Date', 'Value'] + stocks + ['Variance', 'Returns']\n",
    "opt_results_df = pd.DataFrame(columns=headers)\n",
    "row = []\n",
    "\n",
    "price_df = pd.DataFrame(columns=stocks)\n",
    "\n",
    "# Look at just the data up to the current month\n",
    "i = 3\n",
    "df = df_all.iloc[0:i+1,:].copy()\n",
    "baseline_df_current = df_baseline.iloc[0:i+1,:]\n",
    "print(\"\\nDate:\", df.last_valid_index())\n",
    "months.append(df.last_valid_index().date())\n",
    "\n",
    "if first_purchase:\n",
    "    print(f'budget: {budget}')\n",
    "    display(baseline_df_current.iloc[-1])\n",
    "    baseline_shares = (budget / baseline_df_current.iloc[-1])\n",
    "    print(baseline_shares)\n",
    "    baseline_result.update({baseline[0]: baseline_shares})\n",
    "else:\n",
    "    # Compute profit of current portfolio\n",
    "    budget = sum([df.iloc[-1][s]*result['stocks'][s] for s in stocks])\n",
    "    update_values.append(budget - initial_budget)\n",
    "\n",
    "    # Compute profit of fund portfolio\n",
    "    fund_value = sum([baseline_df_current.iloc[-1][s]*baseline_result[s] for s in baseline])\n",
    "    baseline_values.append(fund_value - initial_budget)\n",
    "\n",
    "first_purchase = False\n",
    "\n",
    "\n"
   ],
   "metadata": {
    "collapsed": false,
    "pycharm": {
     "name": "#%%\n"
    }
   }
  }
 ],
 "metadata": {
  "kernelspec": {
   "display_name": "Python 3",
   "language": "python",
   "name": "python3"
  },
  "language_info": {
   "codemirror_mode": {
    "name": "ipython",
    "version": 2
   },
   "file_extension": ".py",
   "mimetype": "text/x-python",
   "name": "python",
   "nbconvert_exporter": "python",
   "pygments_lexer": "ipython2",
   "version": "2.7.6"
  }
 },
 "nbformat": 4,
 "nbformat_minor": 0
}