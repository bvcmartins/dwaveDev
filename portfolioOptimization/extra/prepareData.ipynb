{
 "cells": [
  {
   "cell_type": "code",
   "execution_count": 200,
   "outputs": [],
   "source": [
    "import seaborn as sns\n",
    "import pandas as pd\n",
    "import numpy as np\n",
    "import yaml\n",
    "from pandas_datareader.data import DataReader\n",
    "from statsmodels.tsa.arima.model import ARIMA\n",
    "import matplotlib.pyplot as plt"
   ],
   "metadata": {
    "collapsed": false,
    "pycharm": {
     "name": "#%%\n"
    }
   }
  },
  {
   "cell_type": "code",
   "execution_count": 152,
   "outputs": [],
   "source": [
    "payload=pd.read_html('https://en.wikipedia.org/wiki/List_of_S%26P_500_companies')\n",
    "first_table = payload[0]\n",
    "second_table = payload[1]\n",
    "all_stocks = first_table['Symbol'].values.tolist()"
   ],
   "metadata": {
    "collapsed": false,
    "pycharm": {
     "name": "#%%\n"
    }
   }
  },
  {
   "cell_type": "code",
   "execution_count": 77,
   "outputs": [],
   "source": [
    "def calc_stocks(stocks, dates):\n",
    "    panel_data = DataReader(stocks, 'yahoo', dates[0], dates[1])\n",
    "    panel_data = panel_data.resample('BM').last()\n",
    "    df = pd.DataFrame(index=panel_data.index, columns=stocks)\n",
    "    for i in stocks:\n",
    "        df[i] = panel_data[[('Adj Close', i)]]\n",
    "    return df\n",
    "\n",
    "def get_full_data(stocks, dates):\n",
    "    panel_data = DataReader(stocks, 'yahoo', dates[0], dates[1])\n",
    "    panel_data = panel_data.resample('BM').last()\n",
    "    return panel_data"
   ],
   "metadata": {
    "collapsed": false,
    "pycharm": {
     "name": "#%%\n"
    }
   }
  },
  {
   "cell_type": "code",
   "execution_count": 119,
   "outputs": [
    {
     "name": "stderr",
     "output_type": "stream",
     "text": [
      "/Users/bmartins/.pyenv/versions/nlp_bert_venv/lib/python3.9/site-packages/pandas_datareader/base.py:272: SymbolWarning: Failed to read symbol: 'BRK.B', replacing with NaN.\n",
      "  warnings.warn(msg.format(sym), SymbolWarning)\n",
      "/Users/bmartins/.pyenv/versions/nlp_bert_venv/lib/python3.9/site-packages/pandas_datareader/base.py:272: SymbolWarning: Failed to read symbol: 'BF.B', replacing with NaN.\n",
      "  warnings.warn(msg.format(sym), SymbolWarning)\n",
      "/Users/bmartins/.pyenv/versions/nlp_bert_venv/lib/python3.9/site-packages/pandas_datareader/base.py:272: SymbolWarning: Failed to read symbol: 'CARR', replacing with NaN.\n",
      "  warnings.warn(msg.format(sym), SymbolWarning)\n",
      "/Users/bmartins/.pyenv/versions/nlp_bert_venv/lib/python3.9/site-packages/pandas_datareader/base.py:272: SymbolWarning: Failed to read symbol: 'CEG', replacing with NaN.\n",
      "  warnings.warn(msg.format(sym), SymbolWarning)\n",
      "/Users/bmartins/.pyenv/versions/nlp_bert_venv/lib/python3.9/site-packages/pandas_datareader/base.py:272: SymbolWarning: Failed to read symbol: 'OGN', replacing with NaN.\n",
      "  warnings.warn(msg.format(sym), SymbolWarning)\n",
      "/Users/bmartins/.pyenv/versions/nlp_bert_venv/lib/python3.9/site-packages/pandas_datareader/base.py:272: SymbolWarning: Failed to read symbol: 'OTIS', replacing with NaN.\n",
      "  warnings.warn(msg.format(sym), SymbolWarning)\n",
      "/Users/bmartins/.pyenv/versions/nlp_bert_venv/lib/python3.9/site-packages/pandas_datareader/base.py:272: SymbolWarning: Failed to read symbol: 'WHR', replacing with NaN.\n",
      "  warnings.warn(msg.format(sym), SymbolWarning)\n",
      "/Users/bmartins/.pyenv/versions/nlp_bert_venv/lib/python3.9/site-packages/pandas_datareader/base.py:272: SymbolWarning: Failed to read symbol: 'WMB', replacing with NaN.\n",
      "  warnings.warn(msg.format(sym), SymbolWarning)\n",
      "/Users/bmartins/.pyenv/versions/nlp_bert_venv/lib/python3.9/site-packages/pandas_datareader/base.py:272: SymbolWarning: Failed to read symbol: 'GWW', replacing with NaN.\n",
      "  warnings.warn(msg.format(sym), SymbolWarning)\n",
      "/Users/bmartins/.pyenv/versions/nlp_bert_venv/lib/python3.9/site-packages/pandas_datareader/base.py:272: SymbolWarning: Failed to read symbol: 'XYL', replacing with NaN.\n",
      "  warnings.warn(msg.format(sym), SymbolWarning)\n",
      "/Users/bmartins/.pyenv/versions/nlp_bert_venv/lib/python3.9/site-packages/pandas_datareader/base.py:272: SymbolWarning: Failed to read symbol: 'YUM', replacing with NaN.\n",
      "  warnings.warn(msg.format(sym), SymbolWarning)\n"
     ]
    },
    {
     "name": "stdout",
     "output_type": "stream",
     "text": [
      "['MMM', 'AOS', 'ABT', 'ABBV', 'ABMD', 'ACN', 'ATVI', 'ADM', 'ADBE', 'ADP', 'AAP', 'AES', 'AFL', 'A', 'APD', 'AKAM', 'ALK', 'ALB', 'ARE', 'ALGN', 'ALLE', 'LNT', 'ALL', 'GOOGL', 'GOOG', 'MO', 'AMZN', 'AMCR', 'AMD', 'AEE', 'AAL', 'AEP', 'AXP', 'AIG', 'AMT', 'AWK', 'AMP', 'ABC', 'AME', 'AMGN', 'APH', 'ADI', 'ANSS', 'ANTM', 'AON', 'APA', 'AAPL', 'AMAT', 'APTV', 'ANET']\n",
      "['MMM', 'AOS', 'ABT', 'ABBV', 'ABMD', 'ACN', 'ATVI', 'ADM', 'ADBE', 'ADP', 'AAP', 'AES', 'AFL', 'A', 'APD', 'AKAM', 'ALK', 'ALB', 'ARE', 'ALGN', 'ALLE', 'LNT', 'ALL', 'GOOGL', 'GOOG', 'MO', 'AMZN', 'AMCR', 'AMD', 'AEE', 'AAL', 'AEP', 'AXP', 'AIG', 'AMT', 'AWK', 'AMP', 'ABC', 'AME', 'AMGN', 'APH', 'ADI', 'ANSS', 'ANTM', 'AON', 'APA', 'AAPL', 'AMAT', 'APTV', 'ANET', 'AJG', 'AIZ', 'T', 'ATO', 'ADSK', 'AZO', 'AVB', 'AVY', 'BKR', 'BALL', 'BAC', 'BBWI', 'BAX', 'BDX', 'WRB', 'BRK.B', 'BBY', 'BIO', 'TECH', 'BIIB', 'BLK', 'BK', 'BA', 'BKNG', 'BWA', 'BXP', 'BSX', 'BMY', 'AVGO', 'BR', 'BRO', 'BF.B', 'CHRW', 'CDNS', 'CZR', 'CPT', 'CPB', 'COF', 'CAH', 'KMX', 'CCL', 'CARR', 'CTLT', 'CAT', 'CBOE', 'CBRE', 'CDW', 'CE', 'CNC', 'CNP', 'CDAY', 'CF', 'CRL', 'SCHW']\n",
      "0\n",
      "[]\n"
     ]
    }
   ],
   "source": [
    "dates = ['2018-10-01', '2020-01-01']\n",
    "df = calc_stocks(stocks, dates)\n",
    "df.dropna(inplace=True)\n",
    "df_pct = df.pct_change().iloc[1:].mean(axis=0)\n",
    "list_50 = df_pct.sort_values(ascending=False).iloc[:50].index.values.tolist()\n",
    "print(list_50)\n",
    "list_100 = df_pct.sort_values(ascending=False).iloc[:104].index.values.tolist()\n",
    "print(list_100)\n",
    "list_all = df.index.values.tolist()\n",
    "print(len(list_all))\n",
    "print(list_all)"
   ],
   "metadata": {
    "collapsed": false,
    "pycharm": {
     "name": "#%%\n"
    }
   }
  },
  {
   "cell_type": "code",
   "execution_count": null,
   "outputs": [],
   "source": [
    "dates = ['2018-10-01', '2020-01-01']\n",
    "df = calc_stocks(stocks, dates)\n",
    "df2 = df.dropna(axis=1)\n",
    "df2 = df2[sorted(df.columns)]#.reset_index()\n",
    "df2 = df2.set_index('Date').reset_index()\n",
    "list_full = df2.columns.values.tolist()\n",
    "#list_full = df2.index.values.tolist()\n",
    "#print(len(list_full))\n",
    "print(list_full)\n",
    "df2.to_csv('../sp500.csv')"
   ],
   "metadata": {
    "collapsed": false,
    "pycharm": {
     "name": "#%%\n",
     "is_executing": true
    }
   }
  },
  {
   "cell_type": "markdown",
   "source": [
    "### Pool rebalancing"
   ],
   "metadata": {
    "collapsed": false,
    "pycharm": {
     "name": "#%% md\n"
    }
   }
  },
  {
   "cell_type": "code",
   "execution_count": 126,
   "outputs": [
    {
     "name": "stderr",
     "output_type": "stream",
     "text": [
      "/Users/bmartins/.pyenv/versions/nlp_bert_venv/lib/python3.9/site-packages/pandas_datareader/base.py:272: SymbolWarning: Failed to read symbol: 'BRK.B', replacing with NaN.\n",
      "  warnings.warn(msg.format(sym), SymbolWarning)\n",
      "/Users/bmartins/.pyenv/versions/nlp_bert_venv/lib/python3.9/site-packages/pandas_datareader/base.py:272: SymbolWarning: Failed to read symbol: 'BF.B', replacing with NaN.\n",
      "  warnings.warn(msg.format(sym), SymbolWarning)\n",
      "/Users/bmartins/.pyenv/versions/nlp_bert_venv/lib/python3.9/site-packages/pandas_datareader/base.py:272: SymbolWarning: Failed to read symbol: 'CARR', replacing with NaN.\n",
      "  warnings.warn(msg.format(sym), SymbolWarning)\n",
      "/Users/bmartins/.pyenv/versions/nlp_bert_venv/lib/python3.9/site-packages/pandas_datareader/base.py:272: SymbolWarning: Failed to read symbol: 'CEG', replacing with NaN.\n",
      "  warnings.warn(msg.format(sym), SymbolWarning)\n",
      "/Users/bmartins/.pyenv/versions/nlp_bert_venv/lib/python3.9/site-packages/pandas_datareader/base.py:272: SymbolWarning: Failed to read symbol: 'TAP', replacing with NaN.\n",
      "  warnings.warn(msg.format(sym), SymbolWarning)\n",
      "/Users/bmartins/.pyenv/versions/nlp_bert_venv/lib/python3.9/site-packages/pandas_datareader/base.py:272: SymbolWarning: Failed to read symbol: 'MDLZ', replacing with NaN.\n",
      "  warnings.warn(msg.format(sym), SymbolWarning)\n",
      "/Users/bmartins/.pyenv/versions/nlp_bert_venv/lib/python3.9/site-packages/pandas_datareader/base.py:272: SymbolWarning: Failed to read symbol: 'MCO', replacing with NaN.\n",
      "  warnings.warn(msg.format(sym), SymbolWarning)\n",
      "/Users/bmartins/.pyenv/versions/nlp_bert_venv/lib/python3.9/site-packages/pandas_datareader/base.py:272: SymbolWarning: Failed to read symbol: 'NTAP', replacing with NaN.\n",
      "  warnings.warn(msg.format(sym), SymbolWarning)\n",
      "/Users/bmartins/.pyenv/versions/nlp_bert_venv/lib/python3.9/site-packages/pandas_datareader/base.py:272: SymbolWarning: Failed to read symbol: 'NWL', replacing with NaN.\n",
      "  warnings.warn(msg.format(sym), SymbolWarning)\n",
      "/Users/bmartins/.pyenv/versions/nlp_bert_venv/lib/python3.9/site-packages/pandas_datareader/base.py:272: SymbolWarning: Failed to read symbol: 'NUE', replacing with NaN.\n",
      "  warnings.warn(msg.format(sym), SymbolWarning)\n",
      "/Users/bmartins/.pyenv/versions/nlp_bert_venv/lib/python3.9/site-packages/pandas_datareader/base.py:272: SymbolWarning: Failed to read symbol: 'OXY', replacing with NaN.\n",
      "  warnings.warn(msg.format(sym), SymbolWarning)\n",
      "/Users/bmartins/.pyenv/versions/nlp_bert_venv/lib/python3.9/site-packages/pandas_datareader/base.py:272: SymbolWarning: Failed to read symbol: 'OGN', replacing with NaN.\n",
      "  warnings.warn(msg.format(sym), SymbolWarning)\n",
      "/Users/bmartins/.pyenv/versions/nlp_bert_venv/lib/python3.9/site-packages/pandas_datareader/base.py:272: SymbolWarning: Failed to read symbol: 'OTIS', replacing with NaN.\n",
      "  warnings.warn(msg.format(sym), SymbolWarning)\n",
      "/Users/bmartins/.pyenv/versions/nlp_bert_venv/lib/python3.9/site-packages/pandas_datareader/base.py:272: SymbolWarning: Failed to read symbol: 'PKG', replacing with NaN.\n",
      "  warnings.warn(msg.format(sym), SymbolWarning)\n",
      "/Users/bmartins/.pyenv/versions/nlp_bert_venv/lib/python3.9/site-packages/pandas_datareader/base.py:272: SymbolWarning: Failed to read symbol: 'PAYX', replacing with NaN.\n",
      "  warnings.warn(msg.format(sym), SymbolWarning)\n",
      "/Users/bmartins/.pyenv/versions/nlp_bert_venv/lib/python3.9/site-packages/pandas_datareader/base.py:272: SymbolWarning: Failed to read symbol: 'PEP', replacing with NaN.\n",
      "  warnings.warn(msg.format(sym), SymbolWarning)\n",
      "/Users/bmartins/.pyenv/versions/nlp_bert_venv/lib/python3.9/site-packages/pandas_datareader/base.py:272: SymbolWarning: Failed to read symbol: 'PFE', replacing with NaN.\n",
      "  warnings.warn(msg.format(sym), SymbolWarning)\n",
      "/Users/bmartins/.pyenv/versions/nlp_bert_venv/lib/python3.9/site-packages/pandas_datareader/base.py:272: SymbolWarning: Failed to read symbol: 'REG', replacing with NaN.\n",
      "  warnings.warn(msg.format(sym), SymbolWarning)\n",
      "/Users/bmartins/.pyenv/versions/nlp_bert_venv/lib/python3.9/site-packages/pandas_datareader/base.py:272: SymbolWarning: Failed to read symbol: 'SPGI', replacing with NaN.\n",
      "  warnings.warn(msg.format(sym), SymbolWarning)\n",
      "/Users/bmartins/.pyenv/versions/nlp_bert_venv/lib/python3.9/site-packages/pandas_datareader/base.py:272: SymbolWarning: Failed to read symbol: 'SEE', replacing with NaN.\n",
      "  warnings.warn(msg.format(sym), SymbolWarning)\n"
     ]
    }
   ],
   "source": [
    "dates = ['2018-10-01', '2020-01-01']\n",
    "df = calc_stocks(stocks, dates)\n",
    "#df.dropna(inplace=True)\n",
    "#df_pct = df.pct_change().iloc[1:].mean(axis=0)\n",
    "# list_50 = df_pct.sort_values(ascending=False).iloc[:50].index.values.tolist()\n",
    "# print(list_50)\n",
    "# list_100 = df_pct.sort_values(ascending=False).iloc[:104].index.values.tolist()\n",
    "# print(list_100)\n",
    "# list_all = df.index.values.tolist()\n",
    "# print(len(list_all))\n",
    "# print(list_all)"
   ],
   "metadata": {
    "collapsed": false,
    "pycharm": {
     "name": "#%%\n"
    }
   }
  },
  {
   "cell_type": "code",
   "execution_count": 151,
   "outputs": [
    {
     "name": "stdout",
     "output_type": "stream",
     "text": [
      "(15, 478)\n",
      "(15, 478)\n"
     ]
    },
    {
     "data": {
      "text/plain": "                   MMM        AOS        ABT       ABBV        ABMD  \\\nDate                                                                  \n2018-10-31  169.189560  42.892925  65.515373  64.982483  341.200012   \n2018-11-30  186.156418  44.635773  70.371513  78.688484  332.679993   \n2018-12-31  170.595657  40.226837  68.736954  76.952278  325.040009   \n2019-01-31  179.334045  45.296196  69.676277  67.841179  351.070007   \n2019-02-28  186.965637  49.148167  74.106216  66.953979  334.500000   \n\n                   ACN       ATVI        ADM        ADBE         ADP  ...  \\\nDate                                                                  ...   \n2018-10-31  150.935303  67.724266  42.567448  245.759995  135.704437  ...   \n2018-11-30  157.542694  48.922321  41.765774  250.889999  138.850281  ...   \n2018-12-31  135.029770  45.675869  37.182613  226.240005  124.200813  ...   \n2019-01-31  147.037933  46.333012  40.749306  247.820007  132.460693  ...   \n2019-02-28  154.535873  41.330925  38.893440  262.500000  144.954620  ...   \n\n                   WTW         GWW        WYNN        XEL        XYL  \\\nDate                                                                   \n2018-10-31  143.160004  267.294617   95.906380  45.488869  63.100281   \n2018-11-30  159.449997  296.963165  105.051804  48.681725  70.220490   \n2018-12-31  151.860001  267.005829   94.978737  46.083542  64.197174   \n2019-01-31  162.789993  279.327332  118.120857  48.973686  68.565521   \n2019-02-28  172.020004  289.496338  122.229271  51.312008  72.933411   \n\n                  YUM        ZBRA         ZBH       ZION        ZTS  \nDate                                                                 \n2018-10-31  85.057991  166.300003  107.577774  43.294865  88.317963  \n2018-11-30  87.121208  179.800003  110.826225  45.049728  92.088135  \n2018-12-31  86.837791  159.229996   98.468773  37.717342  83.916245  \n2019-01-31  88.783897  173.600006  104.013092  44.059116  84.691399  \n2019-02-28  89.675606  200.509995  117.835945  47.594894  92.623840  \n\n[5 rows x 478 columns]",
      "text/html": "<div>\n<style scoped>\n    .dataframe tbody tr th:only-of-type {\n        vertical-align: middle;\n    }\n\n    .dataframe tbody tr th {\n        vertical-align: top;\n    }\n\n    .dataframe thead th {\n        text-align: right;\n    }\n</style>\n<table border=\"1\" class=\"dataframe\">\n  <thead>\n    <tr style=\"text-align: right;\">\n      <th></th>\n      <th>MMM</th>\n      <th>AOS</th>\n      <th>ABT</th>\n      <th>ABBV</th>\n      <th>ABMD</th>\n      <th>ACN</th>\n      <th>ATVI</th>\n      <th>ADM</th>\n      <th>ADBE</th>\n      <th>ADP</th>\n      <th>...</th>\n      <th>WTW</th>\n      <th>GWW</th>\n      <th>WYNN</th>\n      <th>XEL</th>\n      <th>XYL</th>\n      <th>YUM</th>\n      <th>ZBRA</th>\n      <th>ZBH</th>\n      <th>ZION</th>\n      <th>ZTS</th>\n    </tr>\n    <tr>\n      <th>Date</th>\n      <th></th>\n      <th></th>\n      <th></th>\n      <th></th>\n      <th></th>\n      <th></th>\n      <th></th>\n      <th></th>\n      <th></th>\n      <th></th>\n      <th></th>\n      <th></th>\n      <th></th>\n      <th></th>\n      <th></th>\n      <th></th>\n      <th></th>\n      <th></th>\n      <th></th>\n      <th></th>\n      <th></th>\n    </tr>\n  </thead>\n  <tbody>\n    <tr>\n      <th>2018-10-31</th>\n      <td>169.189560</td>\n      <td>42.892925</td>\n      <td>65.515373</td>\n      <td>64.982483</td>\n      <td>341.200012</td>\n      <td>150.935303</td>\n      <td>67.724266</td>\n      <td>42.567448</td>\n      <td>245.759995</td>\n      <td>135.704437</td>\n      <td>...</td>\n      <td>143.160004</td>\n      <td>267.294617</td>\n      <td>95.906380</td>\n      <td>45.488869</td>\n      <td>63.100281</td>\n      <td>85.057991</td>\n      <td>166.300003</td>\n      <td>107.577774</td>\n      <td>43.294865</td>\n      <td>88.317963</td>\n    </tr>\n    <tr>\n      <th>2018-11-30</th>\n      <td>186.156418</td>\n      <td>44.635773</td>\n      <td>70.371513</td>\n      <td>78.688484</td>\n      <td>332.679993</td>\n      <td>157.542694</td>\n      <td>48.922321</td>\n      <td>41.765774</td>\n      <td>250.889999</td>\n      <td>138.850281</td>\n      <td>...</td>\n      <td>159.449997</td>\n      <td>296.963165</td>\n      <td>105.051804</td>\n      <td>48.681725</td>\n      <td>70.220490</td>\n      <td>87.121208</td>\n      <td>179.800003</td>\n      <td>110.826225</td>\n      <td>45.049728</td>\n      <td>92.088135</td>\n    </tr>\n    <tr>\n      <th>2018-12-31</th>\n      <td>170.595657</td>\n      <td>40.226837</td>\n      <td>68.736954</td>\n      <td>76.952278</td>\n      <td>325.040009</td>\n      <td>135.029770</td>\n      <td>45.675869</td>\n      <td>37.182613</td>\n      <td>226.240005</td>\n      <td>124.200813</td>\n      <td>...</td>\n      <td>151.860001</td>\n      <td>267.005829</td>\n      <td>94.978737</td>\n      <td>46.083542</td>\n      <td>64.197174</td>\n      <td>86.837791</td>\n      <td>159.229996</td>\n      <td>98.468773</td>\n      <td>37.717342</td>\n      <td>83.916245</td>\n    </tr>\n    <tr>\n      <th>2019-01-31</th>\n      <td>179.334045</td>\n      <td>45.296196</td>\n      <td>69.676277</td>\n      <td>67.841179</td>\n      <td>351.070007</td>\n      <td>147.037933</td>\n      <td>46.333012</td>\n      <td>40.749306</td>\n      <td>247.820007</td>\n      <td>132.460693</td>\n      <td>...</td>\n      <td>162.789993</td>\n      <td>279.327332</td>\n      <td>118.120857</td>\n      <td>48.973686</td>\n      <td>68.565521</td>\n      <td>88.783897</td>\n      <td>173.600006</td>\n      <td>104.013092</td>\n      <td>44.059116</td>\n      <td>84.691399</td>\n    </tr>\n    <tr>\n      <th>2019-02-28</th>\n      <td>186.965637</td>\n      <td>49.148167</td>\n      <td>74.106216</td>\n      <td>66.953979</td>\n      <td>334.500000</td>\n      <td>154.535873</td>\n      <td>41.330925</td>\n      <td>38.893440</td>\n      <td>262.500000</td>\n      <td>144.954620</td>\n      <td>...</td>\n      <td>172.020004</td>\n      <td>289.496338</td>\n      <td>122.229271</td>\n      <td>51.312008</td>\n      <td>72.933411</td>\n      <td>89.675606</td>\n      <td>200.509995</td>\n      <td>117.835945</td>\n      <td>47.594894</td>\n      <td>92.623840</td>\n    </tr>\n  </tbody>\n</table>\n<p>5 rows × 478 columns</p>\n</div>"
     },
     "metadata": {},
     "output_type": "display_data"
    },
    {
     "name": "stdout",
     "output_type": "stream",
     "text": [
      "[['ATVI', 'GE', 'NVDA', 'MTCH', 'EIX', 'AAPL', 'DVN', 'MO', 'SWKS', 'GS', 'TTWO', 'TGT', 'RL', 'BKR', 'DXC', 'J', 'SLB', 'MRO', 'CF', 'ROST', 'VLO', 'TJX', 'QRVO', 'FTNT', 'TWTR', 'BR', 'SYF', 'HAL', 'LH', 'CAG', 'PENN', 'TYL', 'LUMN', 'IR', 'PVH', 'PSX', 'TPR', 'BBY', 'EA', 'META', 'QCOM', 'APA', 'MPC', 'JKHY', 'ALL', 'HES', 'APTV', 'DGX', 'KHC', 'PARA'], ['CAG', 'FDX', 'WAB', 'SIVB', 'APA', 'HES', 'DISH', 'BBWI', 'DVA', 'PM', 'HWM', 'CTLT', 'AAL', 'WRK', 'ALB', 'C', 'AMP', 'WBD', 'LUMN', 'KEY', 'PARA', 'WBA', 'SLB', 'VTRS', 'CNC', 'MOS', 'F', 'LNC', 'NVDA', 'CVS', 'CFG', 'CCL', 'TXT', 'RF', 'STZ', 'DAL', 'ULTA', 'CAH', 'IVZ', 'MU', 'CZR', 'MNST', 'WDC', 'NCLH', 'BBY', 'HBAN', 'DFS', 'WY', 'ALK', 'MOH'], ['RMD', 'QCOM', 'ABBV', 'MKC', 'TSLA', 'ILMN', 'KMX', 'CBOE', 'BMY', 'AMGN', 'JNPR', 'CLX', 'CME', 'MDT', 'MRK', 'KMB', 'CHD', 'D', 'NEM', 'WAB', 'BRO', 'LW', 'HSIC', 'VZ', 'HSY', 'DAL', 'FFIV', 'HRL', 'BEN', 'MO', 'CTXS', 'ORLY', 'CF', 'EIX', 'INTC', 'RE', 'DD', 'MCD', 'CVS', 'POOL', 'ZTS', 'EVRG', 'AZO', 'AAP', 'LUMN', 'TROW', 'ABT', 'AJG', 'ATVI', 'ED'], ['KHC', 'TTWO', 'LUMN', 'CI', 'VTRS', 'CVS', 'DPZ', 'ATVI', 'HPQ', 'UNH', 'IFF', 'TPR', 'MGM', 'TWTR', 'HUM', 'KDP', 'BKNG', 'GILD', 'WRK', 'CNC', 'HAS', 'VLO', 'KO', 'MPC', 'EOG', 'BBWI', 'IRM', 'ABMD', 'K', 'AMZN', 'ADM', 'LW', 'WY', 'VNO', 'AMD', 'SEDG', 'WST', 'META', 'MOS', 'SNA', 'ALK', 'WELL', 'PHM', 'OMC', 'EXR', 'VTR', 'HSIC', 'CF', 'GNRC', 'EVRG'], ['BIIB', 'PENN', 'KR', 'CMA', 'URI', 'ABMD', 'DXCM', 'MNST', 'BA', 'RF', 'CNC', 'MOS', 'TSLA', 'CCL', 'CFG', 'ZION', 'WBA', 'HBAN', 'AAL', 'SEDG', 'CAH', 'SIVB', 'KEY', 'ALB', 'UAL', 'CME', 'LUMN', 'ALK', 'IPG', 'MTB', 'TFC', 'NLSN', 'MCK', 'AIZ', 'CI', 'STT', 'FITB', 'BMY', 'EMN', 'MHK', 'LUV', 'SCHW', 'NOC', 'CVS', 'TXT', 'FFIV', 'WBD', 'HUM', 'HCA', 'LNC'], ['REGN', 'WBA', 'WAT', 'TSLA', 'BKR', 'PNR', 'NEM', 'INCY', 'ISRG', 'HRL', 'LLY', 'MMM', 'MOH', 'GPC', 'ALB', 'IRM', 'ANTM', 'VRTX', 'EW', 'ROL', 'BBWI', 'CHRW', 'EA', 'JBHT', 'LW', 'GWW', 'BAX', 'ABC', 'UNH', 'AMGN', 'COP', 'MO', 'MRK', 'TFX', 'UHS', 'INTC', 'UPS', 'PEAK', 'VTRS', 'LUMN', 'RHI', 'SPG', 'KIM', 'AES', 'O', 'APA', 'MOS', 'SYK', 'VTR', 'HOLX'], ['VTRS', 'PVH', 'DXC', 'WDC', 'MPWR', 'NVDA', 'WYNN', 'APTV', 'HAL', 'SWKS', 'MPC', 'ON', 'AOS', 'NLOK', 'MRO', 'MU', 'TSLA', 'QCOM', 'FTNT', 'URI', 'DVN', 'ANET', 'VLO', 'DVA', 'FCX', 'AVGO', 'APA', 'DD', 'AAL', 'RL', 'SIVB', 'MCHP', 'QRVO', 'ZBRA', 'SLB', 'KLAC', 'FDX', 'STT', 'LVS', 'MOS', 'EMN', 'LOW', 'NRG', 'ROK', 'NXPI', 'WHR', 'ADI', 'STZ', 'LYB', 'LRCX'], ['CNC', 'CCL', 'CTRA', 'CZR', 'SJM', 'ABBV', 'KR', 'ROL', 'CBOE', 'LLY', 'TWTR', 'ALGN', 'SCHW', 'VNO', 'ARE', 'LEN', 'GOOGL', 'GOOG', 'MTCH', 'NCLH', 'MO', 'CHD', 'AMT', 'ETSY', 'SPG', 'O', 'CAG', 'FRT', 'BXP', 'MKC', 'ORLY', 'ABMD', 'AAP', 'EXC', 'DPZ', 'RE', 'EXR', 'EQR', 'BMY', 'RCL', 'PNW', 'CRM', 'UDR', 'EPAM', 'WELL', 'MOH', 'FRC', 'CNP', 'VICI', 'ESS'], ['PTC', 'ALGN', 'ILMN', 'CTRA', 'MHK', 'APA', 'IT', 'DPZ', 'WMB', 'NFLX', 'DISH', 'PKI', 'PXD', 'BWA', 'MTD', 'VRTX', 'CSX', 'EA', 'RL', 'SNA', 'NCLH', 'AMCR', 'EOG', 'GLW', 'MOH', 'TXT', 'ABBV', 'A', 'FTV', 'XRAY', 'ROL', 'JNJ', 'AAL', 'ALLE', 'TRMB', 'BA', 'GPC', 'BEN', 'IVZ', 'PVH', 'IRM', 'EXC', 'F', 'TMO', 'DVN', 'DLTR', 'CRL', 'FANG', 'NEM', 'MSCI'], ['DXC', 'BBWI', 'TPR', 'ULTA', 'ABMD', 'MOS', 'IFF', 'ETSY', 'GE', 'PRU', 'BEN', 'LNC', 'KHC', 'SLB', 'DVN', 'PARA', 'HAL', 'ON', 'ANET', 'FCX', 'BBY', 'IVZ', 'SIVB', 'CMA', 'MRO', 'CSCO', 'ALB', 'RL', 'PVH', 'CZR', 'WYNN', 'JNPR', 'BKR', 'PM', 'EOG', 'AAL', 'EMN', 'BWA', 'MTD', 'HPQ', 'IR', 'ALGN', 'FFIV', 'IPG', 'MPC', 'COP', 'STT', 'APA', 'ANTM', 'TRMB'], ['ENPH', 'MKTX', 'PAYC', 'MOH', 'MTCH', 'CDAY', 'DXCM', 'TSCO', 'FDS', 'DXC', 'CTLT', 'HUM', 'BALL', 'INCY', 'NFLX', 'SBUX', 'FANG', 'SBAC', 'ANTM', 'ABMD', 'FDX', 'AMD', 'INTU', 'VRSN', 'TSN', 'AMGN', 'CNC', 'MSCI', 'UNH', 'TFX', 'PSA', 'STE', 'IDXX', 'VRTX', 'CHD', 'MSI', 'MU', 'DIS', 'TTWO', 'PYPL', 'CRM', 'V', 'BSX', 'EPAM', 'MO', 'NEM', 'LYV', 'ADP', 'GD', 'REGN'], ['TWTR', 'ETSY', 'HAS', 'EIX', 'DVN', 'APA', 'BBWI', 'ALB', 'WDC', 'ENPH', 'BAX', 'TRV', 'CAG', 'VTR', 'CHRW', 'PARA', 'BA', 'YUM', 'PGR', 'EBAY', 'PSA', 'VRSK', 'MCD', 'HPQ', 'STZ', 'IBM', 'TXN', 'CF', 'BKR', 'UHS', 'DD', 'VFC', 'CMG', 'WMB', 'CHD', 'ULTA', 'GIS', 'PFG', 'KMB', 'EL', 'EOG', 'DXC', 'CL', 'MRO', 'HRL', 'NOC', 'TXT', 'EXC', 'HIG', 'LNC'], ['EXPE', 'ANET', 'DLTR', 'CNP', 'CTRA', 'IDXX', 'VTR', 'FANG', 'BKNG', 'NWS', 'PNW', 'PEAK', 'PEG', 'NWSA', 'O', 'HD', 'ROL', 'ZTS', 'WELL', 'NI', 'BALL', 'HES', 'EXR', 'ABMD', 'PSA', 'DUK', 'WEC', 'CINF', 'SYK', 'WHR', 'ED', 'TMUS', 'DLR', 'CSCO', 'ESS', 'KHC', 'ATO', 'MPC', 'UDR', 'AEE', 'MOS', 'CMS', 'AAL', 'EQR', 'SEDG', 'CCI', 'HPE', 'DE', 'MTCH', 'ETR'], ['ABMD', 'BA', 'KMX', 'LUMN', 'IFF', 'DRI', 'ROL', 'INCY', 'CAH', 'LEN', 'KDP', 'FLT', 'MKTX', 'LUV', 'ORCL', 'BBWI', 'FDX', 'UAL', 'EW', 'DHI', 'BEN', 'MCK', 'JCI', 'PAYC', 'EQR', 'CPT', 'FFIV', 'JKHY', 'KEYS', 'DIS', 'IT', 'SCHW', 'DXCM', 'SYF', 'O', 'AFL', 'TXT', 'MSI', 'WELL', 'ABC', 'CTSH', 'HSIC', 'MAA', 'ESS', 'GD', 'KIM', 'PSX', 'UDR', 'GILD', 'J']]\n"
     ]
    }
   ],
   "source": [
    "print(df.shape)\n",
    "df2 = df.dropna(axis=1)\n",
    "print(df2.shape)\n",
    "display(df2.head())\n",
    "df_pct = df2.pct_change().iloc[1:]\n",
    "df_pct\n",
    "pool = []\n",
    "for i in df_pct.iterrows():\n",
    "    pool.append(pd.Series(i)[1].sort_values().iloc[:50].index.values.tolist())\n",
    "    #print(df.sort_values(by=i[0], ascending=False, axis=1))\n",
    "\n",
    "    #pool.append(df_pct.sort_values(ascending=False).iloc[:50])\n",
    "print(pool)\n",
    "df2.to_csv('../sp500_50.csv')"
   ],
   "metadata": {
    "collapsed": false,
    "pycharm": {
     "name": "#%%\n"
    }
   }
  },
  {
   "cell_type": "code",
   "execution_count": null,
   "outputs": [],
   "source": [
    "dates = ['2018-10-01', '2020-01-01']\n",
    "df_all = get_full_data(stocks, dates)"
   ],
   "metadata": {
    "collapsed": false,
    "pycharm": {
     "name": "#%%\n",
     "is_executing": true
    }
   }
  },
  {
   "cell_type": "markdown",
   "source": [],
   "metadata": {
    "collapsed": false,
    "pycharm": {
     "name": "#%% md\n"
    }
   }
  },
  {
   "cell_type": "code",
   "execution_count": 88,
   "outputs": [
    {
     "data": {
      "text/plain": "A        63.225479\nAAL      34.426765\nAAP     155.522263\nAAPL     53.088074\nABBV     64.982483\n           ...    \nYUM      85.057991\nZBH     107.577774\nZBRA    166.300003\nZION     43.294865\nZTS      88.317963\nName: 0, Length: 494, dtype: object"
     },
     "execution_count": 88,
     "metadata": {},
     "output_type": "execute_result"
    }
   ],
   "source": [
    "unit_prices = df.iloc[0,1:].values\n",
    "df.iloc[0,:].sort_index()"
   ],
   "metadata": {
    "collapsed": false,
    "pycharm": {
     "name": "#%%\n"
    }
   }
  },
  {
   "cell_type": "code",
   "execution_count": 118,
   "outputs": [
    {
     "name": "stdout",
     "output_type": "stream",
     "text": [
      "(15, 493)\n",
      "{'A': 1, 'AAL': 3, 'AAP': 0, 'AAPL': 45, 'ABBV': 4, 'ABC': 0, 'ABMD': 0, 'ABT': 2, 'ACN': 0, 'ADBE': 1, 'ADI': 1, 'ADM': 1, 'ADP': 1, 'ADSK': 0, 'AEE': 0, 'AEP': 0, 'AES': 2, 'AFL': 1, 'AIG': 3, 'AIZ': 0, 'AJG': 0, 'AKAM': 1, 'ALB': 0, 'ALGN': 0, 'ALK': 0, 'ALL': 0, 'ALLE': 0, 'AMAT': 3, 'AMCR': 0, 'AMD': 32, 'AME': 0, 'AMGN': 1, 'AMP': 0, 'AMT': 1, 'AMZN': 55, 'ANET': 1, 'ANSS': 0, 'ANTM': 0, 'AON': 0, 'AOS': 1, 'APA': 1, 'APD': 0, 'APH': 2, 'APTV': 1, 'ARE': 0, 'ATO': 0, 'ATVI': 2, 'AVB': 0, 'AVGO': 0, 'AVY': 0, 'AWK': 0, 'AXP': 1, 'AZO': 0, 'BA': 1, 'BAC': 27, 'BALL': 1, 'BAX': 4, 'BBWI': 1, 'BBY': 0, 'BDX': 0, 'BEN': 1, 'BIIB': 0, 'BIO': 0, 'BK': 1, 'BKNG': 0, 'BKR': 2, 'BLK': 0, 'BMY': 2, 'BR': 0, 'BRO': 0, 'BSX': 2, 'BWA': 0, 'BXP': 0, 'C': 6, 'CAG': 2, 'CAH': 1, 'CAT': 3, 'CB': 0, 'CBOE': 0, 'CBRE': 0, 'CCI': 0, 'CCL': 1, 'CDAY': 0, 'CDNS': 0, 'CDW': 1, 'CE': 0, 'CF': 1, 'CFG': 1, 'CHD': 1, 'CHRW': 1, 'CHTR': 0, 'CI': 0, 'CINF': 0, 'CL': 2, 'CLX': 0, 'CMA': 0, 'CMCSA': 8, 'CME': 0, 'CMG': 0, 'CMI': 0, 'CMS': 1, 'CNC': 1, 'CNP': 1, 'COF': 1, 'COO': 0, 'COP': 1, 'COST': 0, 'CPB': 0, 'CPRT': 0, 'CPT': 0, 'CRL': 0, 'CRM': 1, 'CSCO': 7, 'CSX': 6, 'CTAS': 0, 'CTLT': 0, 'CTRA': 2, 'CTSH': 1, 'CTXS': 0, 'CVS': 2, 'CVX': 2, 'CZR': 0, 'D': 1, 'DAL': 2, 'DD': 3, 'DE': 0, 'DFS': 0, 'DG': 0, 'DGX': 0, 'DHI': 1, 'DHR': 0, 'DIS': 2, 'DISH': 1, 'DLR': 0, 'DLTR': 0, 'DOV': 0, 'DPZ': 0, 'DRE': 0, 'DRI': 0, 'DTE': 0, 'DUK': 1, 'DVA': 0, 'DVN': 2, 'DXC': 0, 'DXCM': 1, 'EA': 5, 'EBAY': 8, 'ECL': 0, 'ED': 0, 'EFX': 0, 'EIX': 0, 'EL': 1, 'EMN': 0, 'EMR': 1, 'ENPH': 0, 'EOG': 1, 'EPAM': 0, 'EQIX': 0, 'EQR': 0, 'ES': 0, 'ESS': 0, 'ETN': 1, 'ETR': 0, 'ETSY': 0, 'EVRG': 0, 'EW': 1, 'EXC': 3, 'EXPD': 0, 'EXPE': 0, 'EXR': 0, 'F': 20, 'FANG': 0, 'FAST': 1, 'FBHS': 0, 'FCX': 6, 'FDS': 0, 'FDX': 0, 'FE': 1, 'FFIV': 0, 'FIS': 0, 'FISV': 0, 'FITB': 3, 'FLT': 0, 'FMC': 0, 'FRC': 0, 'FRT': 0, 'FTNT': 0, 'FTV': 1, 'GD': 0, 'GE': 7, 'GILD': 5, 'GIS': 2, 'GL': 0, 'GLW': 2, 'GM': 11, 'GNRC': 0, 'GOOG': 0, 'GOOGL': 1, 'GPC': 0, 'GPN': 0, 'GRMN': 0, 'GS': 1, 'GWW': 0, 'HAL': 3, 'HAS': 0, 'HBAN': 3, 'HCA': 0, 'HD': 1, 'HES': 2, 'HIG': 1, 'HII': 0, 'HLT': 1, 'HOLX': 0, 'HON': 1, 'HPE': 2, 'HPQ': 2, 'HRL': 1, 'HSIC': 0, 'HST': 2, 'HSY': 0, 'HUM': 0, 'HWM': 2, 'IBM': 6, 'ICE': 2, 'IDXX': 0, 'IEX': 0, 'IFF': 0, 'ILMN': 0, 'INCY': 0, 'INTC': 9, 'INTU': 0, 'IP': 1, 'IPG': 1, 'IPGP': 0, 'IQV': 0, 'IR': 0, 'IRM': 0, 'ISRG': 1, 'IT': 0, 'ITW': 1, 'IVZ': 1, 'J': 0, 'JBHT': 0, 'JCI': 1, 'JKHY': 0, 'JNJ': 2, 'JNPR': 1, 'JPM': 6, 'K': 2, 'KEY': 4, 'KEYS': 1, 'KHC': 2, 'KIM': 1, 'KLAC': 0, 'KMB': 0, 'KMI': 5, 'KMX': 0, 'KO': 7, 'KR': 3, 'L': 0, 'LDOS': 0, 'LEN': 2, 'LH': 0, 'LHX': 0, 'LIN': 5, 'LKQ': 1, 'LLY': 1, 'LMT': 0, 'LNC': 0, 'LNT': 0, 'LOW': 1, 'LRCX': 0, 'LUMN': 2, 'LUV': 2, 'LVS': 1, 'LW': 0, 'LYB': 1, 'LYV': 0, 'MA': 2, 'MAA': 0, 'MAR': 0, 'MAS': 1, 'MCD': 1, 'MCHP': 2, 'MCK': 0, 'MCO': 0, 'MDLZ': 4, 'MDT': 2, 'MET': 2, 'META': 17, 'MGM': 4, 'MHK': 0, 'MKC': 1, 'MKTX': 0, 'MLM': 0, 'MMC': 0, 'MMM': 0, 'MNST': 0, 'MO': 2, 'MOH': 0, 'MOS': 1, 'MPC': 2, 'MPWR': 0, 'MRK': 4, 'MRO': 4, 'MS': 4, 'MSCI': 0, 'MSFT': 15, 'MSI': 0, 'MTB': 0, 'MTCH': 0, 'MTD': 0, 'MU': 12, 'NCLH': 1, 'NDAQ': 0, 'NDSN': 0, 'NEE': 2, 'NEM': 2, 'NFLX': 5, 'NI': 1, 'NKE': 2, 'NLOK': 6, 'NLSN': 1, 'NOC': 0, 'NOW': 1, 'NRG': 1, 'NSC': 0, 'NTAP': 0, 'NTRS': 0, 'NUE': 1, 'NVDA': 21, 'NVR': 0, 'NWL': 3, 'NWS': 0, 'NWSA': 2, 'NXPI': 1, 'O': 1, 'ODFL': 0, 'OKE': 1, 'OMC': 1, 'ORCL': 6, 'ORLY': 0, 'OXY': 1, 'PARA': 0, 'PAYC': 0, 'PAYX': 1, 'PCAR': 0, 'PEAK': 2, 'PEG': 1, 'PENN': 1, 'PEP': 1, 'PFE': 8, 'PFG': 0, 'PG': 3, 'PGR': 1, 'PH': 0, 'PHM': 4, 'PKG': 0, 'PKI': 0, 'PLD': 1, 'PM': 2, 'PNC': 1, 'PNR': 0, 'PNW': 0, 'POOL': 0, 'PPG': 0, 'PPL': 2, 'PRU': 1, 'PSA': 0, 'PSX': 0, 'PTC': 0, 'PVH': 0, 'PWR': 0, 'PXD': 0, 'PYPL': 3, 'QCOM': 3, 'QRVO': 0, 'RCL': 0, 'RE': 0, 'REG': 0, 'REGN': 0, 'RF': 6, 'RHI': 0, 'RJF': 1, 'RL': 0, 'RMD': 0, 'ROK': 0, 'ROL': 0, 'ROP': 0, 'ROST': 0, 'RSG': 0, 'RTX': 2, 'SBAC': 0, 'SBNY': 0, 'SBUX': 3, 'SCHW': 3, 'SEDG': 0, 'SEE': 1, 'SHW': 1, 'SIVB': 0, 'SJM': 0, 'SLB': 3, 'SNA': 0, 'SNPS': 0, 'SO': 2, 'SPG': 0, 'SPGI': 0, 'SRE': 0, 'STE': 0, 'STT': 1, 'STX': 1, 'STZ': 0, 'SWK': 0, 'SWKS': 0, 'SYF': 1, 'SYK': 0, 'SYY': 0, 'T': 17, 'TAP': 1, 'TDG': 0, 'TDY': 0, 'TECH': 0, 'TEL': 1, 'TER': 0, 'TFC': 1, 'TFX': 0, 'TGT': 1, 'TJX': 2, 'TMO': 0, 'TMUS': 2, 'TPR': 1, 'TRMB': 0, 'TROW': 0, 'TRV': 0, 'TSCO': 0, 'TSLA': 11, 'TSN': 1, 'TT': 0, 'TTWO': 0, 'TWTR': 9, 'TXN': 3, 'TXT': 0, 'TYL': 0, 'UA': 2, 'UAA': 3, 'UAL': 1, 'UDR': 1, 'UHS': 0, 'ULTA': 0, 'UNH': 1, 'UNP': 1, 'UPS': 1, 'URI': 1, 'USB': 3, 'V': 3, 'VFC': 0, 'VICI': 1, 'VLO': 1, 'VMC': 1, 'VNO': 0, 'VRSK': 0, 'VRSN': 0, 'VRTX': 0, 'VTR': 1, 'VTRS': 1, 'VZ': 7, 'WAB': 0, 'WAT': 0, 'WBA': 3, 'WBD': 1, 'WDC': 2, 'WEC': 1, 'WELL': 1, 'WFC': 6, 'WHR': 0, 'WM': 0, 'WMB': 3, 'WMT': 3, 'WRB': 0, 'WRK': 0, 'WST': 0, 'WTW': 0, 'WY': 2, 'WYNN': 0, 'XEL': 1, 'XOM': 4, 'XRAY': 0, 'XYL': 0, 'YUM': 1, 'ZBH': 0, 'ZBRA': 0, 'ZION': 1, 'ZTS': 1}\n"
     ]
    }
   ],
   "source": [
    "df_volume = df_all.loc[:, df_all.columns.get_level_values(0) == 'Volume'].dropna(axis=1)\n",
    "#df_volume = df_volume.set_index('Date')\n",
    "print(df_volume.shape)\n",
    "df_volume.columns = df_volume.columns.droplevel()\n",
    "df_volume = 1000 * df_volume.div(df_volume.sum(axis=1), axis=0)\n",
    "#print(df_volume.apply(lambda x: np.floor(x), axis=0).astype(int).iloc[0,:].sort_values(ascending=False))\n",
    "print(df_volume.apply(lambda x: np.floor(x), axis=0).astype(int).iloc[0,:].sort_index().to_dict())\n",
    "shares = df_volume.apply(lambda x: np.floor(x), axis=0).astype(int).iloc[0,:].sort_index().values\n"
   ],
   "metadata": {
    "collapsed": false,
    "pycharm": {
     "name": "#%%\n"
    }
   }
  },
  {
   "cell_type": "code",
   "execution_count": 100,
   "outputs": [
    {
     "data": {
      "text/plain": "76889.03008794785"
     },
     "execution_count": 100,
     "metadata": {},
     "output_type": "execute_result"
    }
   ],
   "source": [
    "np.dot((shares).astype(int), unit_prices)"
   ],
   "metadata": {
    "collapsed": false,
    "pycharm": {
     "name": "#%%\n"
    }
   }
  },
  {
   "cell_type": "code",
   "execution_count": null,
   "outputs": [],
   "source": [
    "dates = ['2021-01-01', '2022-05-01']\n",
    "df = calc_stocks(stocks, dates)\n",
    "df_pct = df.pct_change().iloc[1:].mean(axis=0)\n",
    "list_50 = df_pct.sort_values(ascending=False).iloc[:50].index.values.tolist()\n",
    "print(list_50)"
   ],
   "metadata": {
    "collapsed": false,
    "pycharm": {
     "name": "#%%\n",
     "is_executing": true
    }
   }
  },
  {
   "cell_type": "code",
   "execution_count": 67,
   "outputs": [
    {
     "name": "stdout",
     "output_type": "stream",
     "text": [
      "['ENPH', 'AMD', 'SEDG', 'ETN', 'PAYC', 'LRCX', 'TER', 'KLAC', 'GNRC', 'AMAT', 'TDG', 'CDAY', 'MKTX', 'CMG', 'DXCM', 'CPRT', 'KEYS', 'EPAM', 'MTCH', 'NXPI', 'WDC', 'CZR', 'MSCI', 'ANSS', 'MCHP', 'NVR', 'QRVO', 'QCOM', 'MCO', 'MRNA', 'XRAY', 'MLM', 'TGT', 'MAS', 'CDW', 'ZBRA', 'STX', 'AZO', 'GPN', 'EW', 'TSN', 'PHM', 'WYNN', 'NOW', 'CDNS', 'TFX', 'IR', 'EQIX', 'SWKS', 'HWM', 'LDOS', 'TDY', 'HLT', 'SNPS', 'URI', 'APD', 'SBUX', 'DHR', 'MU', 'GRMN', 'FBHS', 'CBRE', 'EL', 'NLOK', 'NWL', 'CHTR', 'AVGO', 'WHR', 'FAST', 'FMC', 'PCAR', 'CTAS', 'SPGI', 'MA', 'ADI', 'MTD', 'AME', 'AMT', 'RMD', 'NEM', 'SHW', 'MSFT', 'ALLE', 'SBAC', 'SWK', 'CTLT', 'ODFL', 'AVY', 'DHI', 'ZTS', 'ADSK', 'SO', 'LVS', 'DOV', 'POOL', 'BALL', 'ITW', 'FISV', 'LYB', 'FLT', 'PLD']\n"
     ]
    }
   ],
   "source": [
    "list_100 = df_pct.sort_values(ascending=False).iloc[:101].index.values.tolist()\n",
    "print(list_100)"
   ],
   "metadata": {
    "collapsed": false,
    "pycharm": {
     "name": "#%%\n"
    }
   }
  },
  {
   "cell_type": "code",
   "execution_count": 64,
   "outputs": [
    {
     "data": {
      "text/plain": "                  MRO        DVN         NUE        APA        OXY  \\\nDate                                                                 \n2021-01-29   7.112206  15.728911   47.873737  14.151438  20.031832   \n2021-02-26  10.940664  20.583281   58.768867  19.552372  26.572634   \n2021-03-31  10.526692  21.041765   79.267181  17.738848  26.591555   \n2021-04-30  11.098368  22.515169   81.232338  19.849133  25.332899   \n2021-05-31  11.975268  25.577541  101.258972  20.643095  25.932257   \n2021-06-30  13.468469  28.331980   95.136665  21.466837  31.247290   \n2021-07-30  11.461054  25.080450  103.159752  18.635092  26.081045   \n2021-08-31  11.669271  28.681396  116.587784  19.360617  25.671343   \n2021-09-30  13.576080  34.932793   98.061371  21.298666  29.570387   \n2021-10-29  16.207872  39.428513  111.164101  26.108818  33.519104   \n2021-11-30  15.438878  41.376328  105.797562  25.670517  29.640364   \n2021-12-31  16.365808  44.049999  114.150002  26.786192  28.990000   \n2022-01-31  19.405743  50.570000  101.400002  33.209999  37.669998   \n2022-02-28  22.559999  59.549999  131.619995  35.630001  43.730000   \n2022-03-31  25.110001  59.130001  148.649994  41.330002  56.740002   \n2022-04-29  24.920000  58.169998  154.779999  40.930000  55.090000   \n\n                  AAPL        MOS         COP         EOG          CF  ...  \\\nDate                                                                   ...   \n2021-01-29  131.539673  25.693972   38.526295   48.071228   40.263241  ...   \n2021-02-26  121.054382  29.098721   50.515999   60.900291   44.366367  ...   \n2021-03-31  121.942871  31.336246   51.448425   68.418503   44.464355  ...   \n2021-04-30  131.237091  34.875324   49.670990   69.854324   47.648777  ...   \n2021-05-31  124.610001  35.827011   54.560131   76.209892   52.390568  ...   \n2021-06-30  136.960007  31.696957   59.610905   79.150536   50.695782  ...   \n2021-07-30  145.860001  31.021496   55.292908   70.362511   46.557350  ...   \n2021-08-31  151.830002  31.965153   54.770161   65.205551   45.029701  ...   \n2021-09-30  141.500000  35.564411   66.842674   77.518509   55.340332  ...   \n2021-10-29  149.800003  41.388927   73.912102   89.699928   56.311909  ...   \n2021-11-30  165.300003  34.070946   69.585930   84.402908   60.353138  ...   \n2021-12-31  177.570007  39.204784   71.818748   88.181732   70.503296  ...   \n2022-01-31  174.779999  39.863354   88.176468  111.480003   68.600769  ...   \n2022-02-28  165.119995  52.316284   94.860001  114.919998   81.190002  ...   \n2022-03-31  174.610001  66.500000  100.000000  119.230003  103.059998  ...   \n2022-04-29  157.649994  62.419998   95.519997  116.760002   96.830002  ...   \n\n                    GD        AIG        EXC        ANET         PLD  \\\nDate                                                                   \n2021-01-29  143.141510  36.531433  28.878885   76.889999  101.166458   \n2021-02-26  159.526489  42.883453  26.822063   69.959999   97.117844   \n2021-03-31  177.180084  45.388451  30.809690   75.472504  104.556442   \n2021-04-30  186.844147  47.588627  31.654949   78.792503  114.943039   \n2021-05-31  186.529861  51.900578  32.182594   84.845001  116.235199   \n2021-06-30  184.909195  47.043125  31.604851   90.577499  118.493904   \n2021-07-30  193.765732  46.796051  33.380882   95.097504  126.930130   \n2021-08-31  197.996277  53.921700  34.964336   92.382500  133.492767   \n2021-09-30  193.765732  54.568653  34.479317   85.910004  124.933266   \n2021-10-29  201.611542  58.744064  37.938660  102.422501  144.385925   \n2021-11-30  187.908920  52.292057  37.610558  124.059998  150.152985   \n2021-12-31  207.299423  56.860001  41.198288  143.750000  168.360001   \n2022-01-31  212.100006  57.750000  41.333809  124.309998  156.820007   \n2022-02-28  234.449997  61.240002  42.560001  122.730003  145.850006   \n2022-03-31  241.179993  62.770000  47.630001  138.979996  161.479996   \n2022-04-29  236.529999  58.509998  46.779999  115.570000  160.289993   \n\n                  HPQ        SBNY         CPT        KIM         NOC  \nDate                                                                  \n2021-01-29  23.712605  164.428452   99.719582  15.998172  280.462219  \n2021-02-26  28.223259  217.333420  101.672005  17.761747  286.781372  \n2021-03-31  31.131643  225.057663  108.101173  18.327692  318.226440  \n2021-04-30  33.445683  250.901306  118.497223  20.527016  348.511200  \n2021-05-31  28.660723  249.145569  123.316574  20.830032  361.281128  \n2021-06-30  29.791012  245.055496  131.295151  20.538525  358.871735  \n2021-07-30  28.488459  226.970001  147.841873  21.011354  358.466888  \n2021-08-31  29.346958  259.329987  148.485138  21.464483  364.649170  \n2021-09-30  27.174786  272.279999  146.764404  20.600592  357.161774  \n2021-10-29  30.124680  297.820007  162.319626  22.437273  354.256104  \n2021-11-30  35.041168  302.299988  164.419525  22.258568  347.415314  \n2021-12-31  37.669998  323.470001  178.679993  24.650000  385.533417  \n2022-01-31  36.730000  304.630005  160.089996  24.260000  368.431580  \n2022-02-28  34.360001  344.890015  165.110001  23.530001  442.140015  \n2022-03-31  36.299999  293.489990  166.199997  24.700001  447.220001  \n2022-04-29  36.630001  242.250000  156.889999  25.330000  439.399994  \n\n[16 rows x 50 columns]",
      "text/html": "<div>\n<style scoped>\n    .dataframe tbody tr th:only-of-type {\n        vertical-align: middle;\n    }\n\n    .dataframe tbody tr th {\n        vertical-align: top;\n    }\n\n    .dataframe thead th {\n        text-align: right;\n    }\n</style>\n<table border=\"1\" class=\"dataframe\">\n  <thead>\n    <tr style=\"text-align: right;\">\n      <th></th>\n      <th>MRO</th>\n      <th>DVN</th>\n      <th>NUE</th>\n      <th>APA</th>\n      <th>OXY</th>\n      <th>AAPL</th>\n      <th>MOS</th>\n      <th>COP</th>\n      <th>EOG</th>\n      <th>CF</th>\n      <th>...</th>\n      <th>GD</th>\n      <th>AIG</th>\n      <th>EXC</th>\n      <th>ANET</th>\n      <th>PLD</th>\n      <th>HPQ</th>\n      <th>SBNY</th>\n      <th>CPT</th>\n      <th>KIM</th>\n      <th>NOC</th>\n    </tr>\n    <tr>\n      <th>Date</th>\n      <th></th>\n      <th></th>\n      <th></th>\n      <th></th>\n      <th></th>\n      <th></th>\n      <th></th>\n      <th></th>\n      <th></th>\n      <th></th>\n      <th></th>\n      <th></th>\n      <th></th>\n      <th></th>\n      <th></th>\n      <th></th>\n      <th></th>\n      <th></th>\n      <th></th>\n      <th></th>\n      <th></th>\n    </tr>\n  </thead>\n  <tbody>\n    <tr>\n      <th>2021-01-29</th>\n      <td>7.112206</td>\n      <td>15.728911</td>\n      <td>47.873737</td>\n      <td>14.151438</td>\n      <td>20.031832</td>\n      <td>131.539673</td>\n      <td>25.693972</td>\n      <td>38.526295</td>\n      <td>48.071228</td>\n      <td>40.263241</td>\n      <td>...</td>\n      <td>143.141510</td>\n      <td>36.531433</td>\n      <td>28.878885</td>\n      <td>76.889999</td>\n      <td>101.166458</td>\n      <td>23.712605</td>\n      <td>164.428452</td>\n      <td>99.719582</td>\n      <td>15.998172</td>\n      <td>280.462219</td>\n    </tr>\n    <tr>\n      <th>2021-02-26</th>\n      <td>10.940664</td>\n      <td>20.583281</td>\n      <td>58.768867</td>\n      <td>19.552372</td>\n      <td>26.572634</td>\n      <td>121.054382</td>\n      <td>29.098721</td>\n      <td>50.515999</td>\n      <td>60.900291</td>\n      <td>44.366367</td>\n      <td>...</td>\n      <td>159.526489</td>\n      <td>42.883453</td>\n      <td>26.822063</td>\n      <td>69.959999</td>\n      <td>97.117844</td>\n      <td>28.223259</td>\n      <td>217.333420</td>\n      <td>101.672005</td>\n      <td>17.761747</td>\n      <td>286.781372</td>\n    </tr>\n    <tr>\n      <th>2021-03-31</th>\n      <td>10.526692</td>\n      <td>21.041765</td>\n      <td>79.267181</td>\n      <td>17.738848</td>\n      <td>26.591555</td>\n      <td>121.942871</td>\n      <td>31.336246</td>\n      <td>51.448425</td>\n      <td>68.418503</td>\n      <td>44.464355</td>\n      <td>...</td>\n      <td>177.180084</td>\n      <td>45.388451</td>\n      <td>30.809690</td>\n      <td>75.472504</td>\n      <td>104.556442</td>\n      <td>31.131643</td>\n      <td>225.057663</td>\n      <td>108.101173</td>\n      <td>18.327692</td>\n      <td>318.226440</td>\n    </tr>\n    <tr>\n      <th>2021-04-30</th>\n      <td>11.098368</td>\n      <td>22.515169</td>\n      <td>81.232338</td>\n      <td>19.849133</td>\n      <td>25.332899</td>\n      <td>131.237091</td>\n      <td>34.875324</td>\n      <td>49.670990</td>\n      <td>69.854324</td>\n      <td>47.648777</td>\n      <td>...</td>\n      <td>186.844147</td>\n      <td>47.588627</td>\n      <td>31.654949</td>\n      <td>78.792503</td>\n      <td>114.943039</td>\n      <td>33.445683</td>\n      <td>250.901306</td>\n      <td>118.497223</td>\n      <td>20.527016</td>\n      <td>348.511200</td>\n    </tr>\n    <tr>\n      <th>2021-05-31</th>\n      <td>11.975268</td>\n      <td>25.577541</td>\n      <td>101.258972</td>\n      <td>20.643095</td>\n      <td>25.932257</td>\n      <td>124.610001</td>\n      <td>35.827011</td>\n      <td>54.560131</td>\n      <td>76.209892</td>\n      <td>52.390568</td>\n      <td>...</td>\n      <td>186.529861</td>\n      <td>51.900578</td>\n      <td>32.182594</td>\n      <td>84.845001</td>\n      <td>116.235199</td>\n      <td>28.660723</td>\n      <td>249.145569</td>\n      <td>123.316574</td>\n      <td>20.830032</td>\n      <td>361.281128</td>\n    </tr>\n    <tr>\n      <th>2021-06-30</th>\n      <td>13.468469</td>\n      <td>28.331980</td>\n      <td>95.136665</td>\n      <td>21.466837</td>\n      <td>31.247290</td>\n      <td>136.960007</td>\n      <td>31.696957</td>\n      <td>59.610905</td>\n      <td>79.150536</td>\n      <td>50.695782</td>\n      <td>...</td>\n      <td>184.909195</td>\n      <td>47.043125</td>\n      <td>31.604851</td>\n      <td>90.577499</td>\n      <td>118.493904</td>\n      <td>29.791012</td>\n      <td>245.055496</td>\n      <td>131.295151</td>\n      <td>20.538525</td>\n      <td>358.871735</td>\n    </tr>\n    <tr>\n      <th>2021-07-30</th>\n      <td>11.461054</td>\n      <td>25.080450</td>\n      <td>103.159752</td>\n      <td>18.635092</td>\n      <td>26.081045</td>\n      <td>145.860001</td>\n      <td>31.021496</td>\n      <td>55.292908</td>\n      <td>70.362511</td>\n      <td>46.557350</td>\n      <td>...</td>\n      <td>193.765732</td>\n      <td>46.796051</td>\n      <td>33.380882</td>\n      <td>95.097504</td>\n      <td>126.930130</td>\n      <td>28.488459</td>\n      <td>226.970001</td>\n      <td>147.841873</td>\n      <td>21.011354</td>\n      <td>358.466888</td>\n    </tr>\n    <tr>\n      <th>2021-08-31</th>\n      <td>11.669271</td>\n      <td>28.681396</td>\n      <td>116.587784</td>\n      <td>19.360617</td>\n      <td>25.671343</td>\n      <td>151.830002</td>\n      <td>31.965153</td>\n      <td>54.770161</td>\n      <td>65.205551</td>\n      <td>45.029701</td>\n      <td>...</td>\n      <td>197.996277</td>\n      <td>53.921700</td>\n      <td>34.964336</td>\n      <td>92.382500</td>\n      <td>133.492767</td>\n      <td>29.346958</td>\n      <td>259.329987</td>\n      <td>148.485138</td>\n      <td>21.464483</td>\n      <td>364.649170</td>\n    </tr>\n    <tr>\n      <th>2021-09-30</th>\n      <td>13.576080</td>\n      <td>34.932793</td>\n      <td>98.061371</td>\n      <td>21.298666</td>\n      <td>29.570387</td>\n      <td>141.500000</td>\n      <td>35.564411</td>\n      <td>66.842674</td>\n      <td>77.518509</td>\n      <td>55.340332</td>\n      <td>...</td>\n      <td>193.765732</td>\n      <td>54.568653</td>\n      <td>34.479317</td>\n      <td>85.910004</td>\n      <td>124.933266</td>\n      <td>27.174786</td>\n      <td>272.279999</td>\n      <td>146.764404</td>\n      <td>20.600592</td>\n      <td>357.161774</td>\n    </tr>\n    <tr>\n      <th>2021-10-29</th>\n      <td>16.207872</td>\n      <td>39.428513</td>\n      <td>111.164101</td>\n      <td>26.108818</td>\n      <td>33.519104</td>\n      <td>149.800003</td>\n      <td>41.388927</td>\n      <td>73.912102</td>\n      <td>89.699928</td>\n      <td>56.311909</td>\n      <td>...</td>\n      <td>201.611542</td>\n      <td>58.744064</td>\n      <td>37.938660</td>\n      <td>102.422501</td>\n      <td>144.385925</td>\n      <td>30.124680</td>\n      <td>297.820007</td>\n      <td>162.319626</td>\n      <td>22.437273</td>\n      <td>354.256104</td>\n    </tr>\n    <tr>\n      <th>2021-11-30</th>\n      <td>15.438878</td>\n      <td>41.376328</td>\n      <td>105.797562</td>\n      <td>25.670517</td>\n      <td>29.640364</td>\n      <td>165.300003</td>\n      <td>34.070946</td>\n      <td>69.585930</td>\n      <td>84.402908</td>\n      <td>60.353138</td>\n      <td>...</td>\n      <td>187.908920</td>\n      <td>52.292057</td>\n      <td>37.610558</td>\n      <td>124.059998</td>\n      <td>150.152985</td>\n      <td>35.041168</td>\n      <td>302.299988</td>\n      <td>164.419525</td>\n      <td>22.258568</td>\n      <td>347.415314</td>\n    </tr>\n    <tr>\n      <th>2021-12-31</th>\n      <td>16.365808</td>\n      <td>44.049999</td>\n      <td>114.150002</td>\n      <td>26.786192</td>\n      <td>28.990000</td>\n      <td>177.570007</td>\n      <td>39.204784</td>\n      <td>71.818748</td>\n      <td>88.181732</td>\n      <td>70.503296</td>\n      <td>...</td>\n      <td>207.299423</td>\n      <td>56.860001</td>\n      <td>41.198288</td>\n      <td>143.750000</td>\n      <td>168.360001</td>\n      <td>37.669998</td>\n      <td>323.470001</td>\n      <td>178.679993</td>\n      <td>24.650000</td>\n      <td>385.533417</td>\n    </tr>\n    <tr>\n      <th>2022-01-31</th>\n      <td>19.405743</td>\n      <td>50.570000</td>\n      <td>101.400002</td>\n      <td>33.209999</td>\n      <td>37.669998</td>\n      <td>174.779999</td>\n      <td>39.863354</td>\n      <td>88.176468</td>\n      <td>111.480003</td>\n      <td>68.600769</td>\n      <td>...</td>\n      <td>212.100006</td>\n      <td>57.750000</td>\n      <td>41.333809</td>\n      <td>124.309998</td>\n      <td>156.820007</td>\n      <td>36.730000</td>\n      <td>304.630005</td>\n      <td>160.089996</td>\n      <td>24.260000</td>\n      <td>368.431580</td>\n    </tr>\n    <tr>\n      <th>2022-02-28</th>\n      <td>22.559999</td>\n      <td>59.549999</td>\n      <td>131.619995</td>\n      <td>35.630001</td>\n      <td>43.730000</td>\n      <td>165.119995</td>\n      <td>52.316284</td>\n      <td>94.860001</td>\n      <td>114.919998</td>\n      <td>81.190002</td>\n      <td>...</td>\n      <td>234.449997</td>\n      <td>61.240002</td>\n      <td>42.560001</td>\n      <td>122.730003</td>\n      <td>145.850006</td>\n      <td>34.360001</td>\n      <td>344.890015</td>\n      <td>165.110001</td>\n      <td>23.530001</td>\n      <td>442.140015</td>\n    </tr>\n    <tr>\n      <th>2022-03-31</th>\n      <td>25.110001</td>\n      <td>59.130001</td>\n      <td>148.649994</td>\n      <td>41.330002</td>\n      <td>56.740002</td>\n      <td>174.610001</td>\n      <td>66.500000</td>\n      <td>100.000000</td>\n      <td>119.230003</td>\n      <td>103.059998</td>\n      <td>...</td>\n      <td>241.179993</td>\n      <td>62.770000</td>\n      <td>47.630001</td>\n      <td>138.979996</td>\n      <td>161.479996</td>\n      <td>36.299999</td>\n      <td>293.489990</td>\n      <td>166.199997</td>\n      <td>24.700001</td>\n      <td>447.220001</td>\n    </tr>\n    <tr>\n      <th>2022-04-29</th>\n      <td>24.920000</td>\n      <td>58.169998</td>\n      <td>154.779999</td>\n      <td>40.930000</td>\n      <td>55.090000</td>\n      <td>157.649994</td>\n      <td>62.419998</td>\n      <td>95.519997</td>\n      <td>116.760002</td>\n      <td>96.830002</td>\n      <td>...</td>\n      <td>236.529999</td>\n      <td>58.509998</td>\n      <td>46.779999</td>\n      <td>115.570000</td>\n      <td>160.289993</td>\n      <td>36.630001</td>\n      <td>242.250000</td>\n      <td>156.889999</td>\n      <td>25.330000</td>\n      <td>439.399994</td>\n    </tr>\n  </tbody>\n</table>\n<p>16 rows × 50 columns</p>\n</div>"
     },
     "execution_count": 64,
     "metadata": {},
     "output_type": "execute_result"
    }
   ],
   "source": [
    "select_stocks = ['MRO', 'DVN', 'NUE', 'APA', 'OXY', 'AAPL', 'MOS', 'COP', 'EOG', 'CF', 'FANG', 'VLO', 'HAL', 'MPC', 'FTNT', 'PXD', 'XOM', 'HES', 'CVX', 'IT', 'SLB', 'ADM', 'MCK', 'AZO', 'EXR', 'BBWI', 'BKR', 'ANTM', 'PWR', 'OKE', 'IRM', 'WMB', 'PSA', 'FCX', 'NVDA', 'LYV', 'CTRA', 'DLTR', 'WRB', 'KR', 'GD', 'AIG', 'EXC', 'ANET', 'PLD', 'HPQ', 'SBNY', 'CPT', 'KIM', 'NOC']\n",
    "df.loc[:,select_stocks]"
   ],
   "metadata": {
    "collapsed": false,
    "pycharm": {
     "name": "#%%\n"
    }
   }
  },
  {
   "cell_type": "code",
   "execution_count": 34,
   "outputs": [
    {
     "data": {
      "text/plain": "AAPL    0.032244\nMSFT    0.002722\nAAL     0.042179\nWMT     0.010129\ndtype: float64"
     },
     "execution_count": 34,
     "metadata": {},
     "output_type": "execute_result"
    }
   ],
   "source": [
    "# 4 stocks\n",
    "dates = ['2010-01-29', '2012-12-31']\n",
    "df = calc_stocks(['AAPL', 'MSFT', 'AAL', 'WMT'], dates)\n",
    "df.pct_change().iloc[1:].mean(axis=0)"
   ],
   "metadata": {
    "collapsed": false,
    "pycharm": {
     "name": "#%%\n"
    }
   }
  },
  {
   "cell_type": "code",
   "execution_count": 35,
   "outputs": [
    {
     "data": {
      "text/plain": "AAPL     0.027266\nMSFT     0.030791\nAAL     -0.005560\nWMT      0.014602\nMMM     -0.000078\nAIG      0.019820\nGOOGL    0.016004\nAMD      0.074486\nBLK      0.020340\nKO       0.013917\nGE       0.020178\nGM       0.007427\nINTC     0.022323\nJNJ      0.006831\nJPM      0.022449\nCMCSA    0.014700\nMA       0.031293\nMCD      0.010920\nNDAQ     0.018080\nPFE     -0.002227\ndtype: float64"
     },
     "execution_count": 35,
     "metadata": {},
     "output_type": "execute_result"
    }
   ],
   "source": [
    "# 20 stocks\n",
    "stocks = ['AAPL', 'MSFT', 'AAL', 'WMT', 'MMM', 'AIG', 'GOOGL', 'AMD', 'BLK', 'KO', 'GE', 'GM', 'INTC', 'JNJ', 'JPM', 'CMCSA', 'MA', 'MCD', 'NDAQ', 'PFE']\n",
    "dates = ['2018-10-01', '2020-01-01']\n",
    "df = calc_stocks(stocks, dates)\n",
    "df.pct_change().iloc[1:].mean(axis=0)"
   ],
   "metadata": {
    "collapsed": false,
    "pycharm": {
     "name": "#%%\n"
    }
   }
  },
  {
   "cell_type": "code",
   "execution_count": 33,
   "outputs": [
    {
     "data": {
      "text/plain": "AAPL    0.027266\nMSFT    0.030791\nWMT     0.014602\nAAL    -0.005560\nLDOS    0.034242\nINTU    0.018090\nHIG     0.023780\nSWKS    0.034577\nFAST    0.031910\nCERN    0.019984\nNDAQ    0.018080\nRHI     0.007670\nETR     0.029546\nAOS     0.009072\nVNO     0.005982\nCPT     0.015249\nHPE     0.009030\nEFX     0.026447\nAVGO    0.032130\nDLTR    0.010750\nMLM     0.038339\nPSA     0.007087\nTXN     0.027650\nALB    -0.012921\nNVDA    0.018375\nAVB     0.016500\nDRE     0.020137\nTTWO   -0.000043\nLYB     0.028075\nNCLH    0.024595\nRCL     0.023572\nFISV    0.029060\nEQR     0.019603\nSTX     0.036194\nTECH    0.022743\nRTX     0.017718\nD       0.015416\nEMR     0.014124\nLRCX    0.060780\nSLB    -0.004163\nALGN    0.027503\nIEX     0.024508\nWTW     0.026036\nEXR     0.015746\nFIS     0.022459\nCOO     0.017635\nUDR     0.015861\nBBY     0.025550\nNWSA    0.009172\nEPAM    0.046097\ndtype: float64"
     },
     "execution_count": 33,
     "metadata": {},
     "output_type": "execute_result"
    }
   ],
   "source": [
    "# 50 stocks\n",
    "stocks = [ 'AAPL',  'MSFT',  'WMT',  'AAL',  'LDOS',  'INTU',  'HIG',  'SWKS',\n",
    "           'FAST',  'CERN',  'NDAQ',  'RHI',  'ETR',  'AOS',  'VNO',  'CPT',  'HPE',  'EFX',  'AVGO',\n",
    "           'DLTR',  'MLM',  'PSA',  'TXN',  'ALB',  'NVDA',  'AVB',  'DRE',  'TTWO',  'LYB',  'NCLH',\n",
    "           'RCL',  'FISV',  'EQR',  'STX',  'TECH',  'RTX',  'D',  'EMR',  'LRCX',  'SLB',  'ALGN',  'IEX',\n",
    "           'WTW',  'EXR',  'FIS',  'COO',  'UDR',  'BBY',  'NWSA',  'EPAM']\n",
    "dates = ['2018-10-01', '2020-01-01']\n",
    "df = calc_stocks(stocks, dates)\n",
    "df.pct_change().iloc[1:].mean(axis=0)"
   ],
   "metadata": {
    "collapsed": false,
    "pycharm": {
     "name": "#%%\n"
    }
   }
  },
  {
   "cell_type": "code",
   "execution_count": null,
   "outputs": [],
   "source": [
    "# 50 stocks\n",
    "dates = ['2021-01-01', '2022-04-30']\n",
    "stocks = df.sample(n=50, random_state=10).loc[:,'Symbol'].values.tolist()\n",
    "if 'AAPL' not in stocks: stocks[0] = 'AAPL'\n",
    "if 'MSFT' not in stocks: stocks[1] = 'MSFT'\n",
    "if 'WMT' not in stocks: stocks[2] = 'WMT'\n",
    "if 'AAL' not in stocks: stocks[3] = 'AAL'\n",
    "\n",
    "print(f'len set stocks: {len(set(stocks))}')\n",
    "panel_data = DataReader(stocks, 'yahoo', dates[0], dates[1])\n",
    "panel_data = panel_data.resample('BM').last()\n",
    "df_all = pd.DataFrame(index=panel_data.index, columns=stocks)\n",
    "for i in stocks:\n",
    "    df_all[i] = panel_data[[('Adj Close', i)]]\n",
    "\n",
    "price = df_all.iloc[-1]\n",
    "monthly_returns = df_all[list(stocks)].pct_change().iloc[1:]\n",
    "print('df all')\n",
    "display(df_all)\n",
    "print('monthly returns')\n",
    "display(monthly_returns)\n",
    "avg_monthly_returns = monthly_returns.mean(axis=0)\n",
    "print('avg monthly returns')\n",
    "display(avg_monthly_returns)\n",
    "covariance_matrix = monthly_returns.cov()\n",
    "display(covariance_matrix)\n",
    "#display(df_all)\n",
    "#df_all.to_csv('/Users/bmartins/workbench/dwaveStudy/portfolioOptSolved/data/sp50_data_random.csv')\n",
    "rolling_avg = df_all.rolling(window=1).mean()\n",
    "rolling_avg.reset_index(inplace=True)\n",
    "print('rolling avg')\n",
    "display(rolling_avg)\n",
    "\n",
    "print('price')\n",
    "price = df_all.shift(periods=1)\n",
    "display(price)\n",
    "\n",
    "s1 = df_all.stack().values\n",
    "print(s1)\n",
    "print(len(s1))\n",
    "model = ARIMA(s1, order=(3,1,0))\n",
    "model_fit = model.fit()\n",
    "#rolling_forecast = pd.rolling_apply(df_all,3,lambda x: model_fit.forecast())\n",
    "rolling_forecast = df_all.rolling(3).apply(lambda x: model_fit.forecast())\n",
    "rolling_forecast\n",
    "#forecast = model_fit.forecast()\n",
    "#print(forecast)\n",
    "#print(len(forecast))\n",
    "idx = 3\n",
    "for s in stocks:\n",
    "    print(f'stock: {s}, price:{price[s]}, rolling avg: {rolling_avg.loc[idx, s]}')\n"
   ],
   "metadata": {
    "collapsed": false,
    "pycharm": {
     "name": "#%%\n"
    }
   }
  },
  {
   "cell_type": "code",
   "execution_count": null,
   "outputs": [],
   "source": [
    "# 50 stocks\n",
    "dates = ['2021-01-01', '2022-04-30']\n",
    "stocks = df.sample(n=50, random_state=10).loc[:,'Symbol'].values.tolist()\n",
    "if 'AAPL' not in stocks: stocks[0] = 'AAPL'\n",
    "if 'MSFT' not in stocks: stocks[1] = 'MSFT'\n",
    "if 'WMT' not in stocks: stocks[2] = 'WMT'\n",
    "if 'AAL' not in stocks: stocks[3] = 'AAL'\n",
    "\n",
    "print(f'len set stocks: {len(set(stocks))}')\n",
    "panel_data = DataReader(stocks, 'yahoo', dates[0], dates[1])\n",
    "panel_data = panel_data.resample('BM').last()\n",
    "df_all = pd.DataFrame(index=panel_data.index, columns=stocks)\n",
    "for i in stocks:\n",
    "    df_all[i] = panel_data[[('Adj Close', i)]]\n",
    "\n",
    "price = df_all.iloc[-1]\n",
    "monthly_returns = df_all[list(stocks)].pct_change().iloc[1:]\n",
    "print('df all')\n",
    "display(df_all)\n",
    "print('monthly returns')\n",
    "display(monthly_returns)\n",
    "avg_monthly_returns = monthly_returns.mean(axis=0)\n",
    "print('avg monthly returns')\n",
    "display(avg_monthly_returns)\n",
    "covariance_matrix = monthly_returns.cov()\n",
    "display(covariance_matrix)\n",
    "#display(df_all)\n",
    "#df_all.to_csv('/Users/bmartins/workbench/dwaveStudy/portfolioOptSolved/data/sp50_data_random.csv')\n",
    "rolling_avg = df_all.rolling(window=1).mean()\n",
    "rolling_avg.reset_index(inplace=True)\n",
    "print('rolling avg')\n",
    "display(rolling_avg)\n",
    "\n",
    "print('price')\n",
    "price = df_all.shift(periods=1)\n",
    "display(price)\n",
    "\n",
    "s1 = df_all.stack().values\n",
    "print(s1)\n",
    "print(len(s1))\n",
    "model = ARIMA(s1, order=(3,1,0))\n",
    "model_fit = model.fit()\n",
    "#rolling_forecast = pd.rolling_apply(df_all,3,lambda x: model_fit.forecast())\n",
    "rolling_forecast = df_all.rolling(3).apply(lambda x: model_fit.forecast())\n",
    "rolling_forecast\n",
    "#forecast = model_fit.forecast()\n",
    "#print(forecast)\n",
    "#print(len(forecast))\n",
    "idx = 3\n",
    "for s in stocks:\n",
    "    print(f'stock: {s}, price:{price[s]}, rolling avg: {rolling_avg.loc[idx, s]}')\n"
   ],
   "metadata": {
    "collapsed": false,
    "pycharm": {
     "name": "#%%\n"
    }
   }
  },
  {
   "cell_type": "code",
   "execution_count": 12,
   "outputs": [
    {
     "name": "stdout",
     "output_type": "stream",
     "text": [
      "len set stocks: 4\n"
     ]
    },
    {
     "data": {
      "text/plain": "                 AAPL        MSFT        AAL         WMT\nDate                                                    \n2018-10-31  52.786491  102.389671  34.426762   93.939636\n2018-11-30  43.221706  106.760048  39.520947   91.475914\n2018-12-31  38.177803   97.787148  31.599045   87.736626\n2019-01-31  40.283463  100.540634  35.200806   90.260887\n2019-02-28  42.087208  108.318214  35.158630   93.237236\n2019-03-29  46.170757  114.032402  31.339825   92.356377\n2019-04-30  48.776443  126.272926  33.727810   97.384682\n2019-05-31  42.717781  120.024864  26.947300   96.569237\n2019-06-28  48.293278  130.001068  32.271450  105.184700\n2019-07-31  51.982613  132.242828  30.193247  105.079971\n2019-08-30  51.126915  134.231277  26.128435  109.309097\n2019-09-30  54.857216  135.370499  26.783880  113.537590\n2019-10-31  60.929058  139.596268  29.852554  112.179123\n2019-11-29  65.654358  147.896957  28.634182  113.929810\n2019-12-31  72.139938  154.071594  28.574404  114.200600",
      "text/html": "<div>\n<style scoped>\n    .dataframe tbody tr th:only-of-type {\n        vertical-align: middle;\n    }\n\n    .dataframe tbody tr th {\n        vertical-align: top;\n    }\n\n    .dataframe thead th {\n        text-align: right;\n    }\n</style>\n<table border=\"1\" class=\"dataframe\">\n  <thead>\n    <tr style=\"text-align: right;\">\n      <th></th>\n      <th>AAPL</th>\n      <th>MSFT</th>\n      <th>AAL</th>\n      <th>WMT</th>\n    </tr>\n    <tr>\n      <th>Date</th>\n      <th></th>\n      <th></th>\n      <th></th>\n      <th></th>\n    </tr>\n  </thead>\n  <tbody>\n    <tr>\n      <th>2018-10-31</th>\n      <td>52.786491</td>\n      <td>102.389671</td>\n      <td>34.426762</td>\n      <td>93.939636</td>\n    </tr>\n    <tr>\n      <th>2018-11-30</th>\n      <td>43.221706</td>\n      <td>106.760048</td>\n      <td>39.520947</td>\n      <td>91.475914</td>\n    </tr>\n    <tr>\n      <th>2018-12-31</th>\n      <td>38.177803</td>\n      <td>97.787148</td>\n      <td>31.599045</td>\n      <td>87.736626</td>\n    </tr>\n    <tr>\n      <th>2019-01-31</th>\n      <td>40.283463</td>\n      <td>100.540634</td>\n      <td>35.200806</td>\n      <td>90.260887</td>\n    </tr>\n    <tr>\n      <th>2019-02-28</th>\n      <td>42.087208</td>\n      <td>108.318214</td>\n      <td>35.158630</td>\n      <td>93.237236</td>\n    </tr>\n    <tr>\n      <th>2019-03-29</th>\n      <td>46.170757</td>\n      <td>114.032402</td>\n      <td>31.339825</td>\n      <td>92.356377</td>\n    </tr>\n    <tr>\n      <th>2019-04-30</th>\n      <td>48.776443</td>\n      <td>126.272926</td>\n      <td>33.727810</td>\n      <td>97.384682</td>\n    </tr>\n    <tr>\n      <th>2019-05-31</th>\n      <td>42.717781</td>\n      <td>120.024864</td>\n      <td>26.947300</td>\n      <td>96.569237</td>\n    </tr>\n    <tr>\n      <th>2019-06-28</th>\n      <td>48.293278</td>\n      <td>130.001068</td>\n      <td>32.271450</td>\n      <td>105.184700</td>\n    </tr>\n    <tr>\n      <th>2019-07-31</th>\n      <td>51.982613</td>\n      <td>132.242828</td>\n      <td>30.193247</td>\n      <td>105.079971</td>\n    </tr>\n    <tr>\n      <th>2019-08-30</th>\n      <td>51.126915</td>\n      <td>134.231277</td>\n      <td>26.128435</td>\n      <td>109.309097</td>\n    </tr>\n    <tr>\n      <th>2019-09-30</th>\n      <td>54.857216</td>\n      <td>135.370499</td>\n      <td>26.783880</td>\n      <td>113.537590</td>\n    </tr>\n    <tr>\n      <th>2019-10-31</th>\n      <td>60.929058</td>\n      <td>139.596268</td>\n      <td>29.852554</td>\n      <td>112.179123</td>\n    </tr>\n    <tr>\n      <th>2019-11-29</th>\n      <td>65.654358</td>\n      <td>147.896957</td>\n      <td>28.634182</td>\n      <td>113.929810</td>\n    </tr>\n    <tr>\n      <th>2019-12-31</th>\n      <td>72.139938</td>\n      <td>154.071594</td>\n      <td>28.574404</td>\n      <td>114.200600</td>\n    </tr>\n  </tbody>\n</table>\n</div>"
     },
     "metadata": {},
     "output_type": "display_data"
    }
   ],
   "source": [
    "# 4 stocks\n",
    "dates = ['2018-10-01', '2020-01-01']\n",
    "stocks = ['AAPL', 'MSFT', 'AAL', 'WMT']\n",
    "print(f'len set stocks: {len(set(stocks))}')\n",
    "panel_data = DataReader(stocks, 'yahoo', dates[0], dates[1])\n",
    "panel_data = panel_data.resample('BM').last()\n",
    "df_all = pd.DataFrame(index=panel_data.index, columns=stocks)\n",
    "for i in stocks:\n",
    "    df_all[i] = panel_data[[('Adj Close', i)]]\n",
    "\n",
    "display(df_all)\n",
    "df_all.to_csv('/Users/bmartins/workbench/dwaveStudy/portfolioOptSolved/data/sp4_data_random.csv')\n"
   ],
   "metadata": {
    "collapsed": false,
    "pycharm": {
     "name": "#%%\n"
    }
   }
  },
  {
   "cell_type": "code",
   "execution_count": 14,
   "outputs": [
    {
     "name": "stdout",
     "output_type": "stream",
     "text": [
      "len set stocks: 50\n"
     ]
    },
    {
     "data": {
      "text/plain": "                 AAPL        MSFT         WMT        AAL       LDOS  \\\nDate                                                                  \n2018-10-31  52.786488  102.389671   93.939636  34.426765  61.325516   \n2018-11-30  43.221710  106.760048   91.475922  39.520947  59.640442   \n2018-12-31  38.177807   97.787148   87.736618  31.599047  50.183434   \n2019-01-31  40.283463  100.540627   90.260887  35.200806  55.209385   \n2019-02-28  42.087215  108.318207   93.237244  35.158627  61.482315   \n2019-03-29  46.170765  114.032402   92.356369  31.339823  61.316097   \n2019-04-30  48.776447  126.272972   97.384682  33.727806  70.299698   \n2019-05-31  42.717781  120.024879   96.569252  26.947300  72.069618   \n2019-06-28  48.293274  130.001068  105.184692  32.271450  76.703697   \n2019-07-31  51.982613  132.242783  105.079971  30.193249  78.865044   \n2019-08-30  51.126911  134.231293  109.309105  26.128435  83.917786   \n2019-09-30  54.857212  135.370499  113.537575  26.783880  82.822227   \n2019-10-31  60.929058  139.596237  112.179108  29.852556  83.159760   \n2019-11-29  65.654358  147.896988  113.929825  28.634182  87.605598   \n2019-12-31  72.139954  154.071564  114.200600  28.574404  94.757896   \n\n                  INTU        HIG        SWKS       FAST       CERN  ...  \\\nDate                                                                 ...   \n2018-10-31  206.106262  41.435818   81.501625  23.448883  55.410606  ...   \n2018-11-30  209.554367  40.588711   68.729469  27.029387  56.020046  ...   \n2018-12-31  192.284424  40.827526   63.298714  23.850266  50.728569  ...   \n2019-01-31  211.301895  43.096226   68.984459  27.775887  53.117962  ...   \n2019-02-28  241.956375  45.337383   77.483093  28.915216  54.124016  ...   \n2019-03-29  255.937454  45.947304   78.261147  29.544607  55.342892  ...   \n2019-04-30  246.247971  48.340771   83.669586  32.611366  64.281326  ...   \n2019-05-31  240.156998  48.940876   63.564926  28.280132  67.686455  ...   \n2019-06-28  256.321075  51.784760   73.715462  30.129110  71.084930  ...   \n2019-07-31  272.467102  53.559872   81.356995  28.673334  69.484787  ...   \n2019-08-30  283.324158  54.442387   72.239647  28.505764  66.827599  ...   \n2019-09-30  261.295746  56.618961   76.059395  30.414211  66.283928  ...   \n2019-10-31  253.517944  53.321407   87.393929  33.655033  65.262985  ...   \n2019-11-29  254.886444  58.065277   94.342445  33.261734  69.609306  ...   \n2019-12-31  257.879364  57.042141  116.535011  34.600815  71.535187  ...   \n\n                  ALGN         IEX         WTW         EXR         FIS  \\\nDate                                                                     \n2018-10-31  221.199997  122.227646  143.160004   81.136909  100.382111   \n2018-11-30  229.889999  132.424530  159.449997   86.470360  104.094612   \n2018-12-31  209.429993  121.687912  151.860001   82.242210   99.184799   \n2019-01-31  248.949997  133.287552  162.789993   89.632019  101.099815   \n2019-02-28  258.970001  139.320587  172.020004   87.205093  104.601044   \n2019-03-29  284.329987  146.707214  175.649994   93.433899  109.745598   \n2019-04-30  324.679993  151.464020  184.339996   95.065849  112.491669   \n2019-05-31  284.350006  148.127686  175.500000   98.247246  116.732048   \n2019-06-28  273.700012  166.974609  191.539993   98.086555  119.386925   \n2019-07-31  209.080002  163.651215  195.220001  103.901489  129.673203   \n2019-08-30  183.110001  160.236588  197.970001  112.711700  132.563492   \n2019-09-30  180.919998  159.429108  192.970001  108.834084  129.541702   \n2019-10-31  252.289993  151.788345  186.899994  104.595116  128.565903   \n2019-11-29  277.339996  158.824890  196.440002   98.800339  134.801010   \n2019-12-31  279.040009  167.862122  201.940002   99.272240  136.069702   \n\n                   COO        UDR        BBY       NWSA        EPAM  \nDate                                                                 \n2018-10-31  258.151001  35.255737  64.280556  12.736553  119.470001  \n2018-11-30  278.658356  38.341404  59.177303  12.533772  130.250000  \n2018-12-31  254.343353  35.642574  48.885040  10.959810  116.010002  \n2019-01-31  278.619720  39.682617  54.681839  12.388929  141.479996  \n2019-02-28  285.846039  40.290325  63.543167  12.572398  161.779999  \n2019-03-29  296.020935  41.233643  66.062607  12.105168  169.130005  \n2019-04-30  289.774048  41.079922  69.177025  12.085707  179.360001  \n2019-05-31  297.640137  40.924557  58.262657  11.083431  172.589996  \n2019-06-28  336.720428  41.025085  65.324669  13.126907  173.100006  \n2019-07-31  337.260681  42.407372  71.695053  12.805789  193.789993  \n2019-08-30  309.622101  44.359245  59.628780  13.379909  191.330002  \n2019-09-30  296.877380  44.635456  65.107201  13.640255  182.320007  \n2019-10-31  290.879852  46.591972  67.787384  13.434475  175.960007  \n2019-11-29  312.960724  44.552124  76.101524  12.621157  211.850006  \n2019-12-31  321.157318  43.300404  83.350082  13.855835  212.160004  \n\n[15 rows x 50 columns]",
      "text/html": "<div>\n<style scoped>\n    .dataframe tbody tr th:only-of-type {\n        vertical-align: middle;\n    }\n\n    .dataframe tbody tr th {\n        vertical-align: top;\n    }\n\n    .dataframe thead th {\n        text-align: right;\n    }\n</style>\n<table border=\"1\" class=\"dataframe\">\n  <thead>\n    <tr style=\"text-align: right;\">\n      <th></th>\n      <th>AAPL</th>\n      <th>MSFT</th>\n      <th>WMT</th>\n      <th>AAL</th>\n      <th>LDOS</th>\n      <th>INTU</th>\n      <th>HIG</th>\n      <th>SWKS</th>\n      <th>FAST</th>\n      <th>CERN</th>\n      <th>...</th>\n      <th>ALGN</th>\n      <th>IEX</th>\n      <th>WTW</th>\n      <th>EXR</th>\n      <th>FIS</th>\n      <th>COO</th>\n      <th>UDR</th>\n      <th>BBY</th>\n      <th>NWSA</th>\n      <th>EPAM</th>\n    </tr>\n    <tr>\n      <th>Date</th>\n      <th></th>\n      <th></th>\n      <th></th>\n      <th></th>\n      <th></th>\n      <th></th>\n      <th></th>\n      <th></th>\n      <th></th>\n      <th></th>\n      <th></th>\n      <th></th>\n      <th></th>\n      <th></th>\n      <th></th>\n      <th></th>\n      <th></th>\n      <th></th>\n      <th></th>\n      <th></th>\n      <th></th>\n    </tr>\n  </thead>\n  <tbody>\n    <tr>\n      <th>2018-10-31</th>\n      <td>52.786488</td>\n      <td>102.389671</td>\n      <td>93.939636</td>\n      <td>34.426765</td>\n      <td>61.325516</td>\n      <td>206.106262</td>\n      <td>41.435818</td>\n      <td>81.501625</td>\n      <td>23.448883</td>\n      <td>55.410606</td>\n      <td>...</td>\n      <td>221.199997</td>\n      <td>122.227646</td>\n      <td>143.160004</td>\n      <td>81.136909</td>\n      <td>100.382111</td>\n      <td>258.151001</td>\n      <td>35.255737</td>\n      <td>64.280556</td>\n      <td>12.736553</td>\n      <td>119.470001</td>\n    </tr>\n    <tr>\n      <th>2018-11-30</th>\n      <td>43.221710</td>\n      <td>106.760048</td>\n      <td>91.475922</td>\n      <td>39.520947</td>\n      <td>59.640442</td>\n      <td>209.554367</td>\n      <td>40.588711</td>\n      <td>68.729469</td>\n      <td>27.029387</td>\n      <td>56.020046</td>\n      <td>...</td>\n      <td>229.889999</td>\n      <td>132.424530</td>\n      <td>159.449997</td>\n      <td>86.470360</td>\n      <td>104.094612</td>\n      <td>278.658356</td>\n      <td>38.341404</td>\n      <td>59.177303</td>\n      <td>12.533772</td>\n      <td>130.250000</td>\n    </tr>\n    <tr>\n      <th>2018-12-31</th>\n      <td>38.177807</td>\n      <td>97.787148</td>\n      <td>87.736618</td>\n      <td>31.599047</td>\n      <td>50.183434</td>\n      <td>192.284424</td>\n      <td>40.827526</td>\n      <td>63.298714</td>\n      <td>23.850266</td>\n      <td>50.728569</td>\n      <td>...</td>\n      <td>209.429993</td>\n      <td>121.687912</td>\n      <td>151.860001</td>\n      <td>82.242210</td>\n      <td>99.184799</td>\n      <td>254.343353</td>\n      <td>35.642574</td>\n      <td>48.885040</td>\n      <td>10.959810</td>\n      <td>116.010002</td>\n    </tr>\n    <tr>\n      <th>2019-01-31</th>\n      <td>40.283463</td>\n      <td>100.540627</td>\n      <td>90.260887</td>\n      <td>35.200806</td>\n      <td>55.209385</td>\n      <td>211.301895</td>\n      <td>43.096226</td>\n      <td>68.984459</td>\n      <td>27.775887</td>\n      <td>53.117962</td>\n      <td>...</td>\n      <td>248.949997</td>\n      <td>133.287552</td>\n      <td>162.789993</td>\n      <td>89.632019</td>\n      <td>101.099815</td>\n      <td>278.619720</td>\n      <td>39.682617</td>\n      <td>54.681839</td>\n      <td>12.388929</td>\n      <td>141.479996</td>\n    </tr>\n    <tr>\n      <th>2019-02-28</th>\n      <td>42.087215</td>\n      <td>108.318207</td>\n      <td>93.237244</td>\n      <td>35.158627</td>\n      <td>61.482315</td>\n      <td>241.956375</td>\n      <td>45.337383</td>\n      <td>77.483093</td>\n      <td>28.915216</td>\n      <td>54.124016</td>\n      <td>...</td>\n      <td>258.970001</td>\n      <td>139.320587</td>\n      <td>172.020004</td>\n      <td>87.205093</td>\n      <td>104.601044</td>\n      <td>285.846039</td>\n      <td>40.290325</td>\n      <td>63.543167</td>\n      <td>12.572398</td>\n      <td>161.779999</td>\n    </tr>\n    <tr>\n      <th>2019-03-29</th>\n      <td>46.170765</td>\n      <td>114.032402</td>\n      <td>92.356369</td>\n      <td>31.339823</td>\n      <td>61.316097</td>\n      <td>255.937454</td>\n      <td>45.947304</td>\n      <td>78.261147</td>\n      <td>29.544607</td>\n      <td>55.342892</td>\n      <td>...</td>\n      <td>284.329987</td>\n      <td>146.707214</td>\n      <td>175.649994</td>\n      <td>93.433899</td>\n      <td>109.745598</td>\n      <td>296.020935</td>\n      <td>41.233643</td>\n      <td>66.062607</td>\n      <td>12.105168</td>\n      <td>169.130005</td>\n    </tr>\n    <tr>\n      <th>2019-04-30</th>\n      <td>48.776447</td>\n      <td>126.272972</td>\n      <td>97.384682</td>\n      <td>33.727806</td>\n      <td>70.299698</td>\n      <td>246.247971</td>\n      <td>48.340771</td>\n      <td>83.669586</td>\n      <td>32.611366</td>\n      <td>64.281326</td>\n      <td>...</td>\n      <td>324.679993</td>\n      <td>151.464020</td>\n      <td>184.339996</td>\n      <td>95.065849</td>\n      <td>112.491669</td>\n      <td>289.774048</td>\n      <td>41.079922</td>\n      <td>69.177025</td>\n      <td>12.085707</td>\n      <td>179.360001</td>\n    </tr>\n    <tr>\n      <th>2019-05-31</th>\n      <td>42.717781</td>\n      <td>120.024879</td>\n      <td>96.569252</td>\n      <td>26.947300</td>\n      <td>72.069618</td>\n      <td>240.156998</td>\n      <td>48.940876</td>\n      <td>63.564926</td>\n      <td>28.280132</td>\n      <td>67.686455</td>\n      <td>...</td>\n      <td>284.350006</td>\n      <td>148.127686</td>\n      <td>175.500000</td>\n      <td>98.247246</td>\n      <td>116.732048</td>\n      <td>297.640137</td>\n      <td>40.924557</td>\n      <td>58.262657</td>\n      <td>11.083431</td>\n      <td>172.589996</td>\n    </tr>\n    <tr>\n      <th>2019-06-28</th>\n      <td>48.293274</td>\n      <td>130.001068</td>\n      <td>105.184692</td>\n      <td>32.271450</td>\n      <td>76.703697</td>\n      <td>256.321075</td>\n      <td>51.784760</td>\n      <td>73.715462</td>\n      <td>30.129110</td>\n      <td>71.084930</td>\n      <td>...</td>\n      <td>273.700012</td>\n      <td>166.974609</td>\n      <td>191.539993</td>\n      <td>98.086555</td>\n      <td>119.386925</td>\n      <td>336.720428</td>\n      <td>41.025085</td>\n      <td>65.324669</td>\n      <td>13.126907</td>\n      <td>173.100006</td>\n    </tr>\n    <tr>\n      <th>2019-07-31</th>\n      <td>51.982613</td>\n      <td>132.242783</td>\n      <td>105.079971</td>\n      <td>30.193249</td>\n      <td>78.865044</td>\n      <td>272.467102</td>\n      <td>53.559872</td>\n      <td>81.356995</td>\n      <td>28.673334</td>\n      <td>69.484787</td>\n      <td>...</td>\n      <td>209.080002</td>\n      <td>163.651215</td>\n      <td>195.220001</td>\n      <td>103.901489</td>\n      <td>129.673203</td>\n      <td>337.260681</td>\n      <td>42.407372</td>\n      <td>71.695053</td>\n      <td>12.805789</td>\n      <td>193.789993</td>\n    </tr>\n    <tr>\n      <th>2019-08-30</th>\n      <td>51.126911</td>\n      <td>134.231293</td>\n      <td>109.309105</td>\n      <td>26.128435</td>\n      <td>83.917786</td>\n      <td>283.324158</td>\n      <td>54.442387</td>\n      <td>72.239647</td>\n      <td>28.505764</td>\n      <td>66.827599</td>\n      <td>...</td>\n      <td>183.110001</td>\n      <td>160.236588</td>\n      <td>197.970001</td>\n      <td>112.711700</td>\n      <td>132.563492</td>\n      <td>309.622101</td>\n      <td>44.359245</td>\n      <td>59.628780</td>\n      <td>13.379909</td>\n      <td>191.330002</td>\n    </tr>\n    <tr>\n      <th>2019-09-30</th>\n      <td>54.857212</td>\n      <td>135.370499</td>\n      <td>113.537575</td>\n      <td>26.783880</td>\n      <td>82.822227</td>\n      <td>261.295746</td>\n      <td>56.618961</td>\n      <td>76.059395</td>\n      <td>30.414211</td>\n      <td>66.283928</td>\n      <td>...</td>\n      <td>180.919998</td>\n      <td>159.429108</td>\n      <td>192.970001</td>\n      <td>108.834084</td>\n      <td>129.541702</td>\n      <td>296.877380</td>\n      <td>44.635456</td>\n      <td>65.107201</td>\n      <td>13.640255</td>\n      <td>182.320007</td>\n    </tr>\n    <tr>\n      <th>2019-10-31</th>\n      <td>60.929058</td>\n      <td>139.596237</td>\n      <td>112.179108</td>\n      <td>29.852556</td>\n      <td>83.159760</td>\n      <td>253.517944</td>\n      <td>53.321407</td>\n      <td>87.393929</td>\n      <td>33.655033</td>\n      <td>65.262985</td>\n      <td>...</td>\n      <td>252.289993</td>\n      <td>151.788345</td>\n      <td>186.899994</td>\n      <td>104.595116</td>\n      <td>128.565903</td>\n      <td>290.879852</td>\n      <td>46.591972</td>\n      <td>67.787384</td>\n      <td>13.434475</td>\n      <td>175.960007</td>\n    </tr>\n    <tr>\n      <th>2019-11-29</th>\n      <td>65.654358</td>\n      <td>147.896988</td>\n      <td>113.929825</td>\n      <td>28.634182</td>\n      <td>87.605598</td>\n      <td>254.886444</td>\n      <td>58.065277</td>\n      <td>94.342445</td>\n      <td>33.261734</td>\n      <td>69.609306</td>\n      <td>...</td>\n      <td>277.339996</td>\n      <td>158.824890</td>\n      <td>196.440002</td>\n      <td>98.800339</td>\n      <td>134.801010</td>\n      <td>312.960724</td>\n      <td>44.552124</td>\n      <td>76.101524</td>\n      <td>12.621157</td>\n      <td>211.850006</td>\n    </tr>\n    <tr>\n      <th>2019-12-31</th>\n      <td>72.139954</td>\n      <td>154.071564</td>\n      <td>114.200600</td>\n      <td>28.574404</td>\n      <td>94.757896</td>\n      <td>257.879364</td>\n      <td>57.042141</td>\n      <td>116.535011</td>\n      <td>34.600815</td>\n      <td>71.535187</td>\n      <td>...</td>\n      <td>279.040009</td>\n      <td>167.862122</td>\n      <td>201.940002</td>\n      <td>99.272240</td>\n      <td>136.069702</td>\n      <td>321.157318</td>\n      <td>43.300404</td>\n      <td>83.350082</td>\n      <td>13.855835</td>\n      <td>212.160004</td>\n    </tr>\n  </tbody>\n</table>\n<p>15 rows × 50 columns</p>\n</div>"
     },
     "metadata": {},
     "output_type": "display_data"
    },
    {
     "name": "stdout",
     "output_type": "stream",
     "text": [
      "['AAPL', 'MSFT', 'WMT', 'AAL', 'LDOS', 'INTU', 'HIG', 'SWKS', 'FAST', 'CERN', 'NDAQ', 'RHI', 'ETR', 'AOS', 'VNO', 'CPT', 'HPE', 'EFX', 'AVGO', 'DLTR', 'MLM', 'PSA', 'TXN', 'ALB', 'NVDA', 'AVB', 'DRE', 'TTWO', 'LYB', 'NCLH', 'RCL', 'FISV', 'EQR', 'STX', 'TECH', 'RTX', 'D', 'EMR', 'LRCX', 'SLB', 'ALGN', 'IEX', 'WTW', 'EXR', 'FIS', 'COO', 'UDR', 'BBY', 'NWSA', 'EPAM']\n"
     ]
    }
   ],
   "source": [
    "# 50 stocks\n",
    "dates = ['2018-10-01', '2020-01-01']\n",
    "stocks = df.sample(n=50, random_state=2).loc[:,'Symbol'].values.tolist()\n",
    "if 'AAPL' not in stocks: stocks[0] = 'AAPL'\n",
    "if 'MSFT' not in stocks: stocks[1] = 'MSFT'\n",
    "if 'WMT' not in stocks: stocks[2] = 'WMT'\n",
    "if 'AAL' not in stocks: stocks[3] = 'AAL'\n",
    "\n",
    "print(f'len set stocks: {len(set(stocks))}')\n",
    "panel_data = DataReader(stocks, 'yahoo', dates[0], dates[1])\n",
    "panel_data = panel_data.resample('BM').last()\n",
    "df_all = pd.DataFrame(index=panel_data.index, columns=stocks)\n",
    "for i in stocks:\n",
    "    df_all[i] = panel_data[[('Adj Close', i)]]\n",
    "\n",
    "display(df_all)\n",
    "df_all.to_csv('/Users/bmartins/workbench/dwaveStudy/portfolioOptSolved/data/sp50_data_random.csv')\n",
    "\n",
    "print(stocks)"
   ],
   "metadata": {
    "collapsed": false,
    "pycharm": {
     "name": "#%%\n"
    }
   }
  },
  {
   "cell_type": "code",
   "execution_count": 9,
   "outputs": [
    {
     "name": "stdout",
     "output_type": "stream",
     "text": [
      "len set stocks: 20\n"
     ]
    },
    {
     "data": {
      "text/plain": "                  AAPL        MSFT         WMT        AAL        LDOS  \\\nDate                                                                    \n2021-01-29  130.792435  229.023727  137.259109  17.170000  104.166229   \n2021-02-26  120.366707  229.966843  126.932167  20.940001   86.870659   \n2021-03-31  121.250145  233.321640  133.260330  23.900000   94.901833   \n2021-04-30  130.491547  249.561218  137.263168  21.719999   99.830269   \n2021-05-31  123.902122  247.657730  139.890289  24.240000  101.279221   \n2021-06-30  136.181992  268.705841  138.895493  21.209999   99.970840   \n2021-07-30  145.031403  282.602417  140.402451  20.379999  105.231422   \n2021-08-31  151.193680  300.008209  146.405609  19.940001   97.014229   \n2021-09-30  140.906982  280.171967  137.785370  20.520000   95.405960   \n2021-10-29  149.172180  329.563782  147.710510  19.200001   99.226967   \n2021-11-30  164.847473  329.141235  139.021088  17.690001   87.247871   \n2021-12-31  177.083878  334.846161  143.610535  17.959999   88.586143   \n2022-01-31  174.301498  309.617188  138.766922  16.469999   89.134201   \n2022-02-28  164.877747  298.095703  134.151627  17.250000  101.480453   \n2022-03-31  174.353836  307.593567  148.380646  18.250000  108.019997   \n2022-04-29  157.418701  276.875122  152.435913  18.770000  103.510002   \n2022-05-31  148.839996  271.869995  128.630005  17.870001  104.500000   \n\n                  INTU        HIG        SWKS       FAST       CERN  \\\nDate                                                                  \n2021-01-29  358.922058  46.427040  165.601410  44.129333  78.942551   \n2021-02-26  387.647400  49.341274  174.448776  45.156723  68.132431   \n2021-03-31  380.612610  65.012894  180.001450  48.964413  70.832489   \n2021-04-30  410.114929  64.204979  177.892227  51.189049  74.180099   \n2021-05-31  436.911285  63.951580  167.282562  51.933189  77.343002   \n2021-06-30  487.737854  60.643913  188.684891  50.914890  77.471786   \n2021-07-30  527.955872  62.258606  181.560638  53.903313  79.682144   \n2021-08-31  563.958557  66.126961  181.080353  54.966225  75.677719   \n2021-09-30  537.459595  69.107689  162.642654  50.793320  70.109848   \n2021-10-29  624.405151  71.744102  164.962158  56.458805  73.857925   \n2021-11-30  650.648560  65.392105  150.216278  58.526054  70.040260   \n2021-12-31  641.591492  68.300629  153.663147  63.362835  92.602249   \n2022-01-31  554.467285  71.100319  145.125198  56.063152  90.937057   \n2022-02-28  473.718353  69.112053  137.418777  51.179882  92.981155   \n2022-03-31  480.179474  71.429710  132.555374  59.076664  93.559998   \n2022-04-29  418.750000  69.559669  112.684006  55.310001  93.639999   \n2022-05-31  414.459991  72.510002  108.870003  53.560001  94.849998   \n\n                  NDAQ         RHI         ETR        AOS        VNO  \\\nDate                                                                   \n2021-01-29  133.223801   65.867142   90.224464  53.214329  37.833275   \n2021-02-26  136.198105   76.258240   82.981850  58.182961  40.859177   \n2021-03-31  145.723389   76.532722   95.083572  66.258202  43.190456   \n2021-04-30  159.637558   85.884872  104.470528  66.655869  43.533012   \n2021-05-31  165.487854   87.419090  101.502007  69.922249  45.503860   \n2021-06-30  174.286133   87.596313   96.140503  70.896255  44.916775   \n2021-07-30  185.122009   96.693642   99.245544  69.454407  41.865864   \n2021-08-31  194.094086  102.183456  107.601662  71.814644  40.815475   \n2021-09-30  191.880020   99.149574   96.608994  60.309689  40.942169   \n2021-10-29  208.630493  111.739677  100.218086  72.476135  41.546410   \n2021-11-30  202.029724  110.217003   98.576378  78.407539  39.600868   \n2021-12-31  209.337631  110.564003  110.670021  85.152267  41.297768   \n2022-01-31  178.636261  112.289085  109.805481  76.079758  41.009998   \n2022-02-28  170.602051  119.705017  104.305870  68.274666  43.279999   \n2022-03-31  178.199997  113.624725  115.746704  63.605545  45.320000   \n2022-04-29  157.369995   97.831902  117.828651  58.430000  38.709999   \n2022-05-31  155.259995   90.150002  120.320000  60.119999  34.959999   \n\n                   CPT        HPE         EFX        AVGO        DLTR  \nDate                                                                   \n2021-01-29   99.719582  11.954362  175.614716  443.533997  101.660004  \n2021-02-26  101.672005  14.104986  160.866653  462.604462   98.199997  \n2021-03-31  108.101173  15.372668  179.996140  460.058777  114.459999  \n2021-04-30  118.497223  15.646133  227.795029  452.656738  114.900002  \n2021-05-31  123.316574  15.587534  233.953430  468.661407   97.500000  \n2021-06-30  131.295151  14.349276  238.402771  476.839996   99.500000  \n2021-07-30  147.841873  14.270541  259.395294  485.399994   99.790001  \n2021-08-31  148.485138  15.215350  271.001373  497.209991   90.540001  \n2021-09-30  146.764404  14.140244  252.602936  484.929993   95.720001  \n2021-10-29  162.319626  14.537163  276.535492  531.669983  107.760002  \n2021-11-30  164.419525  14.239474  278.137390  553.679993  133.830002  \n2021-12-31  178.679993  15.770000  292.251373  665.409973  140.520004  \n2022-01-31  160.089996  16.330000  239.318924  585.880005  131.220001  \n2022-02-28  165.110001  15.920000  218.339996  587.440002  142.080002  \n2022-03-31  166.199997  16.709999  237.100006  629.679993  160.149994  \n2022-04-29  156.889999  15.410000  203.520004  554.390015  162.449997  \n2022-05-31  143.490005  15.600000  202.580002  580.130005  160.330002  ",
      "text/html": "<div>\n<style scoped>\n    .dataframe tbody tr th:only-of-type {\n        vertical-align: middle;\n    }\n\n    .dataframe tbody tr th {\n        vertical-align: top;\n    }\n\n    .dataframe thead th {\n        text-align: right;\n    }\n</style>\n<table border=\"1\" class=\"dataframe\">\n  <thead>\n    <tr style=\"text-align: right;\">\n      <th></th>\n      <th>AAPL</th>\n      <th>MSFT</th>\n      <th>WMT</th>\n      <th>AAL</th>\n      <th>LDOS</th>\n      <th>INTU</th>\n      <th>HIG</th>\n      <th>SWKS</th>\n      <th>FAST</th>\n      <th>CERN</th>\n      <th>NDAQ</th>\n      <th>RHI</th>\n      <th>ETR</th>\n      <th>AOS</th>\n      <th>VNO</th>\n      <th>CPT</th>\n      <th>HPE</th>\n      <th>EFX</th>\n      <th>AVGO</th>\n      <th>DLTR</th>\n    </tr>\n    <tr>\n      <th>Date</th>\n      <th></th>\n      <th></th>\n      <th></th>\n      <th></th>\n      <th></th>\n      <th></th>\n      <th></th>\n      <th></th>\n      <th></th>\n      <th></th>\n      <th></th>\n      <th></th>\n      <th></th>\n      <th></th>\n      <th></th>\n      <th></th>\n      <th></th>\n      <th></th>\n      <th></th>\n      <th></th>\n    </tr>\n  </thead>\n  <tbody>\n    <tr>\n      <th>2021-01-29</th>\n      <td>130.792435</td>\n      <td>229.023727</td>\n      <td>137.259109</td>\n      <td>17.170000</td>\n      <td>104.166229</td>\n      <td>358.922058</td>\n      <td>46.427040</td>\n      <td>165.601410</td>\n      <td>44.129333</td>\n      <td>78.942551</td>\n      <td>133.223801</td>\n      <td>65.867142</td>\n      <td>90.224464</td>\n      <td>53.214329</td>\n      <td>37.833275</td>\n      <td>99.719582</td>\n      <td>11.954362</td>\n      <td>175.614716</td>\n      <td>443.533997</td>\n      <td>101.660004</td>\n    </tr>\n    <tr>\n      <th>2021-02-26</th>\n      <td>120.366707</td>\n      <td>229.966843</td>\n      <td>126.932167</td>\n      <td>20.940001</td>\n      <td>86.870659</td>\n      <td>387.647400</td>\n      <td>49.341274</td>\n      <td>174.448776</td>\n      <td>45.156723</td>\n      <td>68.132431</td>\n      <td>136.198105</td>\n      <td>76.258240</td>\n      <td>82.981850</td>\n      <td>58.182961</td>\n      <td>40.859177</td>\n      <td>101.672005</td>\n      <td>14.104986</td>\n      <td>160.866653</td>\n      <td>462.604462</td>\n      <td>98.199997</td>\n    </tr>\n    <tr>\n      <th>2021-03-31</th>\n      <td>121.250145</td>\n      <td>233.321640</td>\n      <td>133.260330</td>\n      <td>23.900000</td>\n      <td>94.901833</td>\n      <td>380.612610</td>\n      <td>65.012894</td>\n      <td>180.001450</td>\n      <td>48.964413</td>\n      <td>70.832489</td>\n      <td>145.723389</td>\n      <td>76.532722</td>\n      <td>95.083572</td>\n      <td>66.258202</td>\n      <td>43.190456</td>\n      <td>108.101173</td>\n      <td>15.372668</td>\n      <td>179.996140</td>\n      <td>460.058777</td>\n      <td>114.459999</td>\n    </tr>\n    <tr>\n      <th>2021-04-30</th>\n      <td>130.491547</td>\n      <td>249.561218</td>\n      <td>137.263168</td>\n      <td>21.719999</td>\n      <td>99.830269</td>\n      <td>410.114929</td>\n      <td>64.204979</td>\n      <td>177.892227</td>\n      <td>51.189049</td>\n      <td>74.180099</td>\n      <td>159.637558</td>\n      <td>85.884872</td>\n      <td>104.470528</td>\n      <td>66.655869</td>\n      <td>43.533012</td>\n      <td>118.497223</td>\n      <td>15.646133</td>\n      <td>227.795029</td>\n      <td>452.656738</td>\n      <td>114.900002</td>\n    </tr>\n    <tr>\n      <th>2021-05-31</th>\n      <td>123.902122</td>\n      <td>247.657730</td>\n      <td>139.890289</td>\n      <td>24.240000</td>\n      <td>101.279221</td>\n      <td>436.911285</td>\n      <td>63.951580</td>\n      <td>167.282562</td>\n      <td>51.933189</td>\n      <td>77.343002</td>\n      <td>165.487854</td>\n      <td>87.419090</td>\n      <td>101.502007</td>\n      <td>69.922249</td>\n      <td>45.503860</td>\n      <td>123.316574</td>\n      <td>15.587534</td>\n      <td>233.953430</td>\n      <td>468.661407</td>\n      <td>97.500000</td>\n    </tr>\n    <tr>\n      <th>2021-06-30</th>\n      <td>136.181992</td>\n      <td>268.705841</td>\n      <td>138.895493</td>\n      <td>21.209999</td>\n      <td>99.970840</td>\n      <td>487.737854</td>\n      <td>60.643913</td>\n      <td>188.684891</td>\n      <td>50.914890</td>\n      <td>77.471786</td>\n      <td>174.286133</td>\n      <td>87.596313</td>\n      <td>96.140503</td>\n      <td>70.896255</td>\n      <td>44.916775</td>\n      <td>131.295151</td>\n      <td>14.349276</td>\n      <td>238.402771</td>\n      <td>476.839996</td>\n      <td>99.500000</td>\n    </tr>\n    <tr>\n      <th>2021-07-30</th>\n      <td>145.031403</td>\n      <td>282.602417</td>\n      <td>140.402451</td>\n      <td>20.379999</td>\n      <td>105.231422</td>\n      <td>527.955872</td>\n      <td>62.258606</td>\n      <td>181.560638</td>\n      <td>53.903313</td>\n      <td>79.682144</td>\n      <td>185.122009</td>\n      <td>96.693642</td>\n      <td>99.245544</td>\n      <td>69.454407</td>\n      <td>41.865864</td>\n      <td>147.841873</td>\n      <td>14.270541</td>\n      <td>259.395294</td>\n      <td>485.399994</td>\n      <td>99.790001</td>\n    </tr>\n    <tr>\n      <th>2021-08-31</th>\n      <td>151.193680</td>\n      <td>300.008209</td>\n      <td>146.405609</td>\n      <td>19.940001</td>\n      <td>97.014229</td>\n      <td>563.958557</td>\n      <td>66.126961</td>\n      <td>181.080353</td>\n      <td>54.966225</td>\n      <td>75.677719</td>\n      <td>194.094086</td>\n      <td>102.183456</td>\n      <td>107.601662</td>\n      <td>71.814644</td>\n      <td>40.815475</td>\n      <td>148.485138</td>\n      <td>15.215350</td>\n      <td>271.001373</td>\n      <td>497.209991</td>\n      <td>90.540001</td>\n    </tr>\n    <tr>\n      <th>2021-09-30</th>\n      <td>140.906982</td>\n      <td>280.171967</td>\n      <td>137.785370</td>\n      <td>20.520000</td>\n      <td>95.405960</td>\n      <td>537.459595</td>\n      <td>69.107689</td>\n      <td>162.642654</td>\n      <td>50.793320</td>\n      <td>70.109848</td>\n      <td>191.880020</td>\n      <td>99.149574</td>\n      <td>96.608994</td>\n      <td>60.309689</td>\n      <td>40.942169</td>\n      <td>146.764404</td>\n      <td>14.140244</td>\n      <td>252.602936</td>\n      <td>484.929993</td>\n      <td>95.720001</td>\n    </tr>\n    <tr>\n      <th>2021-10-29</th>\n      <td>149.172180</td>\n      <td>329.563782</td>\n      <td>147.710510</td>\n      <td>19.200001</td>\n      <td>99.226967</td>\n      <td>624.405151</td>\n      <td>71.744102</td>\n      <td>164.962158</td>\n      <td>56.458805</td>\n      <td>73.857925</td>\n      <td>208.630493</td>\n      <td>111.739677</td>\n      <td>100.218086</td>\n      <td>72.476135</td>\n      <td>41.546410</td>\n      <td>162.319626</td>\n      <td>14.537163</td>\n      <td>276.535492</td>\n      <td>531.669983</td>\n      <td>107.760002</td>\n    </tr>\n    <tr>\n      <th>2021-11-30</th>\n      <td>164.847473</td>\n      <td>329.141235</td>\n      <td>139.021088</td>\n      <td>17.690001</td>\n      <td>87.247871</td>\n      <td>650.648560</td>\n      <td>65.392105</td>\n      <td>150.216278</td>\n      <td>58.526054</td>\n      <td>70.040260</td>\n      <td>202.029724</td>\n      <td>110.217003</td>\n      <td>98.576378</td>\n      <td>78.407539</td>\n      <td>39.600868</td>\n      <td>164.419525</td>\n      <td>14.239474</td>\n      <td>278.137390</td>\n      <td>553.679993</td>\n      <td>133.830002</td>\n    </tr>\n    <tr>\n      <th>2021-12-31</th>\n      <td>177.083878</td>\n      <td>334.846161</td>\n      <td>143.610535</td>\n      <td>17.959999</td>\n      <td>88.586143</td>\n      <td>641.591492</td>\n      <td>68.300629</td>\n      <td>153.663147</td>\n      <td>63.362835</td>\n      <td>92.602249</td>\n      <td>209.337631</td>\n      <td>110.564003</td>\n      <td>110.670021</td>\n      <td>85.152267</td>\n      <td>41.297768</td>\n      <td>178.679993</td>\n      <td>15.770000</td>\n      <td>292.251373</td>\n      <td>665.409973</td>\n      <td>140.520004</td>\n    </tr>\n    <tr>\n      <th>2022-01-31</th>\n      <td>174.301498</td>\n      <td>309.617188</td>\n      <td>138.766922</td>\n      <td>16.469999</td>\n      <td>89.134201</td>\n      <td>554.467285</td>\n      <td>71.100319</td>\n      <td>145.125198</td>\n      <td>56.063152</td>\n      <td>90.937057</td>\n      <td>178.636261</td>\n      <td>112.289085</td>\n      <td>109.805481</td>\n      <td>76.079758</td>\n      <td>41.009998</td>\n      <td>160.089996</td>\n      <td>16.330000</td>\n      <td>239.318924</td>\n      <td>585.880005</td>\n      <td>131.220001</td>\n    </tr>\n    <tr>\n      <th>2022-02-28</th>\n      <td>164.877747</td>\n      <td>298.095703</td>\n      <td>134.151627</td>\n      <td>17.250000</td>\n      <td>101.480453</td>\n      <td>473.718353</td>\n      <td>69.112053</td>\n      <td>137.418777</td>\n      <td>51.179882</td>\n      <td>92.981155</td>\n      <td>170.602051</td>\n      <td>119.705017</td>\n      <td>104.305870</td>\n      <td>68.274666</td>\n      <td>43.279999</td>\n      <td>165.110001</td>\n      <td>15.920000</td>\n      <td>218.339996</td>\n      <td>587.440002</td>\n      <td>142.080002</td>\n    </tr>\n    <tr>\n      <th>2022-03-31</th>\n      <td>174.353836</td>\n      <td>307.593567</td>\n      <td>148.380646</td>\n      <td>18.250000</td>\n      <td>108.019997</td>\n      <td>480.179474</td>\n      <td>71.429710</td>\n      <td>132.555374</td>\n      <td>59.076664</td>\n      <td>93.559998</td>\n      <td>178.199997</td>\n      <td>113.624725</td>\n      <td>115.746704</td>\n      <td>63.605545</td>\n      <td>45.320000</td>\n      <td>166.199997</td>\n      <td>16.709999</td>\n      <td>237.100006</td>\n      <td>629.679993</td>\n      <td>160.149994</td>\n    </tr>\n    <tr>\n      <th>2022-04-29</th>\n      <td>157.418701</td>\n      <td>276.875122</td>\n      <td>152.435913</td>\n      <td>18.770000</td>\n      <td>103.510002</td>\n      <td>418.750000</td>\n      <td>69.559669</td>\n      <td>112.684006</td>\n      <td>55.310001</td>\n      <td>93.639999</td>\n      <td>157.369995</td>\n      <td>97.831902</td>\n      <td>117.828651</td>\n      <td>58.430000</td>\n      <td>38.709999</td>\n      <td>156.889999</td>\n      <td>15.410000</td>\n      <td>203.520004</td>\n      <td>554.390015</td>\n      <td>162.449997</td>\n    </tr>\n    <tr>\n      <th>2022-05-31</th>\n      <td>148.839996</td>\n      <td>271.869995</td>\n      <td>128.630005</td>\n      <td>17.870001</td>\n      <td>104.500000</td>\n      <td>414.459991</td>\n      <td>72.510002</td>\n      <td>108.870003</td>\n      <td>53.560001</td>\n      <td>94.849998</td>\n      <td>155.259995</td>\n      <td>90.150002</td>\n      <td>120.320000</td>\n      <td>60.119999</td>\n      <td>34.959999</td>\n      <td>143.490005</td>\n      <td>15.600000</td>\n      <td>202.580002</td>\n      <td>580.130005</td>\n      <td>160.330002</td>\n    </tr>\n  </tbody>\n</table>\n</div>"
     },
     "metadata": {},
     "output_type": "display_data"
    },
    {
     "name": "stdout",
     "output_type": "stream",
     "text": [
      "['AAPL', 'MSFT', 'WMT', 'AAL', 'LDOS', 'INTU', 'HIG', 'SWKS', 'FAST', 'CERN', 'NDAQ', 'RHI', 'ETR', 'AOS', 'VNO', 'CPT', 'HPE', 'EFX', 'AVGO', 'DLTR']\n"
     ]
    }
   ],
   "source": [
    "# 20 stocks\n",
    "dates = ['2021-01-01', '2022-05-31']\n",
    "stocks = df.sample(n=20, random_state=2).loc[:,'Symbol'].values.tolist()\n",
    "if 'AAPL' not in stocks: stocks[0] = 'AAPL'\n",
    "if 'MSFT' not in stocks: stocks[1] = 'MSFT'\n",
    "if 'WMT' not in stocks: stocks[2] = 'WMT'\n",
    "if 'AAL' not in stocks: stocks[3] = 'AAL'\n",
    "\n",
    "print(f'len set stocks: {len(set(stocks))}')\n",
    "panel_data = DataReader(stocks, 'yahoo', dates[0], dates[1])\n",
    "panel_data = panel_data.resample('BM').last()\n",
    "df_all = pd.DataFrame(index=panel_data.index, columns=stocks)\n",
    "for i in stocks:\n",
    "    df_all[i] = panel_data[[('Adj Close', i)]]\n",
    "\n",
    "display(df_all)\n",
    "df_all.to_csv('/Users/bmartins/workbench/dwaveStudy/portfolioOptSolved/data/sp20_data_random.csv')\n",
    "\n",
    "print(stocks)"
   ],
   "metadata": {
    "collapsed": false,
    "pycharm": {
     "name": "#%%\n"
    }
   }
  },
  {
   "cell_type": "code",
   "execution_count": 18,
   "outputs": [
    {
     "name": "stdout",
     "output_type": "stream",
     "text": [
      "len set stocks: 20\n"
     ]
    },
    {
     "data": {
      "text/plain": "                  AAPL        MSFT        AAL         WMT         MMM  \\\nDate                                                                    \n2021-01-29  131.539673  230.893845  17.170000  138.290848  168.625763   \n2021-02-26  121.054382  231.844650  20.940001  127.886276  169.434601   \n2021-03-31  121.942871  235.226837  23.900000  134.262024  186.488388   \n2021-04-30  131.237091  251.599030  21.719999  138.294922  190.805084   \n2021-05-31  124.610001  249.679993  24.240000  140.941788  197.961609   \n2021-06-30  136.960007  270.899994  21.209999  139.939514  193.661911   \n2021-07-30  145.860001  284.910004  20.379999  141.457794  192.989166   \n2021-08-31  151.830002  301.880005  19.940001  147.506088  191.318588   \n2021-09-30  141.500000  281.920013  20.520000  138.821060  172.338028   \n2021-10-29  149.800003  331.619995  19.200001  148.820801  175.540741   \n2021-11-30  165.300003  330.589996  17.690001  140.066055  168.412033   \n2021-12-31  177.570007  336.320007  17.959999  144.690002  175.929382   \n2022-01-31  174.779999  310.980011  16.469999  139.809998  164.430527   \n2022-02-28  165.119995  298.790009  17.250000  135.160004  148.649994   \n2022-03-31  174.610001  308.309998  18.250000  148.919998  148.880005   \n2022-04-29  157.649994  277.519989  18.770000  152.990005  144.220001   \n2022-05-31  148.839996  271.869995  17.870001  128.630005  149.289993   \n\n                  AIG        GOOGL         AMD         BLK         KO  \\\nDate                                                                    \n2021-01-29  36.531433  1827.359985   85.639999  687.700684  46.678406   \n2021-02-26  42.883453  2021.910034   84.510002  681.071350  47.492737   \n2021-03-31  45.388451  2062.520020   78.500000  743.760559  51.524357   \n2021-04-30  47.588627  2353.500000   81.620003  808.216614  52.765793   \n2021-05-31  51.900578  2356.850098   80.080002  865.175476  54.046329   \n2021-06-30  47.043125  2441.790039   93.930000  867.169189  53.291416   \n2021-07-30  46.796051  2694.530029  106.190002  859.438782  56.167240   \n2021-08-31  53.921700  2893.949951  110.720001  934.880127  55.458134   \n2021-09-30  54.568653  2673.520020  102.900002  834.809570  52.066238   \n2021-10-29  58.744064  2960.919922  120.230003  939.128479  55.936226   \n2021-11-30  52.292057  2837.949951  158.369995  900.456848  52.450001   \n2021-12-31  56.860001  2897.040039  143.899994  915.559998  59.209999   \n2022-01-31  57.750000  2706.070068  114.250000  822.940002  61.009998   \n2022-02-28  61.240002  2701.139893  123.339996  743.890015  62.240002   \n2022-03-31  62.770000  2781.350098  109.339996  764.169983  62.000000   \n2022-04-29  58.509998  2282.189941   85.519997  624.679993  64.610001   \n2022-05-31  58.680000  2275.239990  101.860001  669.080017  63.380001   \n\n                    GE         GM       INTC         JNJ         JPM  \\\nDate                                                                   \n2021-01-29   85.282967  50.680000  54.837341  158.105011  125.668625   \n2021-02-26  100.135612  51.330002  60.407940  154.536545  143.737076   \n2021-03-31  104.856598  57.459999  63.608231  160.280701  148.679047   \n2021-04-30  104.776733  57.220001  57.177834  158.700790  151.106964   \n2021-05-31  112.283615  59.310001  57.119999  166.089172  161.353683   \n2021-06-30  107.502205  59.169998  56.139999  161.663391  152.806564   \n2021-07-30  103.428940  56.840000  53.720001  168.984070  149.971909   \n2021-08-31  105.235954  49.009998  54.060001  170.906296  158.044586   \n2021-09-30  102.939865  52.709999  53.279999  159.425659  161.740036   \n2021-10-29  104.778259  54.430000  49.000000  160.787949  168.877716   \n2021-11-30   94.906898  57.869999  49.200001  154.935440  157.883621   \n2021-12-31   94.470001  58.630001  51.500000  169.978882  157.406494   \n2022-01-31   94.480003  52.730000  48.820000  171.191086  148.600006   \n2022-02-28   95.510002  46.720001  47.700001  164.570007  141.800003   \n2022-03-31   91.500000  43.740002  49.560001  177.229996  136.320007   \n2022-04-29   74.550003  37.910000  43.590000  180.460007  119.360001   \n2022-05-31   78.290001  38.680000  44.419998  179.529999  132.229996   \n\n                CMCSA          MA         MCD        NDAQ        PFE  \nDate                                                                  \n2021-01-29  49.132698  314.732025  202.063751  134.381012  34.660534  \n2021-02-26  52.254913  352.107025  201.644104  137.381149  32.333744  \n2021-03-31  53.632652  354.296173  219.251526  146.989166  34.979141  \n2021-04-30  55.909714  380.629395  230.931122  161.024185  37.315594  \n2021-05-31  57.094620  359.229797  230.052460  166.925308  37.761280  \n2021-06-30  56.775990  363.722931  227.200058  175.800003  38.180527  \n2021-07-30  58.830002  384.947815  238.727768  186.729996  42.117268  \n2021-08-31  60.680000  345.339935  234.844376  195.779999  45.324516  \n2021-09-30  55.930000  346.786163  238.454163  193.020004  42.314030  \n2021-10-29  51.430000  335.080292  242.845276  209.869995  43.032223  \n2021-11-30  49.980000  314.507294  243.246841  203.229996  53.324566  \n2021-12-31  50.330002  358.849121  266.587006  210.009995  58.604420  \n2022-01-31  49.990002  386.380005  258.014709  179.210007  52.689999  \n2022-02-28  46.759998  360.820007  244.770004  171.149994  46.939999  \n2022-03-31  46.820000  357.380005  247.279999  178.199997  51.770000  \n2022-04-29  39.759998  363.380005  249.160004  157.369995  49.070000  \n2022-05-31  44.279999  357.869995  252.210007  155.259995  53.040001  ",
      "text/html": "<div>\n<style scoped>\n    .dataframe tbody tr th:only-of-type {\n        vertical-align: middle;\n    }\n\n    .dataframe tbody tr th {\n        vertical-align: top;\n    }\n\n    .dataframe thead th {\n        text-align: right;\n    }\n</style>\n<table border=\"1\" class=\"dataframe\">\n  <thead>\n    <tr style=\"text-align: right;\">\n      <th></th>\n      <th>AAPL</th>\n      <th>MSFT</th>\n      <th>AAL</th>\n      <th>WMT</th>\n      <th>MMM</th>\n      <th>AIG</th>\n      <th>GOOGL</th>\n      <th>AMD</th>\n      <th>BLK</th>\n      <th>KO</th>\n      <th>GE</th>\n      <th>GM</th>\n      <th>INTC</th>\n      <th>JNJ</th>\n      <th>JPM</th>\n      <th>CMCSA</th>\n      <th>MA</th>\n      <th>MCD</th>\n      <th>NDAQ</th>\n      <th>PFE</th>\n    </tr>\n    <tr>\n      <th>Date</th>\n      <th></th>\n      <th></th>\n      <th></th>\n      <th></th>\n      <th></th>\n      <th></th>\n      <th></th>\n      <th></th>\n      <th></th>\n      <th></th>\n      <th></th>\n      <th></th>\n      <th></th>\n      <th></th>\n      <th></th>\n      <th></th>\n      <th></th>\n      <th></th>\n      <th></th>\n      <th></th>\n    </tr>\n  </thead>\n  <tbody>\n    <tr>\n      <th>2021-01-29</th>\n      <td>131.539673</td>\n      <td>230.893845</td>\n      <td>17.170000</td>\n      <td>138.290848</td>\n      <td>168.625763</td>\n      <td>36.531433</td>\n      <td>1827.359985</td>\n      <td>85.639999</td>\n      <td>687.700684</td>\n      <td>46.678406</td>\n      <td>85.282967</td>\n      <td>50.680000</td>\n      <td>54.837341</td>\n      <td>158.105011</td>\n      <td>125.668625</td>\n      <td>49.132698</td>\n      <td>314.732025</td>\n      <td>202.063751</td>\n      <td>134.381012</td>\n      <td>34.660534</td>\n    </tr>\n    <tr>\n      <th>2021-02-26</th>\n      <td>121.054382</td>\n      <td>231.844650</td>\n      <td>20.940001</td>\n      <td>127.886276</td>\n      <td>169.434601</td>\n      <td>42.883453</td>\n      <td>2021.910034</td>\n      <td>84.510002</td>\n      <td>681.071350</td>\n      <td>47.492737</td>\n      <td>100.135612</td>\n      <td>51.330002</td>\n      <td>60.407940</td>\n      <td>154.536545</td>\n      <td>143.737076</td>\n      <td>52.254913</td>\n      <td>352.107025</td>\n      <td>201.644104</td>\n      <td>137.381149</td>\n      <td>32.333744</td>\n    </tr>\n    <tr>\n      <th>2021-03-31</th>\n      <td>121.942871</td>\n      <td>235.226837</td>\n      <td>23.900000</td>\n      <td>134.262024</td>\n      <td>186.488388</td>\n      <td>45.388451</td>\n      <td>2062.520020</td>\n      <td>78.500000</td>\n      <td>743.760559</td>\n      <td>51.524357</td>\n      <td>104.856598</td>\n      <td>57.459999</td>\n      <td>63.608231</td>\n      <td>160.280701</td>\n      <td>148.679047</td>\n      <td>53.632652</td>\n      <td>354.296173</td>\n      <td>219.251526</td>\n      <td>146.989166</td>\n      <td>34.979141</td>\n    </tr>\n    <tr>\n      <th>2021-04-30</th>\n      <td>131.237091</td>\n      <td>251.599030</td>\n      <td>21.719999</td>\n      <td>138.294922</td>\n      <td>190.805084</td>\n      <td>47.588627</td>\n      <td>2353.500000</td>\n      <td>81.620003</td>\n      <td>808.216614</td>\n      <td>52.765793</td>\n      <td>104.776733</td>\n      <td>57.220001</td>\n      <td>57.177834</td>\n      <td>158.700790</td>\n      <td>151.106964</td>\n      <td>55.909714</td>\n      <td>380.629395</td>\n      <td>230.931122</td>\n      <td>161.024185</td>\n      <td>37.315594</td>\n    </tr>\n    <tr>\n      <th>2021-05-31</th>\n      <td>124.610001</td>\n      <td>249.679993</td>\n      <td>24.240000</td>\n      <td>140.941788</td>\n      <td>197.961609</td>\n      <td>51.900578</td>\n      <td>2356.850098</td>\n      <td>80.080002</td>\n      <td>865.175476</td>\n      <td>54.046329</td>\n      <td>112.283615</td>\n      <td>59.310001</td>\n      <td>57.119999</td>\n      <td>166.089172</td>\n      <td>161.353683</td>\n      <td>57.094620</td>\n      <td>359.229797</td>\n      <td>230.052460</td>\n      <td>166.925308</td>\n      <td>37.761280</td>\n    </tr>\n    <tr>\n      <th>2021-06-30</th>\n      <td>136.960007</td>\n      <td>270.899994</td>\n      <td>21.209999</td>\n      <td>139.939514</td>\n      <td>193.661911</td>\n      <td>47.043125</td>\n      <td>2441.790039</td>\n      <td>93.930000</td>\n      <td>867.169189</td>\n      <td>53.291416</td>\n      <td>107.502205</td>\n      <td>59.169998</td>\n      <td>56.139999</td>\n      <td>161.663391</td>\n      <td>152.806564</td>\n      <td>56.775990</td>\n      <td>363.722931</td>\n      <td>227.200058</td>\n      <td>175.800003</td>\n      <td>38.180527</td>\n    </tr>\n    <tr>\n      <th>2021-07-30</th>\n      <td>145.860001</td>\n      <td>284.910004</td>\n      <td>20.379999</td>\n      <td>141.457794</td>\n      <td>192.989166</td>\n      <td>46.796051</td>\n      <td>2694.530029</td>\n      <td>106.190002</td>\n      <td>859.438782</td>\n      <td>56.167240</td>\n      <td>103.428940</td>\n      <td>56.840000</td>\n      <td>53.720001</td>\n      <td>168.984070</td>\n      <td>149.971909</td>\n      <td>58.830002</td>\n      <td>384.947815</td>\n      <td>238.727768</td>\n      <td>186.729996</td>\n      <td>42.117268</td>\n    </tr>\n    <tr>\n      <th>2021-08-31</th>\n      <td>151.830002</td>\n      <td>301.880005</td>\n      <td>19.940001</td>\n      <td>147.506088</td>\n      <td>191.318588</td>\n      <td>53.921700</td>\n      <td>2893.949951</td>\n      <td>110.720001</td>\n      <td>934.880127</td>\n      <td>55.458134</td>\n      <td>105.235954</td>\n      <td>49.009998</td>\n      <td>54.060001</td>\n      <td>170.906296</td>\n      <td>158.044586</td>\n      <td>60.680000</td>\n      <td>345.339935</td>\n      <td>234.844376</td>\n      <td>195.779999</td>\n      <td>45.324516</td>\n    </tr>\n    <tr>\n      <th>2021-09-30</th>\n      <td>141.500000</td>\n      <td>281.920013</td>\n      <td>20.520000</td>\n      <td>138.821060</td>\n      <td>172.338028</td>\n      <td>54.568653</td>\n      <td>2673.520020</td>\n      <td>102.900002</td>\n      <td>834.809570</td>\n      <td>52.066238</td>\n      <td>102.939865</td>\n      <td>52.709999</td>\n      <td>53.279999</td>\n      <td>159.425659</td>\n      <td>161.740036</td>\n      <td>55.930000</td>\n      <td>346.786163</td>\n      <td>238.454163</td>\n      <td>193.020004</td>\n      <td>42.314030</td>\n    </tr>\n    <tr>\n      <th>2021-10-29</th>\n      <td>149.800003</td>\n      <td>331.619995</td>\n      <td>19.200001</td>\n      <td>148.820801</td>\n      <td>175.540741</td>\n      <td>58.744064</td>\n      <td>2960.919922</td>\n      <td>120.230003</td>\n      <td>939.128479</td>\n      <td>55.936226</td>\n      <td>104.778259</td>\n      <td>54.430000</td>\n      <td>49.000000</td>\n      <td>160.787949</td>\n      <td>168.877716</td>\n      <td>51.430000</td>\n      <td>335.080292</td>\n      <td>242.845276</td>\n      <td>209.869995</td>\n      <td>43.032223</td>\n    </tr>\n    <tr>\n      <th>2021-11-30</th>\n      <td>165.300003</td>\n      <td>330.589996</td>\n      <td>17.690001</td>\n      <td>140.066055</td>\n      <td>168.412033</td>\n      <td>52.292057</td>\n      <td>2837.949951</td>\n      <td>158.369995</td>\n      <td>900.456848</td>\n      <td>52.450001</td>\n      <td>94.906898</td>\n      <td>57.869999</td>\n      <td>49.200001</td>\n      <td>154.935440</td>\n      <td>157.883621</td>\n      <td>49.980000</td>\n      <td>314.507294</td>\n      <td>243.246841</td>\n      <td>203.229996</td>\n      <td>53.324566</td>\n    </tr>\n    <tr>\n      <th>2021-12-31</th>\n      <td>177.570007</td>\n      <td>336.320007</td>\n      <td>17.959999</td>\n      <td>144.690002</td>\n      <td>175.929382</td>\n      <td>56.860001</td>\n      <td>2897.040039</td>\n      <td>143.899994</td>\n      <td>915.559998</td>\n      <td>59.209999</td>\n      <td>94.470001</td>\n      <td>58.630001</td>\n      <td>51.500000</td>\n      <td>169.978882</td>\n      <td>157.406494</td>\n      <td>50.330002</td>\n      <td>358.849121</td>\n      <td>266.587006</td>\n      <td>210.009995</td>\n      <td>58.604420</td>\n    </tr>\n    <tr>\n      <th>2022-01-31</th>\n      <td>174.779999</td>\n      <td>310.980011</td>\n      <td>16.469999</td>\n      <td>139.809998</td>\n      <td>164.430527</td>\n      <td>57.750000</td>\n      <td>2706.070068</td>\n      <td>114.250000</td>\n      <td>822.940002</td>\n      <td>61.009998</td>\n      <td>94.480003</td>\n      <td>52.730000</td>\n      <td>48.820000</td>\n      <td>171.191086</td>\n      <td>148.600006</td>\n      <td>49.990002</td>\n      <td>386.380005</td>\n      <td>258.014709</td>\n      <td>179.210007</td>\n      <td>52.689999</td>\n    </tr>\n    <tr>\n      <th>2022-02-28</th>\n      <td>165.119995</td>\n      <td>298.790009</td>\n      <td>17.250000</td>\n      <td>135.160004</td>\n      <td>148.649994</td>\n      <td>61.240002</td>\n      <td>2701.139893</td>\n      <td>123.339996</td>\n      <td>743.890015</td>\n      <td>62.240002</td>\n      <td>95.510002</td>\n      <td>46.720001</td>\n      <td>47.700001</td>\n      <td>164.570007</td>\n      <td>141.800003</td>\n      <td>46.759998</td>\n      <td>360.820007</td>\n      <td>244.770004</td>\n      <td>171.149994</td>\n      <td>46.939999</td>\n    </tr>\n    <tr>\n      <th>2022-03-31</th>\n      <td>174.610001</td>\n      <td>308.309998</td>\n      <td>18.250000</td>\n      <td>148.919998</td>\n      <td>148.880005</td>\n      <td>62.770000</td>\n      <td>2781.350098</td>\n      <td>109.339996</td>\n      <td>764.169983</td>\n      <td>62.000000</td>\n      <td>91.500000</td>\n      <td>43.740002</td>\n      <td>49.560001</td>\n      <td>177.229996</td>\n      <td>136.320007</td>\n      <td>46.820000</td>\n      <td>357.380005</td>\n      <td>247.279999</td>\n      <td>178.199997</td>\n      <td>51.770000</td>\n    </tr>\n    <tr>\n      <th>2022-04-29</th>\n      <td>157.649994</td>\n      <td>277.519989</td>\n      <td>18.770000</td>\n      <td>152.990005</td>\n      <td>144.220001</td>\n      <td>58.509998</td>\n      <td>2282.189941</td>\n      <td>85.519997</td>\n      <td>624.679993</td>\n      <td>64.610001</td>\n      <td>74.550003</td>\n      <td>37.910000</td>\n      <td>43.590000</td>\n      <td>180.460007</td>\n      <td>119.360001</td>\n      <td>39.759998</td>\n      <td>363.380005</td>\n      <td>249.160004</td>\n      <td>157.369995</td>\n      <td>49.070000</td>\n    </tr>\n    <tr>\n      <th>2022-05-31</th>\n      <td>148.839996</td>\n      <td>271.869995</td>\n      <td>17.870001</td>\n      <td>128.630005</td>\n      <td>149.289993</td>\n      <td>58.680000</td>\n      <td>2275.239990</td>\n      <td>101.860001</td>\n      <td>669.080017</td>\n      <td>63.380001</td>\n      <td>78.290001</td>\n      <td>38.680000</td>\n      <td>44.419998</td>\n      <td>179.529999</td>\n      <td>132.229996</td>\n      <td>44.279999</td>\n      <td>357.869995</td>\n      <td>252.210007</td>\n      <td>155.259995</td>\n      <td>53.040001</td>\n    </tr>\n  </tbody>\n</table>\n</div>"
     },
     "metadata": {},
     "output_type": "display_data"
    },
    {
     "name": "stdout",
     "output_type": "stream",
     "text": [
      "['AAPL', 'MSFT', 'AAL', 'WMT', 'MMM', 'AIG', 'GOOGL', 'AMD', 'BLK', 'KO', 'GE', 'GM', 'INTC', 'JNJ', 'JPM', 'CMCSA', 'MA', 'MCD', 'NDAQ', 'PFE']\n"
     ]
    }
   ],
   "source": [
    "# 20 stocks selected\n",
    "stocks=['AAPL', 'MSFT', 'AAL', 'WMT', 'MMM', 'AIG', 'GOOGL', 'AMD', 'BLK', 'KO', 'GE', 'GM', 'INTC', 'JNJ', 'JPM', 'CMCSA', 'MA', 'MCD', 'NDAQ', 'PFE']\n",
    "dates = ['2021-01-01', '2022-05-31']\n",
    "#dates = ['2010-01-01', '2012-12-31']\n",
    "\n",
    "print(f'len set stocks: {len(set(stocks))}')\n",
    "panel_data = DataReader(stocks, 'yahoo', dates[0], dates[1])\n",
    "panel_data = panel_data.resample('BM').last()\n",
    "df_all = pd.DataFrame(index=panel_data.index, columns=stocks)\n",
    "for i in stocks:\n",
    "    df_all[i] = panel_data[[('Adj Close', i)]]\n",
    "\n",
    "display(df_all)\n",
    "df_all.to_csv('/Users/bmartins/workbench/dwaveStudy/portfolioOptSolved/data/sp20_data_selected.csv')\n",
    "\n",
    "print(stocks)"
   ],
   "metadata": {
    "collapsed": false,
    "pycharm": {
     "name": "#%%\n"
    }
   }
  },
  {
   "cell_type": "code",
   "execution_count": null,
   "outputs": [],
   "source": [
    "# 100 stocks\n",
    "dates = ['2021-01-01', '2022-05-31']\n",
    "stocks = df.sample(n=100, random_state=2).loc[:,'Symbol'].values.tolist()\n",
    "if 'AAPL' not in stocks: stocks[0] = 'AAPL'\n",
    "if 'MSFT' not in stocks: stocks[1] = 'MSFT'\n",
    "if 'WMT' not in stocks: stocks[2] = 'WMT'\n",
    "if 'AAL' not in stocks: stocks[3] = 'AAL'\n",
    "#if 'OGN' in stocks:\n",
    "\n",
    "print(f'len set stocks: {len(set(stocks))}')\n",
    "panel_data = DataReader(stocks, 'yahoo', dates[0], dates[1])\n",
    "panel_data = panel_data.resample('BM').last()\n",
    "df_all = pd.DataFrame(index=panel_data.index, columns=stocks)\n",
    "for i in stocks:\n",
    "    df_all[i] = panel_data[[('Adj Close', i)]]\n",
    "\n",
    "display(df_all)\n",
    "df_all.to_csv('/Users/bmartins/workbench/dwaveStudy/portfolioOptSolved/data/sp100_data_random.csv')\n",
    "\n",
    "print(stocks)"
   ],
   "metadata": {
    "collapsed": false,
    "pycharm": {
     "name": "#%%\n"
    }
   }
  },
  {
   "cell_type": "code",
   "execution_count": null,
   "outputs": [],
   "source": [
    "# 100 stocks\n",
    "dates = ['2018-10-01', '2020-01-01']\n",
    "stocks = df.sample(n=100, random_state=2).loc[:,'Symbol'].values.tolist()\n",
    "if 'AAPL' not in stocks: stocks[0] = 'AAPL'\n",
    "if 'MSFT' not in stocks: stocks[1] = 'MSFT'\n",
    "if 'WMT' not in stocks: stocks[2] = 'WMT'\n",
    "if 'AAL' not in stocks: stocks[3] = 'AAL'\n",
    "#if 'OGN' in stocks:\n",
    "\n",
    "print(f'len set stocks: {len(set(stocks))}')\n",
    "panel_data = DataReader(stocks, 'yahoo', dates[0], dates[1])\n",
    "panel_data = panel_data.resample('BM').last()\n",
    "df_all = pd.DataFrame(index=panel_data.index, columns=stocks)\n",
    "for i in stocks:\n",
    "    df_all[i] = panel_data[[('Adj Close', i)]]\n",
    "\n",
    "display(df_all)\n",
    "df_all.to_csv('/Users/bmartins/workbench/dwaveStudy/portfolioOptSolved/data/sp100_data_random.csv')\n",
    "\n",
    "print(stocks)"
   ],
   "metadata": {
    "collapsed": false,
    "pycharm": {
     "name": "#%%\n",
     "is_executing": true
    }
   }
  },
  {
   "cell_type": "code",
   "execution_count": 206,
   "outputs": [
    {
     "name": "stdout",
     "output_type": "stream",
     "text": [
      "[*********************100%***********************]  503 of 503 completed\n",
      "\n",
      "2 Failed downloads:\n",
      "- BF.B: No data found for this date range, symbol may be delisted\n",
      "- BRK.B: No data found, symbol may be delisted\n"
     ]
    }
   ],
   "source": [
    "\n",
    "import yfinance\n",
    "\n",
    "#def calc_stocks_minute(stocks, dates):\n",
    "a = yfinance.download(tickers=\" \".join(stocks), start=\"2022-06-22\", end=\"2022-06-23\",interval=\"1m\")\n",
    "    # df = pd.DataFrame(index=panel_data.index, columns=stocks)\n",
    "    # for i in stocks:\n",
    "    #     df[i] = panel_data[[('Adj Close', i)]]\n",
    "    # return df\n"
   ],
   "metadata": {
    "collapsed": false,
    "pycharm": {
     "name": "#%%\n"
    }
   }
  },
  {
   "cell_type": "code",
   "execution_count": 207,
   "outputs": [
    {
     "data": {
      "text/plain": "                     Datetime   Adj Close                                   \\\n                                        A      AAL         AAP        AAPL   \n0   2022-06-22 09:30:00-04:00  113.209999  12.8200  170.750000  134.309998   \n1   2022-06-22 09:31:00-04:00  113.294998  12.9999  170.119995  134.820007   \n2   2022-06-22 09:32:00-04:00  113.540001  13.1550  172.699997  134.690002   \n3   2022-06-22 09:33:00-04:00  113.650002  13.1000  172.687195  134.679993   \n4   2022-06-22 09:34:00-04:00  113.190002  13.0350         NaN  134.604996   \n..                        ...         ...      ...         ...         ...   \n384 2022-06-22 15:55:00-04:00  113.989998  13.1350  175.339996  135.860001   \n385 2022-06-22 15:56:00-04:00  114.014999  13.1200  175.130005  135.774399   \n386 2022-06-22 15:57:00-04:00  113.919998  13.1217  174.960007  135.740005   \n387 2022-06-22 15:58:00-04:00  113.889999  13.1100  174.750000  135.585007   \n388 2022-06-22 15:59:00-04:00  113.779999  13.1000  174.610001  135.309998   \n\n                                                                 ...   Volume  \\\n           ABBV         ABC        ABMD         ABT         ACN  ...     WYNN   \n0    144.270004  142.595001  228.354996  103.540001  279.410004  ...  65696.0   \n1    145.179993  143.429993  230.735001  103.980003  280.829987  ...  20610.0   \n2    145.169998  143.389999  228.389999  104.160004  281.730011  ...  24944.0   \n3    145.147995  143.679993         NaN  104.300003  281.126495  ...   2218.0   \n4    145.201004  143.289993  230.600006  103.959999  280.049988  ...  12805.0   \n..          ...         ...         ...         ...         ...  ...      ...   \n384  147.949997  145.460007  236.720001  105.705002  287.709991  ...  22219.0   \n385  147.970001  145.494995  236.695007  105.650002  287.725006  ...  20368.0   \n386  147.985001  145.389999  236.570007  105.629997  287.609985  ...  18531.0   \n387  147.669998  145.169998  236.399994  105.540001  287.265015  ...  29471.0   \n388  147.529999  144.949997  236.149994  105.410004  286.589996  ...  45011.0   \n\n                                                                               \\\n          XEL       XOM     XRAY      XYL      YUM      ZBH     ZBRA     ZION   \n0     40876.0  802326.0  16511.0  19413.0  46904.0  20935.0   5131.0   6889.0   \n1      5012.0  782486.0   2898.0   1777.0   2868.0   2955.0    440.0   1650.0   \n2      4909.0  570744.0   1608.0   1804.0   2229.0   1068.0    100.0   1471.0   \n3      1929.0  115046.0    700.0    574.0    974.0    400.0   1186.0    100.0   \n4      4680.0  573167.0   3128.0   8119.0   4135.0  10971.0      NaN   1889.0   \n..        ...       ...      ...      ...      ...      ...      ...      ...   \n384   47095.0  243095.0  20299.0  13555.0  19415.0  15882.0   4186.0  22684.0   \n385   73611.0  200589.0  15759.0  13708.0  14666.0  16379.0   7623.0  18930.0   \n386   56185.0  140935.0  12728.0   9789.0  15986.0  14566.0   5939.0  17215.0   \n387   90750.0  179140.0  14581.0  13557.0  16234.0  41415.0   3098.0  29871.0   \n388  103108.0  923246.0  44316.0  36085.0  32180.0  37513.0  13782.0  46632.0   \n\n              \n         ZTS  \n0    20233.0  \n1     7468.0  \n2     4946.0  \n3      386.0  \n4     3812.0  \n..       ...  \n384  20164.0  \n385  19883.0  \n386  15115.0  \n387  31630.0  \n388  50083.0  \n\n[389 rows x 3019 columns]",
      "text/html": "<div>\n<style scoped>\n    .dataframe tbody tr th:only-of-type {\n        vertical-align: middle;\n    }\n\n    .dataframe tbody tr th {\n        vertical-align: top;\n    }\n\n    .dataframe thead tr th {\n        text-align: left;\n    }\n</style>\n<table border=\"1\" class=\"dataframe\">\n  <thead>\n    <tr>\n      <th></th>\n      <th>Datetime</th>\n      <th colspan=\"9\" halign=\"left\">Adj Close</th>\n      <th>...</th>\n      <th colspan=\"10\" halign=\"left\">Volume</th>\n    </tr>\n    <tr>\n      <th></th>\n      <th></th>\n      <th>A</th>\n      <th>AAL</th>\n      <th>AAP</th>\n      <th>AAPL</th>\n      <th>ABBV</th>\n      <th>ABC</th>\n      <th>ABMD</th>\n      <th>ABT</th>\n      <th>ACN</th>\n      <th>...</th>\n      <th>WYNN</th>\n      <th>XEL</th>\n      <th>XOM</th>\n      <th>XRAY</th>\n      <th>XYL</th>\n      <th>YUM</th>\n      <th>ZBH</th>\n      <th>ZBRA</th>\n      <th>ZION</th>\n      <th>ZTS</th>\n    </tr>\n  </thead>\n  <tbody>\n    <tr>\n      <th>0</th>\n      <td>2022-06-22 09:30:00-04:00</td>\n      <td>113.209999</td>\n      <td>12.8200</td>\n      <td>170.750000</td>\n      <td>134.309998</td>\n      <td>144.270004</td>\n      <td>142.595001</td>\n      <td>228.354996</td>\n      <td>103.540001</td>\n      <td>279.410004</td>\n      <td>...</td>\n      <td>65696.0</td>\n      <td>40876.0</td>\n      <td>802326.0</td>\n      <td>16511.0</td>\n      <td>19413.0</td>\n      <td>46904.0</td>\n      <td>20935.0</td>\n      <td>5131.0</td>\n      <td>6889.0</td>\n      <td>20233.0</td>\n    </tr>\n    <tr>\n      <th>1</th>\n      <td>2022-06-22 09:31:00-04:00</td>\n      <td>113.294998</td>\n      <td>12.9999</td>\n      <td>170.119995</td>\n      <td>134.820007</td>\n      <td>145.179993</td>\n      <td>143.429993</td>\n      <td>230.735001</td>\n      <td>103.980003</td>\n      <td>280.829987</td>\n      <td>...</td>\n      <td>20610.0</td>\n      <td>5012.0</td>\n      <td>782486.0</td>\n      <td>2898.0</td>\n      <td>1777.0</td>\n      <td>2868.0</td>\n      <td>2955.0</td>\n      <td>440.0</td>\n      <td>1650.0</td>\n      <td>7468.0</td>\n    </tr>\n    <tr>\n      <th>2</th>\n      <td>2022-06-22 09:32:00-04:00</td>\n      <td>113.540001</td>\n      <td>13.1550</td>\n      <td>172.699997</td>\n      <td>134.690002</td>\n      <td>145.169998</td>\n      <td>143.389999</td>\n      <td>228.389999</td>\n      <td>104.160004</td>\n      <td>281.730011</td>\n      <td>...</td>\n      <td>24944.0</td>\n      <td>4909.0</td>\n      <td>570744.0</td>\n      <td>1608.0</td>\n      <td>1804.0</td>\n      <td>2229.0</td>\n      <td>1068.0</td>\n      <td>100.0</td>\n      <td>1471.0</td>\n      <td>4946.0</td>\n    </tr>\n    <tr>\n      <th>3</th>\n      <td>2022-06-22 09:33:00-04:00</td>\n      <td>113.650002</td>\n      <td>13.1000</td>\n      <td>172.687195</td>\n      <td>134.679993</td>\n      <td>145.147995</td>\n      <td>143.679993</td>\n      <td>NaN</td>\n      <td>104.300003</td>\n      <td>281.126495</td>\n      <td>...</td>\n      <td>2218.0</td>\n      <td>1929.0</td>\n      <td>115046.0</td>\n      <td>700.0</td>\n      <td>574.0</td>\n      <td>974.0</td>\n      <td>400.0</td>\n      <td>1186.0</td>\n      <td>100.0</td>\n      <td>386.0</td>\n    </tr>\n    <tr>\n      <th>4</th>\n      <td>2022-06-22 09:34:00-04:00</td>\n      <td>113.190002</td>\n      <td>13.0350</td>\n      <td>NaN</td>\n      <td>134.604996</td>\n      <td>145.201004</td>\n      <td>143.289993</td>\n      <td>230.600006</td>\n      <td>103.959999</td>\n      <td>280.049988</td>\n      <td>...</td>\n      <td>12805.0</td>\n      <td>4680.0</td>\n      <td>573167.0</td>\n      <td>3128.0</td>\n      <td>8119.0</td>\n      <td>4135.0</td>\n      <td>10971.0</td>\n      <td>NaN</td>\n      <td>1889.0</td>\n      <td>3812.0</td>\n    </tr>\n    <tr>\n      <th>...</th>\n      <td>...</td>\n      <td>...</td>\n      <td>...</td>\n      <td>...</td>\n      <td>...</td>\n      <td>...</td>\n      <td>...</td>\n      <td>...</td>\n      <td>...</td>\n      <td>...</td>\n      <td>...</td>\n      <td>...</td>\n      <td>...</td>\n      <td>...</td>\n      <td>...</td>\n      <td>...</td>\n      <td>...</td>\n      <td>...</td>\n      <td>...</td>\n      <td>...</td>\n      <td>...</td>\n    </tr>\n    <tr>\n      <th>384</th>\n      <td>2022-06-22 15:55:00-04:00</td>\n      <td>113.989998</td>\n      <td>13.1350</td>\n      <td>175.339996</td>\n      <td>135.860001</td>\n      <td>147.949997</td>\n      <td>145.460007</td>\n      <td>236.720001</td>\n      <td>105.705002</td>\n      <td>287.709991</td>\n      <td>...</td>\n      <td>22219.0</td>\n      <td>47095.0</td>\n      <td>243095.0</td>\n      <td>20299.0</td>\n      <td>13555.0</td>\n      <td>19415.0</td>\n      <td>15882.0</td>\n      <td>4186.0</td>\n      <td>22684.0</td>\n      <td>20164.0</td>\n    </tr>\n    <tr>\n      <th>385</th>\n      <td>2022-06-22 15:56:00-04:00</td>\n      <td>114.014999</td>\n      <td>13.1200</td>\n      <td>175.130005</td>\n      <td>135.774399</td>\n      <td>147.970001</td>\n      <td>145.494995</td>\n      <td>236.695007</td>\n      <td>105.650002</td>\n      <td>287.725006</td>\n      <td>...</td>\n      <td>20368.0</td>\n      <td>73611.0</td>\n      <td>200589.0</td>\n      <td>15759.0</td>\n      <td>13708.0</td>\n      <td>14666.0</td>\n      <td>16379.0</td>\n      <td>7623.0</td>\n      <td>18930.0</td>\n      <td>19883.0</td>\n    </tr>\n    <tr>\n      <th>386</th>\n      <td>2022-06-22 15:57:00-04:00</td>\n      <td>113.919998</td>\n      <td>13.1217</td>\n      <td>174.960007</td>\n      <td>135.740005</td>\n      <td>147.985001</td>\n      <td>145.389999</td>\n      <td>236.570007</td>\n      <td>105.629997</td>\n      <td>287.609985</td>\n      <td>...</td>\n      <td>18531.0</td>\n      <td>56185.0</td>\n      <td>140935.0</td>\n      <td>12728.0</td>\n      <td>9789.0</td>\n      <td>15986.0</td>\n      <td>14566.0</td>\n      <td>5939.0</td>\n      <td>17215.0</td>\n      <td>15115.0</td>\n    </tr>\n    <tr>\n      <th>387</th>\n      <td>2022-06-22 15:58:00-04:00</td>\n      <td>113.889999</td>\n      <td>13.1100</td>\n      <td>174.750000</td>\n      <td>135.585007</td>\n      <td>147.669998</td>\n      <td>145.169998</td>\n      <td>236.399994</td>\n      <td>105.540001</td>\n      <td>287.265015</td>\n      <td>...</td>\n      <td>29471.0</td>\n      <td>90750.0</td>\n      <td>179140.0</td>\n      <td>14581.0</td>\n      <td>13557.0</td>\n      <td>16234.0</td>\n      <td>41415.0</td>\n      <td>3098.0</td>\n      <td>29871.0</td>\n      <td>31630.0</td>\n    </tr>\n    <tr>\n      <th>388</th>\n      <td>2022-06-22 15:59:00-04:00</td>\n      <td>113.779999</td>\n      <td>13.1000</td>\n      <td>174.610001</td>\n      <td>135.309998</td>\n      <td>147.529999</td>\n      <td>144.949997</td>\n      <td>236.149994</td>\n      <td>105.410004</td>\n      <td>286.589996</td>\n      <td>...</td>\n      <td>45011.0</td>\n      <td>103108.0</td>\n      <td>923246.0</td>\n      <td>44316.0</td>\n      <td>36085.0</td>\n      <td>32180.0</td>\n      <td>37513.0</td>\n      <td>13782.0</td>\n      <td>46632.0</td>\n      <td>50083.0</td>\n    </tr>\n  </tbody>\n</table>\n<p>389 rows × 3019 columns</p>\n</div>"
     },
     "execution_count": 207,
     "metadata": {},
     "output_type": "execute_result"
    }
   ],
   "source": [
    "a.reset_index()"
   ],
   "metadata": {
    "collapsed": false,
    "pycharm": {
     "name": "#%%\n"
    }
   }
  },
  {
   "cell_type": "code",
   "execution_count": 233,
   "outputs": [
    {
     "data": {
      "text/plain": "                         Date         MMM        AOS         ABT        ABBV  \\\n149 2022-06-22 12:00:00-04:00  130.097702  52.880001  106.074997  147.839996   \n150 2022-06-22 12:01:00-04:00  130.309998  52.959999  106.180000  147.970001   \n151 2022-06-22 12:02:00-04:00  130.330002  52.980000  106.160004  147.860001   \n152 2022-06-22 12:03:00-04:00  130.175797  52.915001  106.000000  147.580002   \n153 2022-06-22 12:04:00-04:00  130.169998  52.849998  105.955002  147.649994   \n154 2022-06-22 12:05:00-04:00  130.119995  52.825001  105.910004  147.580002   \n155 2022-06-22 12:06:00-04:00  130.009995  52.755001  105.820000  147.440002   \n156 2022-06-22 12:07:00-04:00  129.940002  52.730000  105.750000  147.406097   \n157 2022-06-22 12:08:00-04:00  129.970001  52.759998  105.790001  147.350006   \n158 2022-06-22 12:09:00-04:00  130.000000  52.799999  105.845001  147.380005   \n159 2022-06-22 12:10:00-04:00  130.070007  52.889999  105.860001  147.449997   \n160 2022-06-22 12:11:00-04:00  130.050003  52.830002  105.860001  147.445007   \n161 2022-06-22 12:12:00-04:00  130.080002  52.849998  105.839996  147.455002   \n162 2022-06-22 12:13:00-04:00  130.210602  52.880001  105.970001  147.479996   \n163 2022-06-22 12:14:00-04:00  130.180893  52.849998  105.934998  147.339996   \n\n           ABMD         ACN       ATVI        ADM        ADBE  ...  \\\n149  234.199997  286.809998  75.779999  78.035004  367.459991  ...   \n150  235.005880  287.399994  75.830002  78.019997  367.910004  ...   \n151  235.005880  287.250000  75.800003  78.019997  368.100006  ...   \n152  235.005880  286.880005  75.739998  77.900002  367.899994  ...   \n153  233.669998  286.190002  75.754997  77.889999  367.359985  ...   \n154  234.190002  285.890015  75.760002  77.900002  367.339996  ...   \n155  235.005880  285.559998  75.690002  77.849998  366.859985  ...   \n156  233.339996  285.399994  75.680000  77.809998  366.720001  ...   \n157  235.005880  285.600006  75.690002  77.791397  366.869995  ...   \n158  235.005880  285.970001  75.699997  77.860001  367.109985  ...   \n159  234.059998  286.209991  75.739998  77.910004  367.265015  ...   \n160  233.529999  286.220001  75.699997  77.849998  367.369995  ...   \n161  233.779999  286.429993  75.705002  77.875000  367.369995  ...   \n162  233.776794  286.691101  75.680000  77.919998  367.500000  ...   \n163  233.860001  286.730011  75.660004  77.860001  367.600006  ...   \n\n            WTW         GWW       WYNN        XEL        XYL         YUM  \\\n149  197.494995  446.000000  53.880001  65.559998  75.384697  111.389999   \n150  197.520004  446.410004  53.990002  65.620003  75.449997  111.510002   \n151  197.800003  447.252116  53.939999  65.669998  75.430000  111.668554   \n152  197.460007  445.834991  53.849998  65.599998  75.339996  111.305000   \n153  197.440002  447.252116  53.830002  65.589996  75.300003  111.309998   \n154  197.380005  447.252116  53.840000  65.550003  75.309998  111.309998   \n155  197.169998  447.252116  53.779900  65.540001  75.239998  111.320000   \n156  197.119995  447.252116  53.730000  65.529999  75.180000  111.339996   \n157  197.169998  444.790009  53.730000  65.529999  75.239998  111.230003   \n158  197.229996  447.252116  53.639999  65.570000  75.279999  111.260002   \n159  197.210007  445.399994  53.669998  65.620003  75.349998  111.300003   \n160  197.110001  445.309998  53.650002  65.629997  75.370003  111.269997   \n161  197.160004  447.252116  53.740002  65.680000  75.430000  111.339996   \n162  197.539993  447.252116  53.787498  65.730003  75.440002  111.449501   \n163  197.339996  445.320007  53.779999  65.690002  75.470001  111.425003   \n\n           ZBRA         ZBH       ZION         ZTS  \n149  293.977509  105.565002  52.490002  165.270004  \n150  294.779999  105.650002  52.470001  165.350006  \n151  294.834991  105.610001  52.505001  165.320007  \n152  294.320007  105.489998  52.529999  165.139999  \n153  294.040009  105.449997  52.480000  165.063904  \n154  293.954987  105.430000  52.450001  165.139999  \n155  295.961295  105.494912  52.410000  165.009995  \n156  295.961295  105.339897  52.259998  164.990005  \n157  293.750000  105.209999  52.230000  164.910004  \n158  295.961295  105.320000  52.189999  165.050003  \n159  294.144989  105.360001  52.220001  165.100006  \n160  293.720001  105.494912  52.189999  165.020004  \n161  295.961295  105.389999  52.220001  165.110001  \n162  294.214996  105.489998  52.240002  165.190002  \n163  294.234985  105.385002  52.290001  165.080002  \n\n[15 rows x 502 columns]",
      "text/html": "<div>\n<style scoped>\n    .dataframe tbody tr th:only-of-type {\n        vertical-align: middle;\n    }\n\n    .dataframe tbody tr th {\n        vertical-align: top;\n    }\n\n    .dataframe thead th {\n        text-align: right;\n    }\n</style>\n<table border=\"1\" class=\"dataframe\">\n  <thead>\n    <tr style=\"text-align: right;\">\n      <th></th>\n      <th>Date</th>\n      <th>MMM</th>\n      <th>AOS</th>\n      <th>ABT</th>\n      <th>ABBV</th>\n      <th>ABMD</th>\n      <th>ACN</th>\n      <th>ATVI</th>\n      <th>ADM</th>\n      <th>ADBE</th>\n      <th>...</th>\n      <th>WTW</th>\n      <th>GWW</th>\n      <th>WYNN</th>\n      <th>XEL</th>\n      <th>XYL</th>\n      <th>YUM</th>\n      <th>ZBRA</th>\n      <th>ZBH</th>\n      <th>ZION</th>\n      <th>ZTS</th>\n    </tr>\n  </thead>\n  <tbody>\n    <tr>\n      <th>149</th>\n      <td>2022-06-22 12:00:00-04:00</td>\n      <td>130.097702</td>\n      <td>52.880001</td>\n      <td>106.074997</td>\n      <td>147.839996</td>\n      <td>234.199997</td>\n      <td>286.809998</td>\n      <td>75.779999</td>\n      <td>78.035004</td>\n      <td>367.459991</td>\n      <td>...</td>\n      <td>197.494995</td>\n      <td>446.000000</td>\n      <td>53.880001</td>\n      <td>65.559998</td>\n      <td>75.384697</td>\n      <td>111.389999</td>\n      <td>293.977509</td>\n      <td>105.565002</td>\n      <td>52.490002</td>\n      <td>165.270004</td>\n    </tr>\n    <tr>\n      <th>150</th>\n      <td>2022-06-22 12:01:00-04:00</td>\n      <td>130.309998</td>\n      <td>52.959999</td>\n      <td>106.180000</td>\n      <td>147.970001</td>\n      <td>235.005880</td>\n      <td>287.399994</td>\n      <td>75.830002</td>\n      <td>78.019997</td>\n      <td>367.910004</td>\n      <td>...</td>\n      <td>197.520004</td>\n      <td>446.410004</td>\n      <td>53.990002</td>\n      <td>65.620003</td>\n      <td>75.449997</td>\n      <td>111.510002</td>\n      <td>294.779999</td>\n      <td>105.650002</td>\n      <td>52.470001</td>\n      <td>165.350006</td>\n    </tr>\n    <tr>\n      <th>151</th>\n      <td>2022-06-22 12:02:00-04:00</td>\n      <td>130.330002</td>\n      <td>52.980000</td>\n      <td>106.160004</td>\n      <td>147.860001</td>\n      <td>235.005880</td>\n      <td>287.250000</td>\n      <td>75.800003</td>\n      <td>78.019997</td>\n      <td>368.100006</td>\n      <td>...</td>\n      <td>197.800003</td>\n      <td>447.252116</td>\n      <td>53.939999</td>\n      <td>65.669998</td>\n      <td>75.430000</td>\n      <td>111.668554</td>\n      <td>294.834991</td>\n      <td>105.610001</td>\n      <td>52.505001</td>\n      <td>165.320007</td>\n    </tr>\n    <tr>\n      <th>152</th>\n      <td>2022-06-22 12:03:00-04:00</td>\n      <td>130.175797</td>\n      <td>52.915001</td>\n      <td>106.000000</td>\n      <td>147.580002</td>\n      <td>235.005880</td>\n      <td>286.880005</td>\n      <td>75.739998</td>\n      <td>77.900002</td>\n      <td>367.899994</td>\n      <td>...</td>\n      <td>197.460007</td>\n      <td>445.834991</td>\n      <td>53.849998</td>\n      <td>65.599998</td>\n      <td>75.339996</td>\n      <td>111.305000</td>\n      <td>294.320007</td>\n      <td>105.489998</td>\n      <td>52.529999</td>\n      <td>165.139999</td>\n    </tr>\n    <tr>\n      <th>153</th>\n      <td>2022-06-22 12:04:00-04:00</td>\n      <td>130.169998</td>\n      <td>52.849998</td>\n      <td>105.955002</td>\n      <td>147.649994</td>\n      <td>233.669998</td>\n      <td>286.190002</td>\n      <td>75.754997</td>\n      <td>77.889999</td>\n      <td>367.359985</td>\n      <td>...</td>\n      <td>197.440002</td>\n      <td>447.252116</td>\n      <td>53.830002</td>\n      <td>65.589996</td>\n      <td>75.300003</td>\n      <td>111.309998</td>\n      <td>294.040009</td>\n      <td>105.449997</td>\n      <td>52.480000</td>\n      <td>165.063904</td>\n    </tr>\n    <tr>\n      <th>154</th>\n      <td>2022-06-22 12:05:00-04:00</td>\n      <td>130.119995</td>\n      <td>52.825001</td>\n      <td>105.910004</td>\n      <td>147.580002</td>\n      <td>234.190002</td>\n      <td>285.890015</td>\n      <td>75.760002</td>\n      <td>77.900002</td>\n      <td>367.339996</td>\n      <td>...</td>\n      <td>197.380005</td>\n      <td>447.252116</td>\n      <td>53.840000</td>\n      <td>65.550003</td>\n      <td>75.309998</td>\n      <td>111.309998</td>\n      <td>293.954987</td>\n      <td>105.430000</td>\n      <td>52.450001</td>\n      <td>165.139999</td>\n    </tr>\n    <tr>\n      <th>155</th>\n      <td>2022-06-22 12:06:00-04:00</td>\n      <td>130.009995</td>\n      <td>52.755001</td>\n      <td>105.820000</td>\n      <td>147.440002</td>\n      <td>235.005880</td>\n      <td>285.559998</td>\n      <td>75.690002</td>\n      <td>77.849998</td>\n      <td>366.859985</td>\n      <td>...</td>\n      <td>197.169998</td>\n      <td>447.252116</td>\n      <td>53.779900</td>\n      <td>65.540001</td>\n      <td>75.239998</td>\n      <td>111.320000</td>\n      <td>295.961295</td>\n      <td>105.494912</td>\n      <td>52.410000</td>\n      <td>165.009995</td>\n    </tr>\n    <tr>\n      <th>156</th>\n      <td>2022-06-22 12:07:00-04:00</td>\n      <td>129.940002</td>\n      <td>52.730000</td>\n      <td>105.750000</td>\n      <td>147.406097</td>\n      <td>233.339996</td>\n      <td>285.399994</td>\n      <td>75.680000</td>\n      <td>77.809998</td>\n      <td>366.720001</td>\n      <td>...</td>\n      <td>197.119995</td>\n      <td>447.252116</td>\n      <td>53.730000</td>\n      <td>65.529999</td>\n      <td>75.180000</td>\n      <td>111.339996</td>\n      <td>295.961295</td>\n      <td>105.339897</td>\n      <td>52.259998</td>\n      <td>164.990005</td>\n    </tr>\n    <tr>\n      <th>157</th>\n      <td>2022-06-22 12:08:00-04:00</td>\n      <td>129.970001</td>\n      <td>52.759998</td>\n      <td>105.790001</td>\n      <td>147.350006</td>\n      <td>235.005880</td>\n      <td>285.600006</td>\n      <td>75.690002</td>\n      <td>77.791397</td>\n      <td>366.869995</td>\n      <td>...</td>\n      <td>197.169998</td>\n      <td>444.790009</td>\n      <td>53.730000</td>\n      <td>65.529999</td>\n      <td>75.239998</td>\n      <td>111.230003</td>\n      <td>293.750000</td>\n      <td>105.209999</td>\n      <td>52.230000</td>\n      <td>164.910004</td>\n    </tr>\n    <tr>\n      <th>158</th>\n      <td>2022-06-22 12:09:00-04:00</td>\n      <td>130.000000</td>\n      <td>52.799999</td>\n      <td>105.845001</td>\n      <td>147.380005</td>\n      <td>235.005880</td>\n      <td>285.970001</td>\n      <td>75.699997</td>\n      <td>77.860001</td>\n      <td>367.109985</td>\n      <td>...</td>\n      <td>197.229996</td>\n      <td>447.252116</td>\n      <td>53.639999</td>\n      <td>65.570000</td>\n      <td>75.279999</td>\n      <td>111.260002</td>\n      <td>295.961295</td>\n      <td>105.320000</td>\n      <td>52.189999</td>\n      <td>165.050003</td>\n    </tr>\n    <tr>\n      <th>159</th>\n      <td>2022-06-22 12:10:00-04:00</td>\n      <td>130.070007</td>\n      <td>52.889999</td>\n      <td>105.860001</td>\n      <td>147.449997</td>\n      <td>234.059998</td>\n      <td>286.209991</td>\n      <td>75.739998</td>\n      <td>77.910004</td>\n      <td>367.265015</td>\n      <td>...</td>\n      <td>197.210007</td>\n      <td>445.399994</td>\n      <td>53.669998</td>\n      <td>65.620003</td>\n      <td>75.349998</td>\n      <td>111.300003</td>\n      <td>294.144989</td>\n      <td>105.360001</td>\n      <td>52.220001</td>\n      <td>165.100006</td>\n    </tr>\n    <tr>\n      <th>160</th>\n      <td>2022-06-22 12:11:00-04:00</td>\n      <td>130.050003</td>\n      <td>52.830002</td>\n      <td>105.860001</td>\n      <td>147.445007</td>\n      <td>233.529999</td>\n      <td>286.220001</td>\n      <td>75.699997</td>\n      <td>77.849998</td>\n      <td>367.369995</td>\n      <td>...</td>\n      <td>197.110001</td>\n      <td>445.309998</td>\n      <td>53.650002</td>\n      <td>65.629997</td>\n      <td>75.370003</td>\n      <td>111.269997</td>\n      <td>293.720001</td>\n      <td>105.494912</td>\n      <td>52.189999</td>\n      <td>165.020004</td>\n    </tr>\n    <tr>\n      <th>161</th>\n      <td>2022-06-22 12:12:00-04:00</td>\n      <td>130.080002</td>\n      <td>52.849998</td>\n      <td>105.839996</td>\n      <td>147.455002</td>\n      <td>233.779999</td>\n      <td>286.429993</td>\n      <td>75.705002</td>\n      <td>77.875000</td>\n      <td>367.369995</td>\n      <td>...</td>\n      <td>197.160004</td>\n      <td>447.252116</td>\n      <td>53.740002</td>\n      <td>65.680000</td>\n      <td>75.430000</td>\n      <td>111.339996</td>\n      <td>295.961295</td>\n      <td>105.389999</td>\n      <td>52.220001</td>\n      <td>165.110001</td>\n    </tr>\n    <tr>\n      <th>162</th>\n      <td>2022-06-22 12:13:00-04:00</td>\n      <td>130.210602</td>\n      <td>52.880001</td>\n      <td>105.970001</td>\n      <td>147.479996</td>\n      <td>233.776794</td>\n      <td>286.691101</td>\n      <td>75.680000</td>\n      <td>77.919998</td>\n      <td>367.500000</td>\n      <td>...</td>\n      <td>197.539993</td>\n      <td>447.252116</td>\n      <td>53.787498</td>\n      <td>65.730003</td>\n      <td>75.440002</td>\n      <td>111.449501</td>\n      <td>294.214996</td>\n      <td>105.489998</td>\n      <td>52.240002</td>\n      <td>165.190002</td>\n    </tr>\n    <tr>\n      <th>163</th>\n      <td>2022-06-22 12:14:00-04:00</td>\n      <td>130.180893</td>\n      <td>52.849998</td>\n      <td>105.934998</td>\n      <td>147.339996</td>\n      <td>233.860001</td>\n      <td>286.730011</td>\n      <td>75.660004</td>\n      <td>77.860001</td>\n      <td>367.600006</td>\n      <td>...</td>\n      <td>197.339996</td>\n      <td>445.320007</td>\n      <td>53.779999</td>\n      <td>65.690002</td>\n      <td>75.470001</td>\n      <td>111.425003</td>\n      <td>294.234985</td>\n      <td>105.385002</td>\n      <td>52.290001</td>\n      <td>165.080002</td>\n    </tr>\n  </tbody>\n</table>\n<p>15 rows × 502 columns</p>\n</div>"
     },
     "execution_count": 233,
     "metadata": {},
     "output_type": "execute_result"
    }
   ],
   "source": [
    "a2 = a.fillna(a.mean())\n",
    "df = pd.DataFrame(index=a2.index, columns=all_stocks)\n",
    "for i in all_stocks:\n",
    "    df[i] = a2[[('Adj Close', i)]]\n",
    "df = df.reset_index().iloc[149:164, :]\n",
    "df = df.drop(['BRK.B', 'BF.B'], axis=1)\n",
    "df.rename({'Datetime': 'Date'}, inplace=True, axis=1)\n",
    "df.to_csv('sp500_20220622_15min.csv', index=False)\n",
    "df"
   ],
   "metadata": {
    "collapsed": false,
    "pycharm": {
     "name": "#%%\n"
    }
   }
  },
  {
   "cell_type": "code",
   "execution_count": 237,
   "outputs": [
    {
     "data": {
      "text/plain": "                         Date         MMM        AOS         ABT        ABBV  \\\n210 2022-06-22 13:01:00-04:00  130.490005  52.875000  106.014999  148.889999   \n211 2022-06-22 13:02:00-04:00  130.380005  52.849998  105.919998  148.619995   \n212 2022-06-22 13:03:00-04:00  130.445007  52.889999  106.000000  148.610001   \n213 2022-06-22 13:04:00-04:00  130.490005  52.869999  105.959000  148.634995   \n214 2022-06-22 13:05:00-04:00  130.529999  52.889999  105.980003  148.539902   \n215 2022-06-22 13:06:00-04:00  130.580002  52.919998  106.019997  148.554993   \n216 2022-06-22 13:07:00-04:00  130.539993  52.939999  106.050003  148.529999   \n217 2022-06-22 13:08:00-04:00  130.580002  52.980000  106.019997  148.550003   \n218 2022-06-22 13:09:00-04:00  130.559006  53.009998  106.065300  148.550003   \n219 2022-06-22 13:10:00-04:00  130.675003  53.000000  106.059998  148.595001   \n220 2022-06-22 13:11:00-04:00  130.755005  53.015800  106.095001  148.619995   \n221 2022-06-22 13:12:00-04:00  130.820007  52.994999  106.099998  148.675003   \n222 2022-06-22 13:13:00-04:00  130.919998  53.049999  106.118301  148.710007   \n223 2022-06-22 13:14:00-04:00  130.994995  53.014999  106.059998  148.770004   \n224 2022-06-22 13:15:00-04:00  130.955002  53.029999  106.004997  148.679993   \n225 2022-06-22 13:16:00-04:00  131.029999  53.009998  106.010002  148.690002   \n\n           ABMD         ACN       ATVI        ADM        ADBE  ...  \\\n210  235.005880  287.820007  75.650002  78.160004  370.135010  ...   \n211  235.710007  287.519989  75.610001  78.110001  370.010010  ...   \n212  235.639999  287.709991  75.635002  78.190002  370.030090  ...   \n213  235.410004  287.839996  75.650002  78.144997  370.209991  ...   \n214  235.490005  287.850006  75.650002  78.080002  370.434998  ...   \n215  235.634995  288.000000  75.665001  78.084999  370.739990  ...   \n216  235.759995  287.894989  75.709999  78.010002  370.524994  ...   \n217  235.005880  287.945007  75.723701  78.010002  370.600006  ...   \n218  235.005880  287.929993  75.750000  78.025002  370.730011  ...   \n219  235.800003  288.130096  75.800003  78.089996  370.654999  ...   \n220  235.809998  288.174988  75.809998  78.040001  370.975006  ...   \n221  235.949997  288.071411  75.809998  78.073997  370.704987  ...   \n222  235.005880  288.140015  75.809998  78.105003  370.700012  ...   \n223  235.910004  288.299988  75.809998  78.110001  370.820007  ...   \n224  235.979996  288.440002  75.800003  78.169998  370.670013  ...   \n225  235.005880  288.429993  75.794998  78.180901  370.709991  ...   \n\n            WTW         GWW       WYNN        XEL        XYL         YUM  \\\n210  198.100006  445.649994  54.250000  65.849998  75.482903  111.800003   \n211  198.044998  447.252116  54.200001  65.820000  75.440002  111.839996   \n212  197.910004  447.252116  54.209999  65.760002  75.449997  111.930000   \n213  197.979996  447.252116  54.200001  65.739998  75.419998  111.668554   \n214  197.990005  445.370087  54.200001  65.769997  75.400002  111.668554   \n215  198.020004  445.950012  54.259998  65.830002  75.484398  111.889999   \n216  197.979996  447.252116  54.209999  65.830002  75.500000  111.889999   \n217  197.990005  446.165009  54.240002  65.838402  75.510002  111.919998   \n218  197.402182  447.252116  54.238800  65.849998  75.505501  111.889999   \n219  197.990005  445.999603  54.255001  65.809998  75.540001  111.910004   \n220  198.070007  446.489990  54.320000  65.839996  75.550003  111.949997   \n221  198.160004  446.154999  54.262798  65.839996  75.555000  111.889999   \n222  198.259995  446.200012  54.320000  65.860001  75.589996  111.940002   \n223  198.080002  447.252116  54.305000  65.820000  75.589996  111.870003   \n224  197.979996  446.239990  54.264999  65.790001  75.504046  111.870003   \n225  198.110001  446.424988  54.320000  65.790001  75.565002  111.668554   \n\n           ZBRA         ZBH       ZION         ZTS  \n210  295.589996  105.379997  52.439999  165.345001  \n211  295.600006  105.300003  52.450001  165.179993  \n212  295.529999  105.410004  52.450001  165.255005  \n213  295.729095  105.290001  52.439999  164.742651  \n214  295.961295  105.269997  52.455002  165.210007  \n215  295.899994  105.349998  52.500000  165.190002  \n216  295.961295  105.334999  52.480000  165.175003  \n217  295.880005  105.339996  52.500000  165.089996  \n218  295.961295  105.389999  52.500000  165.054993  \n219  295.869995  105.349998  52.520000  165.089996  \n220  295.875000  105.419998  52.632569  165.154999  \n221  295.825012  105.419998  52.529999  165.110001  \n222  295.885010  105.434998  52.599998  165.169998  \n223  295.864990  105.400002  52.605000  165.149994  \n224  295.959991  105.445000  52.529999  165.169998  \n225  295.961295  105.425003  52.520000  165.220001  \n\n[16 rows x 502 columns]",
      "text/html": "<div>\n<style scoped>\n    .dataframe tbody tr th:only-of-type {\n        vertical-align: middle;\n    }\n\n    .dataframe tbody tr th {\n        vertical-align: top;\n    }\n\n    .dataframe thead th {\n        text-align: right;\n    }\n</style>\n<table border=\"1\" class=\"dataframe\">\n  <thead>\n    <tr style=\"text-align: right;\">\n      <th></th>\n      <th>Date</th>\n      <th>MMM</th>\n      <th>AOS</th>\n      <th>ABT</th>\n      <th>ABBV</th>\n      <th>ABMD</th>\n      <th>ACN</th>\n      <th>ATVI</th>\n      <th>ADM</th>\n      <th>ADBE</th>\n      <th>...</th>\n      <th>WTW</th>\n      <th>GWW</th>\n      <th>WYNN</th>\n      <th>XEL</th>\n      <th>XYL</th>\n      <th>YUM</th>\n      <th>ZBRA</th>\n      <th>ZBH</th>\n      <th>ZION</th>\n      <th>ZTS</th>\n    </tr>\n  </thead>\n  <tbody>\n    <tr>\n      <th>210</th>\n      <td>2022-06-22 13:01:00-04:00</td>\n      <td>130.490005</td>\n      <td>52.875000</td>\n      <td>106.014999</td>\n      <td>148.889999</td>\n      <td>235.005880</td>\n      <td>287.820007</td>\n      <td>75.650002</td>\n      <td>78.160004</td>\n      <td>370.135010</td>\n      <td>...</td>\n      <td>198.100006</td>\n      <td>445.649994</td>\n      <td>54.250000</td>\n      <td>65.849998</td>\n      <td>75.482903</td>\n      <td>111.800003</td>\n      <td>295.589996</td>\n      <td>105.379997</td>\n      <td>52.439999</td>\n      <td>165.345001</td>\n    </tr>\n    <tr>\n      <th>211</th>\n      <td>2022-06-22 13:02:00-04:00</td>\n      <td>130.380005</td>\n      <td>52.849998</td>\n      <td>105.919998</td>\n      <td>148.619995</td>\n      <td>235.710007</td>\n      <td>287.519989</td>\n      <td>75.610001</td>\n      <td>78.110001</td>\n      <td>370.010010</td>\n      <td>...</td>\n      <td>198.044998</td>\n      <td>447.252116</td>\n      <td>54.200001</td>\n      <td>65.820000</td>\n      <td>75.440002</td>\n      <td>111.839996</td>\n      <td>295.600006</td>\n      <td>105.300003</td>\n      <td>52.450001</td>\n      <td>165.179993</td>\n    </tr>\n    <tr>\n      <th>212</th>\n      <td>2022-06-22 13:03:00-04:00</td>\n      <td>130.445007</td>\n      <td>52.889999</td>\n      <td>106.000000</td>\n      <td>148.610001</td>\n      <td>235.639999</td>\n      <td>287.709991</td>\n      <td>75.635002</td>\n      <td>78.190002</td>\n      <td>370.030090</td>\n      <td>...</td>\n      <td>197.910004</td>\n      <td>447.252116</td>\n      <td>54.209999</td>\n      <td>65.760002</td>\n      <td>75.449997</td>\n      <td>111.930000</td>\n      <td>295.529999</td>\n      <td>105.410004</td>\n      <td>52.450001</td>\n      <td>165.255005</td>\n    </tr>\n    <tr>\n      <th>213</th>\n      <td>2022-06-22 13:04:00-04:00</td>\n      <td>130.490005</td>\n      <td>52.869999</td>\n      <td>105.959000</td>\n      <td>148.634995</td>\n      <td>235.410004</td>\n      <td>287.839996</td>\n      <td>75.650002</td>\n      <td>78.144997</td>\n      <td>370.209991</td>\n      <td>...</td>\n      <td>197.979996</td>\n      <td>447.252116</td>\n      <td>54.200001</td>\n      <td>65.739998</td>\n      <td>75.419998</td>\n      <td>111.668554</td>\n      <td>295.729095</td>\n      <td>105.290001</td>\n      <td>52.439999</td>\n      <td>164.742651</td>\n    </tr>\n    <tr>\n      <th>214</th>\n      <td>2022-06-22 13:05:00-04:00</td>\n      <td>130.529999</td>\n      <td>52.889999</td>\n      <td>105.980003</td>\n      <td>148.539902</td>\n      <td>235.490005</td>\n      <td>287.850006</td>\n      <td>75.650002</td>\n      <td>78.080002</td>\n      <td>370.434998</td>\n      <td>...</td>\n      <td>197.990005</td>\n      <td>445.370087</td>\n      <td>54.200001</td>\n      <td>65.769997</td>\n      <td>75.400002</td>\n      <td>111.668554</td>\n      <td>295.961295</td>\n      <td>105.269997</td>\n      <td>52.455002</td>\n      <td>165.210007</td>\n    </tr>\n    <tr>\n      <th>215</th>\n      <td>2022-06-22 13:06:00-04:00</td>\n      <td>130.580002</td>\n      <td>52.919998</td>\n      <td>106.019997</td>\n      <td>148.554993</td>\n      <td>235.634995</td>\n      <td>288.000000</td>\n      <td>75.665001</td>\n      <td>78.084999</td>\n      <td>370.739990</td>\n      <td>...</td>\n      <td>198.020004</td>\n      <td>445.950012</td>\n      <td>54.259998</td>\n      <td>65.830002</td>\n      <td>75.484398</td>\n      <td>111.889999</td>\n      <td>295.899994</td>\n      <td>105.349998</td>\n      <td>52.500000</td>\n      <td>165.190002</td>\n    </tr>\n    <tr>\n      <th>216</th>\n      <td>2022-06-22 13:07:00-04:00</td>\n      <td>130.539993</td>\n      <td>52.939999</td>\n      <td>106.050003</td>\n      <td>148.529999</td>\n      <td>235.759995</td>\n      <td>287.894989</td>\n      <td>75.709999</td>\n      <td>78.010002</td>\n      <td>370.524994</td>\n      <td>...</td>\n      <td>197.979996</td>\n      <td>447.252116</td>\n      <td>54.209999</td>\n      <td>65.830002</td>\n      <td>75.500000</td>\n      <td>111.889999</td>\n      <td>295.961295</td>\n      <td>105.334999</td>\n      <td>52.480000</td>\n      <td>165.175003</td>\n    </tr>\n    <tr>\n      <th>217</th>\n      <td>2022-06-22 13:08:00-04:00</td>\n      <td>130.580002</td>\n      <td>52.980000</td>\n      <td>106.019997</td>\n      <td>148.550003</td>\n      <td>235.005880</td>\n      <td>287.945007</td>\n      <td>75.723701</td>\n      <td>78.010002</td>\n      <td>370.600006</td>\n      <td>...</td>\n      <td>197.990005</td>\n      <td>446.165009</td>\n      <td>54.240002</td>\n      <td>65.838402</td>\n      <td>75.510002</td>\n      <td>111.919998</td>\n      <td>295.880005</td>\n      <td>105.339996</td>\n      <td>52.500000</td>\n      <td>165.089996</td>\n    </tr>\n    <tr>\n      <th>218</th>\n      <td>2022-06-22 13:09:00-04:00</td>\n      <td>130.559006</td>\n      <td>53.009998</td>\n      <td>106.065300</td>\n      <td>148.550003</td>\n      <td>235.005880</td>\n      <td>287.929993</td>\n      <td>75.750000</td>\n      <td>78.025002</td>\n      <td>370.730011</td>\n      <td>...</td>\n      <td>197.402182</td>\n      <td>447.252116</td>\n      <td>54.238800</td>\n      <td>65.849998</td>\n      <td>75.505501</td>\n      <td>111.889999</td>\n      <td>295.961295</td>\n      <td>105.389999</td>\n      <td>52.500000</td>\n      <td>165.054993</td>\n    </tr>\n    <tr>\n      <th>219</th>\n      <td>2022-06-22 13:10:00-04:00</td>\n      <td>130.675003</td>\n      <td>53.000000</td>\n      <td>106.059998</td>\n      <td>148.595001</td>\n      <td>235.800003</td>\n      <td>288.130096</td>\n      <td>75.800003</td>\n      <td>78.089996</td>\n      <td>370.654999</td>\n      <td>...</td>\n      <td>197.990005</td>\n      <td>445.999603</td>\n      <td>54.255001</td>\n      <td>65.809998</td>\n      <td>75.540001</td>\n      <td>111.910004</td>\n      <td>295.869995</td>\n      <td>105.349998</td>\n      <td>52.520000</td>\n      <td>165.089996</td>\n    </tr>\n    <tr>\n      <th>220</th>\n      <td>2022-06-22 13:11:00-04:00</td>\n      <td>130.755005</td>\n      <td>53.015800</td>\n      <td>106.095001</td>\n      <td>148.619995</td>\n      <td>235.809998</td>\n      <td>288.174988</td>\n      <td>75.809998</td>\n      <td>78.040001</td>\n      <td>370.975006</td>\n      <td>...</td>\n      <td>198.070007</td>\n      <td>446.489990</td>\n      <td>54.320000</td>\n      <td>65.839996</td>\n      <td>75.550003</td>\n      <td>111.949997</td>\n      <td>295.875000</td>\n      <td>105.419998</td>\n      <td>52.632569</td>\n      <td>165.154999</td>\n    </tr>\n    <tr>\n      <th>221</th>\n      <td>2022-06-22 13:12:00-04:00</td>\n      <td>130.820007</td>\n      <td>52.994999</td>\n      <td>106.099998</td>\n      <td>148.675003</td>\n      <td>235.949997</td>\n      <td>288.071411</td>\n      <td>75.809998</td>\n      <td>78.073997</td>\n      <td>370.704987</td>\n      <td>...</td>\n      <td>198.160004</td>\n      <td>446.154999</td>\n      <td>54.262798</td>\n      <td>65.839996</td>\n      <td>75.555000</td>\n      <td>111.889999</td>\n      <td>295.825012</td>\n      <td>105.419998</td>\n      <td>52.529999</td>\n      <td>165.110001</td>\n    </tr>\n    <tr>\n      <th>222</th>\n      <td>2022-06-22 13:13:00-04:00</td>\n      <td>130.919998</td>\n      <td>53.049999</td>\n      <td>106.118301</td>\n      <td>148.710007</td>\n      <td>235.005880</td>\n      <td>288.140015</td>\n      <td>75.809998</td>\n      <td>78.105003</td>\n      <td>370.700012</td>\n      <td>...</td>\n      <td>198.259995</td>\n      <td>446.200012</td>\n      <td>54.320000</td>\n      <td>65.860001</td>\n      <td>75.589996</td>\n      <td>111.940002</td>\n      <td>295.885010</td>\n      <td>105.434998</td>\n      <td>52.599998</td>\n      <td>165.169998</td>\n    </tr>\n    <tr>\n      <th>223</th>\n      <td>2022-06-22 13:14:00-04:00</td>\n      <td>130.994995</td>\n      <td>53.014999</td>\n      <td>106.059998</td>\n      <td>148.770004</td>\n      <td>235.910004</td>\n      <td>288.299988</td>\n      <td>75.809998</td>\n      <td>78.110001</td>\n      <td>370.820007</td>\n      <td>...</td>\n      <td>198.080002</td>\n      <td>447.252116</td>\n      <td>54.305000</td>\n      <td>65.820000</td>\n      <td>75.589996</td>\n      <td>111.870003</td>\n      <td>295.864990</td>\n      <td>105.400002</td>\n      <td>52.605000</td>\n      <td>165.149994</td>\n    </tr>\n    <tr>\n      <th>224</th>\n      <td>2022-06-22 13:15:00-04:00</td>\n      <td>130.955002</td>\n      <td>53.029999</td>\n      <td>106.004997</td>\n      <td>148.679993</td>\n      <td>235.979996</td>\n      <td>288.440002</td>\n      <td>75.800003</td>\n      <td>78.169998</td>\n      <td>370.670013</td>\n      <td>...</td>\n      <td>197.979996</td>\n      <td>446.239990</td>\n      <td>54.264999</td>\n      <td>65.790001</td>\n      <td>75.504046</td>\n      <td>111.870003</td>\n      <td>295.959991</td>\n      <td>105.445000</td>\n      <td>52.529999</td>\n      <td>165.169998</td>\n    </tr>\n    <tr>\n      <th>225</th>\n      <td>2022-06-22 13:16:00-04:00</td>\n      <td>131.029999</td>\n      <td>53.009998</td>\n      <td>106.010002</td>\n      <td>148.690002</td>\n      <td>235.005880</td>\n      <td>288.429993</td>\n      <td>75.794998</td>\n      <td>78.180901</td>\n      <td>370.709991</td>\n      <td>...</td>\n      <td>198.110001</td>\n      <td>446.424988</td>\n      <td>54.320000</td>\n      <td>65.790001</td>\n      <td>75.565002</td>\n      <td>111.668554</td>\n      <td>295.961295</td>\n      <td>105.425003</td>\n      <td>52.520000</td>\n      <td>165.220001</td>\n    </tr>\n  </tbody>\n</table>\n<p>16 rows × 502 columns</p>\n</div>"
     },
     "execution_count": 237,
     "metadata": {},
     "output_type": "execute_result"
    }
   ],
   "source": [
    "a2 = a.fillna(a.mean())\n",
    "df = pd.DataFrame(index=a2.index, columns=all_stocks)\n",
    "for i in all_stocks:\n",
    "    df[i] = a2[[('Adj Close', i)]]\n",
    "df = df.reset_index().iloc[210:226, :]\n",
    "df = df.drop(['BRK.B', 'BF.B'], axis=1)\n",
    "df.rename({'Datetime': 'Date'}, inplace=True, axis=1)\n",
    "df.to_csv('sp500_2022-06-22_13:02:00-2022-06-22_13:17:00.csv', index=False)\n",
    "df"
   ],
   "metadata": {
    "collapsed": false,
    "pycharm": {
     "name": "#%%\n"
    }
   }
  },
  {
   "cell_type": "code",
   "execution_count": 234,
   "outputs": [
    {
     "data": {
      "text/plain": "False"
     },
     "execution_count": 234,
     "metadata": {},
     "output_type": "execute_result"
    }
   ],
   "source": [
    "df.isnull().values.any()"
   ],
   "metadata": {
    "collapsed": false,
    "pycharm": {
     "name": "#%%\n"
    }
   }
  },
  {
   "cell_type": "code",
   "execution_count": 231,
   "outputs": [
    {
     "data": {
      "text/plain": "(array([ 0,  1,  2,  3,  4,  5,  6,  7,  8,  9, 10, 11, 12, 13, 14]),\n array([81, 81, 81, 81, 81, 81, 81, 81, 81, 81, 81, 81, 81, 81, 81]))"
     },
     "execution_count": 231,
     "metadata": {},
     "output_type": "execute_result"
    }
   ],
   "source": [
    "np.where(pd.isnull(df))"
   ],
   "metadata": {
    "collapsed": false,
    "pycharm": {
     "name": "#%%\n"
    }
   }
  },
  {
   "cell_type": "code",
   "execution_count": null,
   "outputs": [],
   "source": [
    "df.iloc[:,81]"
   ],
   "metadata": {
    "collapsed": false,
    "pycharm": {
     "name": "#%%\n",
     "is_executing": true
    }
   }
  },
  {
   "cell_type": "code",
   "execution_count": null,
   "outputs": [],
   "source": [
    "print(df.columns.values.tolist())"
   ],
   "metadata": {
    "collapsed": false,
    "pycharm": {
     "name": "#%%\n",
     "is_executing": true
    }
   }
  },
  {
   "cell_type": "code",
   "execution_count": 186,
   "outputs": [
    {
     "data": {
      "text/plain": "                     Datetime         MMM        AOS         ABT        ABBV  \\\n149 2022-06-22 12:00:00-04:00  130.097702  52.880001  106.074997  147.839996   \n150 2022-06-22 12:01:00-04:00  130.309998  52.959999  106.180000  147.970001   \n151 2022-06-22 12:02:00-04:00  130.330002  52.980000  106.160004  147.860001   \n152 2022-06-22 12:03:00-04:00  130.175797  52.915001  106.000000  147.580002   \n153 2022-06-22 12:04:00-04:00  130.169998  52.849998  105.955002  147.649994   \n154 2022-06-22 12:05:00-04:00  130.119995  52.825001  105.910004  147.580002   \n155 2022-06-22 12:06:00-04:00  130.009995  52.755001  105.820000  147.440002   \n156 2022-06-22 12:07:00-04:00  129.940002  52.730000  105.750000  147.406097   \n157 2022-06-22 12:08:00-04:00  129.970001  52.759998  105.790001  147.350006   \n158 2022-06-22 12:09:00-04:00  130.000000  52.799999  105.845001  147.380005   \n159 2022-06-22 12:10:00-04:00  130.070007  52.889999  105.860001  147.449997   \n160 2022-06-22 12:11:00-04:00  130.050003  52.830002  105.860001  147.445007   \n161 2022-06-22 12:12:00-04:00  130.080002  52.849998  105.839996  147.455002   \n162 2022-06-22 12:13:00-04:00  130.210602  52.880001  105.970001  147.479996   \n163 2022-06-22 12:14:00-04:00  130.180893  52.849998  105.934998  147.339996   \n\n           ABMD         ACN       ATVI        ADM        ADBE  ...  \\\n149  234.199997  286.809998  75.779999  78.035004  367.459991  ...   \n150  235.077661  287.399994  75.830002  78.019997  367.910004  ...   \n151  235.077661  287.250000  75.800003  78.019997  368.100006  ...   \n152  235.077661  286.880005  75.739998  77.900002  367.899994  ...   \n153  233.669998  286.190002  75.754997  77.889999  367.359985  ...   \n154  234.190002  285.890015  75.760002  77.900002  367.339996  ...   \n155  235.077661  285.559998  75.690002  77.849998  366.859985  ...   \n156  233.339996  285.399994  75.680000  77.809998  366.720001  ...   \n157  235.077661  285.600006  75.690002  77.791397  366.869995  ...   \n158  235.077661  285.970001  75.699997  77.860001  367.109985  ...   \n159  234.059998  286.209991  75.739998  77.910004  367.265015  ...   \n160  233.529999  286.220001  75.699997  77.849998  367.369995  ...   \n161  233.779999  286.429993  75.705002  77.875000  367.369995  ...   \n162  233.776794  286.691101  75.680000  77.919998  367.500000  ...   \n163  233.860001  286.730011  75.660004  77.860001  367.600006  ...   \n\n            WTW         GWW       WYNN        XEL        XYL         YUM  \\\n149  197.494995  446.000000  53.880001  65.559998  75.384697  111.389999   \n150  197.520004  446.410004  53.990002  65.620003  75.449997  111.510002   \n151  197.800003  447.317656  53.939999  65.669998  75.430000  111.676092   \n152  197.460007  445.834991  53.849998  65.599998  75.339996  111.305000   \n153  197.440002  447.317656  53.830002  65.589996  75.300003  111.309998   \n154  197.380005  447.317656  53.840000  65.550003  75.309998  111.309998   \n155  197.169998  447.317656  53.779900  65.540001  75.239998  111.320000   \n156  197.119995  447.317656  53.730000  65.529999  75.180000  111.339996   \n157  197.169998  444.790009  53.730000  65.529999  75.239998  111.230003   \n158  197.229996  447.317656  53.639999  65.570000  75.279999  111.260002   \n159  197.210007  445.399994  53.669998  65.620003  75.349998  111.300003   \n160  197.110001  445.309998  53.650002  65.629997  75.370003  111.269997   \n161  197.160004  447.317656  53.740002  65.680000  75.430000  111.339996   \n162  197.539993  447.317656  53.787498  65.730003  75.440002  111.449501   \n163  197.339996  445.320007  53.779999  65.690002  75.470001  111.425003   \n\n           ZBRA         ZBH       ZION         ZTS  \n149  293.977509  105.565002  52.490002  165.270004  \n150  294.779999  105.650002  52.470001  165.350006  \n151  294.834991  105.610001  52.505001  165.320007  \n152  294.320007  105.489998  52.529999  165.139999  \n153  294.040009  105.449997  52.480000  165.063904  \n154  293.954987  105.430000  52.450001  165.139999  \n155  296.005189  105.503864  52.410000  165.009995  \n156  296.005189  105.339897  52.259998  164.990005  \n157  293.750000  105.209999  52.230000  164.910004  \n158  296.005189  105.320000  52.189999  165.050003  \n159  294.144989  105.360001  52.220001  165.100006  \n160  293.720001  105.503864  52.189999  165.020004  \n161  296.005189  105.389999  52.220001  165.110001  \n162  294.214996  105.489998  52.240002  165.190002  \n163  294.234985  105.385002  52.290001  165.080002  \n\n[15 rows x 504 columns]",
      "text/html": "<div>\n<style scoped>\n    .dataframe tbody tr th:only-of-type {\n        vertical-align: middle;\n    }\n\n    .dataframe tbody tr th {\n        vertical-align: top;\n    }\n\n    .dataframe thead th {\n        text-align: right;\n    }\n</style>\n<table border=\"1\" class=\"dataframe\">\n  <thead>\n    <tr style=\"text-align: right;\">\n      <th></th>\n      <th>Datetime</th>\n      <th>MMM</th>\n      <th>AOS</th>\n      <th>ABT</th>\n      <th>ABBV</th>\n      <th>ABMD</th>\n      <th>ACN</th>\n      <th>ATVI</th>\n      <th>ADM</th>\n      <th>ADBE</th>\n      <th>...</th>\n      <th>WTW</th>\n      <th>GWW</th>\n      <th>WYNN</th>\n      <th>XEL</th>\n      <th>XYL</th>\n      <th>YUM</th>\n      <th>ZBRA</th>\n      <th>ZBH</th>\n      <th>ZION</th>\n      <th>ZTS</th>\n    </tr>\n  </thead>\n  <tbody>\n    <tr>\n      <th>149</th>\n      <td>2022-06-22 12:00:00-04:00</td>\n      <td>130.097702</td>\n      <td>52.880001</td>\n      <td>106.074997</td>\n      <td>147.839996</td>\n      <td>234.199997</td>\n      <td>286.809998</td>\n      <td>75.779999</td>\n      <td>78.035004</td>\n      <td>367.459991</td>\n      <td>...</td>\n      <td>197.494995</td>\n      <td>446.000000</td>\n      <td>53.880001</td>\n      <td>65.559998</td>\n      <td>75.384697</td>\n      <td>111.389999</td>\n      <td>293.977509</td>\n      <td>105.565002</td>\n      <td>52.490002</td>\n      <td>165.270004</td>\n    </tr>\n    <tr>\n      <th>150</th>\n      <td>2022-06-22 12:01:00-04:00</td>\n      <td>130.309998</td>\n      <td>52.959999</td>\n      <td>106.180000</td>\n      <td>147.970001</td>\n      <td>235.077661</td>\n      <td>287.399994</td>\n      <td>75.830002</td>\n      <td>78.019997</td>\n      <td>367.910004</td>\n      <td>...</td>\n      <td>197.520004</td>\n      <td>446.410004</td>\n      <td>53.990002</td>\n      <td>65.620003</td>\n      <td>75.449997</td>\n      <td>111.510002</td>\n      <td>294.779999</td>\n      <td>105.650002</td>\n      <td>52.470001</td>\n      <td>165.350006</td>\n    </tr>\n    <tr>\n      <th>151</th>\n      <td>2022-06-22 12:02:00-04:00</td>\n      <td>130.330002</td>\n      <td>52.980000</td>\n      <td>106.160004</td>\n      <td>147.860001</td>\n      <td>235.077661</td>\n      <td>287.250000</td>\n      <td>75.800003</td>\n      <td>78.019997</td>\n      <td>368.100006</td>\n      <td>...</td>\n      <td>197.800003</td>\n      <td>447.317656</td>\n      <td>53.939999</td>\n      <td>65.669998</td>\n      <td>75.430000</td>\n      <td>111.676092</td>\n      <td>294.834991</td>\n      <td>105.610001</td>\n      <td>52.505001</td>\n      <td>165.320007</td>\n    </tr>\n    <tr>\n      <th>152</th>\n      <td>2022-06-22 12:03:00-04:00</td>\n      <td>130.175797</td>\n      <td>52.915001</td>\n      <td>106.000000</td>\n      <td>147.580002</td>\n      <td>235.077661</td>\n      <td>286.880005</td>\n      <td>75.739998</td>\n      <td>77.900002</td>\n      <td>367.899994</td>\n      <td>...</td>\n      <td>197.460007</td>\n      <td>445.834991</td>\n      <td>53.849998</td>\n      <td>65.599998</td>\n      <td>75.339996</td>\n      <td>111.305000</td>\n      <td>294.320007</td>\n      <td>105.489998</td>\n      <td>52.529999</td>\n      <td>165.139999</td>\n    </tr>\n    <tr>\n      <th>153</th>\n      <td>2022-06-22 12:04:00-04:00</td>\n      <td>130.169998</td>\n      <td>52.849998</td>\n      <td>105.955002</td>\n      <td>147.649994</td>\n      <td>233.669998</td>\n      <td>286.190002</td>\n      <td>75.754997</td>\n      <td>77.889999</td>\n      <td>367.359985</td>\n      <td>...</td>\n      <td>197.440002</td>\n      <td>447.317656</td>\n      <td>53.830002</td>\n      <td>65.589996</td>\n      <td>75.300003</td>\n      <td>111.309998</td>\n      <td>294.040009</td>\n      <td>105.449997</td>\n      <td>52.480000</td>\n      <td>165.063904</td>\n    </tr>\n    <tr>\n      <th>154</th>\n      <td>2022-06-22 12:05:00-04:00</td>\n      <td>130.119995</td>\n      <td>52.825001</td>\n      <td>105.910004</td>\n      <td>147.580002</td>\n      <td>234.190002</td>\n      <td>285.890015</td>\n      <td>75.760002</td>\n      <td>77.900002</td>\n      <td>367.339996</td>\n      <td>...</td>\n      <td>197.380005</td>\n      <td>447.317656</td>\n      <td>53.840000</td>\n      <td>65.550003</td>\n      <td>75.309998</td>\n      <td>111.309998</td>\n      <td>293.954987</td>\n      <td>105.430000</td>\n      <td>52.450001</td>\n      <td>165.139999</td>\n    </tr>\n    <tr>\n      <th>155</th>\n      <td>2022-06-22 12:06:00-04:00</td>\n      <td>130.009995</td>\n      <td>52.755001</td>\n      <td>105.820000</td>\n      <td>147.440002</td>\n      <td>235.077661</td>\n      <td>285.559998</td>\n      <td>75.690002</td>\n      <td>77.849998</td>\n      <td>366.859985</td>\n      <td>...</td>\n      <td>197.169998</td>\n      <td>447.317656</td>\n      <td>53.779900</td>\n      <td>65.540001</td>\n      <td>75.239998</td>\n      <td>111.320000</td>\n      <td>296.005189</td>\n      <td>105.503864</td>\n      <td>52.410000</td>\n      <td>165.009995</td>\n    </tr>\n    <tr>\n      <th>156</th>\n      <td>2022-06-22 12:07:00-04:00</td>\n      <td>129.940002</td>\n      <td>52.730000</td>\n      <td>105.750000</td>\n      <td>147.406097</td>\n      <td>233.339996</td>\n      <td>285.399994</td>\n      <td>75.680000</td>\n      <td>77.809998</td>\n      <td>366.720001</td>\n      <td>...</td>\n      <td>197.119995</td>\n      <td>447.317656</td>\n      <td>53.730000</td>\n      <td>65.529999</td>\n      <td>75.180000</td>\n      <td>111.339996</td>\n      <td>296.005189</td>\n      <td>105.339897</td>\n      <td>52.259998</td>\n      <td>164.990005</td>\n    </tr>\n    <tr>\n      <th>157</th>\n      <td>2022-06-22 12:08:00-04:00</td>\n      <td>129.970001</td>\n      <td>52.759998</td>\n      <td>105.790001</td>\n      <td>147.350006</td>\n      <td>235.077661</td>\n      <td>285.600006</td>\n      <td>75.690002</td>\n      <td>77.791397</td>\n      <td>366.869995</td>\n      <td>...</td>\n      <td>197.169998</td>\n      <td>444.790009</td>\n      <td>53.730000</td>\n      <td>65.529999</td>\n      <td>75.239998</td>\n      <td>111.230003</td>\n      <td>293.750000</td>\n      <td>105.209999</td>\n      <td>52.230000</td>\n      <td>164.910004</td>\n    </tr>\n    <tr>\n      <th>158</th>\n      <td>2022-06-22 12:09:00-04:00</td>\n      <td>130.000000</td>\n      <td>52.799999</td>\n      <td>105.845001</td>\n      <td>147.380005</td>\n      <td>235.077661</td>\n      <td>285.970001</td>\n      <td>75.699997</td>\n      <td>77.860001</td>\n      <td>367.109985</td>\n      <td>...</td>\n      <td>197.229996</td>\n      <td>447.317656</td>\n      <td>53.639999</td>\n      <td>65.570000</td>\n      <td>75.279999</td>\n      <td>111.260002</td>\n      <td>296.005189</td>\n      <td>105.320000</td>\n      <td>52.189999</td>\n      <td>165.050003</td>\n    </tr>\n    <tr>\n      <th>159</th>\n      <td>2022-06-22 12:10:00-04:00</td>\n      <td>130.070007</td>\n      <td>52.889999</td>\n      <td>105.860001</td>\n      <td>147.449997</td>\n      <td>234.059998</td>\n      <td>286.209991</td>\n      <td>75.739998</td>\n      <td>77.910004</td>\n      <td>367.265015</td>\n      <td>...</td>\n      <td>197.210007</td>\n      <td>445.399994</td>\n      <td>53.669998</td>\n      <td>65.620003</td>\n      <td>75.349998</td>\n      <td>111.300003</td>\n      <td>294.144989</td>\n      <td>105.360001</td>\n      <td>52.220001</td>\n      <td>165.100006</td>\n    </tr>\n    <tr>\n      <th>160</th>\n      <td>2022-06-22 12:11:00-04:00</td>\n      <td>130.050003</td>\n      <td>52.830002</td>\n      <td>105.860001</td>\n      <td>147.445007</td>\n      <td>233.529999</td>\n      <td>286.220001</td>\n      <td>75.699997</td>\n      <td>77.849998</td>\n      <td>367.369995</td>\n      <td>...</td>\n      <td>197.110001</td>\n      <td>445.309998</td>\n      <td>53.650002</td>\n      <td>65.629997</td>\n      <td>75.370003</td>\n      <td>111.269997</td>\n      <td>293.720001</td>\n      <td>105.503864</td>\n      <td>52.189999</td>\n      <td>165.020004</td>\n    </tr>\n    <tr>\n      <th>161</th>\n      <td>2022-06-22 12:12:00-04:00</td>\n      <td>130.080002</td>\n      <td>52.849998</td>\n      <td>105.839996</td>\n      <td>147.455002</td>\n      <td>233.779999</td>\n      <td>286.429993</td>\n      <td>75.705002</td>\n      <td>77.875000</td>\n      <td>367.369995</td>\n      <td>...</td>\n      <td>197.160004</td>\n      <td>447.317656</td>\n      <td>53.740002</td>\n      <td>65.680000</td>\n      <td>75.430000</td>\n      <td>111.339996</td>\n      <td>296.005189</td>\n      <td>105.389999</td>\n      <td>52.220001</td>\n      <td>165.110001</td>\n    </tr>\n    <tr>\n      <th>162</th>\n      <td>2022-06-22 12:13:00-04:00</td>\n      <td>130.210602</td>\n      <td>52.880001</td>\n      <td>105.970001</td>\n      <td>147.479996</td>\n      <td>233.776794</td>\n      <td>286.691101</td>\n      <td>75.680000</td>\n      <td>77.919998</td>\n      <td>367.500000</td>\n      <td>...</td>\n      <td>197.539993</td>\n      <td>447.317656</td>\n      <td>53.787498</td>\n      <td>65.730003</td>\n      <td>75.440002</td>\n      <td>111.449501</td>\n      <td>294.214996</td>\n      <td>105.489998</td>\n      <td>52.240002</td>\n      <td>165.190002</td>\n    </tr>\n    <tr>\n      <th>163</th>\n      <td>2022-06-22 12:14:00-04:00</td>\n      <td>130.180893</td>\n      <td>52.849998</td>\n      <td>105.934998</td>\n      <td>147.339996</td>\n      <td>233.860001</td>\n      <td>286.730011</td>\n      <td>75.660004</td>\n      <td>77.860001</td>\n      <td>367.600006</td>\n      <td>...</td>\n      <td>197.339996</td>\n      <td>445.320007</td>\n      <td>53.779999</td>\n      <td>65.690002</td>\n      <td>75.470001</td>\n      <td>111.425003</td>\n      <td>294.234985</td>\n      <td>105.385002</td>\n      <td>52.290001</td>\n      <td>165.080002</td>\n    </tr>\n  </tbody>\n</table>\n<p>15 rows × 504 columns</p>\n</div>"
     },
     "execution_count": 186,
     "metadata": {},
     "output_type": "execute_result"
    }
   ],
   "source": [
    "df"
   ],
   "metadata": {
    "collapsed": false,
    "pycharm": {
     "name": "#%%\n"
    }
   }
  },
  {
   "cell_type": "code",
   "execution_count": 185,
   "outputs": [],
   "source": [
    "a.to_csv('sp500_min_20220622.csv')"
   ],
   "metadata": {
    "collapsed": false,
    "pycharm": {
     "name": "#%%\n"
    }
   }
  },
  {
   "cell_type": "code",
   "execution_count": 205,
   "outputs": [
    {
     "name": "stdout",
     "output_type": "stream",
     "text": [
      "[*********************100%***********************]  1 of 1 completed\n"
     ]
    }
   ],
   "source": [
    "a = yfinance.download(tickers=\"^GSPC\", start=\"2022-06-22\", end=\"2022-06-23\", interval=\"1m\")\n",
    "a.to_csv('gspc_min_20220622.csv')"
   ],
   "metadata": {
    "collapsed": false,
    "pycharm": {
     "name": "#%%\n"
    }
   }
  },
  {
   "cell_type": "code",
   "execution_count": 203,
   "outputs": [
    {
     "data": {
      "text/plain": "                     Datetime         Open         High          Low  \\\n0   2022-06-22 09:30:00-04:00  3733.889893  3733.889893  3717.689941   \n1   2022-06-22 09:31:00-04:00  3720.870117  3732.669922  3720.870117   \n2   2022-06-22 09:32:00-04:00  3732.479980  3737.100098  3732.479980   \n3   2022-06-22 09:33:00-04:00  3736.639893  3740.629883  3733.330078   \n4   2022-06-22 09:34:00-04:00  3733.080078  3733.729980  3727.870117   \n..                        ...          ...          ...          ...   \n383 2022-06-22 15:55:00-04:00  3771.830078  3772.679932  3770.979980   \n384 2022-06-22 15:56:00-04:00  3771.560059  3771.560059  3767.669922   \n385 2022-06-22 15:57:00-04:00  3768.870117  3769.290039  3767.540039   \n386 2022-06-22 15:58:00-04:00  3767.989990  3767.989990  3764.219971   \n387 2022-06-22 15:59:00-04:00  3764.449951  3764.810059  3758.139893   \n\n           Close    Adj Close    Volume  \n0    3720.060059  3720.060059         0  \n1    3732.629883  3732.629883  14212584  \n2    3737.100098  3737.100098   4994392  \n3    3733.330078  3733.330078  20302848  \n4    3731.159912  3731.159912   9976279  \n..           ...          ...       ...  \n383  3771.639893  3771.639893  21876000  \n384  3768.610107  3768.610107  17466000  \n385  3768.179932  3768.179932  11066000  \n386  3764.370117  3764.370117  32300000  \n387  3758.139893  3758.139893  53037000  \n\n[388 rows x 7 columns]",
      "text/html": "<div>\n<style scoped>\n    .dataframe tbody tr th:only-of-type {\n        vertical-align: middle;\n    }\n\n    .dataframe tbody tr th {\n        vertical-align: top;\n    }\n\n    .dataframe thead th {\n        text-align: right;\n    }\n</style>\n<table border=\"1\" class=\"dataframe\">\n  <thead>\n    <tr style=\"text-align: right;\">\n      <th></th>\n      <th>Datetime</th>\n      <th>Open</th>\n      <th>High</th>\n      <th>Low</th>\n      <th>Close</th>\n      <th>Adj Close</th>\n      <th>Volume</th>\n    </tr>\n  </thead>\n  <tbody>\n    <tr>\n      <th>0</th>\n      <td>2022-06-22 09:30:00-04:00</td>\n      <td>3733.889893</td>\n      <td>3733.889893</td>\n      <td>3717.689941</td>\n      <td>3720.060059</td>\n      <td>3720.060059</td>\n      <td>0</td>\n    </tr>\n    <tr>\n      <th>1</th>\n      <td>2022-06-22 09:31:00-04:00</td>\n      <td>3720.870117</td>\n      <td>3732.669922</td>\n      <td>3720.870117</td>\n      <td>3732.629883</td>\n      <td>3732.629883</td>\n      <td>14212584</td>\n    </tr>\n    <tr>\n      <th>2</th>\n      <td>2022-06-22 09:32:00-04:00</td>\n      <td>3732.479980</td>\n      <td>3737.100098</td>\n      <td>3732.479980</td>\n      <td>3737.100098</td>\n      <td>3737.100098</td>\n      <td>4994392</td>\n    </tr>\n    <tr>\n      <th>3</th>\n      <td>2022-06-22 09:33:00-04:00</td>\n      <td>3736.639893</td>\n      <td>3740.629883</td>\n      <td>3733.330078</td>\n      <td>3733.330078</td>\n      <td>3733.330078</td>\n      <td>20302848</td>\n    </tr>\n    <tr>\n      <th>4</th>\n      <td>2022-06-22 09:34:00-04:00</td>\n      <td>3733.080078</td>\n      <td>3733.729980</td>\n      <td>3727.870117</td>\n      <td>3731.159912</td>\n      <td>3731.159912</td>\n      <td>9976279</td>\n    </tr>\n    <tr>\n      <th>...</th>\n      <td>...</td>\n      <td>...</td>\n      <td>...</td>\n      <td>...</td>\n      <td>...</td>\n      <td>...</td>\n      <td>...</td>\n    </tr>\n    <tr>\n      <th>383</th>\n      <td>2022-06-22 15:55:00-04:00</td>\n      <td>3771.830078</td>\n      <td>3772.679932</td>\n      <td>3770.979980</td>\n      <td>3771.639893</td>\n      <td>3771.639893</td>\n      <td>21876000</td>\n    </tr>\n    <tr>\n      <th>384</th>\n      <td>2022-06-22 15:56:00-04:00</td>\n      <td>3771.560059</td>\n      <td>3771.560059</td>\n      <td>3767.669922</td>\n      <td>3768.610107</td>\n      <td>3768.610107</td>\n      <td>17466000</td>\n    </tr>\n    <tr>\n      <th>385</th>\n      <td>2022-06-22 15:57:00-04:00</td>\n      <td>3768.870117</td>\n      <td>3769.290039</td>\n      <td>3767.540039</td>\n      <td>3768.179932</td>\n      <td>3768.179932</td>\n      <td>11066000</td>\n    </tr>\n    <tr>\n      <th>386</th>\n      <td>2022-06-22 15:58:00-04:00</td>\n      <td>3767.989990</td>\n      <td>3767.989990</td>\n      <td>3764.219971</td>\n      <td>3764.370117</td>\n      <td>3764.370117</td>\n      <td>32300000</td>\n    </tr>\n    <tr>\n      <th>387</th>\n      <td>2022-06-22 15:59:00-04:00</td>\n      <td>3764.449951</td>\n      <td>3764.810059</td>\n      <td>3758.139893</td>\n      <td>3758.139893</td>\n      <td>3758.139893</td>\n      <td>53037000</td>\n    </tr>\n  </tbody>\n</table>\n<p>388 rows × 7 columns</p>\n</div>"
     },
     "execution_count": 203,
     "metadata": {},
     "output_type": "execute_result"
    }
   ],
   "source": [
    "a.reset_index()"
   ],
   "metadata": {
    "collapsed": false,
    "pycharm": {
     "name": "#%%\n"
    }
   }
  },
  {
   "cell_type": "code",
   "execution_count": 201,
   "outputs": [
    {
     "data": {
      "text/plain": "[<matplotlib.lines.Line2D at 0x129c7e400>]"
     },
     "execution_count": 201,
     "metadata": {},
     "output_type": "execute_result"
    },
    {
     "data": {
      "text/plain": "<Figure size 432x288 with 1 Axes>",
      "image/png": "[encoded data removed]"
     },
     "metadata": {},
     "output_type": "display_data"
    }
   ],
   "source": [
    "b = a.reset_index().loc[148:163, \"Adj Close\"]\n",
    "plt.plot(b)"
   ],
   "metadata": {
    "collapsed": false,
    "pycharm": {
     "name": "#%%\n"
    }
   }
  },
  {
   "cell_type": "code",
   "execution_count": 191,
   "outputs": [
    {
     "name": "stderr",
     "output_type": "stream",
     "text": [
      "Exception in thread Thread-2027:\n",
      "Traceback (most recent call last):\n",
      "  File \"/Users/bmartins/.pyenv/versions/3.9.0/lib/python3.9/threading.py\", line 950, in _bootstrap_inner\n",
      "    self.run()\n",
      "  File \"/Users/bmartins/.pyenv/versions/3.9.0/lib/python3.9/threading.py\", line 888, in run\n",
      "    self._target(*self._args, **self._kwargs)\n",
      "  File \"/Users/bmartins/.pyenv/versions/nlp_bert_venv/lib/python3.9/site-packages/multitasking/__init__.py\", line 104, in _run_via_pool\n",
      "    return callee(*args, **kwargs)\n",
      "  File \"/Users/bmartins/.pyenv/versions/nlp_bert_venv/lib/python3.9/site-packages/yfinance/multi.py\", line 188, in _download_one_threaded\n",
      "    data = _download_one(ticker, start, end, auto_adjust, back_adjust,\n",
      "  File \"/Users/bmartins/.pyenv/versions/nlp_bert_venv/lib/python3.9/site-packages/yfinance/multi.py\", line 202, in _download_one\n",
      "    return Ticker(ticker).history(period=period, interval=interval,\n",
      "  File \"/Users/bmartins/.pyenv/versions/nlp_bert_venv/lib/python3.9/site-packages/yfinance/base.py\", line 166, in history\n",
      "    _time.strptime(str(start), '%Y-%m-%d')))\n",
      "  File \"/Users/bmartins/.pyenv/versions/3.9.0/lib/python3.9/_strptime.py\", line 562, in _strptime_time\n",
      "    tt = _strptime(data_string, format)[0]\n",
      "  File \"/Users/bmartins/.pyenv/versions/3.9.0/lib/python3.9/_strptime.py\", line 352, in _strptime\n",
      "    raise ValueError(\"unconverted data remains: %s\" %\n",
      "ValueError: unconverted data remains: T12:00:00-04:00\n"
     ]
    },
    {
     "ename": "KeyboardInterrupt",
     "evalue": "",
     "output_type": "error",
     "traceback": [
      "\u001B[0;31m---------------------------------------------------------------------------\u001B[0m",
      "\u001B[0;31mKeyboardInterrupt\u001B[0m                         Traceback (most recent call last)",
      "\u001B[0;32m/var/folders/hm/7qm6m0wn1jd3ng_sl_8871sm0000gq/T/ipykernel_35195/871985886.py\u001B[0m in \u001B[0;36m<module>\u001B[0;34m\u001B[0m\n\u001B[0;32m----> 1\u001B[0;31m \u001B[0ma\u001B[0m \u001B[0;34m=\u001B[0m \u001B[0myfinance\u001B[0m\u001B[0;34m.\u001B[0m\u001B[0mdownload\u001B[0m\u001B[0;34m(\u001B[0m\u001B[0mtickers\u001B[0m\u001B[0;34m=\u001B[0m\u001B[0;34m\"^GSPC\"\u001B[0m\u001B[0;34m,\u001B[0m \u001B[0mstart\u001B[0m\u001B[0;34m=\u001B[0m\u001B[0;34m\"2022-06-22T12:00:00-04:00\"\u001B[0m\u001B[0;34m,\u001B[0m \u001B[0mend\u001B[0m\u001B[0;34m=\u001B[0m\u001B[0;34m\"2022-06-23\"\u001B[0m\u001B[0;34m,\u001B[0m \u001B[0minterval\u001B[0m\u001B[0;34m=\u001B[0m\u001B[0;34m\"1m\"\u001B[0m\u001B[0;34m)\u001B[0m\u001B[0;34m\u001B[0m\u001B[0;34m\u001B[0m\u001B[0m\n\u001B[0m\u001B[1;32m      2\u001B[0m \u001B[0ma\u001B[0m\u001B[0;34m\u001B[0m\u001B[0;34m\u001B[0m\u001B[0m\n",
      "\u001B[0;32m~/.pyenv/versions/nlp_bert_venv/lib/python3.9/site-packages/yfinance/multi.py\u001B[0m in \u001B[0;36mdownload\u001B[0;34m(tickers, start, end, actions, threads, group_by, auto_adjust, back_adjust, progress, period, show_errors, interval, prepost, proxy, rounding, timeout, **kwargs)\u001B[0m\n\u001B[1;32m    110\u001B[0m                                    rounding=rounding, timeout=timeout)\n\u001B[1;32m    111\u001B[0m         \u001B[0;32mwhile\u001B[0m \u001B[0mlen\u001B[0m\u001B[0;34m(\u001B[0m\u001B[0mshared\u001B[0m\u001B[0;34m.\u001B[0m\u001B[0m_DFS\u001B[0m\u001B[0;34m)\u001B[0m \u001B[0;34m<\u001B[0m \u001B[0mlen\u001B[0m\u001B[0;34m(\u001B[0m\u001B[0mtickers\u001B[0m\u001B[0;34m)\u001B[0m\u001B[0;34m:\u001B[0m\u001B[0;34m\u001B[0m\u001B[0;34m\u001B[0m\u001B[0m\n\u001B[0;32m--> 112\u001B[0;31m             \u001B[0m_time\u001B[0m\u001B[0;34m.\u001B[0m\u001B[0msleep\u001B[0m\u001B[0;34m(\u001B[0m\u001B[0;36m0.01\u001B[0m\u001B[0;34m)\u001B[0m\u001B[0;34m\u001B[0m\u001B[0;34m\u001B[0m\u001B[0m\n\u001B[0m\u001B[1;32m    113\u001B[0m \u001B[0;34m\u001B[0m\u001B[0m\n\u001B[1;32m    114\u001B[0m     \u001B[0;31m# download synchronously\u001B[0m\u001B[0;34m\u001B[0m\u001B[0;34m\u001B[0m\u001B[0;34m\u001B[0m\u001B[0m\n",
      "\u001B[0;31mKeyboardInterrupt\u001B[0m: "
     ]
    }
   ],
   "source": [
    "a = yfinance.download(tickers=\"^GSPC\", start=\"2022-06-22T12:00:00-04:00\", end=\"2022-06-23\", interval=\"1m\")\n",
    "a"
   ],
   "metadata": {
    "collapsed": false,
    "pycharm": {
     "name": "#%%\n"
    }
   }
  }
 ],
 "metadata": {
  "kernelspec": {
   "display_name": "Python 3",
   "language": "python",
   "name": "python3"
  },
  "language_info": {
   "codemirror_mode": {
    "name": "ipython",
    "version": 2
   },
   "file_extension": ".py",
   "mimetype": "text/x-python",
   "name": "python",
   "nbconvert_exporter": "python",
   "pygments_lexer": "ipython2",
   "version": "2.7.6"
  }
 },
 "nbformat": 4,
 "nbformat_minor": 0
}