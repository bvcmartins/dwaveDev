{
 "cells": [
  {
   "cell_type": "code",
   "execution_count": 2,
   "outputs": [],
   "source": [
    "import seaborn as sns\n",
    "import pandas as pd\n",
    "import numpy as np\n",
    "import yaml\n",
    "from pandas_datareader.data import DataReader\n",
    "from statsmodels.tsa.arima.model import ARIMA"
   ],
   "metadata": {
    "collapsed": false,
    "pycharm": {
     "name": "#%%\n"
    }
   }
  },
  {
   "cell_type": "code",
   "execution_count": 37,
   "outputs": [],
   "source": [
    "payload=pd.read_html('https://en.wikipedia.org/wiki/List_of_S%26P_500_companies')\n",
    "first_table = payload[0]\n",
    "second_table = payload[1]\n",
    "stocks = first_table['Symbol'].values.tolist()"
   ],
   "metadata": {
    "collapsed": false,
    "pycharm": {
     "name": "#%%\n"
    }
   }
  },
  {
   "cell_type": "code",
   "execution_count": 14,
   "outputs": [],
   "source": [
    "def calc_stocks(stocks, dates):\n",
    "    panel_data = DataReader(stocks, 'yahoo', dates[0], dates[1])\n",
    "    panel_data = panel_data.resample('BM').last()\n",
    "    df = pd.DataFrame(index=panel_data.index, columns=stocks)\n",
    "    for i in stocks:\n",
    "        df[i] = panel_data[[('Adj Close', i)]]\n",
    "    return df"
   ],
   "metadata": {
    "collapsed": false,
    "pycharm": {
     "name": "#%%\n"
    }
   }
  },
  {
   "cell_type": "code",
   "execution_count": 65,
   "outputs": [
    {
     "name": "stderr",
     "output_type": "stream",
     "text": [
      "/Users/bmartins/.pyenv/versions/nlp_bert_venv/lib/python3.9/site-packages/pandas_datareader/base.py:272: SymbolWarning: Failed to read symbol: 'BRK.B', replacing with NaN.\n",
      "  warnings.warn(msg.format(sym), SymbolWarning)\n",
      "/Users/bmartins/.pyenv/versions/nlp_bert_venv/lib/python3.9/site-packages/pandas_datareader/base.py:272: SymbolWarning: Failed to read symbol: 'BF.B', replacing with NaN.\n",
      "  warnings.warn(msg.format(sym), SymbolWarning)\n",
      "/Users/bmartins/.pyenv/versions/nlp_bert_venv/lib/python3.9/site-packages/pandas_datareader/base.py:272: SymbolWarning: Failed to read symbol: 'CARR', replacing with NaN.\n",
      "  warnings.warn(msg.format(sym), SymbolWarning)\n",
      "/Users/bmartins/.pyenv/versions/nlp_bert_venv/lib/python3.9/site-packages/pandas_datareader/base.py:272: SymbolWarning: Failed to read symbol: 'CEG', replacing with NaN.\n",
      "  warnings.warn(msg.format(sym), SymbolWarning)\n",
      "/Users/bmartins/.pyenv/versions/nlp_bert_venv/lib/python3.9/site-packages/pandas_datareader/base.py:272: SymbolWarning: Failed to read symbol: 'ETR', replacing with NaN.\n",
      "  warnings.warn(msg.format(sym), SymbolWarning)\n",
      "/Users/bmartins/.pyenv/versions/nlp_bert_venv/lib/python3.9/site-packages/pandas_datareader/base.py:272: SymbolWarning: Failed to read symbol: 'MDT', replacing with NaN.\n",
      "  warnings.warn(msg.format(sym), SymbolWarning)\n",
      "/Users/bmartins/.pyenv/versions/nlp_bert_venv/lib/python3.9/site-packages/pandas_datareader/base.py:272: SymbolWarning: Failed to read symbol: 'MRK', replacing with NaN.\n",
      "  warnings.warn(msg.format(sym), SymbolWarning)\n",
      "/Users/bmartins/.pyenv/versions/nlp_bert_venv/lib/python3.9/site-packages/pandas_datareader/base.py:272: SymbolWarning: Failed to read symbol: 'MET', replacing with NaN.\n",
      "  warnings.warn(msg.format(sym), SymbolWarning)\n",
      "/Users/bmartins/.pyenv/versions/nlp_bert_venv/lib/python3.9/site-packages/pandas_datareader/base.py:272: SymbolWarning: Failed to read symbol: 'MPWR', replacing with NaN.\n",
      "  warnings.warn(msg.format(sym), SymbolWarning)\n",
      "/Users/bmartins/.pyenv/versions/nlp_bert_venv/lib/python3.9/site-packages/pandas_datareader/base.py:272: SymbolWarning: Failed to read symbol: 'OGN', replacing with NaN.\n",
      "  warnings.warn(msg.format(sym), SymbolWarning)\n",
      "/Users/bmartins/.pyenv/versions/nlp_bert_venv/lib/python3.9/site-packages/pandas_datareader/base.py:272: SymbolWarning: Failed to read symbol: 'OTIS', replacing with NaN.\n",
      "  warnings.warn(msg.format(sym), SymbolWarning)\n"
     ]
    },
    {
     "name": "stdout",
     "output_type": "stream",
     "text": [
      "['ENPH', 'AMD', 'SEDG', 'ETN', 'PAYC', 'LRCX', 'TER', 'KLAC', 'GNRC', 'AMAT', 'TDG', 'CDAY', 'MKTX', 'CMG', 'DXCM', 'CPRT', 'KEYS', 'EPAM', 'MTCH', 'NXPI', 'WDC', 'CZR', 'MSCI', 'ANSS', 'MCHP', 'NVR', 'QRVO', 'QCOM', 'MCO', 'MRNA', 'XRAY', 'MLM', 'TGT', 'MAS', 'CDW', 'ZBRA', 'STX', 'AZO', 'GPN', 'EW', 'TSN', 'PHM', 'WYNN', 'NOW', 'CDNS', 'TFX', 'IR', 'EQIX', 'SWKS', 'HWM']\n",
      "['ENPH', 'AMD', 'SEDG', 'ETN', 'PAYC', 'LRCX', 'TER', 'KLAC', 'GNRC', 'AMAT', 'TDG', 'CDAY', 'MKTX', 'CMG', 'DXCM', 'CPRT', 'KEYS', 'EPAM', 'MTCH', 'NXPI', 'WDC', 'CZR', 'MSCI', 'ANSS', 'MCHP', 'NVR', 'QRVO', 'QCOM', 'MCO', 'MRNA', 'XRAY', 'MLM', 'TGT', 'MAS', 'CDW', 'ZBRA', 'STX', 'AZO', 'GPN', 'EW', 'TSN', 'PHM', 'WYNN', 'NOW', 'CDNS', 'TFX', 'IR', 'EQIX', 'SWKS', 'HWM', 'LDOS', 'TDY', 'HLT', 'SNPS', 'URI', 'APD', 'SBUX', 'DHR', 'MU', 'GRMN', 'FBHS', 'CBRE', 'EL', 'NLOK', 'NWL', 'CHTR', 'AVGO', 'WHR', 'FAST', 'FMC', 'PCAR', 'CTAS', 'SPGI', 'MA', 'ADI', 'MTD', 'AME', 'AMT', 'RMD', 'NEM', 'SHW', 'MSFT', 'ALLE', 'SBAC', 'SWK', 'CTLT', 'ODFL', 'AVY', 'DHI', 'ZTS', 'ADSK', 'SO', 'LVS', 'DOV', 'POOL', 'BALL', 'ITW', 'FISV', 'LYB', 'FLT']\n"
     ]
    }
   ],
   "source": [
    "dates = ['2018-10-01', '2020-01-01']\n",
    "df = calc_stocks(stocks, dates)\n",
    "df_pct = df.pct_change().iloc[1:].mean(axis=0)\n",
    "list_50 = df_pct.sort_values(ascending=False).iloc[:50].index.values.tolist()\n",
    "print(list_50)\n",
    "list_100 = df_pct.sort_values(ascending=False).iloc[:101].index.values.tolist()\n",
    "print(list_100)"
   ],
   "metadata": {
    "collapsed": false,
    "pycharm": {
     "name": "#%%\n"
    }
   }
  },
  {
   "cell_type": "code",
   "execution_count": 66,
   "outputs": [
    {
     "data": {
      "text/plain": "                 ENPH        AMD       SEDG        ETN        PAYC  \\\nDate                                                                 \n2018-10-31   4.540000  18.209999  38.730000  39.155769  125.199997   \n2018-11-30   5.400000  21.299999  38.930000  42.425644  132.770004   \n2018-12-31   4.730000  18.459999  35.099998  37.859955  122.449997   \n2019-01-31   7.230000  24.410000  43.790001  42.045170  148.240005   \n2019-02-28   9.070000  23.530001  42.259998  43.986141  181.729996   \n2019-03-29   9.230000  25.520000  37.680000  44.814816  189.130005   \n2019-04-30  10.040000  27.629999  44.299999  46.072044  202.529999   \n2019-05-31  15.170000  27.410000  53.580002  41.800461  212.100006   \n2019-06-28  18.230000  30.370001  62.459999  46.733013  226.720001   \n2019-07-31  28.150000  30.450001  65.230003  46.121365  240.750000   \n2019-08-30  29.670000  31.450001  81.919998  76.023857  250.119995   \n2019-09-30  22.230000  28.990000  83.720001  78.312485  209.490005   \n2019-10-31  19.430000  33.930000  84.959999  82.707512  211.529999   \n2019-11-29  21.870001  39.150002  81.610001  87.825111  276.809998   \n2019-12-31  26.129999  45.860001  95.089996  89.932899  264.760010   \n\n                  LRCX        TER        KLAC        GNRC       AMAT  ...  \\\nDate                                                                  ...   \n2018-10-31  134.972488  33.883698   86.545166   50.730000  31.565193  ...   \n2018-11-30  149.476349  35.189796   93.945335   56.919998  35.990479  ...   \n2018-12-31  130.569580  30.940203   85.299995   49.700001  31.607519  ...   \n2019-01-31  162.605469  35.485596  101.580284   52.930000  37.728214  ...   \n2019-02-28  168.847733  40.345707  110.853317   51.560001  37.203144  ...   \n2019-03-29  172.701874  39.367443  114.615936   51.230000  38.484001  ...   \n2019-04-30  200.120377  48.418793  122.361946   54.990002  42.763229  ...   \n2019-05-31  168.456940  41.729820   99.618477   55.150002  37.734772  ...   \n2019-06-28  182.269485  47.443653  114.241806   69.410004  43.801205  ...   \n2019-07-31  202.423553  55.187534  131.755020   72.300003  48.151093  ...   \n2019-08-30  204.267197  52.454403  143.744507   77.989998  47.045845  ...   \n2019-09-30  225.382828  57.443924  154.970016   78.339996  48.887707  ...   \n2019-10-31  264.323273  60.727280  164.290558   96.580002  53.159256  ...   \n2019-11-29  260.217590  62.174248  160.026321   98.500000  56.921558  ...   \n2019-12-31  286.382782  67.737053  174.001526  100.589996  60.008499  ...   \n\n                  ADSK         SO        LVS         DOV        POOL  \\\nDate                                                                   \n2018-10-31  129.250000  38.703648  46.908272   77.983711  141.896759   \n2018-11-30  144.500000  41.204525  50.502457   80.370628  158.691437   \n2018-12-31  128.610001  38.235847  48.509304   67.172745  145.157104   \n2019-01-31  147.199997  42.310158  54.390072   83.154091  146.387512   \n2019-02-28  163.009995  43.793152  57.251232   86.163757  155.791214   \n2019-03-29  155.820007  45.546993  57.550789   89.276047  161.550812   \n2019-04-30  178.210007  46.904240  63.300205   93.311546  179.931763   \n2019-05-31  160.910004  47.698048  51.924107   85.552223  176.587173   \n2019-06-28  162.899994  49.285015  56.548462   95.876663  187.607910   \n2019-07-31  156.169998  50.105240  57.840401   92.671196  186.006851   \n2019-08-30  142.820007  52.506718  53.084167   90.182167  193.432327   \n2019-09-30  147.699997  55.670101  55.998657   95.781281  198.672470   \n2019-10-31  147.360001  56.472214  59.954239   99.946938  204.286926   \n2019-11-29  180.899994  56.429146  60.836494  107.718124  203.899948   \n2019-12-31  183.460007  57.985741  67.689629  111.370560  209.756699   \n\n                 BALL         ITW        FISV        LYB         FLT  \nDate                                                                  \n2018-10-31  44.799999  117.671539   79.300003  62.754921  200.029999  \n2018-11-30  49.110001  128.260773   79.129997  65.594963  193.399994  \n2018-12-31  45.980000  117.795151   73.489998  59.129910  185.720001  \n2019-01-31  52.279999  127.669525   82.930000  74.903519  201.809998  \n2019-02-28  54.779999  133.964188   84.690002  73.654701  233.279999  \n2019-03-29  57.860001  134.395096   88.279999  73.271278  246.589996  \n2019-04-30  59.939999  145.724991   87.239998  76.887772  260.950012  \n2019-05-31  61.389999  130.752655   85.860001  64.704933  258.209991  \n2019-06-28  69.989998  142.159027   91.160004  76.051430  280.850006  \n2019-07-31  71.480003  145.382858  105.430000  73.896950  284.170013  \n2019-08-30  80.410004  141.263565  106.940002  68.325302  298.399994  \n2019-09-30  72.809998  148.536499  103.589996  80.087334  286.779999  \n2019-10-31  69.970001  160.012024  106.139999  80.293221  294.220001  \n2019-11-29  66.059998  165.469757  116.239998  83.765625  306.920013  \n2019-12-31  64.669998  171.513611  115.629997  85.521683  287.720001  \n\n[15 rows x 100 columns]",
      "text/html": "<div>\n<style scoped>\n    .dataframe tbody tr th:only-of-type {\n        vertical-align: middle;\n    }\n\n    .dataframe tbody tr th {\n        vertical-align: top;\n    }\n\n    .dataframe thead th {\n        text-align: right;\n    }\n</style>\n<table border=\"1\" class=\"dataframe\">\n  <thead>\n    <tr style=\"text-align: right;\">\n      <th></th>\n      <th>ENPH</th>\n      <th>AMD</th>\n      <th>SEDG</th>\n      <th>ETN</th>\n      <th>PAYC</th>\n      <th>LRCX</th>\n      <th>TER</th>\n      <th>KLAC</th>\n      <th>GNRC</th>\n      <th>AMAT</th>\n      <th>...</th>\n      <th>ADSK</th>\n      <th>SO</th>\n      <th>LVS</th>\n      <th>DOV</th>\n      <th>POOL</th>\n      <th>BALL</th>\n      <th>ITW</th>\n      <th>FISV</th>\n      <th>LYB</th>\n      <th>FLT</th>\n    </tr>\n    <tr>\n      <th>Date</th>\n      <th></th>\n      <th></th>\n      <th></th>\n      <th></th>\n      <th></th>\n      <th></th>\n      <th></th>\n      <th></th>\n      <th></th>\n      <th></th>\n      <th></th>\n      <th></th>\n      <th></th>\n      <th></th>\n      <th></th>\n      <th></th>\n      <th></th>\n      <th></th>\n      <th></th>\n      <th></th>\n      <th></th>\n    </tr>\n  </thead>\n  <tbody>\n    <tr>\n      <th>2018-10-31</th>\n      <td>4.540000</td>\n      <td>18.209999</td>\n      <td>38.730000</td>\n      <td>39.155769</td>\n      <td>125.199997</td>\n      <td>134.972488</td>\n      <td>33.883698</td>\n      <td>86.545166</td>\n      <td>50.730000</td>\n      <td>31.565193</td>\n      <td>...</td>\n      <td>129.250000</td>\n      <td>38.703648</td>\n      <td>46.908272</td>\n      <td>77.983711</td>\n      <td>141.896759</td>\n      <td>44.799999</td>\n      <td>117.671539</td>\n      <td>79.300003</td>\n      <td>62.754921</td>\n      <td>200.029999</td>\n    </tr>\n    <tr>\n      <th>2018-11-30</th>\n      <td>5.400000</td>\n      <td>21.299999</td>\n      <td>38.930000</td>\n      <td>42.425644</td>\n      <td>132.770004</td>\n      <td>149.476349</td>\n      <td>35.189796</td>\n      <td>93.945335</td>\n      <td>56.919998</td>\n      <td>35.990479</td>\n      <td>...</td>\n      <td>144.500000</td>\n      <td>41.204525</td>\n      <td>50.502457</td>\n      <td>80.370628</td>\n      <td>158.691437</td>\n      <td>49.110001</td>\n      <td>128.260773</td>\n      <td>79.129997</td>\n      <td>65.594963</td>\n      <td>193.399994</td>\n    </tr>\n    <tr>\n      <th>2018-12-31</th>\n      <td>4.730000</td>\n      <td>18.459999</td>\n      <td>35.099998</td>\n      <td>37.859955</td>\n      <td>122.449997</td>\n      <td>130.569580</td>\n      <td>30.940203</td>\n      <td>85.299995</td>\n      <td>49.700001</td>\n      <td>31.607519</td>\n      <td>...</td>\n      <td>128.610001</td>\n      <td>38.235847</td>\n      <td>48.509304</td>\n      <td>67.172745</td>\n      <td>145.157104</td>\n      <td>45.980000</td>\n      <td>117.795151</td>\n      <td>73.489998</td>\n      <td>59.129910</td>\n      <td>185.720001</td>\n    </tr>\n    <tr>\n      <th>2019-01-31</th>\n      <td>7.230000</td>\n      <td>24.410000</td>\n      <td>43.790001</td>\n      <td>42.045170</td>\n      <td>148.240005</td>\n      <td>162.605469</td>\n      <td>35.485596</td>\n      <td>101.580284</td>\n      <td>52.930000</td>\n      <td>37.728214</td>\n      <td>...</td>\n      <td>147.199997</td>\n      <td>42.310158</td>\n      <td>54.390072</td>\n      <td>83.154091</td>\n      <td>146.387512</td>\n      <td>52.279999</td>\n      <td>127.669525</td>\n      <td>82.930000</td>\n      <td>74.903519</td>\n      <td>201.809998</td>\n    </tr>\n    <tr>\n      <th>2019-02-28</th>\n      <td>9.070000</td>\n      <td>23.530001</td>\n      <td>42.259998</td>\n      <td>43.986141</td>\n      <td>181.729996</td>\n      <td>168.847733</td>\n      <td>40.345707</td>\n      <td>110.853317</td>\n      <td>51.560001</td>\n      <td>37.203144</td>\n      <td>...</td>\n      <td>163.009995</td>\n      <td>43.793152</td>\n      <td>57.251232</td>\n      <td>86.163757</td>\n      <td>155.791214</td>\n      <td>54.779999</td>\n      <td>133.964188</td>\n      <td>84.690002</td>\n      <td>73.654701</td>\n      <td>233.279999</td>\n    </tr>\n    <tr>\n      <th>2019-03-29</th>\n      <td>9.230000</td>\n      <td>25.520000</td>\n      <td>37.680000</td>\n      <td>44.814816</td>\n      <td>189.130005</td>\n      <td>172.701874</td>\n      <td>39.367443</td>\n      <td>114.615936</td>\n      <td>51.230000</td>\n      <td>38.484001</td>\n      <td>...</td>\n      <td>155.820007</td>\n      <td>45.546993</td>\n      <td>57.550789</td>\n      <td>89.276047</td>\n      <td>161.550812</td>\n      <td>57.860001</td>\n      <td>134.395096</td>\n      <td>88.279999</td>\n      <td>73.271278</td>\n      <td>246.589996</td>\n    </tr>\n    <tr>\n      <th>2019-04-30</th>\n      <td>10.040000</td>\n      <td>27.629999</td>\n      <td>44.299999</td>\n      <td>46.072044</td>\n      <td>202.529999</td>\n      <td>200.120377</td>\n      <td>48.418793</td>\n      <td>122.361946</td>\n      <td>54.990002</td>\n      <td>42.763229</td>\n      <td>...</td>\n      <td>178.210007</td>\n      <td>46.904240</td>\n      <td>63.300205</td>\n      <td>93.311546</td>\n      <td>179.931763</td>\n      <td>59.939999</td>\n      <td>145.724991</td>\n      <td>87.239998</td>\n      <td>76.887772</td>\n      <td>260.950012</td>\n    </tr>\n    <tr>\n      <th>2019-05-31</th>\n      <td>15.170000</td>\n      <td>27.410000</td>\n      <td>53.580002</td>\n      <td>41.800461</td>\n      <td>212.100006</td>\n      <td>168.456940</td>\n      <td>41.729820</td>\n      <td>99.618477</td>\n      <td>55.150002</td>\n      <td>37.734772</td>\n      <td>...</td>\n      <td>160.910004</td>\n      <td>47.698048</td>\n      <td>51.924107</td>\n      <td>85.552223</td>\n      <td>176.587173</td>\n      <td>61.389999</td>\n      <td>130.752655</td>\n      <td>85.860001</td>\n      <td>64.704933</td>\n      <td>258.209991</td>\n    </tr>\n    <tr>\n      <th>2019-06-28</th>\n      <td>18.230000</td>\n      <td>30.370001</td>\n      <td>62.459999</td>\n      <td>46.733013</td>\n      <td>226.720001</td>\n      <td>182.269485</td>\n      <td>47.443653</td>\n      <td>114.241806</td>\n      <td>69.410004</td>\n      <td>43.801205</td>\n      <td>...</td>\n      <td>162.899994</td>\n      <td>49.285015</td>\n      <td>56.548462</td>\n      <td>95.876663</td>\n      <td>187.607910</td>\n      <td>69.989998</td>\n      <td>142.159027</td>\n      <td>91.160004</td>\n      <td>76.051430</td>\n      <td>280.850006</td>\n    </tr>\n    <tr>\n      <th>2019-07-31</th>\n      <td>28.150000</td>\n      <td>30.450001</td>\n      <td>65.230003</td>\n      <td>46.121365</td>\n      <td>240.750000</td>\n      <td>202.423553</td>\n      <td>55.187534</td>\n      <td>131.755020</td>\n      <td>72.300003</td>\n      <td>48.151093</td>\n      <td>...</td>\n      <td>156.169998</td>\n      <td>50.105240</td>\n      <td>57.840401</td>\n      <td>92.671196</td>\n      <td>186.006851</td>\n      <td>71.480003</td>\n      <td>145.382858</td>\n      <td>105.430000</td>\n      <td>73.896950</td>\n      <td>284.170013</td>\n    </tr>\n    <tr>\n      <th>2019-08-30</th>\n      <td>29.670000</td>\n      <td>31.450001</td>\n      <td>81.919998</td>\n      <td>76.023857</td>\n      <td>250.119995</td>\n      <td>204.267197</td>\n      <td>52.454403</td>\n      <td>143.744507</td>\n      <td>77.989998</td>\n      <td>47.045845</td>\n      <td>...</td>\n      <td>142.820007</td>\n      <td>52.506718</td>\n      <td>53.084167</td>\n      <td>90.182167</td>\n      <td>193.432327</td>\n      <td>80.410004</td>\n      <td>141.263565</td>\n      <td>106.940002</td>\n      <td>68.325302</td>\n      <td>298.399994</td>\n    </tr>\n    <tr>\n      <th>2019-09-30</th>\n      <td>22.230000</td>\n      <td>28.990000</td>\n      <td>83.720001</td>\n      <td>78.312485</td>\n      <td>209.490005</td>\n      <td>225.382828</td>\n      <td>57.443924</td>\n      <td>154.970016</td>\n      <td>78.339996</td>\n      <td>48.887707</td>\n      <td>...</td>\n      <td>147.699997</td>\n      <td>55.670101</td>\n      <td>55.998657</td>\n      <td>95.781281</td>\n      <td>198.672470</td>\n      <td>72.809998</td>\n      <td>148.536499</td>\n      <td>103.589996</td>\n      <td>80.087334</td>\n      <td>286.779999</td>\n    </tr>\n    <tr>\n      <th>2019-10-31</th>\n      <td>19.430000</td>\n      <td>33.930000</td>\n      <td>84.959999</td>\n      <td>82.707512</td>\n      <td>211.529999</td>\n      <td>264.323273</td>\n      <td>60.727280</td>\n      <td>164.290558</td>\n      <td>96.580002</td>\n      <td>53.159256</td>\n      <td>...</td>\n      <td>147.360001</td>\n      <td>56.472214</td>\n      <td>59.954239</td>\n      <td>99.946938</td>\n      <td>204.286926</td>\n      <td>69.970001</td>\n      <td>160.012024</td>\n      <td>106.139999</td>\n      <td>80.293221</td>\n      <td>294.220001</td>\n    </tr>\n    <tr>\n      <th>2019-11-29</th>\n      <td>21.870001</td>\n      <td>39.150002</td>\n      <td>81.610001</td>\n      <td>87.825111</td>\n      <td>276.809998</td>\n      <td>260.217590</td>\n      <td>62.174248</td>\n      <td>160.026321</td>\n      <td>98.500000</td>\n      <td>56.921558</td>\n      <td>...</td>\n      <td>180.899994</td>\n      <td>56.429146</td>\n      <td>60.836494</td>\n      <td>107.718124</td>\n      <td>203.899948</td>\n      <td>66.059998</td>\n      <td>165.469757</td>\n      <td>116.239998</td>\n      <td>83.765625</td>\n      <td>306.920013</td>\n    </tr>\n    <tr>\n      <th>2019-12-31</th>\n      <td>26.129999</td>\n      <td>45.860001</td>\n      <td>95.089996</td>\n      <td>89.932899</td>\n      <td>264.760010</td>\n      <td>286.382782</td>\n      <td>67.737053</td>\n      <td>174.001526</td>\n      <td>100.589996</td>\n      <td>60.008499</td>\n      <td>...</td>\n      <td>183.460007</td>\n      <td>57.985741</td>\n      <td>67.689629</td>\n      <td>111.370560</td>\n      <td>209.756699</td>\n      <td>64.669998</td>\n      <td>171.513611</td>\n      <td>115.629997</td>\n      <td>85.521683</td>\n      <td>287.720001</td>\n    </tr>\n  </tbody>\n</table>\n<p>15 rows × 100 columns</p>\n</div>"
     },
     "execution_count": 66,
     "metadata": {},
     "output_type": "execute_result"
    }
   ],
   "source": [
    "df.loc[:, list_100]"
   ],
   "metadata": {
    "collapsed": false,
    "pycharm": {
     "name": "#%%\n"
    }
   }
  },
  {
   "cell_type": "code",
   "execution_count": null,
   "outputs": [],
   "source": [
    "dates = ['2021-01-01', '2022-05-01']\n",
    "df = calc_stocks(stocks, dates)\n",
    "df_pct = df.pct_change().iloc[1:].mean(axis=0)\n",
    "list_50 = df_pct.sort_values(ascending=False).iloc[:50].index.values.tolist()\n",
    "print(list_50)"
   ],
   "metadata": {
    "collapsed": false,
    "pycharm": {
     "name": "#%%\n",
     "is_executing": true
    }
   }
  },
  {
   "cell_type": "code",
   "execution_count": 67,
   "outputs": [
    {
     "name": "stdout",
     "output_type": "stream",
     "text": [
      "['ENPH', 'AMD', 'SEDG', 'ETN', 'PAYC', 'LRCX', 'TER', 'KLAC', 'GNRC', 'AMAT', 'TDG', 'CDAY', 'MKTX', 'CMG', 'DXCM', 'CPRT', 'KEYS', 'EPAM', 'MTCH', 'NXPI', 'WDC', 'CZR', 'MSCI', 'ANSS', 'MCHP', 'NVR', 'QRVO', 'QCOM', 'MCO', 'MRNA', 'XRAY', 'MLM', 'TGT', 'MAS', 'CDW', 'ZBRA', 'STX', 'AZO', 'GPN', 'EW', 'TSN', 'PHM', 'WYNN', 'NOW', 'CDNS', 'TFX', 'IR', 'EQIX', 'SWKS', 'HWM', 'LDOS', 'TDY', 'HLT', 'SNPS', 'URI', 'APD', 'SBUX', 'DHR', 'MU', 'GRMN', 'FBHS', 'CBRE', 'EL', 'NLOK', 'NWL', 'CHTR', 'AVGO', 'WHR', 'FAST', 'FMC', 'PCAR', 'CTAS', 'SPGI', 'MA', 'ADI', 'MTD', 'AME', 'AMT', 'RMD', 'NEM', 'SHW', 'MSFT', 'ALLE', 'SBAC', 'SWK', 'CTLT', 'ODFL', 'AVY', 'DHI', 'ZTS', 'ADSK', 'SO', 'LVS', 'DOV', 'POOL', 'BALL', 'ITW', 'FISV', 'LYB', 'FLT', 'PLD']\n"
     ]
    }
   ],
   "source": [
    "list_100 = df_pct.sort_values(ascending=False).iloc[:101].index.values.tolist()\n",
    "print(list_100)"
   ],
   "metadata": {
    "collapsed": false,
    "pycharm": {
     "name": "#%%\n"
    }
   }
  },
  {
   "cell_type": "code",
   "execution_count": 64,
   "outputs": [
    {
     "data": {
      "text/plain": "                  MRO        DVN         NUE        APA        OXY  \\\nDate                                                                 \n2021-01-29   7.112206  15.728911   47.873737  14.151438  20.031832   \n2021-02-26  10.940664  20.583281   58.768867  19.552372  26.572634   \n2021-03-31  10.526692  21.041765   79.267181  17.738848  26.591555   \n2021-04-30  11.098368  22.515169   81.232338  19.849133  25.332899   \n2021-05-31  11.975268  25.577541  101.258972  20.643095  25.932257   \n2021-06-30  13.468469  28.331980   95.136665  21.466837  31.247290   \n2021-07-30  11.461054  25.080450  103.159752  18.635092  26.081045   \n2021-08-31  11.669271  28.681396  116.587784  19.360617  25.671343   \n2021-09-30  13.576080  34.932793   98.061371  21.298666  29.570387   \n2021-10-29  16.207872  39.428513  111.164101  26.108818  33.519104   \n2021-11-30  15.438878  41.376328  105.797562  25.670517  29.640364   \n2021-12-31  16.365808  44.049999  114.150002  26.786192  28.990000   \n2022-01-31  19.405743  50.570000  101.400002  33.209999  37.669998   \n2022-02-28  22.559999  59.549999  131.619995  35.630001  43.730000   \n2022-03-31  25.110001  59.130001  148.649994  41.330002  56.740002   \n2022-04-29  24.920000  58.169998  154.779999  40.930000  55.090000   \n\n                  AAPL        MOS         COP         EOG          CF  ...  \\\nDate                                                                   ...   \n2021-01-29  131.539673  25.693972   38.526295   48.071228   40.263241  ...   \n2021-02-26  121.054382  29.098721   50.515999   60.900291   44.366367  ...   \n2021-03-31  121.942871  31.336246   51.448425   68.418503   44.464355  ...   \n2021-04-30  131.237091  34.875324   49.670990   69.854324   47.648777  ...   \n2021-05-31  124.610001  35.827011   54.560131   76.209892   52.390568  ...   \n2021-06-30  136.960007  31.696957   59.610905   79.150536   50.695782  ...   \n2021-07-30  145.860001  31.021496   55.292908   70.362511   46.557350  ...   \n2021-08-31  151.830002  31.965153   54.770161   65.205551   45.029701  ...   \n2021-09-30  141.500000  35.564411   66.842674   77.518509   55.340332  ...   \n2021-10-29  149.800003  41.388927   73.912102   89.699928   56.311909  ...   \n2021-11-30  165.300003  34.070946   69.585930   84.402908   60.353138  ...   \n2021-12-31  177.570007  39.204784   71.818748   88.181732   70.503296  ...   \n2022-01-31  174.779999  39.863354   88.176468  111.480003   68.600769  ...   \n2022-02-28  165.119995  52.316284   94.860001  114.919998   81.190002  ...   \n2022-03-31  174.610001  66.500000  100.000000  119.230003  103.059998  ...   \n2022-04-29  157.649994  62.419998   95.519997  116.760002   96.830002  ...   \n\n                    GD        AIG        EXC        ANET         PLD  \\\nDate                                                                   \n2021-01-29  143.141510  36.531433  28.878885   76.889999  101.166458   \n2021-02-26  159.526489  42.883453  26.822063   69.959999   97.117844   \n2021-03-31  177.180084  45.388451  30.809690   75.472504  104.556442   \n2021-04-30  186.844147  47.588627  31.654949   78.792503  114.943039   \n2021-05-31  186.529861  51.900578  32.182594   84.845001  116.235199   \n2021-06-30  184.909195  47.043125  31.604851   90.577499  118.493904   \n2021-07-30  193.765732  46.796051  33.380882   95.097504  126.930130   \n2021-08-31  197.996277  53.921700  34.964336   92.382500  133.492767   \n2021-09-30  193.765732  54.568653  34.479317   85.910004  124.933266   \n2021-10-29  201.611542  58.744064  37.938660  102.422501  144.385925   \n2021-11-30  187.908920  52.292057  37.610558  124.059998  150.152985   \n2021-12-31  207.299423  56.860001  41.198288  143.750000  168.360001   \n2022-01-31  212.100006  57.750000  41.333809  124.309998  156.820007   \n2022-02-28  234.449997  61.240002  42.560001  122.730003  145.850006   \n2022-03-31  241.179993  62.770000  47.630001  138.979996  161.479996   \n2022-04-29  236.529999  58.509998  46.779999  115.570000  160.289993   \n\n                  HPQ        SBNY         CPT        KIM         NOC  \nDate                                                                  \n2021-01-29  23.712605  164.428452   99.719582  15.998172  280.462219  \n2021-02-26  28.223259  217.333420  101.672005  17.761747  286.781372  \n2021-03-31  31.131643  225.057663  108.101173  18.327692  318.226440  \n2021-04-30  33.445683  250.901306  118.497223  20.527016  348.511200  \n2021-05-31  28.660723  249.145569  123.316574  20.830032  361.281128  \n2021-06-30  29.791012  245.055496  131.295151  20.538525  358.871735  \n2021-07-30  28.488459  226.970001  147.841873  21.011354  358.466888  \n2021-08-31  29.346958  259.329987  148.485138  21.464483  364.649170  \n2021-09-30  27.174786  272.279999  146.764404  20.600592  357.161774  \n2021-10-29  30.124680  297.820007  162.319626  22.437273  354.256104  \n2021-11-30  35.041168  302.299988  164.419525  22.258568  347.415314  \n2021-12-31  37.669998  323.470001  178.679993  24.650000  385.533417  \n2022-01-31  36.730000  304.630005  160.089996  24.260000  368.431580  \n2022-02-28  34.360001  344.890015  165.110001  23.530001  442.140015  \n2022-03-31  36.299999  293.489990  166.199997  24.700001  447.220001  \n2022-04-29  36.630001  242.250000  156.889999  25.330000  439.399994  \n\n[16 rows x 50 columns]",
      "text/html": "<div>\n<style scoped>\n    .dataframe tbody tr th:only-of-type {\n        vertical-align: middle;\n    }\n\n    .dataframe tbody tr th {\n        vertical-align: top;\n    }\n\n    .dataframe thead th {\n        text-align: right;\n    }\n</style>\n<table border=\"1\" class=\"dataframe\">\n  <thead>\n    <tr style=\"text-align: right;\">\n      <th></th>\n      <th>MRO</th>\n      <th>DVN</th>\n      <th>NUE</th>\n      <th>APA</th>\n      <th>OXY</th>\n      <th>AAPL</th>\n      <th>MOS</th>\n      <th>COP</th>\n      <th>EOG</th>\n      <th>CF</th>\n      <th>...</th>\n      <th>GD</th>\n      <th>AIG</th>\n      <th>EXC</th>\n      <th>ANET</th>\n      <th>PLD</th>\n      <th>HPQ</th>\n      <th>SBNY</th>\n      <th>CPT</th>\n      <th>KIM</th>\n      <th>NOC</th>\n    </tr>\n    <tr>\n      <th>Date</th>\n      <th></th>\n      <th></th>\n      <th></th>\n      <th></th>\n      <th></th>\n      <th></th>\n      <th></th>\n      <th></th>\n      <th></th>\n      <th></th>\n      <th></th>\n      <th></th>\n      <th></th>\n      <th></th>\n      <th></th>\n      <th></th>\n      <th></th>\n      <th></th>\n      <th></th>\n      <th></th>\n      <th></th>\n    </tr>\n  </thead>\n  <tbody>\n    <tr>\n      <th>2021-01-29</th>\n      <td>7.112206</td>\n      <td>15.728911</td>\n      <td>47.873737</td>\n      <td>14.151438</td>\n      <td>20.031832</td>\n      <td>131.539673</td>\n      <td>25.693972</td>\n      <td>38.526295</td>\n      <td>48.071228</td>\n      <td>40.263241</td>\n      <td>...</td>\n      <td>143.141510</td>\n      <td>36.531433</td>\n      <td>28.878885</td>\n      <td>76.889999</td>\n      <td>101.166458</td>\n      <td>23.712605</td>\n      <td>164.428452</td>\n      <td>99.719582</td>\n      <td>15.998172</td>\n      <td>280.462219</td>\n    </tr>\n    <tr>\n      <th>2021-02-26</th>\n      <td>10.940664</td>\n      <td>20.583281</td>\n      <td>58.768867</td>\n      <td>19.552372</td>\n      <td>26.572634</td>\n      <td>121.054382</td>\n      <td>29.098721</td>\n      <td>50.515999</td>\n      <td>60.900291</td>\n      <td>44.366367</td>\n      <td>...</td>\n      <td>159.526489</td>\n      <td>42.883453</td>\n      <td>26.822063</td>\n      <td>69.959999</td>\n      <td>97.117844</td>\n      <td>28.223259</td>\n      <td>217.333420</td>\n      <td>101.672005</td>\n      <td>17.761747</td>\n      <td>286.781372</td>\n    </tr>\n    <tr>\n      <th>2021-03-31</th>\n      <td>10.526692</td>\n      <td>21.041765</td>\n      <td>79.267181</td>\n      <td>17.738848</td>\n      <td>26.591555</td>\n      <td>121.942871</td>\n      <td>31.336246</td>\n      <td>51.448425</td>\n      <td>68.418503</td>\n      <td>44.464355</td>\n      <td>...</td>\n      <td>177.180084</td>\n      <td>45.388451</td>\n      <td>30.809690</td>\n      <td>75.472504</td>\n      <td>104.556442</td>\n      <td>31.131643</td>\n      <td>225.057663</td>\n      <td>108.101173</td>\n      <td>18.327692</td>\n      <td>318.226440</td>\n    </tr>\n    <tr>\n      <th>2021-04-30</th>\n      <td>11.098368</td>\n      <td>22.515169</td>\n      <td>81.232338</td>\n      <td>19.849133</td>\n      <td>25.332899</td>\n      <td>131.237091</td>\n      <td>34.875324</td>\n      <td>49.670990</td>\n      <td>69.854324</td>\n      <td>47.648777</td>\n      <td>...</td>\n      <td>186.844147</td>\n      <td>47.588627</td>\n      <td>31.654949</td>\n      <td>78.792503</td>\n      <td>114.943039</td>\n      <td>33.445683</td>\n      <td>250.901306</td>\n      <td>118.497223</td>\n      <td>20.527016</td>\n      <td>348.511200</td>\n    </tr>\n    <tr>\n      <th>2021-05-31</th>\n      <td>11.975268</td>\n      <td>25.577541</td>\n      <td>101.258972</td>\n      <td>20.643095</td>\n      <td>25.932257</td>\n      <td>124.610001</td>\n      <td>35.827011</td>\n      <td>54.560131</td>\n      <td>76.209892</td>\n      <td>52.390568</td>\n      <td>...</td>\n      <td>186.529861</td>\n      <td>51.900578</td>\n      <td>32.182594</td>\n      <td>84.845001</td>\n      <td>116.235199</td>\n      <td>28.660723</td>\n      <td>249.145569</td>\n      <td>123.316574</td>\n      <td>20.830032</td>\n      <td>361.281128</td>\n    </tr>\n    <tr>\n      <th>2021-06-30</th>\n      <td>13.468469</td>\n      <td>28.331980</td>\n      <td>95.136665</td>\n      <td>21.466837</td>\n      <td>31.247290</td>\n      <td>136.960007</td>\n      <td>31.696957</td>\n      <td>59.610905</td>\n      <td>79.150536</td>\n      <td>50.695782</td>\n      <td>...</td>\n      <td>184.909195</td>\n      <td>47.043125</td>\n      <td>31.604851</td>\n      <td>90.577499</td>\n      <td>118.493904</td>\n      <td>29.791012</td>\n      <td>245.055496</td>\n      <td>131.295151</td>\n      <td>20.538525</td>\n      <td>358.871735</td>\n    </tr>\n    <tr>\n      <th>2021-07-30</th>\n      <td>11.461054</td>\n      <td>25.080450</td>\n      <td>103.159752</td>\n      <td>18.635092</td>\n      <td>26.081045</td>\n      <td>145.860001</td>\n      <td>31.021496</td>\n      <td>55.292908</td>\n      <td>70.362511</td>\n      <td>46.557350</td>\n      <td>...</td>\n      <td>193.765732</td>\n      <td>46.796051</td>\n      <td>33.380882</td>\n      <td>95.097504</td>\n      <td>126.930130</td>\n      <td>28.488459</td>\n      <td>226.970001</td>\n      <td>147.841873</td>\n      <td>21.011354</td>\n      <td>358.466888</td>\n    </tr>\n    <tr>\n      <th>2021-08-31</th>\n      <td>11.669271</td>\n      <td>28.681396</td>\n      <td>116.587784</td>\n      <td>19.360617</td>\n      <td>25.671343</td>\n      <td>151.830002</td>\n      <td>31.965153</td>\n      <td>54.770161</td>\n      <td>65.205551</td>\n      <td>45.029701</td>\n      <td>...</td>\n      <td>197.996277</td>\n      <td>53.921700</td>\n      <td>34.964336</td>\n      <td>92.382500</td>\n      <td>133.492767</td>\n      <td>29.346958</td>\n      <td>259.329987</td>\n      <td>148.485138</td>\n      <td>21.464483</td>\n      <td>364.649170</td>\n    </tr>\n    <tr>\n      <th>2021-09-30</th>\n      <td>13.576080</td>\n      <td>34.932793</td>\n      <td>98.061371</td>\n      <td>21.298666</td>\n      <td>29.570387</td>\n      <td>141.500000</td>\n      <td>35.564411</td>\n      <td>66.842674</td>\n      <td>77.518509</td>\n      <td>55.340332</td>\n      <td>...</td>\n      <td>193.765732</td>\n      <td>54.568653</td>\n      <td>34.479317</td>\n      <td>85.910004</td>\n      <td>124.933266</td>\n      <td>27.174786</td>\n      <td>272.279999</td>\n      <td>146.764404</td>\n      <td>20.600592</td>\n      <td>357.161774</td>\n    </tr>\n    <tr>\n      <th>2021-10-29</th>\n      <td>16.207872</td>\n      <td>39.428513</td>\n      <td>111.164101</td>\n      <td>26.108818</td>\n      <td>33.519104</td>\n      <td>149.800003</td>\n      <td>41.388927</td>\n      <td>73.912102</td>\n      <td>89.699928</td>\n      <td>56.311909</td>\n      <td>...</td>\n      <td>201.611542</td>\n      <td>58.744064</td>\n      <td>37.938660</td>\n      <td>102.422501</td>\n      <td>144.385925</td>\n      <td>30.124680</td>\n      <td>297.820007</td>\n      <td>162.319626</td>\n      <td>22.437273</td>\n      <td>354.256104</td>\n    </tr>\n    <tr>\n      <th>2021-11-30</th>\n      <td>15.438878</td>\n      <td>41.376328</td>\n      <td>105.797562</td>\n      <td>25.670517</td>\n      <td>29.640364</td>\n      <td>165.300003</td>\n      <td>34.070946</td>\n      <td>69.585930</td>\n      <td>84.402908</td>\n      <td>60.353138</td>\n      <td>...</td>\n      <td>187.908920</td>\n      <td>52.292057</td>\n      <td>37.610558</td>\n      <td>124.059998</td>\n      <td>150.152985</td>\n      <td>35.041168</td>\n      <td>302.299988</td>\n      <td>164.419525</td>\n      <td>22.258568</td>\n      <td>347.415314</td>\n    </tr>\n    <tr>\n      <th>2021-12-31</th>\n      <td>16.365808</td>\n      <td>44.049999</td>\n      <td>114.150002</td>\n      <td>26.786192</td>\n      <td>28.990000</td>\n      <td>177.570007</td>\n      <td>39.204784</td>\n      <td>71.818748</td>\n      <td>88.181732</td>\n      <td>70.503296</td>\n      <td>...</td>\n      <td>207.299423</td>\n      <td>56.860001</td>\n      <td>41.198288</td>\n      <td>143.750000</td>\n      <td>168.360001</td>\n      <td>37.669998</td>\n      <td>323.470001</td>\n      <td>178.679993</td>\n      <td>24.650000</td>\n      <td>385.533417</td>\n    </tr>\n    <tr>\n      <th>2022-01-31</th>\n      <td>19.405743</td>\n      <td>50.570000</td>\n      <td>101.400002</td>\n      <td>33.209999</td>\n      <td>37.669998</td>\n      <td>174.779999</td>\n      <td>39.863354</td>\n      <td>88.176468</td>\n      <td>111.480003</td>\n      <td>68.600769</td>\n      <td>...</td>\n      <td>212.100006</td>\n      <td>57.750000</td>\n      <td>41.333809</td>\n      <td>124.309998</td>\n      <td>156.820007</td>\n      <td>36.730000</td>\n      <td>304.630005</td>\n      <td>160.089996</td>\n      <td>24.260000</td>\n      <td>368.431580</td>\n    </tr>\n    <tr>\n      <th>2022-02-28</th>\n      <td>22.559999</td>\n      <td>59.549999</td>\n      <td>131.619995</td>\n      <td>35.630001</td>\n      <td>43.730000</td>\n      <td>165.119995</td>\n      <td>52.316284</td>\n      <td>94.860001</td>\n      <td>114.919998</td>\n      <td>81.190002</td>\n      <td>...</td>\n      <td>234.449997</td>\n      <td>61.240002</td>\n      <td>42.560001</td>\n      <td>122.730003</td>\n      <td>145.850006</td>\n      <td>34.360001</td>\n      <td>344.890015</td>\n      <td>165.110001</td>\n      <td>23.530001</td>\n      <td>442.140015</td>\n    </tr>\n    <tr>\n      <th>2022-03-31</th>\n      <td>25.110001</td>\n      <td>59.130001</td>\n      <td>148.649994</td>\n      <td>41.330002</td>\n      <td>56.740002</td>\n      <td>174.610001</td>\n      <td>66.500000</td>\n      <td>100.000000</td>\n      <td>119.230003</td>\n      <td>103.059998</td>\n      <td>...</td>\n      <td>241.179993</td>\n      <td>62.770000</td>\n      <td>47.630001</td>\n      <td>138.979996</td>\n      <td>161.479996</td>\n      <td>36.299999</td>\n      <td>293.489990</td>\n      <td>166.199997</td>\n      <td>24.700001</td>\n      <td>447.220001</td>\n    </tr>\n    <tr>\n      <th>2022-04-29</th>\n      <td>24.920000</td>\n      <td>58.169998</td>\n      <td>154.779999</td>\n      <td>40.930000</td>\n      <td>55.090000</td>\n      <td>157.649994</td>\n      <td>62.419998</td>\n      <td>95.519997</td>\n      <td>116.760002</td>\n      <td>96.830002</td>\n      <td>...</td>\n      <td>236.529999</td>\n      <td>58.509998</td>\n      <td>46.779999</td>\n      <td>115.570000</td>\n      <td>160.289993</td>\n      <td>36.630001</td>\n      <td>242.250000</td>\n      <td>156.889999</td>\n      <td>25.330000</td>\n      <td>439.399994</td>\n    </tr>\n  </tbody>\n</table>\n<p>16 rows × 50 columns</p>\n</div>"
     },
     "execution_count": 64,
     "metadata": {},
     "output_type": "execute_result"
    }
   ],
   "source": [
    "select_stocks = ['MRO', 'DVN', 'NUE', 'APA', 'OXY', 'AAPL', 'MOS', 'COP', 'EOG', 'CF', 'FANG', 'VLO', 'HAL', 'MPC', 'FTNT', 'PXD', 'XOM', 'HES', 'CVX', 'IT', 'SLB', 'ADM', 'MCK', 'AZO', 'EXR', 'BBWI', 'BKR', 'ANTM', 'PWR', 'OKE', 'IRM', 'WMB', 'PSA', 'FCX', 'NVDA', 'LYV', 'CTRA', 'DLTR', 'WRB', 'KR', 'GD', 'AIG', 'EXC', 'ANET', 'PLD', 'HPQ', 'SBNY', 'CPT', 'KIM', 'NOC']\n",
    "df.loc[:,select_stocks]"
   ],
   "metadata": {
    "collapsed": false,
    "pycharm": {
     "name": "#%%\n"
    }
   }
  },
  {
   "cell_type": "code",
   "execution_count": 34,
   "outputs": [
    {
     "data": {
      "text/plain": "AAPL    0.032244\nMSFT    0.002722\nAAL     0.042179\nWMT     0.010129\ndtype: float64"
     },
     "execution_count": 34,
     "metadata": {},
     "output_type": "execute_result"
    }
   ],
   "source": [
    "# 4 stocks\n",
    "dates = ['2010-01-29', '2012-12-31']\n",
    "df = calc_stocks(['AAPL', 'MSFT', 'AAL', 'WMT'], dates)\n",
    "df.pct_change().iloc[1:].mean(axis=0)"
   ],
   "metadata": {
    "collapsed": false,
    "pycharm": {
     "name": "#%%\n"
    }
   }
  },
  {
   "cell_type": "code",
   "execution_count": 35,
   "outputs": [
    {
     "data": {
      "text/plain": "AAPL     0.027266\nMSFT     0.030791\nAAL     -0.005560\nWMT      0.014602\nMMM     -0.000078\nAIG      0.019820\nGOOGL    0.016004\nAMD      0.074486\nBLK      0.020340\nKO       0.013917\nGE       0.020178\nGM       0.007427\nINTC     0.022323\nJNJ      0.006831\nJPM      0.022449\nCMCSA    0.014700\nMA       0.031293\nMCD      0.010920\nNDAQ     0.018080\nPFE     -0.002227\ndtype: float64"
     },
     "execution_count": 35,
     "metadata": {},
     "output_type": "execute_result"
    }
   ],
   "source": [
    "# 20 stocks\n",
    "stocks = ['AAPL', 'MSFT', 'AAL', 'WMT', 'MMM', 'AIG', 'GOOGL', 'AMD', 'BLK', 'KO', 'GE', 'GM', 'INTC', 'JNJ', 'JPM', 'CMCSA', 'MA', 'MCD', 'NDAQ', 'PFE']\n",
    "dates = ['2018-10-01', '2020-01-01']\n",
    "df = calc_stocks(stocks, dates)\n",
    "df.pct_change().iloc[1:].mean(axis=0)"
   ],
   "metadata": {
    "collapsed": false,
    "pycharm": {
     "name": "#%%\n"
    }
   }
  },
  {
   "cell_type": "code",
   "execution_count": 33,
   "outputs": [
    {
     "data": {
      "text/plain": "AAPL    0.027266\nMSFT    0.030791\nWMT     0.014602\nAAL    -0.005560\nLDOS    0.034242\nINTU    0.018090\nHIG     0.023780\nSWKS    0.034577\nFAST    0.031910\nCERN    0.019984\nNDAQ    0.018080\nRHI     0.007670\nETR     0.029546\nAOS     0.009072\nVNO     0.005982\nCPT     0.015249\nHPE     0.009030\nEFX     0.026447\nAVGO    0.032130\nDLTR    0.010750\nMLM     0.038339\nPSA     0.007087\nTXN     0.027650\nALB    -0.012921\nNVDA    0.018375\nAVB     0.016500\nDRE     0.020137\nTTWO   -0.000043\nLYB     0.028075\nNCLH    0.024595\nRCL     0.023572\nFISV    0.029060\nEQR     0.019603\nSTX     0.036194\nTECH    0.022743\nRTX     0.017718\nD       0.015416\nEMR     0.014124\nLRCX    0.060780\nSLB    -0.004163\nALGN    0.027503\nIEX     0.024508\nWTW     0.026036\nEXR     0.015746\nFIS     0.022459\nCOO     0.017635\nUDR     0.015861\nBBY     0.025550\nNWSA    0.009172\nEPAM    0.046097\ndtype: float64"
     },
     "execution_count": 33,
     "metadata": {},
     "output_type": "execute_result"
    }
   ],
   "source": [
    "# 50 stocks\n",
    "stocks = [ 'AAPL',  'MSFT',  'WMT',  'AAL',  'LDOS',  'INTU',  'HIG',  'SWKS',\n",
    "           'FAST',  'CERN',  'NDAQ',  'RHI',  'ETR',  'AOS',  'VNO',  'CPT',  'HPE',  'EFX',  'AVGO',\n",
    "           'DLTR',  'MLM',  'PSA',  'TXN',  'ALB',  'NVDA',  'AVB',  'DRE',  'TTWO',  'LYB',  'NCLH',\n",
    "           'RCL',  'FISV',  'EQR',  'STX',  'TECH',  'RTX',  'D',  'EMR',  'LRCX',  'SLB',  'ALGN',  'IEX',\n",
    "           'WTW',  'EXR',  'FIS',  'COO',  'UDR',  'BBY',  'NWSA',  'EPAM']\n",
    "dates = ['2018-10-01', '2020-01-01']\n",
    "df = calc_stocks(stocks, dates)\n",
    "df.pct_change().iloc[1:].mean(axis=0)"
   ],
   "metadata": {
    "collapsed": false,
    "pycharm": {
     "name": "#%%\n"
    }
   }
  },
  {
   "cell_type": "code",
   "execution_count": null,
   "outputs": [],
   "source": [
    "# 50 stocks\n",
    "dates = ['2021-01-01', '2022-04-30']\n",
    "stocks = df.sample(n=50, random_state=10).loc[:,'Symbol'].values.tolist()\n",
    "if 'AAPL' not in stocks: stocks[0] = 'AAPL'\n",
    "if 'MSFT' not in stocks: stocks[1] = 'MSFT'\n",
    "if 'WMT' not in stocks: stocks[2] = 'WMT'\n",
    "if 'AAL' not in stocks: stocks[3] = 'AAL'\n",
    "\n",
    "print(f'len set stocks: {len(set(stocks))}')\n",
    "panel_data = DataReader(stocks, 'yahoo', dates[0], dates[1])\n",
    "panel_data = panel_data.resample('BM').last()\n",
    "df_all = pd.DataFrame(index=panel_data.index, columns=stocks)\n",
    "for i in stocks:\n",
    "    df_all[i] = panel_data[[('Adj Close', i)]]\n",
    "\n",
    "price = df_all.iloc[-1]\n",
    "monthly_returns = df_all[list(stocks)].pct_change().iloc[1:]\n",
    "print('df all')\n",
    "display(df_all)\n",
    "print('monthly returns')\n",
    "display(monthly_returns)\n",
    "avg_monthly_returns = monthly_returns.mean(axis=0)\n",
    "print('avg monthly returns')\n",
    "display(avg_monthly_returns)\n",
    "covariance_matrix = monthly_returns.cov()\n",
    "display(covariance_matrix)\n",
    "#display(df_all)\n",
    "#df_all.to_csv('/Users/bmartins/workbench/dwaveStudy/portfolioOptSolved/data/sp50_data_random.csv')\n",
    "rolling_avg = df_all.rolling(window=1).mean()\n",
    "rolling_avg.reset_index(inplace=True)\n",
    "print('rolling avg')\n",
    "display(rolling_avg)\n",
    "\n",
    "print('price')\n",
    "price = df_all.shift(periods=1)\n",
    "display(price)\n",
    "\n",
    "s1 = df_all.stack().values\n",
    "print(s1)\n",
    "print(len(s1))\n",
    "model = ARIMA(s1, order=(3,1,0))\n",
    "model_fit = model.fit()\n",
    "#rolling_forecast = pd.rolling_apply(df_all,3,lambda x: model_fit.forecast())\n",
    "rolling_forecast = df_all.rolling(3).apply(lambda x: model_fit.forecast())\n",
    "rolling_forecast\n",
    "#forecast = model_fit.forecast()\n",
    "#print(forecast)\n",
    "#print(len(forecast))\n",
    "idx = 3\n",
    "for s in stocks:\n",
    "    print(f'stock: {s}, price:{price[s]}, rolling avg: {rolling_avg.loc[idx, s]}')\n"
   ],
   "metadata": {
    "collapsed": false,
    "pycharm": {
     "name": "#%%\n"
    }
   }
  },
  {
   "cell_type": "code",
   "execution_count": null,
   "outputs": [],
   "source": [
    "\n"
   ],
   "metadata": {
    "collapsed": false,
    "pycharm": {
     "name": "#%%\n"
    }
   }
  },
  {
   "cell_type": "code",
   "execution_count": null,
   "outputs": [],
   "source": [
    "# 50 stocks\n",
    "dates = ['2021-01-01', '2022-04-30']\n",
    "stocks = df.sample(n=50, random_state=10).loc[:,'Symbol'].values.tolist()\n",
    "if 'AAPL' not in stocks: stocks[0] = 'AAPL'\n",
    "if 'MSFT' not in stocks: stocks[1] = 'MSFT'\n",
    "if 'WMT' not in stocks: stocks[2] = 'WMT'\n",
    "if 'AAL' not in stocks: stocks[3] = 'AAL'\n",
    "\n",
    "print(f'len set stocks: {len(set(stocks))}')\n",
    "panel_data = DataReader(stocks, 'yahoo', dates[0], dates[1])\n",
    "panel_data = panel_data.resample('BM').last()\n",
    "df_all = pd.DataFrame(index=panel_data.index, columns=stocks)\n",
    "for i in stocks:\n",
    "    df_all[i] = panel_data[[('Adj Close', i)]]\n",
    "\n",
    "price = df_all.iloc[-1]\n",
    "monthly_returns = df_all[list(stocks)].pct_change().iloc[1:]\n",
    "print('df all')\n",
    "display(df_all)\n",
    "print('monthly returns')\n",
    "display(monthly_returns)\n",
    "avg_monthly_returns = monthly_returns.mean(axis=0)\n",
    "print('avg monthly returns')\n",
    "display(avg_monthly_returns)\n",
    "covariance_matrix = monthly_returns.cov()\n",
    "display(covariance_matrix)\n",
    "#display(df_all)\n",
    "#df_all.to_csv('/Users/bmartins/workbench/dwaveStudy/portfolioOptSolved/data/sp50_data_random.csv')\n",
    "rolling_avg = df_all.rolling(window=1).mean()\n",
    "rolling_avg.reset_index(inplace=True)\n",
    "print('rolling avg')\n",
    "display(rolling_avg)\n",
    "\n",
    "print('price')\n",
    "price = df_all.shift(periods=1)\n",
    "display(price)\n",
    "\n",
    "s1 = df_all.stack().values\n",
    "print(s1)\n",
    "print(len(s1))\n",
    "model = ARIMA(s1, order=(3,1,0))\n",
    "model_fit = model.fit()\n",
    "#rolling_forecast = pd.rolling_apply(df_all,3,lambda x: model_fit.forecast())\n",
    "rolling_forecast = df_all.rolling(3).apply(lambda x: model_fit.forecast())\n",
    "rolling_forecast\n",
    "#forecast = model_fit.forecast()\n",
    "#print(forecast)\n",
    "#print(len(forecast))\n",
    "idx = 3\n",
    "for s in stocks:\n",
    "    print(f'stock: {s}, price:{price[s]}, rolling avg: {rolling_avg.loc[idx, s]}')\n"
   ],
   "metadata": {
    "collapsed": false,
    "pycharm": {
     "name": "#%%\n"
    }
   }
  },
  {
   "cell_type": "code",
   "execution_count": 2,
   "outputs": [
    {
     "ename": "FileNotFoundError",
     "evalue": "[Errno 2] No such file or directory: 'config.yml'",
     "output_type": "error",
     "traceback": [
      "\u001B[0;31m---------------------------------------------------------------------------\u001B[0m",
      "\u001B[0;31mFileNotFoundError\u001B[0m                         Traceback (most recent call last)",
      "\u001B[0;32m/var/folders/hm/7qm6m0wn1jd3ng_sl_8871sm0000gq/T/ipykernel_96223/1446303275.py\u001B[0m in \u001B[0;36m<module>\u001B[0;34m\u001B[0m\n\u001B[1;32m      1\u001B[0m \u001B[0;32mimport\u001B[0m \u001B[0myaml\u001B[0m\u001B[0;34m\u001B[0m\u001B[0;34m\u001B[0m\u001B[0m\n\u001B[0;32m----> 2\u001B[0;31m \u001B[0;32mwith\u001B[0m \u001B[0mopen\u001B[0m\u001B[0;34m(\u001B[0m\u001B[0;34m'config.yml'\u001B[0m\u001B[0;34m,\u001B[0m \u001B[0;34m'r'\u001B[0m\u001B[0;34m)\u001B[0m \u001B[0;32mas\u001B[0m \u001B[0myml\u001B[0m\u001B[0;34m:\u001B[0m\u001B[0;34m\u001B[0m\u001B[0;34m\u001B[0m\u001B[0m\n\u001B[0m\u001B[1;32m      3\u001B[0m     \u001B[0mcfg\u001B[0m \u001B[0;34m=\u001B[0m \u001B[0myaml\u001B[0m\u001B[0;34m.\u001B[0m\u001B[0mload\u001B[0m\u001B[0;34m(\u001B[0m\u001B[0myml\u001B[0m\u001B[0;34m)\u001B[0m\u001B[0;34m\u001B[0m\u001B[0;34m\u001B[0m\u001B[0m\n\u001B[1;32m      4\u001B[0m     \u001B[0mlocals\u001B[0m\u001B[0;34m(\u001B[0m\u001B[0;34m)\u001B[0m\u001B[0;34m.\u001B[0m\u001B[0mupdate\u001B[0m\u001B[0;34m(\u001B[0m\u001B[0mcfg\u001B[0m\u001B[0;34m)\u001B[0m\u001B[0;34m\u001B[0m\u001B[0;34m\u001B[0m\u001B[0m\n\u001B[1;32m      5\u001B[0m \u001B[0;34m\u001B[0m\u001B[0m\n",
      "\u001B[0;31mFileNotFoundError\u001B[0m: [Errno 2] No such file or directory: 'config.yml'"
     ]
    }
   ],
   "source": [
    "\n"
   ],
   "metadata": {
    "collapsed": false,
    "pycharm": {
     "name": "#%%\n"
    }
   }
  },
  {
   "cell_type": "code",
   "execution_count": 12,
   "outputs": [
    {
     "name": "stdout",
     "output_type": "stream",
     "text": [
      "len set stocks: 4\n"
     ]
    },
    {
     "data": {
      "text/plain": "                 AAPL        MSFT        AAL         WMT\nDate                                                    \n2018-10-31  52.786491  102.389671  34.426762   93.939636\n2018-11-30  43.221706  106.760048  39.520947   91.475914\n2018-12-31  38.177803   97.787148  31.599045   87.736626\n2019-01-31  40.283463  100.540634  35.200806   90.260887\n2019-02-28  42.087208  108.318214  35.158630   93.237236\n2019-03-29  46.170757  114.032402  31.339825   92.356377\n2019-04-30  48.776443  126.272926  33.727810   97.384682\n2019-05-31  42.717781  120.024864  26.947300   96.569237\n2019-06-28  48.293278  130.001068  32.271450  105.184700\n2019-07-31  51.982613  132.242828  30.193247  105.079971\n2019-08-30  51.126915  134.231277  26.128435  109.309097\n2019-09-30  54.857216  135.370499  26.783880  113.537590\n2019-10-31  60.929058  139.596268  29.852554  112.179123\n2019-11-29  65.654358  147.896957  28.634182  113.929810\n2019-12-31  72.139938  154.071594  28.574404  114.200600",
      "text/html": "<div>\n<style scoped>\n    .dataframe tbody tr th:only-of-type {\n        vertical-align: middle;\n    }\n\n    .dataframe tbody tr th {\n        vertical-align: top;\n    }\n\n    .dataframe thead th {\n        text-align: right;\n    }\n</style>\n<table border=\"1\" class=\"dataframe\">\n  <thead>\n    <tr style=\"text-align: right;\">\n      <th></th>\n      <th>AAPL</th>\n      <th>MSFT</th>\n      <th>AAL</th>\n      <th>WMT</th>\n    </tr>\n    <tr>\n      <th>Date</th>\n      <th></th>\n      <th></th>\n      <th></th>\n      <th></th>\n    </tr>\n  </thead>\n  <tbody>\n    <tr>\n      <th>2018-10-31</th>\n      <td>52.786491</td>\n      <td>102.389671</td>\n      <td>34.426762</td>\n      <td>93.939636</td>\n    </tr>\n    <tr>\n      <th>2018-11-30</th>\n      <td>43.221706</td>\n      <td>106.760048</td>\n      <td>39.520947</td>\n      <td>91.475914</td>\n    </tr>\n    <tr>\n      <th>2018-12-31</th>\n      <td>38.177803</td>\n      <td>97.787148</td>\n      <td>31.599045</td>\n      <td>87.736626</td>\n    </tr>\n    <tr>\n      <th>2019-01-31</th>\n      <td>40.283463</td>\n      <td>100.540634</td>\n      <td>35.200806</td>\n      <td>90.260887</td>\n    </tr>\n    <tr>\n      <th>2019-02-28</th>\n      <td>42.087208</td>\n      <td>108.318214</td>\n      <td>35.158630</td>\n      <td>93.237236</td>\n    </tr>\n    <tr>\n      <th>2019-03-29</th>\n      <td>46.170757</td>\n      <td>114.032402</td>\n      <td>31.339825</td>\n      <td>92.356377</td>\n    </tr>\n    <tr>\n      <th>2019-04-30</th>\n      <td>48.776443</td>\n      <td>126.272926</td>\n      <td>33.727810</td>\n      <td>97.384682</td>\n    </tr>\n    <tr>\n      <th>2019-05-31</th>\n      <td>42.717781</td>\n      <td>120.024864</td>\n      <td>26.947300</td>\n      <td>96.569237</td>\n    </tr>\n    <tr>\n      <th>2019-06-28</th>\n      <td>48.293278</td>\n      <td>130.001068</td>\n      <td>32.271450</td>\n      <td>105.184700</td>\n    </tr>\n    <tr>\n      <th>2019-07-31</th>\n      <td>51.982613</td>\n      <td>132.242828</td>\n      <td>30.193247</td>\n      <td>105.079971</td>\n    </tr>\n    <tr>\n      <th>2019-08-30</th>\n      <td>51.126915</td>\n      <td>134.231277</td>\n      <td>26.128435</td>\n      <td>109.309097</td>\n    </tr>\n    <tr>\n      <th>2019-09-30</th>\n      <td>54.857216</td>\n      <td>135.370499</td>\n      <td>26.783880</td>\n      <td>113.537590</td>\n    </tr>\n    <tr>\n      <th>2019-10-31</th>\n      <td>60.929058</td>\n      <td>139.596268</td>\n      <td>29.852554</td>\n      <td>112.179123</td>\n    </tr>\n    <tr>\n      <th>2019-11-29</th>\n      <td>65.654358</td>\n      <td>147.896957</td>\n      <td>28.634182</td>\n      <td>113.929810</td>\n    </tr>\n    <tr>\n      <th>2019-12-31</th>\n      <td>72.139938</td>\n      <td>154.071594</td>\n      <td>28.574404</td>\n      <td>114.200600</td>\n    </tr>\n  </tbody>\n</table>\n</div>"
     },
     "metadata": {},
     "output_type": "display_data"
    }
   ],
   "source": [
    "# 4 stocks\n",
    "dates = ['2018-10-01', '2020-01-01']\n",
    "stocks = ['AAPL', 'MSFT', 'AAL', 'WMT']\n",
    "print(f'len set stocks: {len(set(stocks))}')\n",
    "panel_data = DataReader(stocks, 'yahoo', dates[0], dates[1])\n",
    "panel_data = panel_data.resample('BM').last()\n",
    "df_all = pd.DataFrame(index=panel_data.index, columns=stocks)\n",
    "for i in stocks:\n",
    "    df_all[i] = panel_data[[('Adj Close', i)]]\n",
    "\n",
    "display(df_all)\n",
    "df_all.to_csv('/Users/bmartins/workbench/dwaveStudy/portfolioOptSolved/data/sp4_data_random.csv')\n"
   ],
   "metadata": {
    "collapsed": false,
    "pycharm": {
     "name": "#%%\n"
    }
   }
  },
  {
   "cell_type": "code",
   "execution_count": 14,
   "outputs": [
    {
     "name": "stdout",
     "output_type": "stream",
     "text": [
      "len set stocks: 50\n"
     ]
    },
    {
     "data": {
      "text/plain": "                 AAPL        MSFT         WMT        AAL       LDOS  \\\nDate                                                                  \n2018-10-31  52.786488  102.389671   93.939636  34.426765  61.325516   \n2018-11-30  43.221710  106.760048   91.475922  39.520947  59.640442   \n2018-12-31  38.177807   97.787148   87.736618  31.599047  50.183434   \n2019-01-31  40.283463  100.540627   90.260887  35.200806  55.209385   \n2019-02-28  42.087215  108.318207   93.237244  35.158627  61.482315   \n2019-03-29  46.170765  114.032402   92.356369  31.339823  61.316097   \n2019-04-30  48.776447  126.272972   97.384682  33.727806  70.299698   \n2019-05-31  42.717781  120.024879   96.569252  26.947300  72.069618   \n2019-06-28  48.293274  130.001068  105.184692  32.271450  76.703697   \n2019-07-31  51.982613  132.242783  105.079971  30.193249  78.865044   \n2019-08-30  51.126911  134.231293  109.309105  26.128435  83.917786   \n2019-09-30  54.857212  135.370499  113.537575  26.783880  82.822227   \n2019-10-31  60.929058  139.596237  112.179108  29.852556  83.159760   \n2019-11-29  65.654358  147.896988  113.929825  28.634182  87.605598   \n2019-12-31  72.139954  154.071564  114.200600  28.574404  94.757896   \n\n                  INTU        HIG        SWKS       FAST       CERN  ...  \\\nDate                                                                 ...   \n2018-10-31  206.106262  41.435818   81.501625  23.448883  55.410606  ...   \n2018-11-30  209.554367  40.588711   68.729469  27.029387  56.020046  ...   \n2018-12-31  192.284424  40.827526   63.298714  23.850266  50.728569  ...   \n2019-01-31  211.301895  43.096226   68.984459  27.775887  53.117962  ...   \n2019-02-28  241.956375  45.337383   77.483093  28.915216  54.124016  ...   \n2019-03-29  255.937454  45.947304   78.261147  29.544607  55.342892  ...   \n2019-04-30  246.247971  48.340771   83.669586  32.611366  64.281326  ...   \n2019-05-31  240.156998  48.940876   63.564926  28.280132  67.686455  ...   \n2019-06-28  256.321075  51.784760   73.715462  30.129110  71.084930  ...   \n2019-07-31  272.467102  53.559872   81.356995  28.673334  69.484787  ...   \n2019-08-30  283.324158  54.442387   72.239647  28.505764  66.827599  ...   \n2019-09-30  261.295746  56.618961   76.059395  30.414211  66.283928  ...   \n2019-10-31  253.517944  53.321407   87.393929  33.655033  65.262985  ...   \n2019-11-29  254.886444  58.065277   94.342445  33.261734  69.609306  ...   \n2019-12-31  257.879364  57.042141  116.535011  34.600815  71.535187  ...   \n\n                  ALGN         IEX         WTW         EXR         FIS  \\\nDate                                                                     \n2018-10-31  221.199997  122.227646  143.160004   81.136909  100.382111   \n2018-11-30  229.889999  132.424530  159.449997   86.470360  104.094612   \n2018-12-31  209.429993  121.687912  151.860001   82.242210   99.184799   \n2019-01-31  248.949997  133.287552  162.789993   89.632019  101.099815   \n2019-02-28  258.970001  139.320587  172.020004   87.205093  104.601044   \n2019-03-29  284.329987  146.707214  175.649994   93.433899  109.745598   \n2019-04-30  324.679993  151.464020  184.339996   95.065849  112.491669   \n2019-05-31  284.350006  148.127686  175.500000   98.247246  116.732048   \n2019-06-28  273.700012  166.974609  191.539993   98.086555  119.386925   \n2019-07-31  209.080002  163.651215  195.220001  103.901489  129.673203   \n2019-08-30  183.110001  160.236588  197.970001  112.711700  132.563492   \n2019-09-30  180.919998  159.429108  192.970001  108.834084  129.541702   \n2019-10-31  252.289993  151.788345  186.899994  104.595116  128.565903   \n2019-11-29  277.339996  158.824890  196.440002   98.800339  134.801010   \n2019-12-31  279.040009  167.862122  201.940002   99.272240  136.069702   \n\n                   COO        UDR        BBY       NWSA        EPAM  \nDate                                                                 \n2018-10-31  258.151001  35.255737  64.280556  12.736553  119.470001  \n2018-11-30  278.658356  38.341404  59.177303  12.533772  130.250000  \n2018-12-31  254.343353  35.642574  48.885040  10.959810  116.010002  \n2019-01-31  278.619720  39.682617  54.681839  12.388929  141.479996  \n2019-02-28  285.846039  40.290325  63.543167  12.572398  161.779999  \n2019-03-29  296.020935  41.233643  66.062607  12.105168  169.130005  \n2019-04-30  289.774048  41.079922  69.177025  12.085707  179.360001  \n2019-05-31  297.640137  40.924557  58.262657  11.083431  172.589996  \n2019-06-28  336.720428  41.025085  65.324669  13.126907  173.100006  \n2019-07-31  337.260681  42.407372  71.695053  12.805789  193.789993  \n2019-08-30  309.622101  44.359245  59.628780  13.379909  191.330002  \n2019-09-30  296.877380  44.635456  65.107201  13.640255  182.320007  \n2019-10-31  290.879852  46.591972  67.787384  13.434475  175.960007  \n2019-11-29  312.960724  44.552124  76.101524  12.621157  211.850006  \n2019-12-31  321.157318  43.300404  83.350082  13.855835  212.160004  \n\n[15 rows x 50 columns]",
      "text/html": "<div>\n<style scoped>\n    .dataframe tbody tr th:only-of-type {\n        vertical-align: middle;\n    }\n\n    .dataframe tbody tr th {\n        vertical-align: top;\n    }\n\n    .dataframe thead th {\n        text-align: right;\n    }\n</style>\n<table border=\"1\" class=\"dataframe\">\n  <thead>\n    <tr style=\"text-align: right;\">\n      <th></th>\n      <th>AAPL</th>\n      <th>MSFT</th>\n      <th>WMT</th>\n      <th>AAL</th>\n      <th>LDOS</th>\n      <th>INTU</th>\n      <th>HIG</th>\n      <th>SWKS</th>\n      <th>FAST</th>\n      <th>CERN</th>\n      <th>...</th>\n      <th>ALGN</th>\n      <th>IEX</th>\n      <th>WTW</th>\n      <th>EXR</th>\n      <th>FIS</th>\n      <th>COO</th>\n      <th>UDR</th>\n      <th>BBY</th>\n      <th>NWSA</th>\n      <th>EPAM</th>\n    </tr>\n    <tr>\n      <th>Date</th>\n      <th></th>\n      <th></th>\n      <th></th>\n      <th></th>\n      <th></th>\n      <th></th>\n      <th></th>\n      <th></th>\n      <th></th>\n      <th></th>\n      <th></th>\n      <th></th>\n      <th></th>\n      <th></th>\n      <th></th>\n      <th></th>\n      <th></th>\n      <th></th>\n      <th></th>\n      <th></th>\n      <th></th>\n    </tr>\n  </thead>\n  <tbody>\n    <tr>\n      <th>2018-10-31</th>\n      <td>52.786488</td>\n      <td>102.389671</td>\n      <td>93.939636</td>\n      <td>34.426765</td>\n      <td>61.325516</td>\n      <td>206.106262</td>\n      <td>41.435818</td>\n      <td>81.501625</td>\n      <td>23.448883</td>\n      <td>55.410606</td>\n      <td>...</td>\n      <td>221.199997</td>\n      <td>122.227646</td>\n      <td>143.160004</td>\n      <td>81.136909</td>\n      <td>100.382111</td>\n      <td>258.151001</td>\n      <td>35.255737</td>\n      <td>64.280556</td>\n      <td>12.736553</td>\n      <td>119.470001</td>\n    </tr>\n    <tr>\n      <th>2018-11-30</th>\n      <td>43.221710</td>\n      <td>106.760048</td>\n      <td>91.475922</td>\n      <td>39.520947</td>\n      <td>59.640442</td>\n      <td>209.554367</td>\n      <td>40.588711</td>\n      <td>68.729469</td>\n      <td>27.029387</td>\n      <td>56.020046</td>\n      <td>...</td>\n      <td>229.889999</td>\n      <td>132.424530</td>\n      <td>159.449997</td>\n      <td>86.470360</td>\n      <td>104.094612</td>\n      <td>278.658356</td>\n      <td>38.341404</td>\n      <td>59.177303</td>\n      <td>12.533772</td>\n      <td>130.250000</td>\n    </tr>\n    <tr>\n      <th>2018-12-31</th>\n      <td>38.177807</td>\n      <td>97.787148</td>\n      <td>87.736618</td>\n      <td>31.599047</td>\n      <td>50.183434</td>\n      <td>192.284424</td>\n      <td>40.827526</td>\n      <td>63.298714</td>\n      <td>23.850266</td>\n      <td>50.728569</td>\n      <td>...</td>\n      <td>209.429993</td>\n      <td>121.687912</td>\n      <td>151.860001</td>\n      <td>82.242210</td>\n      <td>99.184799</td>\n      <td>254.343353</td>\n      <td>35.642574</td>\n      <td>48.885040</td>\n      <td>10.959810</td>\n      <td>116.010002</td>\n    </tr>\n    <tr>\n      <th>2019-01-31</th>\n      <td>40.283463</td>\n      <td>100.540627</td>\n      <td>90.260887</td>\n      <td>35.200806</td>\n      <td>55.209385</td>\n      <td>211.301895</td>\n      <td>43.096226</td>\n      <td>68.984459</td>\n      <td>27.775887</td>\n      <td>53.117962</td>\n      <td>...</td>\n      <td>248.949997</td>\n      <td>133.287552</td>\n      <td>162.789993</td>\n      <td>89.632019</td>\n      <td>101.099815</td>\n      <td>278.619720</td>\n      <td>39.682617</td>\n      <td>54.681839</td>\n      <td>12.388929</td>\n      <td>141.479996</td>\n    </tr>\n    <tr>\n      <th>2019-02-28</th>\n      <td>42.087215</td>\n      <td>108.318207</td>\n      <td>93.237244</td>\n      <td>35.158627</td>\n      <td>61.482315</td>\n      <td>241.956375</td>\n      <td>45.337383</td>\n      <td>77.483093</td>\n      <td>28.915216</td>\n      <td>54.124016</td>\n      <td>...</td>\n      <td>258.970001</td>\n      <td>139.320587</td>\n      <td>172.020004</td>\n      <td>87.205093</td>\n      <td>104.601044</td>\n      <td>285.846039</td>\n      <td>40.290325</td>\n      <td>63.543167</td>\n      <td>12.572398</td>\n      <td>161.779999</td>\n    </tr>\n    <tr>\n      <th>2019-03-29</th>\n      <td>46.170765</td>\n      <td>114.032402</td>\n      <td>92.356369</td>\n      <td>31.339823</td>\n      <td>61.316097</td>\n      <td>255.937454</td>\n      <td>45.947304</td>\n      <td>78.261147</td>\n      <td>29.544607</td>\n      <td>55.342892</td>\n      <td>...</td>\n      <td>284.329987</td>\n      <td>146.707214</td>\n      <td>175.649994</td>\n      <td>93.433899</td>\n      <td>109.745598</td>\n      <td>296.020935</td>\n      <td>41.233643</td>\n      <td>66.062607</td>\n      <td>12.105168</td>\n      <td>169.130005</td>\n    </tr>\n    <tr>\n      <th>2019-04-30</th>\n      <td>48.776447</td>\n      <td>126.272972</td>\n      <td>97.384682</td>\n      <td>33.727806</td>\n      <td>70.299698</td>\n      <td>246.247971</td>\n      <td>48.340771</td>\n      <td>83.669586</td>\n      <td>32.611366</td>\n      <td>64.281326</td>\n      <td>...</td>\n      <td>324.679993</td>\n      <td>151.464020</td>\n      <td>184.339996</td>\n      <td>95.065849</td>\n      <td>112.491669</td>\n      <td>289.774048</td>\n      <td>41.079922</td>\n      <td>69.177025</td>\n      <td>12.085707</td>\n      <td>179.360001</td>\n    </tr>\n    <tr>\n      <th>2019-05-31</th>\n      <td>42.717781</td>\n      <td>120.024879</td>\n      <td>96.569252</td>\n      <td>26.947300</td>\n      <td>72.069618</td>\n      <td>240.156998</td>\n      <td>48.940876</td>\n      <td>63.564926</td>\n      <td>28.280132</td>\n      <td>67.686455</td>\n      <td>...</td>\n      <td>284.350006</td>\n      <td>148.127686</td>\n      <td>175.500000</td>\n      <td>98.247246</td>\n      <td>116.732048</td>\n      <td>297.640137</td>\n      <td>40.924557</td>\n      <td>58.262657</td>\n      <td>11.083431</td>\n      <td>172.589996</td>\n    </tr>\n    <tr>\n      <th>2019-06-28</th>\n      <td>48.293274</td>\n      <td>130.001068</td>\n      <td>105.184692</td>\n      <td>32.271450</td>\n      <td>76.703697</td>\n      <td>256.321075</td>\n      <td>51.784760</td>\n      <td>73.715462</td>\n      <td>30.129110</td>\n      <td>71.084930</td>\n      <td>...</td>\n      <td>273.700012</td>\n      <td>166.974609</td>\n      <td>191.539993</td>\n      <td>98.086555</td>\n      <td>119.386925</td>\n      <td>336.720428</td>\n      <td>41.025085</td>\n      <td>65.324669</td>\n      <td>13.126907</td>\n      <td>173.100006</td>\n    </tr>\n    <tr>\n      <th>2019-07-31</th>\n      <td>51.982613</td>\n      <td>132.242783</td>\n      <td>105.079971</td>\n      <td>30.193249</td>\n      <td>78.865044</td>\n      <td>272.467102</td>\n      <td>53.559872</td>\n      <td>81.356995</td>\n      <td>28.673334</td>\n      <td>69.484787</td>\n      <td>...</td>\n      <td>209.080002</td>\n      <td>163.651215</td>\n      <td>195.220001</td>\n      <td>103.901489</td>\n      <td>129.673203</td>\n      <td>337.260681</td>\n      <td>42.407372</td>\n      <td>71.695053</td>\n      <td>12.805789</td>\n      <td>193.789993</td>\n    </tr>\n    <tr>\n      <th>2019-08-30</th>\n      <td>51.126911</td>\n      <td>134.231293</td>\n      <td>109.309105</td>\n      <td>26.128435</td>\n      <td>83.917786</td>\n      <td>283.324158</td>\n      <td>54.442387</td>\n      <td>72.239647</td>\n      <td>28.505764</td>\n      <td>66.827599</td>\n      <td>...</td>\n      <td>183.110001</td>\n      <td>160.236588</td>\n      <td>197.970001</td>\n      <td>112.711700</td>\n      <td>132.563492</td>\n      <td>309.622101</td>\n      <td>44.359245</td>\n      <td>59.628780</td>\n      <td>13.379909</td>\n      <td>191.330002</td>\n    </tr>\n    <tr>\n      <th>2019-09-30</th>\n      <td>54.857212</td>\n      <td>135.370499</td>\n      <td>113.537575</td>\n      <td>26.783880</td>\n      <td>82.822227</td>\n      <td>261.295746</td>\n      <td>56.618961</td>\n      <td>76.059395</td>\n      <td>30.414211</td>\n      <td>66.283928</td>\n      <td>...</td>\n      <td>180.919998</td>\n      <td>159.429108</td>\n      <td>192.970001</td>\n      <td>108.834084</td>\n      <td>129.541702</td>\n      <td>296.877380</td>\n      <td>44.635456</td>\n      <td>65.107201</td>\n      <td>13.640255</td>\n      <td>182.320007</td>\n    </tr>\n    <tr>\n      <th>2019-10-31</th>\n      <td>60.929058</td>\n      <td>139.596237</td>\n      <td>112.179108</td>\n      <td>29.852556</td>\n      <td>83.159760</td>\n      <td>253.517944</td>\n      <td>53.321407</td>\n      <td>87.393929</td>\n      <td>33.655033</td>\n      <td>65.262985</td>\n      <td>...</td>\n      <td>252.289993</td>\n      <td>151.788345</td>\n      <td>186.899994</td>\n      <td>104.595116</td>\n      <td>128.565903</td>\n      <td>290.879852</td>\n      <td>46.591972</td>\n      <td>67.787384</td>\n      <td>13.434475</td>\n      <td>175.960007</td>\n    </tr>\n    <tr>\n      <th>2019-11-29</th>\n      <td>65.654358</td>\n      <td>147.896988</td>\n      <td>113.929825</td>\n      <td>28.634182</td>\n      <td>87.605598</td>\n      <td>254.886444</td>\n      <td>58.065277</td>\n      <td>94.342445</td>\n      <td>33.261734</td>\n      <td>69.609306</td>\n      <td>...</td>\n      <td>277.339996</td>\n      <td>158.824890</td>\n      <td>196.440002</td>\n      <td>98.800339</td>\n      <td>134.801010</td>\n      <td>312.960724</td>\n      <td>44.552124</td>\n      <td>76.101524</td>\n      <td>12.621157</td>\n      <td>211.850006</td>\n    </tr>\n    <tr>\n      <th>2019-12-31</th>\n      <td>72.139954</td>\n      <td>154.071564</td>\n      <td>114.200600</td>\n      <td>28.574404</td>\n      <td>94.757896</td>\n      <td>257.879364</td>\n      <td>57.042141</td>\n      <td>116.535011</td>\n      <td>34.600815</td>\n      <td>71.535187</td>\n      <td>...</td>\n      <td>279.040009</td>\n      <td>167.862122</td>\n      <td>201.940002</td>\n      <td>99.272240</td>\n      <td>136.069702</td>\n      <td>321.157318</td>\n      <td>43.300404</td>\n      <td>83.350082</td>\n      <td>13.855835</td>\n      <td>212.160004</td>\n    </tr>\n  </tbody>\n</table>\n<p>15 rows × 50 columns</p>\n</div>"
     },
     "metadata": {},
     "output_type": "display_data"
    },
    {
     "name": "stdout",
     "output_type": "stream",
     "text": [
      "['AAPL', 'MSFT', 'WMT', 'AAL', 'LDOS', 'INTU', 'HIG', 'SWKS', 'FAST', 'CERN', 'NDAQ', 'RHI', 'ETR', 'AOS', 'VNO', 'CPT', 'HPE', 'EFX', 'AVGO', 'DLTR', 'MLM', 'PSA', 'TXN', 'ALB', 'NVDA', 'AVB', 'DRE', 'TTWO', 'LYB', 'NCLH', 'RCL', 'FISV', 'EQR', 'STX', 'TECH', 'RTX', 'D', 'EMR', 'LRCX', 'SLB', 'ALGN', 'IEX', 'WTW', 'EXR', 'FIS', 'COO', 'UDR', 'BBY', 'NWSA', 'EPAM']\n"
     ]
    }
   ],
   "source": [
    "# 50 stocks\n",
    "dates = ['2018-10-01', '2020-01-01']\n",
    "stocks = df.sample(n=50, random_state=2).loc[:,'Symbol'].values.tolist()\n",
    "if 'AAPL' not in stocks: stocks[0] = 'AAPL'\n",
    "if 'MSFT' not in stocks: stocks[1] = 'MSFT'\n",
    "if 'WMT' not in stocks: stocks[2] = 'WMT'\n",
    "if 'AAL' not in stocks: stocks[3] = 'AAL'\n",
    "\n",
    "print(f'len set stocks: {len(set(stocks))}')\n",
    "panel_data = DataReader(stocks, 'yahoo', dates[0], dates[1])\n",
    "panel_data = panel_data.resample('BM').last()\n",
    "df_all = pd.DataFrame(index=panel_data.index, columns=stocks)\n",
    "for i in stocks:\n",
    "    df_all[i] = panel_data[[('Adj Close', i)]]\n",
    "\n",
    "display(df_all)\n",
    "df_all.to_csv('/Users/bmartins/workbench/dwaveStudy/portfolioOptSolved/data/sp50_data_random.csv')\n",
    "\n",
    "print(stocks)"
   ],
   "metadata": {
    "collapsed": false,
    "pycharm": {
     "name": "#%%\n"
    }
   }
  },
  {
   "cell_type": "code",
   "execution_count": 9,
   "outputs": [
    {
     "name": "stdout",
     "output_type": "stream",
     "text": [
      "len set stocks: 20\n"
     ]
    },
    {
     "data": {
      "text/plain": "                  AAPL        MSFT         WMT        AAL        LDOS  \\\nDate                                                                    \n2021-01-29  130.792435  229.023727  137.259109  17.170000  104.166229   \n2021-02-26  120.366707  229.966843  126.932167  20.940001   86.870659   \n2021-03-31  121.250145  233.321640  133.260330  23.900000   94.901833   \n2021-04-30  130.491547  249.561218  137.263168  21.719999   99.830269   \n2021-05-31  123.902122  247.657730  139.890289  24.240000  101.279221   \n2021-06-30  136.181992  268.705841  138.895493  21.209999   99.970840   \n2021-07-30  145.031403  282.602417  140.402451  20.379999  105.231422   \n2021-08-31  151.193680  300.008209  146.405609  19.940001   97.014229   \n2021-09-30  140.906982  280.171967  137.785370  20.520000   95.405960   \n2021-10-29  149.172180  329.563782  147.710510  19.200001   99.226967   \n2021-11-30  164.847473  329.141235  139.021088  17.690001   87.247871   \n2021-12-31  177.083878  334.846161  143.610535  17.959999   88.586143   \n2022-01-31  174.301498  309.617188  138.766922  16.469999   89.134201   \n2022-02-28  164.877747  298.095703  134.151627  17.250000  101.480453   \n2022-03-31  174.353836  307.593567  148.380646  18.250000  108.019997   \n2022-04-29  157.418701  276.875122  152.435913  18.770000  103.510002   \n2022-05-31  148.839996  271.869995  128.630005  17.870001  104.500000   \n\n                  INTU        HIG        SWKS       FAST       CERN  \\\nDate                                                                  \n2021-01-29  358.922058  46.427040  165.601410  44.129333  78.942551   \n2021-02-26  387.647400  49.341274  174.448776  45.156723  68.132431   \n2021-03-31  380.612610  65.012894  180.001450  48.964413  70.832489   \n2021-04-30  410.114929  64.204979  177.892227  51.189049  74.180099   \n2021-05-31  436.911285  63.951580  167.282562  51.933189  77.343002   \n2021-06-30  487.737854  60.643913  188.684891  50.914890  77.471786   \n2021-07-30  527.955872  62.258606  181.560638  53.903313  79.682144   \n2021-08-31  563.958557  66.126961  181.080353  54.966225  75.677719   \n2021-09-30  537.459595  69.107689  162.642654  50.793320  70.109848   \n2021-10-29  624.405151  71.744102  164.962158  56.458805  73.857925   \n2021-11-30  650.648560  65.392105  150.216278  58.526054  70.040260   \n2021-12-31  641.591492  68.300629  153.663147  63.362835  92.602249   \n2022-01-31  554.467285  71.100319  145.125198  56.063152  90.937057   \n2022-02-28  473.718353  69.112053  137.418777  51.179882  92.981155   \n2022-03-31  480.179474  71.429710  132.555374  59.076664  93.559998   \n2022-04-29  418.750000  69.559669  112.684006  55.310001  93.639999   \n2022-05-31  414.459991  72.510002  108.870003  53.560001  94.849998   \n\n                  NDAQ         RHI         ETR        AOS        VNO  \\\nDate                                                                   \n2021-01-29  133.223801   65.867142   90.224464  53.214329  37.833275   \n2021-02-26  136.198105   76.258240   82.981850  58.182961  40.859177   \n2021-03-31  145.723389   76.532722   95.083572  66.258202  43.190456   \n2021-04-30  159.637558   85.884872  104.470528  66.655869  43.533012   \n2021-05-31  165.487854   87.419090  101.502007  69.922249  45.503860   \n2021-06-30  174.286133   87.596313   96.140503  70.896255  44.916775   \n2021-07-30  185.122009   96.693642   99.245544  69.454407  41.865864   \n2021-08-31  194.094086  102.183456  107.601662  71.814644  40.815475   \n2021-09-30  191.880020   99.149574   96.608994  60.309689  40.942169   \n2021-10-29  208.630493  111.739677  100.218086  72.476135  41.546410   \n2021-11-30  202.029724  110.217003   98.576378  78.407539  39.600868   \n2021-12-31  209.337631  110.564003  110.670021  85.152267  41.297768   \n2022-01-31  178.636261  112.289085  109.805481  76.079758  41.009998   \n2022-02-28  170.602051  119.705017  104.305870  68.274666  43.279999   \n2022-03-31  178.199997  113.624725  115.746704  63.605545  45.320000   \n2022-04-29  157.369995   97.831902  117.828651  58.430000  38.709999   \n2022-05-31  155.259995   90.150002  120.320000  60.119999  34.959999   \n\n                   CPT        HPE         EFX        AVGO        DLTR  \nDate                                                                   \n2021-01-29   99.719582  11.954362  175.614716  443.533997  101.660004  \n2021-02-26  101.672005  14.104986  160.866653  462.604462   98.199997  \n2021-03-31  108.101173  15.372668  179.996140  460.058777  114.459999  \n2021-04-30  118.497223  15.646133  227.795029  452.656738  114.900002  \n2021-05-31  123.316574  15.587534  233.953430  468.661407   97.500000  \n2021-06-30  131.295151  14.349276  238.402771  476.839996   99.500000  \n2021-07-30  147.841873  14.270541  259.395294  485.399994   99.790001  \n2021-08-31  148.485138  15.215350  271.001373  497.209991   90.540001  \n2021-09-30  146.764404  14.140244  252.602936  484.929993   95.720001  \n2021-10-29  162.319626  14.537163  276.535492  531.669983  107.760002  \n2021-11-30  164.419525  14.239474  278.137390  553.679993  133.830002  \n2021-12-31  178.679993  15.770000  292.251373  665.409973  140.520004  \n2022-01-31  160.089996  16.330000  239.318924  585.880005  131.220001  \n2022-02-28  165.110001  15.920000  218.339996  587.440002  142.080002  \n2022-03-31  166.199997  16.709999  237.100006  629.679993  160.149994  \n2022-04-29  156.889999  15.410000  203.520004  554.390015  162.449997  \n2022-05-31  143.490005  15.600000  202.580002  580.130005  160.330002  ",
      "text/html": "<div>\n<style scoped>\n    .dataframe tbody tr th:only-of-type {\n        vertical-align: middle;\n    }\n\n    .dataframe tbody tr th {\n        vertical-align: top;\n    }\n\n    .dataframe thead th {\n        text-align: right;\n    }\n</style>\n<table border=\"1\" class=\"dataframe\">\n  <thead>\n    <tr style=\"text-align: right;\">\n      <th></th>\n      <th>AAPL</th>\n      <th>MSFT</th>\n      <th>WMT</th>\n      <th>AAL</th>\n      <th>LDOS</th>\n      <th>INTU</th>\n      <th>HIG</th>\n      <th>SWKS</th>\n      <th>FAST</th>\n      <th>CERN</th>\n      <th>NDAQ</th>\n      <th>RHI</th>\n      <th>ETR</th>\n      <th>AOS</th>\n      <th>VNO</th>\n      <th>CPT</th>\n      <th>HPE</th>\n      <th>EFX</th>\n      <th>AVGO</th>\n      <th>DLTR</th>\n    </tr>\n    <tr>\n      <th>Date</th>\n      <th></th>\n      <th></th>\n      <th></th>\n      <th></th>\n      <th></th>\n      <th></th>\n      <th></th>\n      <th></th>\n      <th></th>\n      <th></th>\n      <th></th>\n      <th></th>\n      <th></th>\n      <th></th>\n      <th></th>\n      <th></th>\n      <th></th>\n      <th></th>\n      <th></th>\n      <th></th>\n    </tr>\n  </thead>\n  <tbody>\n    <tr>\n      <th>2021-01-29</th>\n      <td>130.792435</td>\n      <td>229.023727</td>\n      <td>137.259109</td>\n      <td>17.170000</td>\n      <td>104.166229</td>\n      <td>358.922058</td>\n      <td>46.427040</td>\n      <td>165.601410</td>\n      <td>44.129333</td>\n      <td>78.942551</td>\n      <td>133.223801</td>\n      <td>65.867142</td>\n      <td>90.224464</td>\n      <td>53.214329</td>\n      <td>37.833275</td>\n      <td>99.719582</td>\n      <td>11.954362</td>\n      <td>175.614716</td>\n      <td>443.533997</td>\n      <td>101.660004</td>\n    </tr>\n    <tr>\n      <th>2021-02-26</th>\n      <td>120.366707</td>\n      <td>229.966843</td>\n      <td>126.932167</td>\n      <td>20.940001</td>\n      <td>86.870659</td>\n      <td>387.647400</td>\n      <td>49.341274</td>\n      <td>174.448776</td>\n      <td>45.156723</td>\n      <td>68.132431</td>\n      <td>136.198105</td>\n      <td>76.258240</td>\n      <td>82.981850</td>\n      <td>58.182961</td>\n      <td>40.859177</td>\n      <td>101.672005</td>\n      <td>14.104986</td>\n      <td>160.866653</td>\n      <td>462.604462</td>\n      <td>98.199997</td>\n    </tr>\n    <tr>\n      <th>2021-03-31</th>\n      <td>121.250145</td>\n      <td>233.321640</td>\n      <td>133.260330</td>\n      <td>23.900000</td>\n      <td>94.901833</td>\n      <td>380.612610</td>\n      <td>65.012894</td>\n      <td>180.001450</td>\n      <td>48.964413</td>\n      <td>70.832489</td>\n      <td>145.723389</td>\n      <td>76.532722</td>\n      <td>95.083572</td>\n      <td>66.258202</td>\n      <td>43.190456</td>\n      <td>108.101173</td>\n      <td>15.372668</td>\n      <td>179.996140</td>\n      <td>460.058777</td>\n      <td>114.459999</td>\n    </tr>\n    <tr>\n      <th>2021-04-30</th>\n      <td>130.491547</td>\n      <td>249.561218</td>\n      <td>137.263168</td>\n      <td>21.719999</td>\n      <td>99.830269</td>\n      <td>410.114929</td>\n      <td>64.204979</td>\n      <td>177.892227</td>\n      <td>51.189049</td>\n      <td>74.180099</td>\n      <td>159.637558</td>\n      <td>85.884872</td>\n      <td>104.470528</td>\n      <td>66.655869</td>\n      <td>43.533012</td>\n      <td>118.497223</td>\n      <td>15.646133</td>\n      <td>227.795029</td>\n      <td>452.656738</td>\n      <td>114.900002</td>\n    </tr>\n    <tr>\n      <th>2021-05-31</th>\n      <td>123.902122</td>\n      <td>247.657730</td>\n      <td>139.890289</td>\n      <td>24.240000</td>\n      <td>101.279221</td>\n      <td>436.911285</td>\n      <td>63.951580</td>\n      <td>167.282562</td>\n      <td>51.933189</td>\n      <td>77.343002</td>\n      <td>165.487854</td>\n      <td>87.419090</td>\n      <td>101.502007</td>\n      <td>69.922249</td>\n      <td>45.503860</td>\n      <td>123.316574</td>\n      <td>15.587534</td>\n      <td>233.953430</td>\n      <td>468.661407</td>\n      <td>97.500000</td>\n    </tr>\n    <tr>\n      <th>2021-06-30</th>\n      <td>136.181992</td>\n      <td>268.705841</td>\n      <td>138.895493</td>\n      <td>21.209999</td>\n      <td>99.970840</td>\n      <td>487.737854</td>\n      <td>60.643913</td>\n      <td>188.684891</td>\n      <td>50.914890</td>\n      <td>77.471786</td>\n      <td>174.286133</td>\n      <td>87.596313</td>\n      <td>96.140503</td>\n      <td>70.896255</td>\n      <td>44.916775</td>\n      <td>131.295151</td>\n      <td>14.349276</td>\n      <td>238.402771</td>\n      <td>476.839996</td>\n      <td>99.500000</td>\n    </tr>\n    <tr>\n      <th>2021-07-30</th>\n      <td>145.031403</td>\n      <td>282.602417</td>\n      <td>140.402451</td>\n      <td>20.379999</td>\n      <td>105.231422</td>\n      <td>527.955872</td>\n      <td>62.258606</td>\n      <td>181.560638</td>\n      <td>53.903313</td>\n      <td>79.682144</td>\n      <td>185.122009</td>\n      <td>96.693642</td>\n      <td>99.245544</td>\n      <td>69.454407</td>\n      <td>41.865864</td>\n      <td>147.841873</td>\n      <td>14.270541</td>\n      <td>259.395294</td>\n      <td>485.399994</td>\n      <td>99.790001</td>\n    </tr>\n    <tr>\n      <th>2021-08-31</th>\n      <td>151.193680</td>\n      <td>300.008209</td>\n      <td>146.405609</td>\n      <td>19.940001</td>\n      <td>97.014229</td>\n      <td>563.958557</td>\n      <td>66.126961</td>\n      <td>181.080353</td>\n      <td>54.966225</td>\n      <td>75.677719</td>\n      <td>194.094086</td>\n      <td>102.183456</td>\n      <td>107.601662</td>\n      <td>71.814644</td>\n      <td>40.815475</td>\n      <td>148.485138</td>\n      <td>15.215350</td>\n      <td>271.001373</td>\n      <td>497.209991</td>\n      <td>90.540001</td>\n    </tr>\n    <tr>\n      <th>2021-09-30</th>\n      <td>140.906982</td>\n      <td>280.171967</td>\n      <td>137.785370</td>\n      <td>20.520000</td>\n      <td>95.405960</td>\n      <td>537.459595</td>\n      <td>69.107689</td>\n      <td>162.642654</td>\n      <td>50.793320</td>\n      <td>70.109848</td>\n      <td>191.880020</td>\n      <td>99.149574</td>\n      <td>96.608994</td>\n      <td>60.309689</td>\n      <td>40.942169</td>\n      <td>146.764404</td>\n      <td>14.140244</td>\n      <td>252.602936</td>\n      <td>484.929993</td>\n      <td>95.720001</td>\n    </tr>\n    <tr>\n      <th>2021-10-29</th>\n      <td>149.172180</td>\n      <td>329.563782</td>\n      <td>147.710510</td>\n      <td>19.200001</td>\n      <td>99.226967</td>\n      <td>624.405151</td>\n      <td>71.744102</td>\n      <td>164.962158</td>\n      <td>56.458805</td>\n      <td>73.857925</td>\n      <td>208.630493</td>\n      <td>111.739677</td>\n      <td>100.218086</td>\n      <td>72.476135</td>\n      <td>41.546410</td>\n      <td>162.319626</td>\n      <td>14.537163</td>\n      <td>276.535492</td>\n      <td>531.669983</td>\n      <td>107.760002</td>\n    </tr>\n    <tr>\n      <th>2021-11-30</th>\n      <td>164.847473</td>\n      <td>329.141235</td>\n      <td>139.021088</td>\n      <td>17.690001</td>\n      <td>87.247871</td>\n      <td>650.648560</td>\n      <td>65.392105</td>\n      <td>150.216278</td>\n      <td>58.526054</td>\n      <td>70.040260</td>\n      <td>202.029724</td>\n      <td>110.217003</td>\n      <td>98.576378</td>\n      <td>78.407539</td>\n      <td>39.600868</td>\n      <td>164.419525</td>\n      <td>14.239474</td>\n      <td>278.137390</td>\n      <td>553.679993</td>\n      <td>133.830002</td>\n    </tr>\n    <tr>\n      <th>2021-12-31</th>\n      <td>177.083878</td>\n      <td>334.846161</td>\n      <td>143.610535</td>\n      <td>17.959999</td>\n      <td>88.586143</td>\n      <td>641.591492</td>\n      <td>68.300629</td>\n      <td>153.663147</td>\n      <td>63.362835</td>\n      <td>92.602249</td>\n      <td>209.337631</td>\n      <td>110.564003</td>\n      <td>110.670021</td>\n      <td>85.152267</td>\n      <td>41.297768</td>\n      <td>178.679993</td>\n      <td>15.770000</td>\n      <td>292.251373</td>\n      <td>665.409973</td>\n      <td>140.520004</td>\n    </tr>\n    <tr>\n      <th>2022-01-31</th>\n      <td>174.301498</td>\n      <td>309.617188</td>\n      <td>138.766922</td>\n      <td>16.469999</td>\n      <td>89.134201</td>\n      <td>554.467285</td>\n      <td>71.100319</td>\n      <td>145.125198</td>\n      <td>56.063152</td>\n      <td>90.937057</td>\n      <td>178.636261</td>\n      <td>112.289085</td>\n      <td>109.805481</td>\n      <td>76.079758</td>\n      <td>41.009998</td>\n      <td>160.089996</td>\n      <td>16.330000</td>\n      <td>239.318924</td>\n      <td>585.880005</td>\n      <td>131.220001</td>\n    </tr>\n    <tr>\n      <th>2022-02-28</th>\n      <td>164.877747</td>\n      <td>298.095703</td>\n      <td>134.151627</td>\n      <td>17.250000</td>\n      <td>101.480453</td>\n      <td>473.718353</td>\n      <td>69.112053</td>\n      <td>137.418777</td>\n      <td>51.179882</td>\n      <td>92.981155</td>\n      <td>170.602051</td>\n      <td>119.705017</td>\n      <td>104.305870</td>\n      <td>68.274666</td>\n      <td>43.279999</td>\n      <td>165.110001</td>\n      <td>15.920000</td>\n      <td>218.339996</td>\n      <td>587.440002</td>\n      <td>142.080002</td>\n    </tr>\n    <tr>\n      <th>2022-03-31</th>\n      <td>174.353836</td>\n      <td>307.593567</td>\n      <td>148.380646</td>\n      <td>18.250000</td>\n      <td>108.019997</td>\n      <td>480.179474</td>\n      <td>71.429710</td>\n      <td>132.555374</td>\n      <td>59.076664</td>\n      <td>93.559998</td>\n      <td>178.199997</td>\n      <td>113.624725</td>\n      <td>115.746704</td>\n      <td>63.605545</td>\n      <td>45.320000</td>\n      <td>166.199997</td>\n      <td>16.709999</td>\n      <td>237.100006</td>\n      <td>629.679993</td>\n      <td>160.149994</td>\n    </tr>\n    <tr>\n      <th>2022-04-29</th>\n      <td>157.418701</td>\n      <td>276.875122</td>\n      <td>152.435913</td>\n      <td>18.770000</td>\n      <td>103.510002</td>\n      <td>418.750000</td>\n      <td>69.559669</td>\n      <td>112.684006</td>\n      <td>55.310001</td>\n      <td>93.639999</td>\n      <td>157.369995</td>\n      <td>97.831902</td>\n      <td>117.828651</td>\n      <td>58.430000</td>\n      <td>38.709999</td>\n      <td>156.889999</td>\n      <td>15.410000</td>\n      <td>203.520004</td>\n      <td>554.390015</td>\n      <td>162.449997</td>\n    </tr>\n    <tr>\n      <th>2022-05-31</th>\n      <td>148.839996</td>\n      <td>271.869995</td>\n      <td>128.630005</td>\n      <td>17.870001</td>\n      <td>104.500000</td>\n      <td>414.459991</td>\n      <td>72.510002</td>\n      <td>108.870003</td>\n      <td>53.560001</td>\n      <td>94.849998</td>\n      <td>155.259995</td>\n      <td>90.150002</td>\n      <td>120.320000</td>\n      <td>60.119999</td>\n      <td>34.959999</td>\n      <td>143.490005</td>\n      <td>15.600000</td>\n      <td>202.580002</td>\n      <td>580.130005</td>\n      <td>160.330002</td>\n    </tr>\n  </tbody>\n</table>\n</div>"
     },
     "metadata": {},
     "output_type": "display_data"
    },
    {
     "name": "stdout",
     "output_type": "stream",
     "text": [
      "['AAPL', 'MSFT', 'WMT', 'AAL', 'LDOS', 'INTU', 'HIG', 'SWKS', 'FAST', 'CERN', 'NDAQ', 'RHI', 'ETR', 'AOS', 'VNO', 'CPT', 'HPE', 'EFX', 'AVGO', 'DLTR']\n"
     ]
    }
   ],
   "source": [
    "# 20 stocks\n",
    "dates = ['2021-01-01', '2022-05-31']\n",
    "stocks = df.sample(n=20, random_state=2).loc[:,'Symbol'].values.tolist()\n",
    "if 'AAPL' not in stocks: stocks[0] = 'AAPL'\n",
    "if 'MSFT' not in stocks: stocks[1] = 'MSFT'\n",
    "if 'WMT' not in stocks: stocks[2] = 'WMT'\n",
    "if 'AAL' not in stocks: stocks[3] = 'AAL'\n",
    "\n",
    "print(f'len set stocks: {len(set(stocks))}')\n",
    "panel_data = DataReader(stocks, 'yahoo', dates[0], dates[1])\n",
    "panel_data = panel_data.resample('BM').last()\n",
    "df_all = pd.DataFrame(index=panel_data.index, columns=stocks)\n",
    "for i in stocks:\n",
    "    df_all[i] = panel_data[[('Adj Close', i)]]\n",
    "\n",
    "display(df_all)\n",
    "df_all.to_csv('/Users/bmartins/workbench/dwaveStudy/portfolioOptSolved/data/sp20_data_random.csv')\n",
    "\n",
    "print(stocks)"
   ],
   "metadata": {
    "collapsed": false,
    "pycharm": {
     "name": "#%%\n"
    }
   }
  },
  {
   "cell_type": "code",
   "execution_count": 18,
   "outputs": [
    {
     "name": "stdout",
     "output_type": "stream",
     "text": [
      "len set stocks: 20\n"
     ]
    },
    {
     "data": {
      "text/plain": "                  AAPL        MSFT        AAL         WMT         MMM  \\\nDate                                                                    \n2021-01-29  131.539673  230.893845  17.170000  138.290848  168.625763   \n2021-02-26  121.054382  231.844650  20.940001  127.886276  169.434601   \n2021-03-31  121.942871  235.226837  23.900000  134.262024  186.488388   \n2021-04-30  131.237091  251.599030  21.719999  138.294922  190.805084   \n2021-05-31  124.610001  249.679993  24.240000  140.941788  197.961609   \n2021-06-30  136.960007  270.899994  21.209999  139.939514  193.661911   \n2021-07-30  145.860001  284.910004  20.379999  141.457794  192.989166   \n2021-08-31  151.830002  301.880005  19.940001  147.506088  191.318588   \n2021-09-30  141.500000  281.920013  20.520000  138.821060  172.338028   \n2021-10-29  149.800003  331.619995  19.200001  148.820801  175.540741   \n2021-11-30  165.300003  330.589996  17.690001  140.066055  168.412033   \n2021-12-31  177.570007  336.320007  17.959999  144.690002  175.929382   \n2022-01-31  174.779999  310.980011  16.469999  139.809998  164.430527   \n2022-02-28  165.119995  298.790009  17.250000  135.160004  148.649994   \n2022-03-31  174.610001  308.309998  18.250000  148.919998  148.880005   \n2022-04-29  157.649994  277.519989  18.770000  152.990005  144.220001   \n2022-05-31  148.839996  271.869995  17.870001  128.630005  149.289993   \n\n                  AIG        GOOGL         AMD         BLK         KO  \\\nDate                                                                    \n2021-01-29  36.531433  1827.359985   85.639999  687.700684  46.678406   \n2021-02-26  42.883453  2021.910034   84.510002  681.071350  47.492737   \n2021-03-31  45.388451  2062.520020   78.500000  743.760559  51.524357   \n2021-04-30  47.588627  2353.500000   81.620003  808.216614  52.765793   \n2021-05-31  51.900578  2356.850098   80.080002  865.175476  54.046329   \n2021-06-30  47.043125  2441.790039   93.930000  867.169189  53.291416   \n2021-07-30  46.796051  2694.530029  106.190002  859.438782  56.167240   \n2021-08-31  53.921700  2893.949951  110.720001  934.880127  55.458134   \n2021-09-30  54.568653  2673.520020  102.900002  834.809570  52.066238   \n2021-10-29  58.744064  2960.919922  120.230003  939.128479  55.936226   \n2021-11-30  52.292057  2837.949951  158.369995  900.456848  52.450001   \n2021-12-31  56.860001  2897.040039  143.899994  915.559998  59.209999   \n2022-01-31  57.750000  2706.070068  114.250000  822.940002  61.009998   \n2022-02-28  61.240002  2701.139893  123.339996  743.890015  62.240002   \n2022-03-31  62.770000  2781.350098  109.339996  764.169983  62.000000   \n2022-04-29  58.509998  2282.189941   85.519997  624.679993  64.610001   \n2022-05-31  58.680000  2275.239990  101.860001  669.080017  63.380001   \n\n                    GE         GM       INTC         JNJ         JPM  \\\nDate                                                                   \n2021-01-29   85.282967  50.680000  54.837341  158.105011  125.668625   \n2021-02-26  100.135612  51.330002  60.407940  154.536545  143.737076   \n2021-03-31  104.856598  57.459999  63.608231  160.280701  148.679047   \n2021-04-30  104.776733  57.220001  57.177834  158.700790  151.106964   \n2021-05-31  112.283615  59.310001  57.119999  166.089172  161.353683   \n2021-06-30  107.502205  59.169998  56.139999  161.663391  152.806564   \n2021-07-30  103.428940  56.840000  53.720001  168.984070  149.971909   \n2021-08-31  105.235954  49.009998  54.060001  170.906296  158.044586   \n2021-09-30  102.939865  52.709999  53.279999  159.425659  161.740036   \n2021-10-29  104.778259  54.430000  49.000000  160.787949  168.877716   \n2021-11-30   94.906898  57.869999  49.200001  154.935440  157.883621   \n2021-12-31   94.470001  58.630001  51.500000  169.978882  157.406494   \n2022-01-31   94.480003  52.730000  48.820000  171.191086  148.600006   \n2022-02-28   95.510002  46.720001  47.700001  164.570007  141.800003   \n2022-03-31   91.500000  43.740002  49.560001  177.229996  136.320007   \n2022-04-29   74.550003  37.910000  43.590000  180.460007  119.360001   \n2022-05-31   78.290001  38.680000  44.419998  179.529999  132.229996   \n\n                CMCSA          MA         MCD        NDAQ        PFE  \nDate                                                                  \n2021-01-29  49.132698  314.732025  202.063751  134.381012  34.660534  \n2021-02-26  52.254913  352.107025  201.644104  137.381149  32.333744  \n2021-03-31  53.632652  354.296173  219.251526  146.989166  34.979141  \n2021-04-30  55.909714  380.629395  230.931122  161.024185  37.315594  \n2021-05-31  57.094620  359.229797  230.052460  166.925308  37.761280  \n2021-06-30  56.775990  363.722931  227.200058  175.800003  38.180527  \n2021-07-30  58.830002  384.947815  238.727768  186.729996  42.117268  \n2021-08-31  60.680000  345.339935  234.844376  195.779999  45.324516  \n2021-09-30  55.930000  346.786163  238.454163  193.020004  42.314030  \n2021-10-29  51.430000  335.080292  242.845276  209.869995  43.032223  \n2021-11-30  49.980000  314.507294  243.246841  203.229996  53.324566  \n2021-12-31  50.330002  358.849121  266.587006  210.009995  58.604420  \n2022-01-31  49.990002  386.380005  258.014709  179.210007  52.689999  \n2022-02-28  46.759998  360.820007  244.770004  171.149994  46.939999  \n2022-03-31  46.820000  357.380005  247.279999  178.199997  51.770000  \n2022-04-29  39.759998  363.380005  249.160004  157.369995  49.070000  \n2022-05-31  44.279999  357.869995  252.210007  155.259995  53.040001  ",
      "text/html": "<div>\n<style scoped>\n    .dataframe tbody tr th:only-of-type {\n        vertical-align: middle;\n    }\n\n    .dataframe tbody tr th {\n        vertical-align: top;\n    }\n\n    .dataframe thead th {\n        text-align: right;\n    }\n</style>\n<table border=\"1\" class=\"dataframe\">\n  <thead>\n    <tr style=\"text-align: right;\">\n      <th></th>\n      <th>AAPL</th>\n      <th>MSFT</th>\n      <th>AAL</th>\n      <th>WMT</th>\n      <th>MMM</th>\n      <th>AIG</th>\n      <th>GOOGL</th>\n      <th>AMD</th>\n      <th>BLK</th>\n      <th>KO</th>\n      <th>GE</th>\n      <th>GM</th>\n      <th>INTC</th>\n      <th>JNJ</th>\n      <th>JPM</th>\n      <th>CMCSA</th>\n      <th>MA</th>\n      <th>MCD</th>\n      <th>NDAQ</th>\n      <th>PFE</th>\n    </tr>\n    <tr>\n      <th>Date</th>\n      <th></th>\n      <th></th>\n      <th></th>\n      <th></th>\n      <th></th>\n      <th></th>\n      <th></th>\n      <th></th>\n      <th></th>\n      <th></th>\n      <th></th>\n      <th></th>\n      <th></th>\n      <th></th>\n      <th></th>\n      <th></th>\n      <th></th>\n      <th></th>\n      <th></th>\n      <th></th>\n    </tr>\n  </thead>\n  <tbody>\n    <tr>\n      <th>2021-01-29</th>\n      <td>131.539673</td>\n      <td>230.893845</td>\n      <td>17.170000</td>\n      <td>138.290848</td>\n      <td>168.625763</td>\n      <td>36.531433</td>\n      <td>1827.359985</td>\n      <td>85.639999</td>\n      <td>687.700684</td>\n      <td>46.678406</td>\n      <td>85.282967</td>\n      <td>50.680000</td>\n      <td>54.837341</td>\n      <td>158.105011</td>\n      <td>125.668625</td>\n      <td>49.132698</td>\n      <td>314.732025</td>\n      <td>202.063751</td>\n      <td>134.381012</td>\n      <td>34.660534</td>\n    </tr>\n    <tr>\n      <th>2021-02-26</th>\n      <td>121.054382</td>\n      <td>231.844650</td>\n      <td>20.940001</td>\n      <td>127.886276</td>\n      <td>169.434601</td>\n      <td>42.883453</td>\n      <td>2021.910034</td>\n      <td>84.510002</td>\n      <td>681.071350</td>\n      <td>47.492737</td>\n      <td>100.135612</td>\n      <td>51.330002</td>\n      <td>60.407940</td>\n      <td>154.536545</td>\n      <td>143.737076</td>\n      <td>52.254913</td>\n      <td>352.107025</td>\n      <td>201.644104</td>\n      <td>137.381149</td>\n      <td>32.333744</td>\n    </tr>\n    <tr>\n      <th>2021-03-31</th>\n      <td>121.942871</td>\n      <td>235.226837</td>\n      <td>23.900000</td>\n      <td>134.262024</td>\n      <td>186.488388</td>\n      <td>45.388451</td>\n      <td>2062.520020</td>\n      <td>78.500000</td>\n      <td>743.760559</td>\n      <td>51.524357</td>\n      <td>104.856598</td>\n      <td>57.459999</td>\n      <td>63.608231</td>\n      <td>160.280701</td>\n      <td>148.679047</td>\n      <td>53.632652</td>\n      <td>354.296173</td>\n      <td>219.251526</td>\n      <td>146.989166</td>\n      <td>34.979141</td>\n    </tr>\n    <tr>\n      <th>2021-04-30</th>\n      <td>131.237091</td>\n      <td>251.599030</td>\n      <td>21.719999</td>\n      <td>138.294922</td>\n      <td>190.805084</td>\n      <td>47.588627</td>\n      <td>2353.500000</td>\n      <td>81.620003</td>\n      <td>808.216614</td>\n      <td>52.765793</td>\n      <td>104.776733</td>\n      <td>57.220001</td>\n      <td>57.177834</td>\n      <td>158.700790</td>\n      <td>151.106964</td>\n      <td>55.909714</td>\n      <td>380.629395</td>\n      <td>230.931122</td>\n      <td>161.024185</td>\n      <td>37.315594</td>\n    </tr>\n    <tr>\n      <th>2021-05-31</th>\n      <td>124.610001</td>\n      <td>249.679993</td>\n      <td>24.240000</td>\n      <td>140.941788</td>\n      <td>197.961609</td>\n      <td>51.900578</td>\n      <td>2356.850098</td>\n      <td>80.080002</td>\n      <td>865.175476</td>\n      <td>54.046329</td>\n      <td>112.283615</td>\n      <td>59.310001</td>\n      <td>57.119999</td>\n      <td>166.089172</td>\n      <td>161.353683</td>\n      <td>57.094620</td>\n      <td>359.229797</td>\n      <td>230.052460</td>\n      <td>166.925308</td>\n      <td>37.761280</td>\n    </tr>\n    <tr>\n      <th>2021-06-30</th>\n      <td>136.960007</td>\n      <td>270.899994</td>\n      <td>21.209999</td>\n      <td>139.939514</td>\n      <td>193.661911</td>\n      <td>47.043125</td>\n      <td>2441.790039</td>\n      <td>93.930000</td>\n      <td>867.169189</td>\n      <td>53.291416</td>\n      <td>107.502205</td>\n      <td>59.169998</td>\n      <td>56.139999</td>\n      <td>161.663391</td>\n      <td>152.806564</td>\n      <td>56.775990</td>\n      <td>363.722931</td>\n      <td>227.200058</td>\n      <td>175.800003</td>\n      <td>38.180527</td>\n    </tr>\n    <tr>\n      <th>2021-07-30</th>\n      <td>145.860001</td>\n      <td>284.910004</td>\n      <td>20.379999</td>\n      <td>141.457794</td>\n      <td>192.989166</td>\n      <td>46.796051</td>\n      <td>2694.530029</td>\n      <td>106.190002</td>\n      <td>859.438782</td>\n      <td>56.167240</td>\n      <td>103.428940</td>\n      <td>56.840000</td>\n      <td>53.720001</td>\n      <td>168.984070</td>\n      <td>149.971909</td>\n      <td>58.830002</td>\n      <td>384.947815</td>\n      <td>238.727768</td>\n      <td>186.729996</td>\n      <td>42.117268</td>\n    </tr>\n    <tr>\n      <th>2021-08-31</th>\n      <td>151.830002</td>\n      <td>301.880005</td>\n      <td>19.940001</td>\n      <td>147.506088</td>\n      <td>191.318588</td>\n      <td>53.921700</td>\n      <td>2893.949951</td>\n      <td>110.720001</td>\n      <td>934.880127</td>\n      <td>55.458134</td>\n      <td>105.235954</td>\n      <td>49.009998</td>\n      <td>54.060001</td>\n      <td>170.906296</td>\n      <td>158.044586</td>\n      <td>60.680000</td>\n      <td>345.339935</td>\n      <td>234.844376</td>\n      <td>195.779999</td>\n      <td>45.324516</td>\n    </tr>\n    <tr>\n      <th>2021-09-30</th>\n      <td>141.500000</td>\n      <td>281.920013</td>\n      <td>20.520000</td>\n      <td>138.821060</td>\n      <td>172.338028</td>\n      <td>54.568653</td>\n      <td>2673.520020</td>\n      <td>102.900002</td>\n      <td>834.809570</td>\n      <td>52.066238</td>\n      <td>102.939865</td>\n      <td>52.709999</td>\n      <td>53.279999</td>\n      <td>159.425659</td>\n      <td>161.740036</td>\n      <td>55.930000</td>\n      <td>346.786163</td>\n      <td>238.454163</td>\n      <td>193.020004</td>\n      <td>42.314030</td>\n    </tr>\n    <tr>\n      <th>2021-10-29</th>\n      <td>149.800003</td>\n      <td>331.619995</td>\n      <td>19.200001</td>\n      <td>148.820801</td>\n      <td>175.540741</td>\n      <td>58.744064</td>\n      <td>2960.919922</td>\n      <td>120.230003</td>\n      <td>939.128479</td>\n      <td>55.936226</td>\n      <td>104.778259</td>\n      <td>54.430000</td>\n      <td>49.000000</td>\n      <td>160.787949</td>\n      <td>168.877716</td>\n      <td>51.430000</td>\n      <td>335.080292</td>\n      <td>242.845276</td>\n      <td>209.869995</td>\n      <td>43.032223</td>\n    </tr>\n    <tr>\n      <th>2021-11-30</th>\n      <td>165.300003</td>\n      <td>330.589996</td>\n      <td>17.690001</td>\n      <td>140.066055</td>\n      <td>168.412033</td>\n      <td>52.292057</td>\n      <td>2837.949951</td>\n      <td>158.369995</td>\n      <td>900.456848</td>\n      <td>52.450001</td>\n      <td>94.906898</td>\n      <td>57.869999</td>\n      <td>49.200001</td>\n      <td>154.935440</td>\n      <td>157.883621</td>\n      <td>49.980000</td>\n      <td>314.507294</td>\n      <td>243.246841</td>\n      <td>203.229996</td>\n      <td>53.324566</td>\n    </tr>\n    <tr>\n      <th>2021-12-31</th>\n      <td>177.570007</td>\n      <td>336.320007</td>\n      <td>17.959999</td>\n      <td>144.690002</td>\n      <td>175.929382</td>\n      <td>56.860001</td>\n      <td>2897.040039</td>\n      <td>143.899994</td>\n      <td>915.559998</td>\n      <td>59.209999</td>\n      <td>94.470001</td>\n      <td>58.630001</td>\n      <td>51.500000</td>\n      <td>169.978882</td>\n      <td>157.406494</td>\n      <td>50.330002</td>\n      <td>358.849121</td>\n      <td>266.587006</td>\n      <td>210.009995</td>\n      <td>58.604420</td>\n    </tr>\n    <tr>\n      <th>2022-01-31</th>\n      <td>174.779999</td>\n      <td>310.980011</td>\n      <td>16.469999</td>\n      <td>139.809998</td>\n      <td>164.430527</td>\n      <td>57.750000</td>\n      <td>2706.070068</td>\n      <td>114.250000</td>\n      <td>822.940002</td>\n      <td>61.009998</td>\n      <td>94.480003</td>\n      <td>52.730000</td>\n      <td>48.820000</td>\n      <td>171.191086</td>\n      <td>148.600006</td>\n      <td>49.990002</td>\n      <td>386.380005</td>\n      <td>258.014709</td>\n      <td>179.210007</td>\n      <td>52.689999</td>\n    </tr>\n    <tr>\n      <th>2022-02-28</th>\n      <td>165.119995</td>\n      <td>298.790009</td>\n      <td>17.250000</td>\n      <td>135.160004</td>\n      <td>148.649994</td>\n      <td>61.240002</td>\n      <td>2701.139893</td>\n      <td>123.339996</td>\n      <td>743.890015</td>\n      <td>62.240002</td>\n      <td>95.510002</td>\n      <td>46.720001</td>\n      <td>47.700001</td>\n      <td>164.570007</td>\n      <td>141.800003</td>\n      <td>46.759998</td>\n      <td>360.820007</td>\n      <td>244.770004</td>\n      <td>171.149994</td>\n      <td>46.939999</td>\n    </tr>\n    <tr>\n      <th>2022-03-31</th>\n      <td>174.610001</td>\n      <td>308.309998</td>\n      <td>18.250000</td>\n      <td>148.919998</td>\n      <td>148.880005</td>\n      <td>62.770000</td>\n      <td>2781.350098</td>\n      <td>109.339996</td>\n      <td>764.169983</td>\n      <td>62.000000</td>\n      <td>91.500000</td>\n      <td>43.740002</td>\n      <td>49.560001</td>\n      <td>177.229996</td>\n      <td>136.320007</td>\n      <td>46.820000</td>\n      <td>357.380005</td>\n      <td>247.279999</td>\n      <td>178.199997</td>\n      <td>51.770000</td>\n    </tr>\n    <tr>\n      <th>2022-04-29</th>\n      <td>157.649994</td>\n      <td>277.519989</td>\n      <td>18.770000</td>\n      <td>152.990005</td>\n      <td>144.220001</td>\n      <td>58.509998</td>\n      <td>2282.189941</td>\n      <td>85.519997</td>\n      <td>624.679993</td>\n      <td>64.610001</td>\n      <td>74.550003</td>\n      <td>37.910000</td>\n      <td>43.590000</td>\n      <td>180.460007</td>\n      <td>119.360001</td>\n      <td>39.759998</td>\n      <td>363.380005</td>\n      <td>249.160004</td>\n      <td>157.369995</td>\n      <td>49.070000</td>\n    </tr>\n    <tr>\n      <th>2022-05-31</th>\n      <td>148.839996</td>\n      <td>271.869995</td>\n      <td>17.870001</td>\n      <td>128.630005</td>\n      <td>149.289993</td>\n      <td>58.680000</td>\n      <td>2275.239990</td>\n      <td>101.860001</td>\n      <td>669.080017</td>\n      <td>63.380001</td>\n      <td>78.290001</td>\n      <td>38.680000</td>\n      <td>44.419998</td>\n      <td>179.529999</td>\n      <td>132.229996</td>\n      <td>44.279999</td>\n      <td>357.869995</td>\n      <td>252.210007</td>\n      <td>155.259995</td>\n      <td>53.040001</td>\n    </tr>\n  </tbody>\n</table>\n</div>"
     },
     "metadata": {},
     "output_type": "display_data"
    },
    {
     "name": "stdout",
     "output_type": "stream",
     "text": [
      "['AAPL', 'MSFT', 'AAL', 'WMT', 'MMM', 'AIG', 'GOOGL', 'AMD', 'BLK', 'KO', 'GE', 'GM', 'INTC', 'JNJ', 'JPM', 'CMCSA', 'MA', 'MCD', 'NDAQ', 'PFE']\n"
     ]
    }
   ],
   "source": [
    "# 20 stocks selected\n",
    "stocks=['AAPL', 'MSFT', 'AAL', 'WMT', 'MMM', 'AIG', 'GOOGL', 'AMD', 'BLK', 'KO', 'GE', 'GM', 'INTC', 'JNJ', 'JPM', 'CMCSA', 'MA', 'MCD', 'NDAQ', 'PFE']\n",
    "dates = ['2021-01-01', '2022-05-31']\n",
    "#dates = ['2010-01-01', '2012-12-31']\n",
    "\n",
    "print(f'len set stocks: {len(set(stocks))}')\n",
    "panel_data = DataReader(stocks, 'yahoo', dates[0], dates[1])\n",
    "panel_data = panel_data.resample('BM').last()\n",
    "df_all = pd.DataFrame(index=panel_data.index, columns=stocks)\n",
    "for i in stocks:\n",
    "    df_all[i] = panel_data[[('Adj Close', i)]]\n",
    "\n",
    "display(df_all)\n",
    "df_all.to_csv('/Users/bmartins/workbench/dwaveStudy/portfolioOptSolved/data/sp20_data_selected.csv')\n",
    "\n",
    "print(stocks)"
   ],
   "metadata": {
    "collapsed": false,
    "pycharm": {
     "name": "#%%\n"
    }
   }
  },
  {
   "cell_type": "code",
   "execution_count": null,
   "outputs": [],
   "source": [
    "# 100 stocks\n",
    "dates = ['2021-01-01', '2022-05-31']\n",
    "stocks = df.sample(n=100, random_state=2).loc[:,'Symbol'].values.tolist()\n",
    "if 'AAPL' not in stocks: stocks[0] = 'AAPL'\n",
    "if 'MSFT' not in stocks: stocks[1] = 'MSFT'\n",
    "if 'WMT' not in stocks: stocks[2] = 'WMT'\n",
    "if 'AAL' not in stocks: stocks[3] = 'AAL'\n",
    "#if 'OGN' in stocks:\n",
    "\n",
    "print(f'len set stocks: {len(set(stocks))}')\n",
    "panel_data = DataReader(stocks, 'yahoo', dates[0], dates[1])\n",
    "panel_data = panel_data.resample('BM').last()\n",
    "df_all = pd.DataFrame(index=panel_data.index, columns=stocks)\n",
    "for i in stocks:\n",
    "    df_all[i] = panel_data[[('Adj Close', i)]]\n",
    "\n",
    "display(df_all)\n",
    "df_all.to_csv('/Users/bmartins/workbench/dwaveStudy/portfolioOptSolved/data/sp100_data_random.csv')\n",
    "\n",
    "print(stocks)"
   ],
   "metadata": {
    "collapsed": false,
    "pycharm": {
     "name": "#%%\n"
    }
   }
  },
  {
   "cell_type": "code",
   "execution_count": 8,
   "outputs": [
    {
     "name": "stdout",
     "output_type": "stream",
     "text": [
      "len set stocks: 100\n"
     ]
    },
    {
     "data": {
      "text/plain": "                  AAPL        MSFT         WMT        AAL        LDOS  \\\nDate                                                                    \n2021-01-29  131.539673  230.893845  138.290848  17.170000  104.535278   \n2021-02-26  121.054382  231.844650  127.886276  20.940001   87.178444   \n2021-03-31  121.942871  235.226837  134.262024  23.900000   95.238075   \n2021-04-30  131.237091  251.599030  138.294922  21.719999  100.183952   \n2021-05-31  124.610001  249.679993  140.941788  24.240000  101.638046   \n2021-06-30  136.960007  270.899994  139.939514  21.209999  100.325020   \n2021-07-30  145.860001  284.910004  141.457794  20.379999  105.604240   \n2021-08-31  151.830002  301.880005  147.506088  19.940001   97.357948   \n2021-09-30  141.500000  281.920013  138.821060  20.520000   95.743973   \n2021-10-29  149.800003  331.619995  148.820801  19.200001   99.578522   \n2021-11-30  165.300003  330.589996  140.066055  17.690001   87.556992   \n2021-12-31  177.570007  336.320007  144.690002  17.959999   88.900002   \n2022-01-31  174.779999  310.980011  139.809998  16.469999   89.449997   \n2022-02-28  165.119995  298.790009  135.160004  17.250000  101.839996   \n2022-03-31  174.610001  308.309998  148.919998  18.250000  108.019997   \n2022-04-29  157.649994  277.519989  152.990005  18.770000  103.510002   \n2022-05-31  148.839996  271.869995  128.630005  17.870001  104.500000   \n\n                  INTU        HIG        SWKS       FAST       CERN  ...  \\\nDate                                                                 ...   \n2021-01-29  360.291321  46.674213  168.291550  44.838867  79.643845  ...   \n2021-02-26  389.126251  49.603958  177.282623  45.882774  68.737679  ...   \n2021-03-31  382.064606  65.359024  182.925507  49.751690  71.461731  ...   \n2021-04-30  411.679504  64.546791  180.782013  52.012093  74.839081  ...   \n2021-05-31  438.578094  64.292053  170.000000  52.768200  78.030083  ...   \n2021-06-30  489.598572  60.966778  191.750000  51.733528  78.160004  ...   \n2021-07-30  529.969971  62.590065  184.509995  54.770000  80.389999  ...   \n2021-08-31  566.109985  66.479019  183.460007  55.849998  76.349998  ...   \n2021-09-30  539.510010  69.475609  164.779999  51.610001  70.519997  ...   \n2021-10-29  625.989990  72.126068  167.130005  57.080002  74.290001  ...   \n2021-11-30  652.299988  65.740250  151.660004  59.169998  70.449997  ...   \n2021-12-31  643.219971  68.664253  155.139999  64.059998  92.870003  ...   \n2022-01-31  555.229980  71.478851  146.520004  56.680000  91.199997  ...   \n2022-02-28  474.369995  69.480003  138.169998  51.459999  93.250000  ...   \n2022-03-31  480.839996  71.809998  133.279999  59.400002  93.559998  ...   \n2022-04-29  418.750000  69.930000  113.300003  55.310001  93.639999  ...   \n2022-05-31  414.459991  72.510002  108.870003  53.560001  94.849998  ...   \n\n                  ODFL       JNPR         ICE         KR        JCI  \\\nDate                                                                  \n2021-01-29  193.678162  23.572899  109.145355  33.657578  49.006622   \n2021-02-26  214.413727  22.664188  109.105797  31.592691  54.879154   \n2021-03-31  240.228867  24.659962  110.776917  35.300251  58.954544   \n2021-04-30  257.615753  24.718376  116.758148  35.839706  61.592533   \n2021-05-31  265.250000  25.827850  111.967216  36.450390  65.742180   \n2021-06-30  253.800003  26.828398  118.082443  37.761345  68.085945   \n2021-07-30  269.149994  27.603331  119.206573  40.117115  70.853828   \n2021-08-31  288.720001  28.621752  118.908127  45.593445  74.207031   \n2021-09-30  285.980011  27.179802  114.539574  40.046558  67.787369   \n2021-10-29  341.350006  29.155077  138.121841  39.640450  73.054634   \n2021-11-30  355.170013  30.939518  130.400742  41.341511  74.438660   \n2021-12-31  358.380005  35.491493  136.770004  45.054581  81.309998   \n2022-01-31  301.929993  34.606941  126.660004  43.392162  72.669998   \n2022-02-28  314.029999  33.790001  128.119995  46.799999  64.959999   \n2022-03-31  298.679993  37.160000  132.119995  57.369999  65.570000   \n2022-04-29  280.119995  31.520000  115.809998  53.959999  59.869999   \n2022-05-31  258.239990  30.680000  102.389999  52.970001  54.509998   \n\n                  AFL        MRNA       EVRG        DVN         PRU  \nDate                                                                 \n2021-01-29  43.815163  173.160004  51.886192  15.728911   73.938705  \n2021-02-26  46.772255  154.809998  51.789623  20.583281   83.085472  \n2021-03-31  49.985466  130.949997  58.053711  21.041765   87.281898  \n2021-04-30  52.475948  178.820007  62.383610  22.515169   96.153793  \n2021-05-31  55.682781  185.009995  60.972469  25.577541  103.601288  \n2021-06-30  52.715916  234.979996  59.438076  28.331980   99.243004  \n2021-07-30  54.032345  353.600006  64.149452  25.080450   97.121971  \n2021-08-31  56.004086  376.690002  67.853531  28.681396  103.688423  \n2021-09-30  51.508350  384.859985  61.658001  34.932793  103.022499  \n2021-10-29  53.029980  345.209991  63.194492  39.428513  107.772118  \n2021-11-30  53.802784  352.429993  63.299999  41.376328  101.236206  \n2021-12-31  58.026314  253.979996  68.610001  44.049999  107.156334  \n2022-01-31  62.428722  169.330002  64.959999  50.570000  110.452995  \n2022-02-28  61.090000  153.600006  62.410000  59.549999  111.660004  \n2022-03-31  64.389999  172.259995  68.339996  59.130001  118.169998  \n2022-04-29  57.279999  134.410004  67.849998  58.169998  108.510002  \n2022-05-31  60.570000  145.330002  69.940002  74.900002  106.250000  \n\n[17 rows x 100 columns]",
      "text/html": "<div>\n<style scoped>\n    .dataframe tbody tr th:only-of-type {\n        vertical-align: middle;\n    }\n\n    .dataframe tbody tr th {\n        vertical-align: top;\n    }\n\n    .dataframe thead th {\n        text-align: right;\n    }\n</style>\n<table border=\"1\" class=\"dataframe\">\n  <thead>\n    <tr style=\"text-align: right;\">\n      <th></th>\n      <th>AAPL</th>\n      <th>MSFT</th>\n      <th>WMT</th>\n      <th>AAL</th>\n      <th>LDOS</th>\n      <th>INTU</th>\n      <th>HIG</th>\n      <th>SWKS</th>\n      <th>FAST</th>\n      <th>CERN</th>\n      <th>...</th>\n      <th>ODFL</th>\n      <th>JNPR</th>\n      <th>ICE</th>\n      <th>KR</th>\n      <th>JCI</th>\n      <th>AFL</th>\n      <th>MRNA</th>\n      <th>EVRG</th>\n      <th>DVN</th>\n      <th>PRU</th>\n    </tr>\n    <tr>\n      <th>Date</th>\n      <th></th>\n      <th></th>\n      <th></th>\n      <th></th>\n      <th></th>\n      <th></th>\n      <th></th>\n      <th></th>\n      <th></th>\n      <th></th>\n      <th></th>\n      <th></th>\n      <th></th>\n      <th></th>\n      <th></th>\n      <th></th>\n      <th></th>\n      <th></th>\n      <th></th>\n      <th></th>\n      <th></th>\n    </tr>\n  </thead>\n  <tbody>\n    <tr>\n      <th>2021-01-29</th>\n      <td>131.539673</td>\n      <td>230.893845</td>\n      <td>138.290848</td>\n      <td>17.170000</td>\n      <td>104.535278</td>\n      <td>360.291321</td>\n      <td>46.674213</td>\n      <td>168.291550</td>\n      <td>44.838867</td>\n      <td>79.643845</td>\n      <td>...</td>\n      <td>193.678162</td>\n      <td>23.572899</td>\n      <td>109.145355</td>\n      <td>33.657578</td>\n      <td>49.006622</td>\n      <td>43.815163</td>\n      <td>173.160004</td>\n      <td>51.886192</td>\n      <td>15.728911</td>\n      <td>73.938705</td>\n    </tr>\n    <tr>\n      <th>2021-02-26</th>\n      <td>121.054382</td>\n      <td>231.844650</td>\n      <td>127.886276</td>\n      <td>20.940001</td>\n      <td>87.178444</td>\n      <td>389.126251</td>\n      <td>49.603958</td>\n      <td>177.282623</td>\n      <td>45.882774</td>\n      <td>68.737679</td>\n      <td>...</td>\n      <td>214.413727</td>\n      <td>22.664188</td>\n      <td>109.105797</td>\n      <td>31.592691</td>\n      <td>54.879154</td>\n      <td>46.772255</td>\n      <td>154.809998</td>\n      <td>51.789623</td>\n      <td>20.583281</td>\n      <td>83.085472</td>\n    </tr>\n    <tr>\n      <th>2021-03-31</th>\n      <td>121.942871</td>\n      <td>235.226837</td>\n      <td>134.262024</td>\n      <td>23.900000</td>\n      <td>95.238075</td>\n      <td>382.064606</td>\n      <td>65.359024</td>\n      <td>182.925507</td>\n      <td>49.751690</td>\n      <td>71.461731</td>\n      <td>...</td>\n      <td>240.228867</td>\n      <td>24.659962</td>\n      <td>110.776917</td>\n      <td>35.300251</td>\n      <td>58.954544</td>\n      <td>49.985466</td>\n      <td>130.949997</td>\n      <td>58.053711</td>\n      <td>21.041765</td>\n      <td>87.281898</td>\n    </tr>\n    <tr>\n      <th>2021-04-30</th>\n      <td>131.237091</td>\n      <td>251.599030</td>\n      <td>138.294922</td>\n      <td>21.719999</td>\n      <td>100.183952</td>\n      <td>411.679504</td>\n      <td>64.546791</td>\n      <td>180.782013</td>\n      <td>52.012093</td>\n      <td>74.839081</td>\n      <td>...</td>\n      <td>257.615753</td>\n      <td>24.718376</td>\n      <td>116.758148</td>\n      <td>35.839706</td>\n      <td>61.592533</td>\n      <td>52.475948</td>\n      <td>178.820007</td>\n      <td>62.383610</td>\n      <td>22.515169</td>\n      <td>96.153793</td>\n    </tr>\n    <tr>\n      <th>2021-05-31</th>\n      <td>124.610001</td>\n      <td>249.679993</td>\n      <td>140.941788</td>\n      <td>24.240000</td>\n      <td>101.638046</td>\n      <td>438.578094</td>\n      <td>64.292053</td>\n      <td>170.000000</td>\n      <td>52.768200</td>\n      <td>78.030083</td>\n      <td>...</td>\n      <td>265.250000</td>\n      <td>25.827850</td>\n      <td>111.967216</td>\n      <td>36.450390</td>\n      <td>65.742180</td>\n      <td>55.682781</td>\n      <td>185.009995</td>\n      <td>60.972469</td>\n      <td>25.577541</td>\n      <td>103.601288</td>\n    </tr>\n    <tr>\n      <th>2021-06-30</th>\n      <td>136.960007</td>\n      <td>270.899994</td>\n      <td>139.939514</td>\n      <td>21.209999</td>\n      <td>100.325020</td>\n      <td>489.598572</td>\n      <td>60.966778</td>\n      <td>191.750000</td>\n      <td>51.733528</td>\n      <td>78.160004</td>\n      <td>...</td>\n      <td>253.800003</td>\n      <td>26.828398</td>\n      <td>118.082443</td>\n      <td>37.761345</td>\n      <td>68.085945</td>\n      <td>52.715916</td>\n      <td>234.979996</td>\n      <td>59.438076</td>\n      <td>28.331980</td>\n      <td>99.243004</td>\n    </tr>\n    <tr>\n      <th>2021-07-30</th>\n      <td>145.860001</td>\n      <td>284.910004</td>\n      <td>141.457794</td>\n      <td>20.379999</td>\n      <td>105.604240</td>\n      <td>529.969971</td>\n      <td>62.590065</td>\n      <td>184.509995</td>\n      <td>54.770000</td>\n      <td>80.389999</td>\n      <td>...</td>\n      <td>269.149994</td>\n      <td>27.603331</td>\n      <td>119.206573</td>\n      <td>40.117115</td>\n      <td>70.853828</td>\n      <td>54.032345</td>\n      <td>353.600006</td>\n      <td>64.149452</td>\n      <td>25.080450</td>\n      <td>97.121971</td>\n    </tr>\n    <tr>\n      <th>2021-08-31</th>\n      <td>151.830002</td>\n      <td>301.880005</td>\n      <td>147.506088</td>\n      <td>19.940001</td>\n      <td>97.357948</td>\n      <td>566.109985</td>\n      <td>66.479019</td>\n      <td>183.460007</td>\n      <td>55.849998</td>\n      <td>76.349998</td>\n      <td>...</td>\n      <td>288.720001</td>\n      <td>28.621752</td>\n      <td>118.908127</td>\n      <td>45.593445</td>\n      <td>74.207031</td>\n      <td>56.004086</td>\n      <td>376.690002</td>\n      <td>67.853531</td>\n      <td>28.681396</td>\n      <td>103.688423</td>\n    </tr>\n    <tr>\n      <th>2021-09-30</th>\n      <td>141.500000</td>\n      <td>281.920013</td>\n      <td>138.821060</td>\n      <td>20.520000</td>\n      <td>95.743973</td>\n      <td>539.510010</td>\n      <td>69.475609</td>\n      <td>164.779999</td>\n      <td>51.610001</td>\n      <td>70.519997</td>\n      <td>...</td>\n      <td>285.980011</td>\n      <td>27.179802</td>\n      <td>114.539574</td>\n      <td>40.046558</td>\n      <td>67.787369</td>\n      <td>51.508350</td>\n      <td>384.859985</td>\n      <td>61.658001</td>\n      <td>34.932793</td>\n      <td>103.022499</td>\n    </tr>\n    <tr>\n      <th>2021-10-29</th>\n      <td>149.800003</td>\n      <td>331.619995</td>\n      <td>148.820801</td>\n      <td>19.200001</td>\n      <td>99.578522</td>\n      <td>625.989990</td>\n      <td>72.126068</td>\n      <td>167.130005</td>\n      <td>57.080002</td>\n      <td>74.290001</td>\n      <td>...</td>\n      <td>341.350006</td>\n      <td>29.155077</td>\n      <td>138.121841</td>\n      <td>39.640450</td>\n      <td>73.054634</td>\n      <td>53.029980</td>\n      <td>345.209991</td>\n      <td>63.194492</td>\n      <td>39.428513</td>\n      <td>107.772118</td>\n    </tr>\n    <tr>\n      <th>2021-11-30</th>\n      <td>165.300003</td>\n      <td>330.589996</td>\n      <td>140.066055</td>\n      <td>17.690001</td>\n      <td>87.556992</td>\n      <td>652.299988</td>\n      <td>65.740250</td>\n      <td>151.660004</td>\n      <td>59.169998</td>\n      <td>70.449997</td>\n      <td>...</td>\n      <td>355.170013</td>\n      <td>30.939518</td>\n      <td>130.400742</td>\n      <td>41.341511</td>\n      <td>74.438660</td>\n      <td>53.802784</td>\n      <td>352.429993</td>\n      <td>63.299999</td>\n      <td>41.376328</td>\n      <td>101.236206</td>\n    </tr>\n    <tr>\n      <th>2021-12-31</th>\n      <td>177.570007</td>\n      <td>336.320007</td>\n      <td>144.690002</td>\n      <td>17.959999</td>\n      <td>88.900002</td>\n      <td>643.219971</td>\n      <td>68.664253</td>\n      <td>155.139999</td>\n      <td>64.059998</td>\n      <td>92.870003</td>\n      <td>...</td>\n      <td>358.380005</td>\n      <td>35.491493</td>\n      <td>136.770004</td>\n      <td>45.054581</td>\n      <td>81.309998</td>\n      <td>58.026314</td>\n      <td>253.979996</td>\n      <td>68.610001</td>\n      <td>44.049999</td>\n      <td>107.156334</td>\n    </tr>\n    <tr>\n      <th>2022-01-31</th>\n      <td>174.779999</td>\n      <td>310.980011</td>\n      <td>139.809998</td>\n      <td>16.469999</td>\n      <td>89.449997</td>\n      <td>555.229980</td>\n      <td>71.478851</td>\n      <td>146.520004</td>\n      <td>56.680000</td>\n      <td>91.199997</td>\n      <td>...</td>\n      <td>301.929993</td>\n      <td>34.606941</td>\n      <td>126.660004</td>\n      <td>43.392162</td>\n      <td>72.669998</td>\n      <td>62.428722</td>\n      <td>169.330002</td>\n      <td>64.959999</td>\n      <td>50.570000</td>\n      <td>110.452995</td>\n    </tr>\n    <tr>\n      <th>2022-02-28</th>\n      <td>165.119995</td>\n      <td>298.790009</td>\n      <td>135.160004</td>\n      <td>17.250000</td>\n      <td>101.839996</td>\n      <td>474.369995</td>\n      <td>69.480003</td>\n      <td>138.169998</td>\n      <td>51.459999</td>\n      <td>93.250000</td>\n      <td>...</td>\n      <td>314.029999</td>\n      <td>33.790001</td>\n      <td>128.119995</td>\n      <td>46.799999</td>\n      <td>64.959999</td>\n      <td>61.090000</td>\n      <td>153.600006</td>\n      <td>62.410000</td>\n      <td>59.549999</td>\n      <td>111.660004</td>\n    </tr>\n    <tr>\n      <th>2022-03-31</th>\n      <td>174.610001</td>\n      <td>308.309998</td>\n      <td>148.919998</td>\n      <td>18.250000</td>\n      <td>108.019997</td>\n      <td>480.839996</td>\n      <td>71.809998</td>\n      <td>133.279999</td>\n      <td>59.400002</td>\n      <td>93.559998</td>\n      <td>...</td>\n      <td>298.679993</td>\n      <td>37.160000</td>\n      <td>132.119995</td>\n      <td>57.369999</td>\n      <td>65.570000</td>\n      <td>64.389999</td>\n      <td>172.259995</td>\n      <td>68.339996</td>\n      <td>59.130001</td>\n      <td>118.169998</td>\n    </tr>\n    <tr>\n      <th>2022-04-29</th>\n      <td>157.649994</td>\n      <td>277.519989</td>\n      <td>152.990005</td>\n      <td>18.770000</td>\n      <td>103.510002</td>\n      <td>418.750000</td>\n      <td>69.930000</td>\n      <td>113.300003</td>\n      <td>55.310001</td>\n      <td>93.639999</td>\n      <td>...</td>\n      <td>280.119995</td>\n      <td>31.520000</td>\n      <td>115.809998</td>\n      <td>53.959999</td>\n      <td>59.869999</td>\n      <td>57.279999</td>\n      <td>134.410004</td>\n      <td>67.849998</td>\n      <td>58.169998</td>\n      <td>108.510002</td>\n    </tr>\n    <tr>\n      <th>2022-05-31</th>\n      <td>148.839996</td>\n      <td>271.869995</td>\n      <td>128.630005</td>\n      <td>17.870001</td>\n      <td>104.500000</td>\n      <td>414.459991</td>\n      <td>72.510002</td>\n      <td>108.870003</td>\n      <td>53.560001</td>\n      <td>94.849998</td>\n      <td>...</td>\n      <td>258.239990</td>\n      <td>30.680000</td>\n      <td>102.389999</td>\n      <td>52.970001</td>\n      <td>54.509998</td>\n      <td>60.570000</td>\n      <td>145.330002</td>\n      <td>69.940002</td>\n      <td>74.900002</td>\n      <td>106.250000</td>\n    </tr>\n  </tbody>\n</table>\n<p>17 rows × 100 columns</p>\n</div>"
     },
     "metadata": {},
     "output_type": "display_data"
    },
    {
     "name": "stdout",
     "output_type": "stream",
     "text": [
      "['AAPL', 'MSFT', 'WMT', 'AAL', 'LDOS', 'INTU', 'HIG', 'SWKS', 'FAST', 'CERN', 'NDAQ', 'RHI', 'ETR', 'AOS', 'VNO', 'CPT', 'HPE', 'EFX', 'AVGO', 'DLTR', 'MLM', 'PSA', 'TXN', 'ALB', 'NVDA', 'AVB', 'DRE', 'TTWO', 'LYB', 'NCLH', 'RCL', 'FISV', 'EQR', 'STX', 'TECH', 'RTX', 'D', 'EMR', 'LRCX', 'SLB', 'ALGN', 'IEX', 'WTW', 'EXR', 'FIS', 'COO', 'UDR', 'BBY', 'NWSA', 'EPAM', 'J', 'PNW', 'MMC', 'GNRC', 'AMCR', 'MKC', 'ESS', 'GOOGL', 'CI', 'DFS', 'PFE', 'CTSH', 'GPC', 'NWL', 'ETN', 'FTNT', 'RF', 'UAL', 'V', 'AEP', 'MOH', 'TAP', 'SCHW', 'ZION', 'CRM', 'HAS', 'BIO', 'HON', 'APH', 'LH', 'DUK', 'ADI', 'GS', 'CCL', 'MTD', 'TEL', 'MOS', 'OXY', 'BLK', 'AIG', 'ODFL', 'JNPR', 'ICE', 'KR', 'JCI', 'AFL', 'MRNA', 'EVRG', 'DVN', 'PRU']\n"
     ]
    }
   ],
   "source": [
    "# 100 stocks\n",
    "dates = ['2018-10-01', '2020-01-01']\n",
    "stocks = df.sample(n=100, random_state=2).loc[:,'Symbol'].values.tolist()\n",
    "if 'AAPL' not in stocks: stocks[0] = 'AAPL'\n",
    "if 'MSFT' not in stocks: stocks[1] = 'MSFT'\n",
    "if 'WMT' not in stocks: stocks[2] = 'WMT'\n",
    "if 'AAL' not in stocks: stocks[3] = 'AAL'\n",
    "#if 'OGN' in stocks:\n",
    "\n",
    "print(f'len set stocks: {len(set(stocks))}')\n",
    "panel_data = DataReader(stocks, 'yahoo', dates[0], dates[1])\n",
    "panel_data = panel_data.resample('BM').last()\n",
    "df_all = pd.DataFrame(index=panel_data.index, columns=stocks)\n",
    "for i in stocks:\n",
    "    df_all[i] = panel_data[[('Adj Close', i)]]\n",
    "\n",
    "display(df_all)\n",
    "df_all.to_csv('/Users/bmartins/workbench/dwaveStudy/portfolioOptSolved/data/sp100_data_random.csv')\n",
    "\n",
    "print(stocks)"
   ],
   "metadata": {
    "collapsed": false,
    "pycharm": {
     "name": "#%%\n"
    }
   }
  }
 ],
 "metadata": {
  "kernelspec": {
   "display_name": "Python 3",
   "language": "python",
   "name": "python3"
  },
  "language_info": {
   "codemirror_mode": {
    "name": "ipython",
    "version": 2
   },
   "file_extension": ".py",
   "mimetype": "text/x-python",
   "name": "python",
   "nbconvert_exporter": "python",
   "pygments_lexer": "ipython2",
   "version": "2.7.6"
  }
 },
 "nbformat": 4,
 "nbformat_minor": 0
}