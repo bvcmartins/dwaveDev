{
 "cells": [
  {
   "cell_type": "code",
   "execution_count": null,
   "outputs": [],
   "source": [
    "import seaborn as sns\n",
    "import pandas as pd\n",
    "import numpy as np\n",
    "import yaml\n",
    "from pandas_datareader.data import DataReader\n",
    "from statsmodels.tsa.arima.model import ARIMA"
   ],
   "metadata": {
    "collapsed": false,
    "pycharm": {
     "name": "#%%\n"
    }
   }
  },
  {
   "cell_type": "code",
   "execution_count": null,
   "outputs": [],
   "source": [
    "payload=pd.read_html('https://en.wikipedia.org/wiki/List_of_S%26P_500_companies')\n",
    "first_table = payload[0]\n",
    "second_table = payload[1]\n",
    "stocks = first_table['Symbol'].values.tolist()"
   ],
   "metadata": {
    "collapsed": false,
    "pycharm": {
     "name": "#%%\n"
    }
   }
  },
  {
   "cell_type": "code",
   "execution_count": null,
   "outputs": [],
   "source": [
    "def calc_stocks(stocks, dates):\n",
    "    panel_data = DataReader(stocks, 'yahoo', dates[0], dates[1])\n",
    "    panel_data = panel_data.resample('BM').last()\n",
    "    df = pd.DataFrame(index=panel_data.index, columns=stocks)\n",
    "    for i in stocks:\n",
    "        df[i] = panel_data[[('Adj Close', i)]]\n",
    "    return df\n",
    "\n",
    "def get_full_data(stocks, dates):\n",
    "    panel_data = DataReader(stocks, 'yahoo', dates[0], dates[1])\n",
    "    panel_data = panel_data.resample('BM').last()\n",
    "    return panel_data"
   ],
   "metadata": {
    "collapsed": false,
    "pycharm": {
     "name": "#%%\n"
    }
   }
  },
  {
   "cell_type": "code",
   "execution_count": null,
   "outputs": [],
   "source": [
    "dates = ['2018-10-01', '2020-01-01']\n",
    "df = calc_stocks(stocks, dates)\n",
    "df.dropna(inplace=True)\n",
    "df_pct = df.pct_change().iloc[1:].mean(axis=0)\n",
    "list_50 = df_pct.sort_values(ascending=False).iloc[:50].index.values.tolist()\n",
    "print(list_50)\n",
    "list_100 = df_pct.sort_values(ascending=False).iloc[:104].index.values.tolist()\n",
    "print(list_100)\n",
    "list_all = df.index.values.tolist()\n",
    "print(len(list_all))\n",
    "print(list_all)"
   ],
   "metadata": {
    "collapsed": false,
    "pycharm": {
     "name": "#%%\n"
    }
   }
  },
  {
   "cell_type": "code",
   "execution_count": null,
   "outputs": [],
   "source": [
    "df_pct.sort_values(ascending=False).iloc[:104]"
   ],
   "metadata": {
    "collapsed": false,
    "pycharm": {
     "name": "#%%\n"
    }
   }
  },
  {
   "cell_type": "code",
   "execution_count": null,
   "outputs": [],
   "source": [
    "dates = ['2018-10-01', '2020-01-01']\n",
    "df = calc_stocks(stocks, dates)"
   ],
   "metadata": {
    "collapsed": false,
    "pycharm": {
     "name": "#%%\n"
    }
   }
  },
  {
   "cell_type": "code",
   "execution_count": null,
   "outputs": [],
   "source": [
    "df.last_valid_index().date()\n"
   ],
   "metadata": {
    "collapsed": false,
    "pycharm": {
     "name": "#%%\n"
    }
   }
  },
  {
   "cell_type": "code",
   "execution_count": null,
   "outputs": [],
   "source": [
    "df2 = df.dropna(axis=1)\n",
    "df2 = df2[sorted(df.columns)]#.reset_index()\n",
    "df2 = df2.set_index('Date').reset_index()\n",
    "list_full = df2.columns.values.tolist()\n",
    "#list_full = df2.index.values.tolist()\n",
    "#print(len(list_full))\n",
    "print(list_full)\n",
    "df2.to_csv('../sp500.csv')"
   ],
   "metadata": {
    "collapsed": false,
    "pycharm": {
     "name": "#%%\n"
    }
   }
  },
  {
   "cell_type": "code",
   "execution_count": null,
   "outputs": [],
   "source": [
    "df3 = pd.read_csv('../sp500.csv', index_col=0)\n",
    "for column in df3.columns:\n",
    "    if column != 'Date':\n",
    "        df3[column] = df3[column].astype(np.float32)\n",
    "    else:\n",
    "        df3[column] = pd.to_datetime(df3[column])\n",
    "df3 = df3.set_index('Date')\n",
    "df3.last_valid_index().date()"
   ],
   "metadata": {
    "collapsed": false,
    "pycharm": {
     "name": "#%%\n"
    }
   }
  },
  {
   "cell_type": "code",
   "execution_count": null,
   "outputs": [],
   "source": [
    "dates = ['2018-10-01', '2020-01-01']\n",
    "df_all = get_full_data(stocks, dates)"
   ],
   "metadata": {
    "collapsed": false,
    "pycharm": {
     "name": "#%%\n"
    }
   }
  },
  {
   "cell_type": "markdown",
   "source": [],
   "metadata": {
    "collapsed": false,
    "pycharm": {
     "name": "#%% md\n"
    }
   }
  },
  {
   "cell_type": "code",
   "execution_count": null,
   "outputs": [],
   "source": [
    "unit_prices = df.iloc[0,1:].values\n",
    "df.iloc[0,:].sort_index()"
   ],
   "metadata": {
    "collapsed": false,
    "pycharm": {
     "name": "#%%\n"
    }
   }
  },
  {
   "cell_type": "code",
   "execution_count": null,
   "outputs": [],
   "source": [
    "df_volume = df_all.loc[:, df_all.columns.get_level_values(0) == 'Volume'].dropna(axis=1)\n",
    "#df_volume = df_volume.set_index('Date')\n",
    "print(df_volume.shape)\n",
    "df_volume.columns = df_volume.columns.droplevel()\n",
    "df_volume = 1000 * df_volume.div(df_volume.sum(axis=1), axis=0)\n",
    "#print(df_volume.apply(lambda x: np.floor(x), axis=0).astype(int).iloc[0,:].sort_values(ascending=False))\n",
    "print(df_volume.apply(lambda x: np.floor(x), axis=0).astype(int).iloc[0,:].sort_index().to_dict())\n",
    "shares = df_volume.apply(lambda x: np.floor(x), axis=0).astype(int).iloc[0,:].sort_index().values\n"
   ],
   "metadata": {
    "collapsed": false,
    "pycharm": {
     "name": "#%%\n"
    }
   }
  },
  {
   "cell_type": "code",
   "execution_count": null,
   "outputs": [],
   "source": [
    "np.dot((shares).astype(int), unit_prices)"
   ],
   "metadata": {
    "collapsed": false,
    "pycharm": {
     "name": "#%%\n"
    }
   }
  },
  {
   "cell_type": "code",
   "execution_count": null,
   "outputs": [],
   "source": [
    "dates = ['2021-01-01', '2022-05-01']\n",
    "df = calc_stocks(stocks, dates)\n",
    "df_pct = df.pct_change().iloc[1:].mean(axis=0)\n",
    "list_50 = df_pct.sort_values(ascending=False).iloc[:50].index.values.tolist()\n",
    "print(list_50)"
   ],
   "metadata": {
    "collapsed": false,
    "pycharm": {
     "name": "#%%\n"
    }
   }
  },
  {
   "cell_type": "code",
   "execution_count": null,
   "outputs": [],
   "source": [
    "list_100 = df_pct.sort_values(ascending=False).iloc[:101].index.values.tolist()\n",
    "print(list_100)"
   ],
   "metadata": {
    "collapsed": false,
    "pycharm": {
     "name": "#%%\n"
    }
   }
  },
  {
   "cell_type": "code",
   "execution_count": null,
   "outputs": [],
   "source": [
    "select_stocks = ['MRO', 'DVN', 'NUE', 'APA', 'OXY', 'AAPL', 'MOS', 'COP', 'EOG', 'CF', 'FANG', 'VLO', 'HAL', 'MPC', 'FTNT', 'PXD', 'XOM', 'HES', 'CVX', 'IT', 'SLB', 'ADM', 'MCK', 'AZO', 'EXR', 'BBWI', 'BKR', 'ANTM', 'PWR', 'OKE', 'IRM', 'WMB', 'PSA', 'FCX', 'NVDA', 'LYV', 'CTRA', 'DLTR', 'WRB', 'KR', 'GD', 'AIG', 'EXC', 'ANET', 'PLD', 'HPQ', 'SBNY', 'CPT', 'KIM', 'NOC']\n",
    "df.loc[:,select_stocks]"
   ],
   "metadata": {
    "collapsed": false,
    "pycharm": {
     "name": "#%%\n"
    }
   }
  },
  {
   "cell_type": "code",
   "execution_count": null,
   "outputs": [],
   "source": [
    "# 4 stocks\n",
    "dates = ['2010-01-29', '2012-12-31']\n",
    "df = calc_stocks(['AAPL', 'MSFT', 'AAL', 'WMT'], dates)\n",
    "df.pct_change().iloc[1:].mean(axis=0)"
   ],
   "metadata": {
    "collapsed": false,
    "pycharm": {
     "name": "#%%\n"
    }
   }
  },
  {
   "cell_type": "code",
   "execution_count": null,
   "outputs": [],
   "source": [
    "# 20 stocks\n",
    "stocks = ['AAPL', 'MSFT', 'AAL', 'WMT', 'MMM', 'AIG', 'GOOGL', 'AMD', 'BLK', 'KO', 'GE', 'GM', 'INTC', 'JNJ', 'JPM', 'CMCSA', 'MA', 'MCD', 'NDAQ', 'PFE']\n",
    "dates = ['2018-10-01', '2020-01-01']\n",
    "df = calc_stocks(stocks, dates)\n",
    "df.pct_change().iloc[1:].mean(axis=0)"
   ],
   "metadata": {
    "collapsed": false,
    "pycharm": {
     "name": "#%%\n"
    }
   }
  },
  {
   "cell_type": "code",
   "execution_count": null,
   "outputs": [],
   "source": [
    "# 50 stocks\n",
    "stocks = [ 'AAPL',  'MSFT',  'WMT',  'AAL',  'LDOS',  'INTU',  'HIG',  'SWKS',\n",
    "           'FAST',  'CERN',  'NDAQ',  'RHI',  'ETR',  'AOS',  'VNO',  'CPT',  'HPE',  'EFX',  'AVGO',\n",
    "           'DLTR',  'MLM',  'PSA',  'TXN',  'ALB',  'NVDA',  'AVB',  'DRE',  'TTWO',  'LYB',  'NCLH',\n",
    "           'RCL',  'FISV',  'EQR',  'STX',  'TECH',  'RTX',  'D',  'EMR',  'LRCX',  'SLB',  'ALGN',  'IEX',\n",
    "           'WTW',  'EXR',  'FIS',  'COO',  'UDR',  'BBY',  'NWSA',  'EPAM']\n",
    "dates = ['2018-10-01', '2020-01-01']\n",
    "df = calc_stocks(stocks, dates)\n",
    "df.pct_change().iloc[1:].mean(axis=0)"
   ],
   "metadata": {
    "collapsed": false,
    "pycharm": {
     "name": "#%%\n"
    }
   }
  },
  {
   "cell_type": "code",
   "execution_count": null,
   "outputs": [],
   "source": [
    "# 50 stocks\n",
    "dates = ['2021-01-01', '2022-04-30']\n",
    "stocks = df.sample(n=50, random_state=10).loc[:,'Symbol'].values.tolist()\n",
    "if 'AAPL' not in stocks: stocks[0] = 'AAPL'\n",
    "if 'MSFT' not in stocks: stocks[1] = 'MSFT'\n",
    "if 'WMT' not in stocks: stocks[2] = 'WMT'\n",
    "if 'AAL' not in stocks: stocks[3] = 'AAL'\n",
    "\n",
    "print(f'len set stocks: {len(set(stocks))}')\n",
    "panel_data = DataReader(stocks, 'yahoo', dates[0], dates[1])\n",
    "panel_data = panel_data.resample('BM').last()\n",
    "df_all = pd.DataFrame(index=panel_data.index, columns=stocks)\n",
    "for i in stocks:\n",
    "    df_all[i] = panel_data[[('Adj Close', i)]]\n",
    "\n",
    "price = df_all.iloc[-1]\n",
    "monthly_returns = df_all[list(stocks)].pct_change().iloc[1:]\n",
    "print('df all')\n",
    "display(df_all)\n",
    "print('monthly returns')\n",
    "display(monthly_returns)\n",
    "avg_monthly_returns = monthly_returns.mean(axis=0)\n",
    "print('avg monthly returns')\n",
    "display(avg_monthly_returns)\n",
    "covariance_matrix = monthly_returns.cov()\n",
    "display(covariance_matrix)\n",
    "#display(df_all)\n",
    "#df_all.to_csv('/Users/bmartins/workbench/dwaveStudy/portfolioOptSolved/data/sp50_data_random.csv')\n",
    "rolling_avg = df_all.rolling(window=1).mean()\n",
    "rolling_avg.reset_index(inplace=True)\n",
    "print('rolling avg')\n",
    "display(rolling_avg)\n",
    "\n",
    "print('price')\n",
    "price = df_all.shift(periods=1)\n",
    "display(price)\n",
    "\n",
    "s1 = df_all.stack().values\n",
    "print(s1)\n",
    "print(len(s1))\n",
    "model = ARIMA(s1, order=(3,1,0))\n",
    "model_fit = model.fit()\n",
    "#rolling_forecast = pd.rolling_apply(df_all,3,lambda x: model_fit.forecast())\n",
    "rolling_forecast = df_all.rolling(3).apply(lambda x: model_fit.forecast())\n",
    "rolling_forecast\n",
    "#forecast = model_fit.forecast()\n",
    "#print(forecast)\n",
    "#print(len(forecast))\n",
    "idx = 3\n",
    "for s in stocks:\n",
    "    print(f'stock: {s}, price:{price[s]}, rolling avg: {rolling_avg.loc[idx, s]}')\n"
   ],
   "metadata": {
    "collapsed": false,
    "pycharm": {
     "name": "#%%\n"
    }
   }
  },
  {
   "cell_type": "code",
   "execution_count": null,
   "outputs": [],
   "source": [
    "\n"
   ],
   "metadata": {
    "collapsed": false,
    "pycharm": {
     "name": "#%%\n"
    }
   }
  },
  {
   "cell_type": "code",
   "execution_count": null,
   "outputs": [],
   "source": [
    "# 50 stocks\n",
    "dates = ['2021-01-01', '2022-04-30']\n",
    "stocks = df.sample(n=50, random_state=10).loc[:,'Symbol'].values.tolist()\n",
    "if 'AAPL' not in stocks: stocks[0] = 'AAPL'\n",
    "if 'MSFT' not in stocks: stocks[1] = 'MSFT'\n",
    "if 'WMT' not in stocks: stocks[2] = 'WMT'\n",
    "if 'AAL' not in stocks: stocks[3] = 'AAL'\n",
    "\n",
    "print(f'len set stocks: {len(set(stocks))}')\n",
    "panel_data = DataReader(stocks, 'yahoo', dates[0], dates[1])\n",
    "panel_data = panel_data.resample('BM').last()\n",
    "df_all = pd.DataFrame(index=panel_data.index, columns=stocks)\n",
    "for i in stocks:\n",
    "    df_all[i] = panel_data[[('Adj Close', i)]]\n",
    "\n",
    "price = df_all.iloc[-1]\n",
    "monthly_returns = df_all[list(stocks)].pct_change().iloc[1:]\n",
    "print('df all')\n",
    "display(df_all)\n",
    "print('monthly returns')\n",
    "display(monthly_returns)\n",
    "avg_monthly_returns = monthly_returns.mean(axis=0)\n",
    "print('avg monthly returns')\n",
    "display(avg_monthly_returns)\n",
    "covariance_matrix = monthly_returns.cov()\n",
    "display(covariance_matrix)\n",
    "#display(df_all)\n",
    "#df_all.to_csv('/Users/bmartins/workbench/dwaveStudy/portfolioOptSolved/data/sp50_data_random.csv')\n",
    "rolling_avg = df_all.rolling(window=1).mean()\n",
    "rolling_avg.reset_index(inplace=True)\n",
    "print('rolling avg')\n",
    "display(rolling_avg)\n",
    "\n",
    "print('price')\n",
    "price = df_all.shift(periods=1)\n",
    "display(price)\n",
    "\n",
    "s1 = df_all.stack().values\n",
    "print(s1)\n",
    "print(len(s1))\n",
    "model = ARIMA(s1, order=(3,1,0))\n",
    "model_fit = model.fit()\n",
    "#rolling_forecast = pd.rolling_apply(df_all,3,lambda x: model_fit.forecast())\n",
    "rolling_forecast = df_all.rolling(3).apply(lambda x: model_fit.forecast())\n",
    "rolling_forecast\n",
    "#forecast = model_fit.forecast()\n",
    "#print(forecast)\n",
    "#print(len(forecast))\n",
    "idx = 3\n",
    "for s in stocks:\n",
    "    print(f'stock: {s}, price:{price[s]}, rolling avg: {rolling_avg.loc[idx, s]}')\n"
   ],
   "metadata": {
    "collapsed": false,
    "pycharm": {
     "name": "#%%\n"
    }
   }
  },
  {
   "cell_type": "code",
   "execution_count": null,
   "outputs": [],
   "source": [
    "\n"
   ],
   "metadata": {
    "collapsed": false,
    "pycharm": {
     "name": "#%%\n"
    }
   }
  },
  {
   "cell_type": "code",
   "execution_count": null,
   "outputs": [],
   "source": [
    "# 4 stocks\n",
    "dates = ['2018-10-01', '2020-01-01']\n",
    "stocks = ['AAPL', 'MSFT', 'AAL', 'WMT']\n",
    "print(f'len set stocks: {len(set(stocks))}')\n",
    "panel_data = DataReader(stocks, 'yahoo', dates[0], dates[1])\n",
    "panel_data = panel_data.resample('BM').last()\n",
    "df_all = pd.DataFrame(index=panel_data.index, columns=stocks)\n",
    "for i in stocks:\n",
    "    df_all[i] = panel_data[[('Adj Close', i)]]\n",
    "\n",
    "display(df_all)\n",
    "df_all.to_csv('/Users/bmartins/workbench/dwaveStudy/portfolioOptSolved/data/sp4_data_random.csv')\n"
   ],
   "metadata": {
    "collapsed": false,
    "pycharm": {
     "name": "#%%\n"
    }
   }
  },
  {
   "cell_type": "code",
   "execution_count": null,
   "outputs": [],
   "source": [
    "# 50 stocks\n",
    "dates = ['2018-10-01', '2020-01-01']\n",
    "stocks = df.sample(n=50, random_state=2).loc[:,'Symbol'].values.tolist()\n",
    "if 'AAPL' not in stocks: stocks[0] = 'AAPL'\n",
    "if 'MSFT' not in stocks: stocks[1] = 'MSFT'\n",
    "if 'WMT' not in stocks: stocks[2] = 'WMT'\n",
    "if 'AAL' not in stocks: stocks[3] = 'AAL'\n",
    "\n",
    "print(f'len set stocks: {len(set(stocks))}')\n",
    "panel_data = DataReader(stocks, 'yahoo', dates[0], dates[1])\n",
    "panel_data = panel_data.resample('BM').last()\n",
    "df_all = pd.DataFrame(index=panel_data.index, columns=stocks)\n",
    "for i in stocks:\n",
    "    df_all[i] = panel_data[[('Adj Close', i)]]\n",
    "\n",
    "display(df_all)\n",
    "df_all.to_csv('/Users/bmartins/workbench/dwaveStudy/portfolioOptSolved/data/sp50_data_random.csv')\n",
    "\n",
    "print(stocks)"
   ],
   "metadata": {
    "collapsed": false,
    "pycharm": {
     "name": "#%%\n"
    }
   }
  },
  {
   "cell_type": "code",
   "execution_count": null,
   "outputs": [],
   "source": [
    "# 20 stocks\n",
    "dates = ['2021-01-01', '2022-05-31']\n",
    "stocks = df.sample(n=20, random_state=2).loc[:,'Symbol'].values.tolist()\n",
    "if 'AAPL' not in stocks: stocks[0] = 'AAPL'\n",
    "if 'MSFT' not in stocks: stocks[1] = 'MSFT'\n",
    "if 'WMT' not in stocks: stocks[2] = 'WMT'\n",
    "if 'AAL' not in stocks: stocks[3] = 'AAL'\n",
    "\n",
    "print(f'len set stocks: {len(set(stocks))}')\n",
    "panel_data = DataReader(stocks, 'yahoo', dates[0], dates[1])\n",
    "panel_data = panel_data.resample('BM').last()\n",
    "df_all = pd.DataFrame(index=panel_data.index, columns=stocks)\n",
    "for i in stocks:\n",
    "    df_all[i] = panel_data[[('Adj Close', i)]]\n",
    "\n",
    "display(df_all)\n",
    "df_all.to_csv('/Users/bmartins/workbench/dwaveStudy/portfolioOptSolved/data/sp20_data_random.csv')\n",
    "\n",
    "print(stocks)"
   ],
   "metadata": {
    "collapsed": false,
    "pycharm": {
     "name": "#%%\n"
    }
   }
  },
  {
   "cell_type": "code",
   "execution_count": null,
   "outputs": [],
   "source": [
    "# 20 stocks selected\n",
    "stocks=['AAPL', 'MSFT', 'AAL', 'WMT', 'MMM', 'AIG', 'GOOGL', 'AMD', 'BLK', 'KO', 'GE', 'GM', 'INTC', 'JNJ', 'JPM', 'CMCSA', 'MA', 'MCD', 'NDAQ', 'PFE']\n",
    "dates = ['2021-01-01', '2022-05-31']\n",
    "#dates = ['2010-01-01', '2012-12-31']\n",
    "\n",
    "print(f'len set stocks: {len(set(stocks))}')\n",
    "panel_data = DataReader(stocks, 'yahoo', dates[0], dates[1])\n",
    "panel_data = panel_data.resample('BM').last()\n",
    "df_all = pd.DataFrame(index=panel_data.index, columns=stocks)\n",
    "for i in stocks:\n",
    "    df_all[i] = panel_data[[('Adj Close', i)]]\n",
    "\n",
    "display(df_all)\n",
    "df_all.to_csv('/Users/bmartins/workbench/dwaveStudy/portfolioOptSolved/data/sp20_data_selected.csv')\n",
    "\n",
    "print(stocks)"
   ],
   "metadata": {
    "collapsed": false,
    "pycharm": {
     "name": "#%%\n"
    }
   }
  },
  {
   "cell_type": "code",
   "execution_count": null,
   "outputs": [],
   "source": [
    "# 100 stocks\n",
    "dates = ['2021-01-01', '2022-05-31']\n",
    "stocks = df.sample(n=100, random_state=2).loc[:,'Symbol'].values.tolist()\n",
    "if 'AAPL' not in stocks: stocks[0] = 'AAPL'\n",
    "if 'MSFT' not in stocks: stocks[1] = 'MSFT'\n",
    "if 'WMT' not in stocks: stocks[2] = 'WMT'\n",
    "if 'AAL' not in stocks: stocks[3] = 'AAL'\n",
    "#if 'OGN' in stocks:\n",
    "\n",
    "print(f'len set stocks: {len(set(stocks))}')\n",
    "panel_data = DataReader(stocks, 'yahoo', dates[0], dates[1])\n",
    "panel_data = panel_data.resample('BM').last()\n",
    "df_all = pd.DataFrame(index=panel_data.index, columns=stocks)\n",
    "for i in stocks:\n",
    "    df_all[i] = panel_data[[('Adj Close', i)]]\n",
    "\n",
    "display(df_all)\n",
    "df_all.to_csv('/Users/bmartins/workbench/dwaveStudy/portfolioOptSolved/data/sp100_data_random.csv')\n",
    "\n",
    "print(stocks)"
   ],
   "metadata": {
    "collapsed": false,
    "pycharm": {
     "name": "#%%\n"
    }
   }
  },
  {
   "cell_type": "code",
   "execution_count": null,
   "outputs": [],
   "source": [
    "# 100 stocks\n",
    "dates = ['2018-10-01', '2020-01-01']\n",
    "stocks = df.sample(n=100, random_state=2).loc[:,'Symbol'].values.tolist()\n",
    "if 'AAPL' not in stocks: stocks[0] = 'AAPL'\n",
    "if 'MSFT' not in stocks: stocks[1] = 'MSFT'\n",
    "if 'WMT' not in stocks: stocks[2] = 'WMT'\n",
    "if 'AAL' not in stocks: stocks[3] = 'AAL'\n",
    "#if 'OGN' in stocks:\n",
    "\n",
    "print(f'len set stocks: {len(set(stocks))}')\n",
    "panel_data = DataReader(stocks, 'yahoo', dates[0], dates[1])\n",
    "panel_data = panel_data.resample('BM').last()\n",
    "df_all = pd.DataFrame(index=panel_data.index, columns=stocks)\n",
    "for i in stocks:\n",
    "    df_all[i] = panel_data[[('Adj Close', i)]]\n",
    "\n",
    "display(df_all)\n",
    "df_all.to_csv('/Users/bmartins/workbench/dwaveStudy/portfolioOptSolved/data/sp100_data_random.csv')\n",
    "\n",
    "print(stocks)"
   ],
   "metadata": {
    "collapsed": false,
    "pycharm": {
     "name": "#%%\n"
    }
   }
  }
 ],
 "metadata": {
  "kernelspec": {
   "display_name": "Python 3",
   "language": "python",
   "name": "python3"
  },
  "language_info": {
   "codemirror_mode": {
    "name": "ipython",
    "version": 2
   },
   "file_extension": ".py",
   "mimetype": "text/x-python",
   "name": "python",
   "nbconvert_exporter": "python",
   "pygments_lexer": "ipython2",
   "version": "2.7.6"
  }
 },
 "nbformat": 4,
 "nbformat_minor": 0
}