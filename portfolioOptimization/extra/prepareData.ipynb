{
 "cells": [
  {
   "cell_type": "code",
   "execution_count": 4,
   "outputs": [],
   "source": [
    "import seaborn as sns\n",
    "import pandas as pd\n",
    "import numpy as np\n",
    "import yaml\n",
    "from pandas_datareader.data import DataReader\n",
    "from statsmodels.tsa.arima.model import ARIMA\n",
    "import matplotlib.pyplot as plt"
   ],
   "metadata": {
    "collapsed": false,
    "pycharm": {
     "name": "#%%\n"
    }
   }
  },
  {
   "cell_type": "code",
   "execution_count": 2,
   "outputs": [],
   "source": [
    "payload=pd.read_html('https://en.wikipedia.org/wiki/List_of_S%26P_500_companies')\n",
    "first_table = payload[0]\n",
    "second_table = payload[1]\n",
    "all_stocks = first_table['Symbol'].values.tolist()"
   ],
   "metadata": {
    "collapsed": false,
    "pycharm": {
     "name": "#%%\n"
    }
   }
  },
  {
   "cell_type": "code",
   "execution_count": 3,
   "outputs": [],
   "source": [
    "dates = ['2018-10-01', '2020-01-01']\n",
    "index_df = DataReader(['^GSPC'], 'yahoo', dates[0], dates[1])"
   ],
   "metadata": {
    "collapsed": false,
    "pycharm": {
     "name": "#%%\n"
    }
   }
  },
  {
   "cell_type": "code",
   "execution_count": 5,
   "outputs": [],
   "source": [
    "def calc_stocks(stocks, dates):\n",
    "    panel_data = DataReader(stocks, 'yahoo', dates[0], dates[1])\n",
    "    panel_data = panel_data.resample('BM').last()\n",
    "    df = pd.DataFrame(index=panel_data.index, columns=stocks)\n",
    "    for i in stocks:\n",
    "        df[i] = panel_data[[('Adj Close', i)]]\n",
    "    return df\n",
    "\n",
    "def get_daily_data(stocks, dates):\n",
    "    panel_data = DataReader(stocks, 'yahoo', dates[0], dates[1])\n",
    "    df = pd.DataFrame(index=panel_data.index, columns=stocks)\n",
    "    for i in stocks:\n",
    "        df[i] = panel_data[[('Adj Close', i)]]\n",
    "    return df\n",
    "\n",
    "def get_full_data(stocks, dates):\n",
    "    panel_data = DataReader(stocks, 'yahoo', dates[0], dates[1])\n",
    "    panel_data = panel_data.resample('BM').last()\n",
    "    return panel_data"
   ],
   "metadata": {
    "collapsed": false,
    "pycharm": {
     "name": "#%%\n"
    }
   }
  },
  {
   "cell_type": "markdown",
   "source": [
    "### Daily data"
   ],
   "metadata": {
    "collapsed": false,
    "pycharm": {
     "name": "#%% md\n"
    }
   }
  },
  {
   "cell_type": "code",
   "execution_count": null,
   "outputs": [],
   "source": [
    "dates = ['2019-01-01', '2019-02-01']\n",
    "stocks = all_stocks\n",
    "df = get_daily_data(stocks, dates)\n",
    "#df.dropna(inplace=True)\n",
    "df"
   ],
   "metadata": {
    "collapsed": false,
    "pycharm": {
     "name": "#%%\n",
     "is_executing": true
    }
   }
  },
  {
   "cell_type": "code",
   "execution_count": 11,
   "outputs": [
    {
     "data": {
      "text/plain": "False"
     },
     "execution_count": 11,
     "metadata": {},
     "output_type": "execute_result"
    }
   ],
   "source": [
    "df.dropna(inplace=True, axis=1)\n",
    "df.isnull().values.any()"
   ],
   "metadata": {
    "collapsed": false,
    "pycharm": {
     "name": "#%%\n"
    }
   }
  },
  {
   "cell_type": "code",
   "execution_count": 14,
   "outputs": [
    {
     "name": "stdout",
     "output_type": "stream",
     "text": [
      "['MMM', 'AOS', 'ABT', 'ABBV', 'ABMD', 'ACN', 'ATVI', 'ADM', 'ADBE', 'ADP', 'AAP', 'AES', 'AFL', 'A', 'APD', 'AKAM', 'ALK', 'ALB', 'ARE', 'ALGN', 'ALLE', 'LNT', 'ALL', 'GOOGL', 'GOOG', 'MO', 'AMZN', 'AMCR', 'AMD', 'AEE', 'AAL', 'AEP', 'AXP', 'AIG', 'AMT', 'AWK', 'AMP', 'ABC', 'AME', 'AMGN', 'APH', 'ADI', 'ANSS', 'AON', 'APA', 'AAPL', 'AMAT', 'APTV', 'ANET', 'AJG', 'AIZ', 'T', 'ATO', 'ADSK', 'AZO', 'AVB', 'AVY', 'BKR', 'BALL', 'BAC', 'BBWI', 'BAX', 'BDX', 'WRB', 'BBY', 'BIO', 'TECH', 'BIIB', 'BLK', 'BK', 'BA', 'BKNG', 'BWA', 'BXP', 'BSX', 'BMY', 'AVGO', 'BR', 'BRO', 'CHRW', 'CDNS', 'CZR', 'CPT', 'CPB', 'COF', 'CAH', 'KMX', 'CCL', 'CTLT', 'CAT', 'CBOE', 'CBRE', 'CDW', 'CE', 'CNC', 'CNP', 'CDAY', 'CF', 'CRL', 'SCHW', 'CHTR', 'CVX', 'CMG', 'CB', 'CHD', 'CI', 'CINF', 'CTAS', 'CSCO', 'C', 'CFG', 'CTXS', 'CLX', 'CME', 'CMS', 'KO', 'CTSH', 'CL', 'CMCSA', 'CMA', 'CAG', 'COP', 'ED', 'STZ', 'COO', 'CPRT', 'GLW', 'COST', 'CTRA', 'CCI', 'CSX', 'CMI', 'CVS', 'DHI', 'DHR', 'DRI', 'DVA', 'DE', 'DAL', 'XRAY', 'DVN', 'DXCM', 'FANG', 'DLR', 'DFS', 'DISH', 'DIS', 'DG', 'DLTR', 'D', 'DPZ', 'DOV', 'DTE', 'DUK', 'DRE', 'DD', 'DXC', 'EMN', 'ETN', 'EBAY', 'ECL', 'EIX', 'EW', 'EA', 'ELV', 'LLY', 'EMR', 'ENPH', 'ETR', 'EOG', 'EPAM', 'EFX', 'EQIX', 'EQR', 'ESS', 'EL', 'ETSY', 'RE', 'EVRG', 'ES', 'EXC', 'EXPE', 'EXPD', 'EXR', 'XOM', 'FFIV', 'FDS', 'FAST', 'FRT', 'FDX', 'FITB', 'FRC', 'FE', 'FIS', 'FISV', 'FLT', 'FMC', 'F', 'FTNT', 'FTV', 'FBHS', 'BEN', 'FCX', 'GRMN', 'IT', 'GNRC', 'GD', 'GE', 'GIS', 'GM', 'GPC', 'GILD', 'GL', 'GPN', 'GS', 'HAL', 'HIG', 'HAS', 'HCA', 'PEAK', 'HSIC', 'HSY', 'HES', 'HPE', 'HLT', 'HOLX', 'HD', 'HON', 'HRL', 'HST', 'HWM', 'HPQ', 'HUM', 'HBAN', 'HII', 'IBM', 'IEX', 'IDXX', 'ITW', 'ILMN', 'INCY', 'IR', 'INTC', 'ICE', 'IP', 'IPG', 'IFF', 'INTU', 'ISRG', 'IVZ', 'IQV', 'IRM', 'JBHT', 'JKHY', 'J', 'JNJ', 'JCI', 'JPM', 'JNPR', 'K', 'KDP', 'KEY', 'KEYS', 'KMB', 'KIM', 'KMI', 'KLAC', 'KHC', 'KR', 'LHX', 'LH', 'LRCX', 'LW', 'LVS', 'LDOS', 'LEN', 'LNC', 'LIN', 'LYV', 'LKQ', 'LMT', 'L', 'LOW', 'LUMN', 'LYB', 'MTB', 'MRO', 'MPC', 'MKTX', 'MAR', 'MMC', 'MLM', 'MAS', 'MA', 'MTCH', 'MKC', 'MCD', 'MCK', 'MDT', 'MRK', 'META', 'MET', 'MTD', 'MGM', 'MCHP', 'MU', 'MSFT', 'MAA', 'MRNA', 'MHK', 'MOH', 'TAP', 'MDLZ', 'MPWR', 'MNST', 'MCO', 'MS', 'MOS', 'MSI', 'MSCI', 'NDAQ', 'NTAP', 'NFLX', 'NWL', 'NEM', 'NWSA', 'NWS', 'NEE', 'NLSN', 'NKE', 'NI', 'NDSN', 'NSC', 'NTRS', 'NOC', 'NLOK', 'NCLH', 'NRG', 'NUE', 'NVDA', 'NVR', 'NXPI', 'ORLY', 'OXY', 'ODFL', 'OMC', 'ON', 'OKE', 'ORCL', 'PCAR', 'PKG', 'PARA', 'PH', 'PAYX', 'PAYC', 'PYPL', 'PENN', 'PNR', 'PEP', 'PKI', 'PFE', 'PM', 'PSX', 'PNW', 'PXD', 'PNC', 'POOL', 'PPG', 'PPL', 'PFG', 'PG', 'PGR', 'PLD', 'PRU', 'PEG', 'PTC', 'PSA', 'PHM', 'PVH', 'QRVO', 'PWR', 'QCOM', 'DGX', 'RL', 'RJF', 'RTX', 'O', 'REG', 'REGN', 'RF', 'RSG', 'RMD', 'RHI', 'ROK', 'ROL', 'ROP', 'ROST', 'RCL', 'SPGI', 'CRM', 'SBAC', 'SLB', 'STX', 'SEE', 'SRE', 'NOW', 'SHW', 'SBNY', 'SPG', 'SWKS', 'SJM', 'SNA', 'SEDG', 'SO', 'LUV', 'SWK', 'SBUX', 'STT', 'STE', 'SYK', 'SIVB', 'SYF', 'SNPS', 'SYY', 'TMUS', 'TROW', 'TTWO', 'TPR', 'TGT', 'TEL', 'TDY', 'TFX', 'TER', 'TSLA', 'TXN', 'TXT', 'TMO', 'TJX', 'TSCO', 'TT', 'TDG', 'TRV', 'TRMB', 'TFC', 'TWTR', 'TYL', 'TSN', 'USB', 'UDR', 'ULTA', 'UNP', 'UAL', 'UPS', 'URI', 'UNH', 'UHS', 'VLO', 'VTR', 'VRSN', 'VRSK', 'VZ', 'VRTX', 'VFC', 'VTRS', 'VICI', 'V', 'VNO', 'VMC', 'WAB', 'WBA', 'WMT', 'WBD', 'WM', 'WAT', 'WEC', 'WFC', 'WELL', 'WST', 'WDC', 'WRK', 'WY', 'WHR', 'WMB', 'WTW', 'GWW', 'WYNN', 'XEL', 'XYL', 'YUM', 'ZBRA', 'ZBH', 'ZION', 'ZTS']\n"
     ]
    }
   ],
   "source": [
    "print(df.columns.values.tolist())"
   ],
   "metadata": {
    "collapsed": false,
    "pycharm": {
     "name": "#%%\n"
    }
   }
  },
  {
   "cell_type": "code",
   "execution_count": 13,
   "outputs": [],
   "source": [
    "df.iloc[:12,:].to_csv('20190102-20190117.csv')"
   ],
   "metadata": {
    "collapsed": false,
    "pycharm": {
     "name": "#%%\n"
    }
   }
  },
  {
   "cell_type": "code",
   "execution_count": null,
   "outputs": [],
   "source": [
    "dates = ['2018-10-01', '2020-01-01']\n",
    "df = calc_stocks(stocks, dates)\n",
    "df.dropna(inplace=True)\n",
    "df_pct = df.pct_change().iloc[1:].mean(axis=0)\n",
    "list_50 = df_pct.sort_values(ascending=False).iloc[:50].index.values.tolist()\n",
    "print(list_50)\n",
    "list_100 = df_pct.sort_values(ascending=False).iloc[:104].index.values.tolist()\n",
    "print(list_100)\n",
    "list_all = df.index.values.tolist()\n",
    "print(len(list_all))\n",
    "print(list_all)"
   ],
   "metadata": {
    "collapsed": false,
    "pycharm": {
     "name": "#%%\n"
    }
   }
  },
  {
   "cell_type": "code",
   "execution_count": null,
   "outputs": [],
   "source": [
    "dates = ['2018-10-01', '2020-01-01']\n",
    "df = calc_stocks(stocks, dates)\n",
    "df2 = df.dropna(axis=1)\n",
    "df2 = df2[sorted(df.columns)]#.reset_index()\n",
    "df2 = df2.set_index('Date').reset_index()\n",
    "list_full = df2.columns.values.tolist()\n",
    "#list_full = df2.index.values.tolist()\n",
    "#print(len(list_full))\n",
    "print(list_full)\n",
    "df2.to_csv('../sp500.csv')"
   ],
   "metadata": {
    "collapsed": false,
    "pycharm": {
     "name": "#%%\n"
    }
   }
  },
  {
   "cell_type": "markdown",
   "source": [
    "### Pool rebalancing"
   ],
   "metadata": {
    "collapsed": false,
    "pycharm": {
     "name": "#%% md\n"
    }
   }
  },
  {
   "cell_type": "code",
   "execution_count": null,
   "outputs": [],
   "source": [
    "dates = ['2018-10-01', '2020-01-01']\n",
    "df = calc_stocks(stocks, dates)\n",
    "#df.dropna(inplace=True)\n",
    "#df_pct = df.pct_change().iloc[1:].mean(axis=0)\n",
    "# list_50 = df_pct.sort_values(ascending=False).iloc[:50].index.values.tolist()\n",
    "# print(list_50)\n",
    "# list_100 = df_pct.sort_values(ascending=False).iloc[:104].index.values.tolist()\n",
    "# print(list_100)\n",
    "# list_all = df.index.values.tolist()\n",
    "# print(len(list_all))\n",
    "# print(list_all)"
   ],
   "metadata": {
    "collapsed": false,
    "pycharm": {
     "name": "#%%\n"
    }
   }
  },
  {
   "cell_type": "code",
   "execution_count": null,
   "outputs": [],
   "source": [
    "print(df.shape)\n",
    "df2 = df.dropna(axis=1)\n",
    "print(df2.shape)\n",
    "display(df2.head())\n",
    "df_pct = df2.pct_change().iloc[1:]\n",
    "df_pct\n",
    "pool = []\n",
    "for i in df_pct.iterrows():\n",
    "    pool.append(pd.Series(i)[1].sort_values().iloc[:50].index.values.tolist())\n",
    "    #print(df.sort_values(by=i[0], ascending=False, axis=1))\n",
    "\n",
    "    #pool.append(df_pct.sort_values(ascending=False).iloc[:50])\n",
    "print(pool)\n",
    "df2.to_csv('../sp500_50.csv')"
   ],
   "metadata": {
    "collapsed": false,
    "pycharm": {
     "name": "#%%\n"
    }
   }
  },
  {
   "cell_type": "code",
   "execution_count": null,
   "outputs": [],
   "source": [
    "dates = ['2018-10-01', '2020-01-01']\n",
    "df_all = get_full_data(stocks, dates)"
   ],
   "metadata": {
    "collapsed": false,
    "pycharm": {
     "name": "#%%\n"
    }
   }
  },
  {
   "cell_type": "markdown",
   "source": [],
   "metadata": {
    "collapsed": false,
    "pycharm": {
     "name": "#%% md\n"
    }
   }
  },
  {
   "cell_type": "code",
   "execution_count": null,
   "outputs": [],
   "source": [
    "unit_prices = df.iloc[0,1:].values\n",
    "df.iloc[0,:].sort_index()"
   ],
   "metadata": {
    "collapsed": false,
    "pycharm": {
     "name": "#%%\n"
    }
   }
  },
  {
   "cell_type": "code",
   "execution_count": null,
   "outputs": [],
   "source": [
    "df_volume = df_all.loc[:, df_all.columns.get_level_values(0) == 'Volume'].dropna(axis=1)\n",
    "#df_volume = df_volume.set_index('Date')\n",
    "print(df_volume.shape)\n",
    "df_volume.columns = df_volume.columns.droplevel()\n",
    "df_volume = 1000 * df_volume.div(df_volume.sum(axis=1), axis=0)\n",
    "#print(df_volume.apply(lambda x: np.floor(x), axis=0).astype(int).iloc[0,:].sort_values(ascending=False))\n",
    "print(df_volume.apply(lambda x: np.floor(x), axis=0).astype(int).iloc[0,:].sort_index().to_dict())\n",
    "shares = df_volume.apply(lambda x: np.floor(x), axis=0).astype(int).iloc[0,:].sort_index().values\n"
   ],
   "metadata": {
    "collapsed": false,
    "pycharm": {
     "name": "#%%\n"
    }
   }
  },
  {
   "cell_type": "code",
   "execution_count": null,
   "outputs": [],
   "source": [
    "np.dot((shares).astype(int), unit_prices)"
   ],
   "metadata": {
    "collapsed": false,
    "pycharm": {
     "name": "#%%\n"
    }
   }
  },
  {
   "cell_type": "code",
   "execution_count": null,
   "outputs": [],
   "source": [
    "dates = ['2021-01-01', '2022-05-01']\n",
    "df = calc_stocks(stocks, dates)\n",
    "df_pct = df.pct_change().iloc[1:].mean(axis=0)\n",
    "list_50 = df_pct.sort_values(ascending=False).iloc[:50].index.values.tolist()\n",
    "print(list_50)"
   ],
   "metadata": {
    "collapsed": false,
    "pycharm": {
     "name": "#%%\n"
    }
   }
  },
  {
   "cell_type": "code",
   "execution_count": null,
   "outputs": [],
   "source": [
    "list_100 = df_pct.sort_values(ascending=False).iloc[:101].index.values.tolist()\n",
    "print(list_100)"
   ],
   "metadata": {
    "collapsed": false,
    "pycharm": {
     "name": "#%%\n"
    }
   }
  },
  {
   "cell_type": "code",
   "execution_count": null,
   "outputs": [],
   "source": [
    "select_stocks = ['MRO', 'DVN', 'NUE', 'APA', 'OXY', 'AAPL', 'MOS', 'COP', 'EOG', 'CF', 'FANG', 'VLO', 'HAL', 'MPC', 'FTNT', 'PXD', 'XOM', 'HES', 'CVX', 'IT', 'SLB', 'ADM', 'MCK', 'AZO', 'EXR', 'BBWI', 'BKR', 'ANTM', 'PWR', 'OKE', 'IRM', 'WMB', 'PSA', 'FCX', 'NVDA', 'LYV', 'CTRA', 'DLTR', 'WRB', 'KR', 'GD', 'AIG', 'EXC', 'ANET', 'PLD', 'HPQ', 'SBNY', 'CPT', 'KIM', 'NOC']\n",
    "df.loc[:,select_stocks]"
   ],
   "metadata": {
    "collapsed": false,
    "pycharm": {
     "name": "#%%\n"
    }
   }
  },
  {
   "cell_type": "code",
   "execution_count": null,
   "outputs": [],
   "source": [
    "# 4 stocks\n",
    "dates = ['2010-01-29', '2012-12-31']\n",
    "df = calc_stocks(['AAPL', 'MSFT', 'AAL', 'WMT'], dates)\n",
    "df.pct_change().iloc[1:].mean(axis=0)"
   ],
   "metadata": {
    "collapsed": false,
    "pycharm": {
     "name": "#%%\n"
    }
   }
  },
  {
   "cell_type": "code",
   "execution_count": null,
   "outputs": [],
   "source": [
    "# 20 stocks\n",
    "stocks = ['AAPL', 'MSFT', 'AAL', 'WMT', 'MMM', 'AIG', 'GOOGL', 'AMD', 'BLK', 'KO', 'GE', 'GM', 'INTC', 'JNJ', 'JPM', 'CMCSA', 'MA', 'MCD', 'NDAQ', 'PFE']\n",
    "dates = ['2018-10-01', '2020-01-01']\n",
    "df = calc_stocks(stocks, dates)\n",
    "df.pct_change().iloc[1:].mean(axis=0)"
   ],
   "metadata": {
    "collapsed": false,
    "pycharm": {
     "name": "#%%\n"
    }
   }
  },
  {
   "cell_type": "code",
   "execution_count": null,
   "outputs": [],
   "source": [
    "# 50 stocks\n",
    "stocks = [ 'AAPL',  'MSFT',  'WMT',  'AAL',  'LDOS',  'INTU',  'HIG',  'SWKS',\n",
    "           'FAST',  'CERN',  'NDAQ',  'RHI',  'ETR',  'AOS',  'VNO',  'CPT',  'HPE',  'EFX',  'AVGO',\n",
    "           'DLTR',  'MLM',  'PSA',  'TXN',  'ALB',  'NVDA',  'AVB',  'DRE',  'TTWO',  'LYB',  'NCLH',\n",
    "           'RCL',  'FISV',  'EQR',  'STX',  'TECH',  'RTX',  'D',  'EMR',  'LRCX',  'SLB',  'ALGN',  'IEX',\n",
    "           'WTW',  'EXR',  'FIS',  'COO',  'UDR',  'BBY',  'NWSA',  'EPAM']\n",
    "dates = ['2018-10-01', '2020-01-01']\n",
    "df = calc_stocks(stocks, dates)\n",
    "df.pct_change().iloc[1:].mean(axis=0)"
   ],
   "metadata": {
    "collapsed": false,
    "pycharm": {
     "name": "#%%\n"
    }
   }
  },
  {
   "cell_type": "code",
   "execution_count": null,
   "outputs": [],
   "source": [
    "# 50 stocks\n",
    "dates = ['2021-01-01', '2022-04-30']\n",
    "stocks = df.sample(n=50, random_state=10).loc[:,'Symbol'].values.tolist()\n",
    "if 'AAPL' not in stocks: stocks[0] = 'AAPL'\n",
    "if 'MSFT' not in stocks: stocks[1] = 'MSFT'\n",
    "if 'WMT' not in stocks: stocks[2] = 'WMT'\n",
    "if 'AAL' not in stocks: stocks[3] = 'AAL'\n",
    "\n",
    "print(f'len set stocks: {len(set(stocks))}')\n",
    "panel_data = DataReader(stocks, 'yahoo', dates[0], dates[1])\n",
    "panel_data = panel_data.resample('BM').last()\n",
    "df_all = pd.DataFrame(index=panel_data.index, columns=stocks)\n",
    "for i in stocks:\n",
    "    df_all[i] = panel_data[[('Adj Close', i)]]\n",
    "\n",
    "price = df_all.iloc[-1]\n",
    "monthly_returns = df_all[list(stocks)].pct_change().iloc[1:]\n",
    "print('df all')\n",
    "display(df_all)\n",
    "print('monthly returns')\n",
    "display(monthly_returns)\n",
    "avg_monthly_returns = monthly_returns.mean(axis=0)\n",
    "print('avg monthly returns')\n",
    "display(avg_monthly_returns)\n",
    "covariance_matrix = monthly_returns.cov()\n",
    "display(covariance_matrix)\n",
    "#display(df_all)\n",
    "#df_all.to_csv('/Users/bmartins/workbench/dwaveStudy/portfolioOptSolved/data/sp50_data_random.csv')\n",
    "rolling_avg = df_all.rolling(window=1).mean()\n",
    "rolling_avg.reset_index(inplace=True)\n",
    "print('rolling avg')\n",
    "display(rolling_avg)\n",
    "\n",
    "print('price')\n",
    "price = df_all.shift(periods=1)\n",
    "display(price)\n",
    "\n",
    "s1 = df_all.stack().values\n",
    "print(s1)\n",
    "print(len(s1))\n",
    "model = ARIMA(s1, order=(3,1,0))\n",
    "model_fit = model.fit()\n",
    "#rolling_forecast = pd.rolling_apply(df_all,3,lambda x: model_fit.forecast())\n",
    "rolling_forecast = df_all.rolling(3).apply(lambda x: model_fit.forecast())\n",
    "rolling_forecast\n",
    "#forecast = model_fit.forecast()\n",
    "#print(forecast)\n",
    "#print(len(forecast))\n",
    "idx = 3\n",
    "for s in stocks:\n",
    "    print(f'stock: {s}, price:{price[s]}, rolling avg: {rolling_avg.loc[idx, s]}')\n"
   ],
   "metadata": {
    "collapsed": false,
    "pycharm": {
     "name": "#%%\n"
    }
   }
  },
  {
   "cell_type": "code",
   "execution_count": null,
   "outputs": [],
   "source": [
    "# 50 stocks\n",
    "dates = ['2021-01-01', '2022-04-30']\n",
    "stocks = df.sample(n=50, random_state=10).loc[:,'Symbol'].values.tolist()\n",
    "if 'AAPL' not in stocks: stocks[0] = 'AAPL'\n",
    "if 'MSFT' not in stocks: stocks[1] = 'MSFT'\n",
    "if 'WMT' not in stocks: stocks[2] = 'WMT'\n",
    "if 'AAL' not in stocks: stocks[3] = 'AAL'\n",
    "\n",
    "print(f'len set stocks: {len(set(stocks))}')\n",
    "panel_data = DataReader(stocks, 'yahoo', dates[0], dates[1])\n",
    "panel_data = panel_data.resample('BM').last()\n",
    "df_all = pd.DataFrame(index=panel_data.index, columns=stocks)\n",
    "for i in stocks:\n",
    "    df_all[i] = panel_data[[('Adj Close', i)]]\n",
    "\n",
    "price = df_all.iloc[-1]\n",
    "monthly_returns = df_all[list(stocks)].pct_change().iloc[1:]\n",
    "print('df all')\n",
    "display(df_all)\n",
    "print('monthly returns')\n",
    "display(monthly_returns)\n",
    "avg_monthly_returns = monthly_returns.mean(axis=0)\n",
    "print('avg monthly returns')\n",
    "display(avg_monthly_returns)\n",
    "covariance_matrix = monthly_returns.cov()\n",
    "display(covariance_matrix)\n",
    "#display(df_all)\n",
    "#df_all.to_csv('/Users/bmartins/workbench/dwaveStudy/portfolioOptSolved/data/sp50_data_random.csv')\n",
    "rolling_avg = df_all.rolling(window=1).mean()\n",
    "rolling_avg.reset_index(inplace=True)\n",
    "print('rolling avg')\n",
    "display(rolling_avg)\n",
    "\n",
    "print('price')\n",
    "price = df_all.shift(periods=1)\n",
    "display(price)\n",
    "\n",
    "s1 = df_all.stack().values\n",
    "print(s1)\n",
    "print(len(s1))\n",
    "model = ARIMA(s1, order=(3,1,0))\n",
    "model_fit = model.fit()\n",
    "#rolling_forecast = pd.rolling_apply(df_all,3,lambda x: model_fit.forecast())\n",
    "rolling_forecast = df_all.rolling(3).apply(lambda x: model_fit.forecast())\n",
    "rolling_forecast\n",
    "#forecast = model_fit.forecast()\n",
    "#print(forecast)\n",
    "#print(len(forecast))\n",
    "idx = 3\n",
    "for s in stocks:\n",
    "    print(f'stock: {s}, price:{price[s]}, rolling avg: {rolling_avg.loc[idx, s]}')\n"
   ],
   "metadata": {
    "collapsed": false,
    "pycharm": {
     "name": "#%%\n"
    }
   }
  },
  {
   "cell_type": "code",
   "execution_count": null,
   "outputs": [],
   "source": [
    "# 4 stocks\n",
    "dates = ['2018-10-01', '2020-01-01']\n",
    "stocks = ['AAPL', 'MSFT', 'AAL', 'WMT']\n",
    "print(f'len set stocks: {len(set(stocks))}')\n",
    "panel_data = DataReader(stocks, 'yahoo', dates[0], dates[1])\n",
    "panel_data = panel_data.resample('BM').last()\n",
    "df_all = pd.DataFrame(index=panel_data.index, columns=stocks)\n",
    "for i in stocks:\n",
    "    df_all[i] = panel_data[[('Adj Close', i)]]\n",
    "\n",
    "display(df_all)\n",
    "df_all.to_csv('/Users/bmartins/workbench/dwaveStudy/portfolioOptSolved/data/sp4_data_random.csv')\n"
   ],
   "metadata": {
    "collapsed": false,
    "pycharm": {
     "name": "#%%\n"
    }
   }
  },
  {
   "cell_type": "code",
   "execution_count": null,
   "outputs": [],
   "source": [
    "# 50 stocks\n",
    "dates = ['2018-10-01', '2020-01-01']\n",
    "stocks = df.sample(n=50, random_state=2).loc[:,'Symbol'].values.tolist()\n",
    "if 'AAPL' not in stocks: stocks[0] = 'AAPL'\n",
    "if 'MSFT' not in stocks: stocks[1] = 'MSFT'\n",
    "if 'WMT' not in stocks: stocks[2] = 'WMT'\n",
    "if 'AAL' not in stocks: stocks[3] = 'AAL'\n",
    "\n",
    "print(f'len set stocks: {len(set(stocks))}')\n",
    "panel_data = DataReader(stocks, 'yahoo', dates[0], dates[1])\n",
    "panel_data = panel_data.resample('BM').last()\n",
    "df_all = pd.DataFrame(index=panel_data.index, columns=stocks)\n",
    "for i in stocks:\n",
    "    df_all[i] = panel_data[[('Adj Close', i)]]\n",
    "\n",
    "display(df_all)\n",
    "df_all.to_csv('/Users/bmartins/workbench/dwaveStudy/portfolioOptSolved/data/sp50_data_random.csv')\n",
    "\n",
    "print(stocks)"
   ],
   "metadata": {
    "collapsed": false,
    "pycharm": {
     "name": "#%%\n"
    }
   }
  },
  {
   "cell_type": "code",
   "execution_count": null,
   "outputs": [],
   "source": [
    "# 20 stocks\n",
    "dates = ['2021-01-01', '2022-05-31']\n",
    "stocks = df.sample(n=20, random_state=2).loc[:,'Symbol'].values.tolist()\n",
    "if 'AAPL' not in stocks: stocks[0] = 'AAPL'\n",
    "if 'MSFT' not in stocks: stocks[1] = 'MSFT'\n",
    "if 'WMT' not in stocks: stocks[2] = 'WMT'\n",
    "if 'AAL' not in stocks: stocks[3] = 'AAL'\n",
    "\n",
    "print(f'len set stocks: {len(set(stocks))}')\n",
    "panel_data = DataReader(stocks, 'yahoo', dates[0], dates[1])\n",
    "panel_data = panel_data.resample('BM').last()\n",
    "df_all = pd.DataFrame(index=panel_data.index, columns=stocks)\n",
    "for i in stocks:\n",
    "    df_all[i] = panel_data[[('Adj Close', i)]]\n",
    "\n",
    "display(df_all)\n",
    "df_all.to_csv('/Users/bmartins/workbench/dwaveStudy/portfolioOptSolved/data/sp20_data_random.csv')\n",
    "\n",
    "print(stocks)"
   ],
   "metadata": {
    "collapsed": false,
    "pycharm": {
     "name": "#%%\n"
    }
   }
  },
  {
   "cell_type": "code",
   "execution_count": null,
   "outputs": [],
   "source": [
    "# 20 stocks selected\n",
    "stocks=['AAPL', 'MSFT', 'AAL', 'WMT', 'MMM', 'AIG', 'GOOGL', 'AMD', 'BLK', 'KO', 'GE', 'GM', 'INTC', 'JNJ', 'JPM', 'CMCSA', 'MA', 'MCD', 'NDAQ', 'PFE']\n",
    "dates = ['2021-01-01', '2022-05-31']\n",
    "#dates = ['2010-01-01', '2012-12-31']\n",
    "\n",
    "print(f'len set stocks: {len(set(stocks))}')\n",
    "panel_data = DataReader(stocks, 'yahoo', dates[0], dates[1])\n",
    "panel_data = panel_data.resample('BM').last()\n",
    "df_all = pd.DataFrame(index=panel_data.index, columns=stocks)\n",
    "for i in stocks:\n",
    "    df_all[i] = panel_data[[('Adj Close', i)]]\n",
    "\n",
    "display(df_all)\n",
    "df_all.to_csv('/Users/bmartins/workbench/dwaveStudy/portfolioOptSolved/data/sp20_data_selected.csv')\n",
    "\n",
    "print(stocks)"
   ],
   "metadata": {
    "collapsed": false,
    "pycharm": {
     "name": "#%%\n"
    }
   }
  },
  {
   "cell_type": "code",
   "execution_count": null,
   "outputs": [],
   "source": [
    "# 100 stocks\n",
    "dates = ['2021-01-01', '2022-05-31']\n",
    "stocks = df.sample(n=100, random_state=2).loc[:,'Symbol'].values.tolist()\n",
    "if 'AAPL' not in stocks: stocks[0] = 'AAPL'\n",
    "if 'MSFT' not in stocks: stocks[1] = 'MSFT'\n",
    "if 'WMT' not in stocks: stocks[2] = 'WMT'\n",
    "if 'AAL' not in stocks: stocks[3] = 'AAL'\n",
    "#if 'OGN' in stocks:\n",
    "\n",
    "print(f'len set stocks: {len(set(stocks))}')\n",
    "panel_data = DataReader(stocks, 'yahoo', dates[0], dates[1])\n",
    "panel_data = panel_data.resample('BM').last()\n",
    "df_all = pd.DataFrame(index=panel_data.index, columns=stocks)\n",
    "for i in stocks:\n",
    "    df_all[i] = panel_data[[('Adj Close', i)]]\n",
    "\n",
    "display(df_all)\n",
    "df_all.to_csv('/Users/bmartins/workbench/dwaveStudy/portfolioOptSolved/data/sp100_data_random.csv')\n",
    "\n",
    "print(stocks)"
   ],
   "metadata": {
    "collapsed": false,
    "pycharm": {
     "name": "#%%\n"
    }
   }
  },
  {
   "cell_type": "code",
   "execution_count": null,
   "outputs": [],
   "source": [
    "# 100 stocks\n",
    "dates = ['2018-10-01', '2020-01-01']\n",
    "stocks = df.sample(n=100, random_state=2).loc[:,'Symbol'].values.tolist()\n",
    "if 'AAPL' not in stocks: stocks[0] = 'AAPL'\n",
    "if 'MSFT' not in stocks: stocks[1] = 'MSFT'\n",
    "if 'WMT' not in stocks: stocks[2] = 'WMT'\n",
    "if 'AAL' not in stocks: stocks[3] = 'AAL'\n",
    "#if 'OGN' in stocks:\n",
    "\n",
    "print(f'len set stocks: {len(set(stocks))}')\n",
    "panel_data = DataReader(stocks, 'yahoo', dates[0], dates[1])\n",
    "panel_data = panel_data.resample('BM').last()\n",
    "df_all = pd.DataFrame(index=panel_data.index, columns=stocks)\n",
    "for i in stocks:\n",
    "    df_all[i] = panel_data[[('Adj Close', i)]]\n",
    "\n",
    "display(df_all)\n",
    "df_all.to_csv('/Users/bmartins/workbench/dwaveStudy/portfolioOptSolved/data/sp100_data_random.csv')\n",
    "\n",
    "print(stocks)"
   ],
   "metadata": {
    "collapsed": false,
    "pycharm": {
     "name": "#%%\n"
    }
   }
  },
  {
   "cell_type": "code",
   "execution_count": null,
   "outputs": [],
   "source": [
    "\n",
    "import yfinance\n",
    "\n",
    "#def calc_stocks_minute(stocks, dates):\n",
    "a = yfinance.download(tickers=\" \".join(stocks), start=\"2022-06-22\", end=\"2022-06-23\",interval=\"1m\")\n",
    "    # df = pd.DataFrame(index=panel_data.index, columns=stocks)\n",
    "    # for i in stocks:\n",
    "    #     df[i] = panel_data[[('Adj Close', i)]]\n",
    "    # return df\n"
   ],
   "metadata": {
    "collapsed": false,
    "pycharm": {
     "name": "#%%\n"
    }
   }
  },
  {
   "cell_type": "code",
   "execution_count": null,
   "outputs": [],
   "source": [
    "a.reset_index()"
   ],
   "metadata": {
    "collapsed": false,
    "pycharm": {
     "name": "#%%\n"
    }
   }
  },
  {
   "cell_type": "code",
   "execution_count": null,
   "outputs": [],
   "source": [
    "a2 = a.fillna(a.mean())\n",
    "df = pd.DataFrame(index=a2.index, columns=all_stocks)\n",
    "for i in all_stocks:\n",
    "    df[i] = a2[[('Adj Close', i)]]\n",
    "df = df.reset_index().iloc[149:164, :]\n",
    "df = df.drop(['BRK.B', 'BF.B'], axis=1)\n",
    "df.rename({'Datetime': 'Date'}, inplace=True, axis=1)\n",
    "df.to_csv('sp500_20220622_15min.csv', index=False)\n",
    "df"
   ],
   "metadata": {
    "collapsed": false,
    "pycharm": {
     "name": "#%%\n"
    }
   }
  },
  {
   "cell_type": "code",
   "execution_count": null,
   "outputs": [],
   "source": [
    "a2 = a.fillna(a.mean())\n",
    "df = pd.DataFrame(index=a2.index, columns=all_stocks)\n",
    "for i in all_stocks:\n",
    "    df[i] = a2[[('Adj Close', i)]]\n",
    "df = df.reset_index().iloc[210:226, :]\n",
    "df = df.drop(['BRK.B', 'BF.B'], axis=1)\n",
    "df.rename({'Datetime': 'Date'}, inplace=True, axis=1)\n",
    "df.to_csv('sp500_2022-06-22_13:02:00-2022-06-22_13:17:00.csv', index=False)\n",
    "df"
   ],
   "metadata": {
    "collapsed": false,
    "pycharm": {
     "name": "#%%\n"
    }
   }
  },
  {
   "cell_type": "code",
   "execution_count": null,
   "outputs": [],
   "source": [
    "df.isnull().values.any()"
   ],
   "metadata": {
    "collapsed": false,
    "pycharm": {
     "name": "#%%\n"
    }
   }
  },
  {
   "cell_type": "code",
   "execution_count": null,
   "outputs": [],
   "source": [
    "np.where(pd.isnull(df))"
   ],
   "metadata": {
    "collapsed": false,
    "pycharm": {
     "name": "#%%\n"
    }
   }
  },
  {
   "cell_type": "code",
   "execution_count": null,
   "outputs": [],
   "source": [
    "df.iloc[:,81]"
   ],
   "metadata": {
    "collapsed": false,
    "pycharm": {
     "name": "#%%\n"
    }
   }
  },
  {
   "cell_type": "code",
   "execution_count": null,
   "outputs": [],
   "source": [
    "print(df.columns.values.tolist())"
   ],
   "metadata": {
    "collapsed": false,
    "pycharm": {
     "name": "#%%\n"
    }
   }
  },
  {
   "cell_type": "code",
   "execution_count": null,
   "outputs": [],
   "source": [
    "df"
   ],
   "metadata": {
    "collapsed": false,
    "pycharm": {
     "name": "#%%\n"
    }
   }
  },
  {
   "cell_type": "code",
   "execution_count": null,
   "outputs": [],
   "source": [
    "a.to_csv('sp500_min_20220622.csv')"
   ],
   "metadata": {
    "collapsed": false,
    "pycharm": {
     "name": "#%%\n"
    }
   }
  },
  {
   "cell_type": "code",
   "execution_count": null,
   "outputs": [],
   "source": [
    "a = yfinance.download(tickers=\"^GSPC\", start=\"2022-06-22\", end=\"2022-06-23\", interval=\"1m\")\n",
    "a.to_csv('gspc_min_20220622.csv')"
   ],
   "metadata": {
    "collapsed": false,
    "pycharm": {
     "name": "#%%\n"
    }
   }
  },
  {
   "cell_type": "code",
   "execution_count": null,
   "outputs": [],
   "source": [
    "a.reset_index()"
   ],
   "metadata": {
    "collapsed": false,
    "pycharm": {
     "name": "#%%\n"
    }
   }
  },
  {
   "cell_type": "code",
   "execution_count": null,
   "outputs": [],
   "source": [
    "b = a.reset_index().loc[148:163, \"Adj Close\"]\n",
    "plt.plot(b)"
   ],
   "metadata": {
    "collapsed": false,
    "pycharm": {
     "name": "#%%\n"
    }
   }
  },
  {
   "cell_type": "code",
   "execution_count": null,
   "outputs": [],
   "source": [
    "a = yfinance.download(tickers=\"^GSPC\", start=\"2022-06-22T12:00:00-04:00\", end=\"2022-06-23\", interval=\"1m\")\n",
    "a"
   ],
   "metadata": {
    "collapsed": false,
    "pycharm": {
     "name": "#%%\n"
    }
   }
  },
  {
   "cell_type": "code",
   "execution_count": 237,
   "outputs": [
    {
     "data": {
      "text/plain": "                         Date         MMM        AOS         ABT        ABBV  \\\n210 2022-06-22 13:01:00-04:00  130.490005  52.875000  106.014999  148.889999   \n211 2022-06-22 13:02:00-04:00  130.380005  52.849998  105.919998  148.619995   \n212 2022-06-22 13:03:00-04:00  130.445007  52.889999  106.000000  148.610001   \n213 2022-06-22 13:04:00-04:00  130.490005  52.869999  105.959000  148.634995   \n214 2022-06-22 13:05:00-04:00  130.529999  52.889999  105.980003  148.539902   \n215 2022-06-22 13:06:00-04:00  130.580002  52.919998  106.019997  148.554993   \n216 2022-06-22 13:07:00-04:00  130.539993  52.939999  106.050003  148.529999   \n217 2022-06-22 13:08:00-04:00  130.580002  52.980000  106.019997  148.550003   \n218 2022-06-22 13:09:00-04:00  130.559006  53.009998  106.065300  148.550003   \n219 2022-06-22 13:10:00-04:00  130.675003  53.000000  106.059998  148.595001   \n220 2022-06-22 13:11:00-04:00  130.755005  53.015800  106.095001  148.619995   \n221 2022-06-22 13:12:00-04:00  130.820007  52.994999  106.099998  148.675003   \n222 2022-06-22 13:13:00-04:00  130.919998  53.049999  106.118301  148.710007   \n223 2022-06-22 13:14:00-04:00  130.994995  53.014999  106.059998  148.770004   \n224 2022-06-22 13:15:00-04:00  130.955002  53.029999  106.004997  148.679993   \n225 2022-06-22 13:16:00-04:00  131.029999  53.009998  106.010002  148.690002   \n\n           ABMD         ACN       ATVI        ADM        ADBE  ...  \\\n210  235.005880  287.820007  75.650002  78.160004  370.135010  ...   \n211  235.710007  287.519989  75.610001  78.110001  370.010010  ...   \n212  235.639999  287.709991  75.635002  78.190002  370.030090  ...   \n213  235.410004  287.839996  75.650002  78.144997  370.209991  ...   \n214  235.490005  287.850006  75.650002  78.080002  370.434998  ...   \n215  235.634995  288.000000  75.665001  78.084999  370.739990  ...   \n216  235.759995  287.894989  75.709999  78.010002  370.524994  ...   \n217  235.005880  287.945007  75.723701  78.010002  370.600006  ...   \n218  235.005880  287.929993  75.750000  78.025002  370.730011  ...   \n219  235.800003  288.130096  75.800003  78.089996  370.654999  ...   \n220  235.809998  288.174988  75.809998  78.040001  370.975006  ...   \n221  235.949997  288.071411  75.809998  78.073997  370.704987  ...   \n222  235.005880  288.140015  75.809998  78.105003  370.700012  ...   \n223  235.910004  288.299988  75.809998  78.110001  370.820007  ...   \n224  235.979996  288.440002  75.800003  78.169998  370.670013  ...   \n225  235.005880  288.429993  75.794998  78.180901  370.709991  ...   \n\n            WTW         GWW       WYNN        XEL        XYL         YUM  \\\n210  198.100006  445.649994  54.250000  65.849998  75.482903  111.800003   \n211  198.044998  447.252116  54.200001  65.820000  75.440002  111.839996   \n212  197.910004  447.252116  54.209999  65.760002  75.449997  111.930000   \n213  197.979996  447.252116  54.200001  65.739998  75.419998  111.668554   \n214  197.990005  445.370087  54.200001  65.769997  75.400002  111.668554   \n215  198.020004  445.950012  54.259998  65.830002  75.484398  111.889999   \n216  197.979996  447.252116  54.209999  65.830002  75.500000  111.889999   \n217  197.990005  446.165009  54.240002  65.838402  75.510002  111.919998   \n218  197.402182  447.252116  54.238800  65.849998  75.505501  111.889999   \n219  197.990005  445.999603  54.255001  65.809998  75.540001  111.910004   \n220  198.070007  446.489990  54.320000  65.839996  75.550003  111.949997   \n221  198.160004  446.154999  54.262798  65.839996  75.555000  111.889999   \n222  198.259995  446.200012  54.320000  65.860001  75.589996  111.940002   \n223  198.080002  447.252116  54.305000  65.820000  75.589996  111.870003   \n224  197.979996  446.239990  54.264999  65.790001  75.504046  111.870003   \n225  198.110001  446.424988  54.320000  65.790001  75.565002  111.668554   \n\n           ZBRA         ZBH       ZION         ZTS  \n210  295.589996  105.379997  52.439999  165.345001  \n211  295.600006  105.300003  52.450001  165.179993  \n212  295.529999  105.410004  52.450001  165.255005  \n213  295.729095  105.290001  52.439999  164.742651  \n214  295.961295  105.269997  52.455002  165.210007  \n215  295.899994  105.349998  52.500000  165.190002  \n216  295.961295  105.334999  52.480000  165.175003  \n217  295.880005  105.339996  52.500000  165.089996  \n218  295.961295  105.389999  52.500000  165.054993  \n219  295.869995  105.349998  52.520000  165.089996  \n220  295.875000  105.419998  52.632569  165.154999  \n221  295.825012  105.419998  52.529999  165.110001  \n222  295.885010  105.434998  52.599998  165.169998  \n223  295.864990  105.400002  52.605000  165.149994  \n224  295.959991  105.445000  52.529999  165.169998  \n225  295.961295  105.425003  52.520000  165.220001  \n\n[16 rows x 502 columns]",
      "text/html": "<div>\n<style scoped>\n    .dataframe tbody tr th:only-of-type {\n        vertical-align: middle;\n    }\n\n    .dataframe tbody tr th {\n        vertical-align: top;\n    }\n\n    .dataframe thead th {\n        text-align: right;\n    }\n</style>\n<table border=\"1\" class=\"dataframe\">\n  <thead>\n    <tr style=\"text-align: right;\">\n      <th></th>\n      <th>Date</th>\n      <th>MMM</th>\n      <th>AOS</th>\n      <th>ABT</th>\n      <th>ABBV</th>\n      <th>ABMD</th>\n      <th>ACN</th>\n      <th>ATVI</th>\n      <th>ADM</th>\n      <th>ADBE</th>\n      <th>...</th>\n      <th>WTW</th>\n      <th>GWW</th>\n      <th>WYNN</th>\n      <th>XEL</th>\n      <th>XYL</th>\n      <th>YUM</th>\n      <th>ZBRA</th>\n      <th>ZBH</th>\n      <th>ZION</th>\n      <th>ZTS</th>\n    </tr>\n  </thead>\n  <tbody>\n    <tr>\n      <th>210</th>\n      <td>2022-06-22 13:01:00-04:00</td>\n      <td>130.490005</td>\n      <td>52.875000</td>\n      <td>106.014999</td>\n      <td>148.889999</td>\n      <td>235.005880</td>\n      <td>287.820007</td>\n      <td>75.650002</td>\n      <td>78.160004</td>\n      <td>370.135010</td>\n      <td>...</td>\n      <td>198.100006</td>\n      <td>445.649994</td>\n      <td>54.250000</td>\n      <td>65.849998</td>\n      <td>75.482903</td>\n      <td>111.800003</td>\n      <td>295.589996</td>\n      <td>105.379997</td>\n      <td>52.439999</td>\n      <td>165.345001</td>\n    </tr>\n    <tr>\n      <th>211</th>\n      <td>2022-06-22 13:02:00-04:00</td>\n      <td>130.380005</td>\n      <td>52.849998</td>\n      <td>105.919998</td>\n      <td>148.619995</td>\n      <td>235.710007</td>\n      <td>287.519989</td>\n      <td>75.610001</td>\n      <td>78.110001</td>\n      <td>370.010010</td>\n      <td>...</td>\n      <td>198.044998</td>\n      <td>447.252116</td>\n      <td>54.200001</td>\n      <td>65.820000</td>\n      <td>75.440002</td>\n      <td>111.839996</td>\n      <td>295.600006</td>\n      <td>105.300003</td>\n      <td>52.450001</td>\n      <td>165.179993</td>\n    </tr>\n    <tr>\n      <th>212</th>\n      <td>2022-06-22 13:03:00-04:00</td>\n      <td>130.445007</td>\n      <td>52.889999</td>\n      <td>106.000000</td>\n      <td>148.610001</td>\n      <td>235.639999</td>\n      <td>287.709991</td>\n      <td>75.635002</td>\n      <td>78.190002</td>\n      <td>370.030090</td>\n      <td>...</td>\n      <td>197.910004</td>\n      <td>447.252116</td>\n      <td>54.209999</td>\n      <td>65.760002</td>\n      <td>75.449997</td>\n      <td>111.930000</td>\n      <td>295.529999</td>\n      <td>105.410004</td>\n      <td>52.450001</td>\n      <td>165.255005</td>\n    </tr>\n    <tr>\n      <th>213</th>\n      <td>2022-06-22 13:04:00-04:00</td>\n      <td>130.490005</td>\n      <td>52.869999</td>\n      <td>105.959000</td>\n      <td>148.634995</td>\n      <td>235.410004</td>\n      <td>287.839996</td>\n      <td>75.650002</td>\n      <td>78.144997</td>\n      <td>370.209991</td>\n      <td>...</td>\n      <td>197.979996</td>\n      <td>447.252116</td>\n      <td>54.200001</td>\n      <td>65.739998</td>\n      <td>75.419998</td>\n      <td>111.668554</td>\n      <td>295.729095</td>\n      <td>105.290001</td>\n      <td>52.439999</td>\n      <td>164.742651</td>\n    </tr>\n    <tr>\n      <th>214</th>\n      <td>2022-06-22 13:05:00-04:00</td>\n      <td>130.529999</td>\n      <td>52.889999</td>\n      <td>105.980003</td>\n      <td>148.539902</td>\n      <td>235.490005</td>\n      <td>287.850006</td>\n      <td>75.650002</td>\n      <td>78.080002</td>\n      <td>370.434998</td>\n      <td>...</td>\n      <td>197.990005</td>\n      <td>445.370087</td>\n      <td>54.200001</td>\n      <td>65.769997</td>\n      <td>75.400002</td>\n      <td>111.668554</td>\n      <td>295.961295</td>\n      <td>105.269997</td>\n      <td>52.455002</td>\n      <td>165.210007</td>\n    </tr>\n    <tr>\n      <th>215</th>\n      <td>2022-06-22 13:06:00-04:00</td>\n      <td>130.580002</td>\n      <td>52.919998</td>\n      <td>106.019997</td>\n      <td>148.554993</td>\n      <td>235.634995</td>\n      <td>288.000000</td>\n      <td>75.665001</td>\n      <td>78.084999</td>\n      <td>370.739990</td>\n      <td>...</td>\n      <td>198.020004</td>\n      <td>445.950012</td>\n      <td>54.259998</td>\n      <td>65.830002</td>\n      <td>75.484398</td>\n      <td>111.889999</td>\n      <td>295.899994</td>\n      <td>105.349998</td>\n      <td>52.500000</td>\n      <td>165.190002</td>\n    </tr>\n    <tr>\n      <th>216</th>\n      <td>2022-06-22 13:07:00-04:00</td>\n      <td>130.539993</td>\n      <td>52.939999</td>\n      <td>106.050003</td>\n      <td>148.529999</td>\n      <td>235.759995</td>\n      <td>287.894989</td>\n      <td>75.709999</td>\n      <td>78.010002</td>\n      <td>370.524994</td>\n      <td>...</td>\n      <td>197.979996</td>\n      <td>447.252116</td>\n      <td>54.209999</td>\n      <td>65.830002</td>\n      <td>75.500000</td>\n      <td>111.889999</td>\n      <td>295.961295</td>\n      <td>105.334999</td>\n      <td>52.480000</td>\n      <td>165.175003</td>\n    </tr>\n    <tr>\n      <th>217</th>\n      <td>2022-06-22 13:08:00-04:00</td>\n      <td>130.580002</td>\n      <td>52.980000</td>\n      <td>106.019997</td>\n      <td>148.550003</td>\n      <td>235.005880</td>\n      <td>287.945007</td>\n      <td>75.723701</td>\n      <td>78.010002</td>\n      <td>370.600006</td>\n      <td>...</td>\n      <td>197.990005</td>\n      <td>446.165009</td>\n      <td>54.240002</td>\n      <td>65.838402</td>\n      <td>75.510002</td>\n      <td>111.919998</td>\n      <td>295.880005</td>\n      <td>105.339996</td>\n      <td>52.500000</td>\n      <td>165.089996</td>\n    </tr>\n    <tr>\n      <th>218</th>\n      <td>2022-06-22 13:09:00-04:00</td>\n      <td>130.559006</td>\n      <td>53.009998</td>\n      <td>106.065300</td>\n      <td>148.550003</td>\n      <td>235.005880</td>\n      <td>287.929993</td>\n      <td>75.750000</td>\n      <td>78.025002</td>\n      <td>370.730011</td>\n      <td>...</td>\n      <td>197.402182</td>\n      <td>447.252116</td>\n      <td>54.238800</td>\n      <td>65.849998</td>\n      <td>75.505501</td>\n      <td>111.889999</td>\n      <td>295.961295</td>\n      <td>105.389999</td>\n      <td>52.500000</td>\n      <td>165.054993</td>\n    </tr>\n    <tr>\n      <th>219</th>\n      <td>2022-06-22 13:10:00-04:00</td>\n      <td>130.675003</td>\n      <td>53.000000</td>\n      <td>106.059998</td>\n      <td>148.595001</td>\n      <td>235.800003</td>\n      <td>288.130096</td>\n      <td>75.800003</td>\n      <td>78.089996</td>\n      <td>370.654999</td>\n      <td>...</td>\n      <td>197.990005</td>\n      <td>445.999603</td>\n      <td>54.255001</td>\n      <td>65.809998</td>\n      <td>75.540001</td>\n      <td>111.910004</td>\n      <td>295.869995</td>\n      <td>105.349998</td>\n      <td>52.520000</td>\n      <td>165.089996</td>\n    </tr>\n    <tr>\n      <th>220</th>\n      <td>2022-06-22 13:11:00-04:00</td>\n      <td>130.755005</td>\n      <td>53.015800</td>\n      <td>106.095001</td>\n      <td>148.619995</td>\n      <td>235.809998</td>\n      <td>288.174988</td>\n      <td>75.809998</td>\n      <td>78.040001</td>\n      <td>370.975006</td>\n      <td>...</td>\n      <td>198.070007</td>\n      <td>446.489990</td>\n      <td>54.320000</td>\n      <td>65.839996</td>\n      <td>75.550003</td>\n      <td>111.949997</td>\n      <td>295.875000</td>\n      <td>105.419998</td>\n      <td>52.632569</td>\n      <td>165.154999</td>\n    </tr>\n    <tr>\n      <th>221</th>\n      <td>2022-06-22 13:12:00-04:00</td>\n      <td>130.820007</td>\n      <td>52.994999</td>\n      <td>106.099998</td>\n      <td>148.675003</td>\n      <td>235.949997</td>\n      <td>288.071411</td>\n      <td>75.809998</td>\n      <td>78.073997</td>\n      <td>370.704987</td>\n      <td>...</td>\n      <td>198.160004</td>\n      <td>446.154999</td>\n      <td>54.262798</td>\n      <td>65.839996</td>\n      <td>75.555000</td>\n      <td>111.889999</td>\n      <td>295.825012</td>\n      <td>105.419998</td>\n      <td>52.529999</td>\n      <td>165.110001</td>\n    </tr>\n    <tr>\n      <th>222</th>\n      <td>2022-06-22 13:13:00-04:00</td>\n      <td>130.919998</td>\n      <td>53.049999</td>\n      <td>106.118301</td>\n      <td>148.710007</td>\n      <td>235.005880</td>\n      <td>288.140015</td>\n      <td>75.809998</td>\n      <td>78.105003</td>\n      <td>370.700012</td>\n      <td>...</td>\n      <td>198.259995</td>\n      <td>446.200012</td>\n      <td>54.320000</td>\n      <td>65.860001</td>\n      <td>75.589996</td>\n      <td>111.940002</td>\n      <td>295.885010</td>\n      <td>105.434998</td>\n      <td>52.599998</td>\n      <td>165.169998</td>\n    </tr>\n    <tr>\n      <th>223</th>\n      <td>2022-06-22 13:14:00-04:00</td>\n      <td>130.994995</td>\n      <td>53.014999</td>\n      <td>106.059998</td>\n      <td>148.770004</td>\n      <td>235.910004</td>\n      <td>288.299988</td>\n      <td>75.809998</td>\n      <td>78.110001</td>\n      <td>370.820007</td>\n      <td>...</td>\n      <td>198.080002</td>\n      <td>447.252116</td>\n      <td>54.305000</td>\n      <td>65.820000</td>\n      <td>75.589996</td>\n      <td>111.870003</td>\n      <td>295.864990</td>\n      <td>105.400002</td>\n      <td>52.605000</td>\n      <td>165.149994</td>\n    </tr>\n    <tr>\n      <th>224</th>\n      <td>2022-06-22 13:15:00-04:00</td>\n      <td>130.955002</td>\n      <td>53.029999</td>\n      <td>106.004997</td>\n      <td>148.679993</td>\n      <td>235.979996</td>\n      <td>288.440002</td>\n      <td>75.800003</td>\n      <td>78.169998</td>\n      <td>370.670013</td>\n      <td>...</td>\n      <td>197.979996</td>\n      <td>446.239990</td>\n      <td>54.264999</td>\n      <td>65.790001</td>\n      <td>75.504046</td>\n      <td>111.870003</td>\n      <td>295.959991</td>\n      <td>105.445000</td>\n      <td>52.529999</td>\n      <td>165.169998</td>\n    </tr>\n    <tr>\n      <th>225</th>\n      <td>2022-06-22 13:16:00-04:00</td>\n      <td>131.029999</td>\n      <td>53.009998</td>\n      <td>106.010002</td>\n      <td>148.690002</td>\n      <td>235.005880</td>\n      <td>288.429993</td>\n      <td>75.794998</td>\n      <td>78.180901</td>\n      <td>370.709991</td>\n      <td>...</td>\n      <td>198.110001</td>\n      <td>446.424988</td>\n      <td>54.320000</td>\n      <td>65.790001</td>\n      <td>75.565002</td>\n      <td>111.668554</td>\n      <td>295.961295</td>\n      <td>105.425003</td>\n      <td>52.520000</td>\n      <td>165.220001</td>\n    </tr>\n  </tbody>\n</table>\n<p>16 rows × 502 columns</p>\n</div>"
     },
     "execution_count": 237,
     "metadata": {},
     "output_type": "execute_result"
    }
   ],
   "source": [
    "a2 = a.fillna(a.mean())\n",
    "df = pd.DataFrame(index=a2.index, columns=all_stocks)\n",
    "for i in all_stocks:\n",
    "    df[i] = a2[[('Adj Close', i)]]\n",
    "df = df.reset_index().iloc[210:226, :]\n",
    "df = df.drop(['BRK.B', 'BF.B'], axis=1)\n",
    "df.rename({'Datetime': 'Date'}, inplace=True, axis=1)\n",
    "df.to_csv('sp500_2022-06-22_13:02:00-2022-06-22_13:17:00.csv', index=False)\n",
    "df"
   ],
   "metadata": {
    "collapsed": false,
    "pycharm": {
     "name": "#%%\n"
    }
   }
  },
  {
   "cell_type": "code",
   "execution_count": 234,
   "outputs": [
    {
     "data": {
      "text/plain": "False"
     },
     "execution_count": 234,
     "metadata": {},
     "output_type": "execute_result"
    }
   ],
   "source": [
    "df.isnull().values.any()"
   ],
   "metadata": {
    "collapsed": false,
    "pycharm": {
     "name": "#%%\n"
    }
   }
  },
  {
   "cell_type": "code",
   "execution_count": 231,
   "outputs": [
    {
     "data": {
      "text/plain": "(array([ 0,  1,  2,  3,  4,  5,  6,  7,  8,  9, 10, 11, 12, 13, 14]),\n array([81, 81, 81, 81, 81, 81, 81, 81, 81, 81, 81, 81, 81, 81, 81]))"
     },
     "execution_count": 231,
     "metadata": {},
     "output_type": "execute_result"
    }
   ],
   "source": [
    "np.where(pd.isnull(df))"
   ],
   "metadata": {
    "collapsed": false,
    "pycharm": {
     "name": "#%%\n"
    }
   }
  },
  {
   "cell_type": "code",
   "execution_count": null,
   "outputs": [],
   "source": [
    "df.iloc[:,81]"
   ],
   "metadata": {
    "collapsed": false,
    "pycharm": {
     "name": "#%%\n",
     "is_executing": true
    }
   }
  },
  {
   "cell_type": "code",
   "execution_count": null,
   "outputs": [],
   "source": [
    "print(df.columns.values.tolist())"
   ],
   "metadata": {
    "collapsed": false,
    "pycharm": {
     "name": "#%%\n",
     "is_executing": true
    }
   }
  },
  {
   "cell_type": "code",
   "execution_count": 186,
   "outputs": [
    {
     "data": {
      "text/plain": "                     Datetime         MMM        AOS         ABT        ABBV  \\\n149 2022-06-22 12:00:00-04:00  130.097702  52.880001  106.074997  147.839996   \n150 2022-06-22 12:01:00-04:00  130.309998  52.959999  106.180000  147.970001   \n151 2022-06-22 12:02:00-04:00  130.330002  52.980000  106.160004  147.860001   \n152 2022-06-22 12:03:00-04:00  130.175797  52.915001  106.000000  147.580002   \n153 2022-06-22 12:04:00-04:00  130.169998  52.849998  105.955002  147.649994   \n154 2022-06-22 12:05:00-04:00  130.119995  52.825001  105.910004  147.580002   \n155 2022-06-22 12:06:00-04:00  130.009995  52.755001  105.820000  147.440002   \n156 2022-06-22 12:07:00-04:00  129.940002  52.730000  105.750000  147.406097   \n157 2022-06-22 12:08:00-04:00  129.970001  52.759998  105.790001  147.350006   \n158 2022-06-22 12:09:00-04:00  130.000000  52.799999  105.845001  147.380005   \n159 2022-06-22 12:10:00-04:00  130.070007  52.889999  105.860001  147.449997   \n160 2022-06-22 12:11:00-04:00  130.050003  52.830002  105.860001  147.445007   \n161 2022-06-22 12:12:00-04:00  130.080002  52.849998  105.839996  147.455002   \n162 2022-06-22 12:13:00-04:00  130.210602  52.880001  105.970001  147.479996   \n163 2022-06-22 12:14:00-04:00  130.180893  52.849998  105.934998  147.339996   \n\n           ABMD         ACN       ATVI        ADM        ADBE  ...  \\\n149  234.199997  286.809998  75.779999  78.035004  367.459991  ...   \n150  235.077661  287.399994  75.830002  78.019997  367.910004  ...   \n151  235.077661  287.250000  75.800003  78.019997  368.100006  ...   \n152  235.077661  286.880005  75.739998  77.900002  367.899994  ...   \n153  233.669998  286.190002  75.754997  77.889999  367.359985  ...   \n154  234.190002  285.890015  75.760002  77.900002  367.339996  ...   \n155  235.077661  285.559998  75.690002  77.849998  366.859985  ...   \n156  233.339996  285.399994  75.680000  77.809998  366.720001  ...   \n157  235.077661  285.600006  75.690002  77.791397  366.869995  ...   \n158  235.077661  285.970001  75.699997  77.860001  367.109985  ...   \n159  234.059998  286.209991  75.739998  77.910004  367.265015  ...   \n160  233.529999  286.220001  75.699997  77.849998  367.369995  ...   \n161  233.779999  286.429993  75.705002  77.875000  367.369995  ...   \n162  233.776794  286.691101  75.680000  77.919998  367.500000  ...   \n163  233.860001  286.730011  75.660004  77.860001  367.600006  ...   \n\n            WTW         GWW       WYNN        XEL        XYL         YUM  \\\n149  197.494995  446.000000  53.880001  65.559998  75.384697  111.389999   \n150  197.520004  446.410004  53.990002  65.620003  75.449997  111.510002   \n151  197.800003  447.317656  53.939999  65.669998  75.430000  111.676092   \n152  197.460007  445.834991  53.849998  65.599998  75.339996  111.305000   \n153  197.440002  447.317656  53.830002  65.589996  75.300003  111.309998   \n154  197.380005  447.317656  53.840000  65.550003  75.309998  111.309998   \n155  197.169998  447.317656  53.779900  65.540001  75.239998  111.320000   \n156  197.119995  447.317656  53.730000  65.529999  75.180000  111.339996   \n157  197.169998  444.790009  53.730000  65.529999  75.239998  111.230003   \n158  197.229996  447.317656  53.639999  65.570000  75.279999  111.260002   \n159  197.210007  445.399994  53.669998  65.620003  75.349998  111.300003   \n160  197.110001  445.309998  53.650002  65.629997  75.370003  111.269997   \n161  197.160004  447.317656  53.740002  65.680000  75.430000  111.339996   \n162  197.539993  447.317656  53.787498  65.730003  75.440002  111.449501   \n163  197.339996  445.320007  53.779999  65.690002  75.470001  111.425003   \n\n           ZBRA         ZBH       ZION         ZTS  \n149  293.977509  105.565002  52.490002  165.270004  \n150  294.779999  105.650002  52.470001  165.350006  \n151  294.834991  105.610001  52.505001  165.320007  \n152  294.320007  105.489998  52.529999  165.139999  \n153  294.040009  105.449997  52.480000  165.063904  \n154  293.954987  105.430000  52.450001  165.139999  \n155  296.005189  105.503864  52.410000  165.009995  \n156  296.005189  105.339897  52.259998  164.990005  \n157  293.750000  105.209999  52.230000  164.910004  \n158  296.005189  105.320000  52.189999  165.050003  \n159  294.144989  105.360001  52.220001  165.100006  \n160  293.720001  105.503864  52.189999  165.020004  \n161  296.005189  105.389999  52.220001  165.110001  \n162  294.214996  105.489998  52.240002  165.190002  \n163  294.234985  105.385002  52.290001  165.080002  \n\n[15 rows x 504 columns]",
      "text/html": "<div>\n<style scoped>\n    .dataframe tbody tr th:only-of-type {\n        vertical-align: middle;\n    }\n\n    .dataframe tbody tr th {\n        vertical-align: top;\n    }\n\n    .dataframe thead th {\n        text-align: right;\n    }\n</style>\n<table border=\"1\" class=\"dataframe\">\n  <thead>\n    <tr style=\"text-align: right;\">\n      <th></th>\n      <th>Datetime</th>\n      <th>MMM</th>\n      <th>AOS</th>\n      <th>ABT</th>\n      <th>ABBV</th>\n      <th>ABMD</th>\n      <th>ACN</th>\n      <th>ATVI</th>\n      <th>ADM</th>\n      <th>ADBE</th>\n      <th>...</th>\n      <th>WTW</th>\n      <th>GWW</th>\n      <th>WYNN</th>\n      <th>XEL</th>\n      <th>XYL</th>\n      <th>YUM</th>\n      <th>ZBRA</th>\n      <th>ZBH</th>\n      <th>ZION</th>\n      <th>ZTS</th>\n    </tr>\n  </thead>\n  <tbody>\n    <tr>\n      <th>149</th>\n      <td>2022-06-22 12:00:00-04:00</td>\n      <td>130.097702</td>\n      <td>52.880001</td>\n      <td>106.074997</td>\n      <td>147.839996</td>\n      <td>234.199997</td>\n      <td>286.809998</td>\n      <td>75.779999</td>\n      <td>78.035004</td>\n      <td>367.459991</td>\n      <td>...</td>\n      <td>197.494995</td>\n      <td>446.000000</td>\n      <td>53.880001</td>\n      <td>65.559998</td>\n      <td>75.384697</td>\n      <td>111.389999</td>\n      <td>293.977509</td>\n      <td>105.565002</td>\n      <td>52.490002</td>\n      <td>165.270004</td>\n    </tr>\n    <tr>\n      <th>150</th>\n      <td>2022-06-22 12:01:00-04:00</td>\n      <td>130.309998</td>\n      <td>52.959999</td>\n      <td>106.180000</td>\n      <td>147.970001</td>\n      <td>235.077661</td>\n      <td>287.399994</td>\n      <td>75.830002</td>\n      <td>78.019997</td>\n      <td>367.910004</td>\n      <td>...</td>\n      <td>197.520004</td>\n      <td>446.410004</td>\n      <td>53.990002</td>\n      <td>65.620003</td>\n      <td>75.449997</td>\n      <td>111.510002</td>\n      <td>294.779999</td>\n      <td>105.650002</td>\n      <td>52.470001</td>\n      <td>165.350006</td>\n    </tr>\n    <tr>\n      <th>151</th>\n      <td>2022-06-22 12:02:00-04:00</td>\n      <td>130.330002</td>\n      <td>52.980000</td>\n      <td>106.160004</td>\n      <td>147.860001</td>\n      <td>235.077661</td>\n      <td>287.250000</td>\n      <td>75.800003</td>\n      <td>78.019997</td>\n      <td>368.100006</td>\n      <td>...</td>\n      <td>197.800003</td>\n      <td>447.317656</td>\n      <td>53.939999</td>\n      <td>65.669998</td>\n      <td>75.430000</td>\n      <td>111.676092</td>\n      <td>294.834991</td>\n      <td>105.610001</td>\n      <td>52.505001</td>\n      <td>165.320007</td>\n    </tr>\n    <tr>\n      <th>152</th>\n      <td>2022-06-22 12:03:00-04:00</td>\n      <td>130.175797</td>\n      <td>52.915001</td>\n      <td>106.000000</td>\n      <td>147.580002</td>\n      <td>235.077661</td>\n      <td>286.880005</td>\n      <td>75.739998</td>\n      <td>77.900002</td>\n      <td>367.899994</td>\n      <td>...</td>\n      <td>197.460007</td>\n      <td>445.834991</td>\n      <td>53.849998</td>\n      <td>65.599998</td>\n      <td>75.339996</td>\n      <td>111.305000</td>\n      <td>294.320007</td>\n      <td>105.489998</td>\n      <td>52.529999</td>\n      <td>165.139999</td>\n    </tr>\n    <tr>\n      <th>153</th>\n      <td>2022-06-22 12:04:00-04:00</td>\n      <td>130.169998</td>\n      <td>52.849998</td>\n      <td>105.955002</td>\n      <td>147.649994</td>\n      <td>233.669998</td>\n      <td>286.190002</td>\n      <td>75.754997</td>\n      <td>77.889999</td>\n      <td>367.359985</td>\n      <td>...</td>\n      <td>197.440002</td>\n      <td>447.317656</td>\n      <td>53.830002</td>\n      <td>65.589996</td>\n      <td>75.300003</td>\n      <td>111.309998</td>\n      <td>294.040009</td>\n      <td>105.449997</td>\n      <td>52.480000</td>\n      <td>165.063904</td>\n    </tr>\n    <tr>\n      <th>154</th>\n      <td>2022-06-22 12:05:00-04:00</td>\n      <td>130.119995</td>\n      <td>52.825001</td>\n      <td>105.910004</td>\n      <td>147.580002</td>\n      <td>234.190002</td>\n      <td>285.890015</td>\n      <td>75.760002</td>\n      <td>77.900002</td>\n      <td>367.339996</td>\n      <td>...</td>\n      <td>197.380005</td>\n      <td>447.317656</td>\n      <td>53.840000</td>\n      <td>65.550003</td>\n      <td>75.309998</td>\n      <td>111.309998</td>\n      <td>293.954987</td>\n      <td>105.430000</td>\n      <td>52.450001</td>\n      <td>165.139999</td>\n    </tr>\n    <tr>\n      <th>155</th>\n      <td>2022-06-22 12:06:00-04:00</td>\n      <td>130.009995</td>\n      <td>52.755001</td>\n      <td>105.820000</td>\n      <td>147.440002</td>\n      <td>235.077661</td>\n      <td>285.559998</td>\n      <td>75.690002</td>\n      <td>77.849998</td>\n      <td>366.859985</td>\n      <td>...</td>\n      <td>197.169998</td>\n      <td>447.317656</td>\n      <td>53.779900</td>\n      <td>65.540001</td>\n      <td>75.239998</td>\n      <td>111.320000</td>\n      <td>296.005189</td>\n      <td>105.503864</td>\n      <td>52.410000</td>\n      <td>165.009995</td>\n    </tr>\n    <tr>\n      <th>156</th>\n      <td>2022-06-22 12:07:00-04:00</td>\n      <td>129.940002</td>\n      <td>52.730000</td>\n      <td>105.750000</td>\n      <td>147.406097</td>\n      <td>233.339996</td>\n      <td>285.399994</td>\n      <td>75.680000</td>\n      <td>77.809998</td>\n      <td>366.720001</td>\n      <td>...</td>\n      <td>197.119995</td>\n      <td>447.317656</td>\n      <td>53.730000</td>\n      <td>65.529999</td>\n      <td>75.180000</td>\n      <td>111.339996</td>\n      <td>296.005189</td>\n      <td>105.339897</td>\n      <td>52.259998</td>\n      <td>164.990005</td>\n    </tr>\n    <tr>\n      <th>157</th>\n      <td>2022-06-22 12:08:00-04:00</td>\n      <td>129.970001</td>\n      <td>52.759998</td>\n      <td>105.790001</td>\n      <td>147.350006</td>\n      <td>235.077661</td>\n      <td>285.600006</td>\n      <td>75.690002</td>\n      <td>77.791397</td>\n      <td>366.869995</td>\n      <td>...</td>\n      <td>197.169998</td>\n      <td>444.790009</td>\n      <td>53.730000</td>\n      <td>65.529999</td>\n      <td>75.239998</td>\n      <td>111.230003</td>\n      <td>293.750000</td>\n      <td>105.209999</td>\n      <td>52.230000</td>\n      <td>164.910004</td>\n    </tr>\n    <tr>\n      <th>158</th>\n      <td>2022-06-22 12:09:00-04:00</td>\n      <td>130.000000</td>\n      <td>52.799999</td>\n      <td>105.845001</td>\n      <td>147.380005</td>\n      <td>235.077661</td>\n      <td>285.970001</td>\n      <td>75.699997</td>\n      <td>77.860001</td>\n      <td>367.109985</td>\n      <td>...</td>\n      <td>197.229996</td>\n      <td>447.317656</td>\n      <td>53.639999</td>\n      <td>65.570000</td>\n      <td>75.279999</td>\n      <td>111.260002</td>\n      <td>296.005189</td>\n      <td>105.320000</td>\n      <td>52.189999</td>\n      <td>165.050003</td>\n    </tr>\n    <tr>\n      <th>159</th>\n      <td>2022-06-22 12:10:00-04:00</td>\n      <td>130.070007</td>\n      <td>52.889999</td>\n      <td>105.860001</td>\n      <td>147.449997</td>\n      <td>234.059998</td>\n      <td>286.209991</td>\n      <td>75.739998</td>\n      <td>77.910004</td>\n      <td>367.265015</td>\n      <td>...</td>\n      <td>197.210007</td>\n      <td>445.399994</td>\n      <td>53.669998</td>\n      <td>65.620003</td>\n      <td>75.349998</td>\n      <td>111.300003</td>\n      <td>294.144989</td>\n      <td>105.360001</td>\n      <td>52.220001</td>\n      <td>165.100006</td>\n    </tr>\n    <tr>\n      <th>160</th>\n      <td>2022-06-22 12:11:00-04:00</td>\n      <td>130.050003</td>\n      <td>52.830002</td>\n      <td>105.860001</td>\n      <td>147.445007</td>\n      <td>233.529999</td>\n      <td>286.220001</td>\n      <td>75.699997</td>\n      <td>77.849998</td>\n      <td>367.369995</td>\n      <td>...</td>\n      <td>197.110001</td>\n      <td>445.309998</td>\n      <td>53.650002</td>\n      <td>65.629997</td>\n      <td>75.370003</td>\n      <td>111.269997</td>\n      <td>293.720001</td>\n      <td>105.503864</td>\n      <td>52.189999</td>\n      <td>165.020004</td>\n    </tr>\n    <tr>\n      <th>161</th>\n      <td>2022-06-22 12:12:00-04:00</td>\n      <td>130.080002</td>\n      <td>52.849998</td>\n      <td>105.839996</td>\n      <td>147.455002</td>\n      <td>233.779999</td>\n      <td>286.429993</td>\n      <td>75.705002</td>\n      <td>77.875000</td>\n      <td>367.369995</td>\n      <td>...</td>\n      <td>197.160004</td>\n      <td>447.317656</td>\n      <td>53.740002</td>\n      <td>65.680000</td>\n      <td>75.430000</td>\n      <td>111.339996</td>\n      <td>296.005189</td>\n      <td>105.389999</td>\n      <td>52.220001</td>\n      <td>165.110001</td>\n    </tr>\n    <tr>\n      <th>162</th>\n      <td>2022-06-22 12:13:00-04:00</td>\n      <td>130.210602</td>\n      <td>52.880001</td>\n      <td>105.970001</td>\n      <td>147.479996</td>\n      <td>233.776794</td>\n      <td>286.691101</td>\n      <td>75.680000</td>\n      <td>77.919998</td>\n      <td>367.500000</td>\n      <td>...</td>\n      <td>197.539993</td>\n      <td>447.317656</td>\n      <td>53.787498</td>\n      <td>65.730003</td>\n      <td>75.440002</td>\n      <td>111.449501</td>\n      <td>294.214996</td>\n      <td>105.489998</td>\n      <td>52.240002</td>\n      <td>165.190002</td>\n    </tr>\n    <tr>\n      <th>163</th>\n      <td>2022-06-22 12:14:00-04:00</td>\n      <td>130.180893</td>\n      <td>52.849998</td>\n      <td>105.934998</td>\n      <td>147.339996</td>\n      <td>233.860001</td>\n      <td>286.730011</td>\n      <td>75.660004</td>\n      <td>77.860001</td>\n      <td>367.600006</td>\n      <td>...</td>\n      <td>197.339996</td>\n      <td>445.320007</td>\n      <td>53.779999</td>\n      <td>65.690002</td>\n      <td>75.470001</td>\n      <td>111.425003</td>\n      <td>294.234985</td>\n      <td>105.385002</td>\n      <td>52.290001</td>\n      <td>165.080002</td>\n    </tr>\n  </tbody>\n</table>\n<p>15 rows × 504 columns</p>\n</div>"
     },
     "execution_count": 186,
     "metadata": {},
     "output_type": "execute_result"
    }
   ],
   "source": [
    "df"
   ],
   "metadata": {
    "collapsed": false,
    "pycharm": {
     "name": "#%%\n"
    }
   }
  },
  {
   "cell_type": "code",
   "execution_count": 185,
   "outputs": [],
   "source": [
    "a.to_csv('sp500_min_20220622.csv')"
   ],
   "metadata": {
    "collapsed": false,
    "pycharm": {
     "name": "#%%\n"
    }
   }
  },
  {
   "cell_type": "code",
   "execution_count": 205,
   "outputs": [
    {
     "name": "stdout",
     "output_type": "stream",
     "text": [
      "[*********************100%***********************]  1 of 1 completed\n"
     ]
    }
   ],
   "source": [
    "a = yfinance.download(tickers=\"^GSPC\", start=\"2022-06-22\", end=\"2022-06-23\", interval=\"1m\")\n",
    "a.to_csv('gspc_min_20220622.csv')"
   ],
   "metadata": {
    "collapsed": false,
    "pycharm": {
     "name": "#%%\n"
    }
   }
  },
  {
   "cell_type": "code",
   "execution_count": 203,
   "outputs": [
    {
     "data": {
      "text/plain": "                     Datetime         Open         High          Low  \\\n0   2022-06-22 09:30:00-04:00  3733.889893  3733.889893  3717.689941   \n1   2022-06-22 09:31:00-04:00  3720.870117  3732.669922  3720.870117   \n2   2022-06-22 09:32:00-04:00  3732.479980  3737.100098  3732.479980   \n3   2022-06-22 09:33:00-04:00  3736.639893  3740.629883  3733.330078   \n4   2022-06-22 09:34:00-04:00  3733.080078  3733.729980  3727.870117   \n..                        ...          ...          ...          ...   \n383 2022-06-22 15:55:00-04:00  3771.830078  3772.679932  3770.979980   \n384 2022-06-22 15:56:00-04:00  3771.560059  3771.560059  3767.669922   \n385 2022-06-22 15:57:00-04:00  3768.870117  3769.290039  3767.540039   \n386 2022-06-22 15:58:00-04:00  3767.989990  3767.989990  3764.219971   \n387 2022-06-22 15:59:00-04:00  3764.449951  3764.810059  3758.139893   \n\n           Close    Adj Close    Volume  \n0    3720.060059  3720.060059         0  \n1    3732.629883  3732.629883  14212584  \n2    3737.100098  3737.100098   4994392  \n3    3733.330078  3733.330078  20302848  \n4    3731.159912  3731.159912   9976279  \n..           ...          ...       ...  \n383  3771.639893  3771.639893  21876000  \n384  3768.610107  3768.610107  17466000  \n385  3768.179932  3768.179932  11066000  \n386  3764.370117  3764.370117  32300000  \n387  3758.139893  3758.139893  53037000  \n\n[388 rows x 7 columns]",
      "text/html": "<div>\n<style scoped>\n    .dataframe tbody tr th:only-of-type {\n        vertical-align: middle;\n    }\n\n    .dataframe tbody tr th {\n        vertical-align: top;\n    }\n\n    .dataframe thead th {\n        text-align: right;\n    }\n</style>\n<table border=\"1\" class=\"dataframe\">\n  <thead>\n    <tr style=\"text-align: right;\">\n      <th></th>\n      <th>Datetime</th>\n      <th>Open</th>\n      <th>High</th>\n      <th>Low</th>\n      <th>Close</th>\n      <th>Adj Close</th>\n      <th>Volume</th>\n    </tr>\n  </thead>\n  <tbody>\n    <tr>\n      <th>0</th>\n      <td>2022-06-22 09:30:00-04:00</td>\n      <td>3733.889893</td>\n      <td>3733.889893</td>\n      <td>3717.689941</td>\n      <td>3720.060059</td>\n      <td>3720.060059</td>\n      <td>0</td>\n    </tr>\n    <tr>\n      <th>1</th>\n      <td>2022-06-22 09:31:00-04:00</td>\n      <td>3720.870117</td>\n      <td>3732.669922</td>\n      <td>3720.870117</td>\n      <td>3732.629883</td>\n      <td>3732.629883</td>\n      <td>14212584</td>\n    </tr>\n    <tr>\n      <th>2</th>\n      <td>2022-06-22 09:32:00-04:00</td>\n      <td>3732.479980</td>\n      <td>3737.100098</td>\n      <td>3732.479980</td>\n      <td>3737.100098</td>\n      <td>3737.100098</td>\n      <td>4994392</td>\n    </tr>\n    <tr>\n      <th>3</th>\n      <td>2022-06-22 09:33:00-04:00</td>\n      <td>3736.639893</td>\n      <td>3740.629883</td>\n      <td>3733.330078</td>\n      <td>3733.330078</td>\n      <td>3733.330078</td>\n      <td>20302848</td>\n    </tr>\n    <tr>\n      <th>4</th>\n      <td>2022-06-22 09:34:00-04:00</td>\n      <td>3733.080078</td>\n      <td>3733.729980</td>\n      <td>3727.870117</td>\n      <td>3731.159912</td>\n      <td>3731.159912</td>\n      <td>9976279</td>\n    </tr>\n    <tr>\n      <th>...</th>\n      <td>...</td>\n      <td>...</td>\n      <td>...</td>\n      <td>...</td>\n      <td>...</td>\n      <td>...</td>\n      <td>...</td>\n    </tr>\n    <tr>\n      <th>383</th>\n      <td>2022-06-22 15:55:00-04:00</td>\n      <td>3771.830078</td>\n      <td>3772.679932</td>\n      <td>3770.979980</td>\n      <td>3771.639893</td>\n      <td>3771.639893</td>\n      <td>21876000</td>\n    </tr>\n    <tr>\n      <th>384</th>\n      <td>2022-06-22 15:56:00-04:00</td>\n      <td>3771.560059</td>\n      <td>3771.560059</td>\n      <td>3767.669922</td>\n      <td>3768.610107</td>\n      <td>3768.610107</td>\n      <td>17466000</td>\n    </tr>\n    <tr>\n      <th>385</th>\n      <td>2022-06-22 15:57:00-04:00</td>\n      <td>3768.870117</td>\n      <td>3769.290039</td>\n      <td>3767.540039</td>\n      <td>3768.179932</td>\n      <td>3768.179932</td>\n      <td>11066000</td>\n    </tr>\n    <tr>\n      <th>386</th>\n      <td>2022-06-22 15:58:00-04:00</td>\n      <td>3767.989990</td>\n      <td>3767.989990</td>\n      <td>3764.219971</td>\n      <td>3764.370117</td>\n      <td>3764.370117</td>\n      <td>32300000</td>\n    </tr>\n    <tr>\n      <th>387</th>\n      <td>2022-06-22 15:59:00-04:00</td>\n      <td>3764.449951</td>\n      <td>3764.810059</td>\n      <td>3758.139893</td>\n      <td>3758.139893</td>\n      <td>3758.139893</td>\n      <td>53037000</td>\n    </tr>\n  </tbody>\n</table>\n<p>388 rows × 7 columns</p>\n</div>"
     },
     "execution_count": 203,
     "metadata": {},
     "output_type": "execute_result"
    }
   ],
   "source": [
    "a.reset_index()"
   ],
   "metadata": {
    "collapsed": false,
    "pycharm": {
     "name": "#%%\n"
    }
   }
  },
  {
   "cell_type": "code",
   "execution_count": 201,
   "outputs": [
    {
     "data": {
      "text/plain": "[<matplotlib.lines.Line2D at 0x129c7e400>]"
     },
     "execution_count": 201,
     "metadata": {},
     "output_type": "execute_result"
    },
    {
     "data": {
      "text/plain": "<Figure size 432x288 with 1 Axes>",
      "image/png": "[encoded data removed]"
     },
     "metadata": {},
     "output_type": "display_data"
    }
   ],
   "source": [
    "b = a.reset_index().loc[148:163, \"Adj Close\"]\n",
    "plt.plot(b)"
   ],
   "metadata": {
    "collapsed": false,
    "pycharm": {
     "name": "#%%\n"
    }
   }
  },
  {
   "cell_type": "code",
   "execution_count": 191,
   "outputs": [
    {
     "name": "stderr",
     "output_type": "stream",
     "text": [
      "Exception in thread Thread-2027:\n",
      "Traceback (most recent call last):\n",
      "  File \"/Users/bmartins/.pyenv/versions/3.9.0/lib/python3.9/threading.py\", line 950, in _bootstrap_inner\n",
      "    self.run()\n",
      "  File \"/Users/bmartins/.pyenv/versions/3.9.0/lib/python3.9/threading.py\", line 888, in run\n",
      "    self._target(*self._args, **self._kwargs)\n",
      "  File \"/Users/bmartins/.pyenv/versions/nlp_bert_venv/lib/python3.9/site-packages/multitasking/__init__.py\", line 104, in _run_via_pool\n",
      "    return callee(*args, **kwargs)\n",
      "  File \"/Users/bmartins/.pyenv/versions/nlp_bert_venv/lib/python3.9/site-packages/yfinance/multi.py\", line 188, in _download_one_threaded\n",
      "    data = _download_one(ticker, start, end, auto_adjust, back_adjust,\n",
      "  File \"/Users/bmartins/.pyenv/versions/nlp_bert_venv/lib/python3.9/site-packages/yfinance/multi.py\", line 202, in _download_one\n",
      "    return Ticker(ticker).history(period=period, interval=interval,\n",
      "  File \"/Users/bmartins/.pyenv/versions/nlp_bert_venv/lib/python3.9/site-packages/yfinance/base.py\", line 166, in history\n",
      "    _time.strptime(str(start), '%Y-%m-%d')))\n",
      "  File \"/Users/bmartins/.pyenv/versions/3.9.0/lib/python3.9/_strptime.py\", line 562, in _strptime_time\n",
      "    tt = _strptime(data_string, format)[0]\n",
      "  File \"/Users/bmartins/.pyenv/versions/3.9.0/lib/python3.9/_strptime.py\", line 352, in _strptime\n",
      "    raise ValueError(\"unconverted data remains: %s\" %\n",
      "ValueError: unconverted data remains: T12:00:00-04:00\n"
     ]
    },
    {
     "ename": "KeyboardInterrupt",
     "evalue": "",
     "output_type": "error",
     "traceback": [
      "\u001B[0;31m---------------------------------------------------------------------------\u001B[0m",
      "\u001B[0;31mKeyboardInterrupt\u001B[0m                         Traceback (most recent call last)",
      "\u001B[0;32m/var/folders/hm/7qm6m0wn1jd3ng_sl_8871sm0000gq/T/ipykernel_35195/871985886.py\u001B[0m in \u001B[0;36m<module>\u001B[0;34m\u001B[0m\n\u001B[0;32m----> 1\u001B[0;31m \u001B[0ma\u001B[0m \u001B[0;34m=\u001B[0m \u001B[0myfinance\u001B[0m\u001B[0;34m.\u001B[0m\u001B[0mdownload\u001B[0m\u001B[0;34m(\u001B[0m\u001B[0mtickers\u001B[0m\u001B[0;34m=\u001B[0m\u001B[0;34m\"^GSPC\"\u001B[0m\u001B[0;34m,\u001B[0m \u001B[0mstart\u001B[0m\u001B[0;34m=\u001B[0m\u001B[0;34m\"2022-06-22T12:00:00-04:00\"\u001B[0m\u001B[0;34m,\u001B[0m \u001B[0mend\u001B[0m\u001B[0;34m=\u001B[0m\u001B[0;34m\"2022-06-23\"\u001B[0m\u001B[0;34m,\u001B[0m \u001B[0minterval\u001B[0m\u001B[0;34m=\u001B[0m\u001B[0;34m\"1m\"\u001B[0m\u001B[0;34m)\u001B[0m\u001B[0;34m\u001B[0m\u001B[0;34m\u001B[0m\u001B[0m\n\u001B[0m\u001B[1;32m      2\u001B[0m \u001B[0ma\u001B[0m\u001B[0;34m\u001B[0m\u001B[0;34m\u001B[0m\u001B[0m\n",
      "\u001B[0;32m~/.pyenv/versions/nlp_bert_venv/lib/python3.9/site-packages/yfinance/multi.py\u001B[0m in \u001B[0;36mdownload\u001B[0;34m(tickers, start, end, actions, threads, group_by, auto_adjust, back_adjust, progress, period, show_errors, interval, prepost, proxy, rounding, timeout, **kwargs)\u001B[0m\n\u001B[1;32m    110\u001B[0m                                    rounding=rounding, timeout=timeout)\n\u001B[1;32m    111\u001B[0m         \u001B[0;32mwhile\u001B[0m \u001B[0mlen\u001B[0m\u001B[0;34m(\u001B[0m\u001B[0mshared\u001B[0m\u001B[0;34m.\u001B[0m\u001B[0m_DFS\u001B[0m\u001B[0;34m)\u001B[0m \u001B[0;34m<\u001B[0m \u001B[0mlen\u001B[0m\u001B[0;34m(\u001B[0m\u001B[0mtickers\u001B[0m\u001B[0;34m)\u001B[0m\u001B[0;34m:\u001B[0m\u001B[0;34m\u001B[0m\u001B[0;34m\u001B[0m\u001B[0m\n\u001B[0;32m--> 112\u001B[0;31m             \u001B[0m_time\u001B[0m\u001B[0;34m.\u001B[0m\u001B[0msleep\u001B[0m\u001B[0;34m(\u001B[0m\u001B[0;36m0.01\u001B[0m\u001B[0;34m)\u001B[0m\u001B[0;34m\u001B[0m\u001B[0;34m\u001B[0m\u001B[0m\n\u001B[0m\u001B[1;32m    113\u001B[0m \u001B[0;34m\u001B[0m\u001B[0m\n\u001B[1;32m    114\u001B[0m     \u001B[0;31m# download synchronously\u001B[0m\u001B[0;34m\u001B[0m\u001B[0;34m\u001B[0m\u001B[0;34m\u001B[0m\u001B[0m\n",
      "\u001B[0;31mKeyboardInterrupt\u001B[0m: "
     ]
    }
   ],
   "source": [
    "a = yfinance.download(tickers=\"^GSPC\", start=\"2022-06-22T12:00:00-04:00\", end=\"2022-06-23\", interval=\"1m\")\n",
    "a"
   ],
   "metadata": {
    "collapsed": false,
    "pycharm": {
     "name": "#%%\n"
    }
   }
  }
 ],
 "metadata": {
  "kernelspec": {
   "display_name": "Python 3",
   "language": "python",
   "name": "python3"
  },
  "language_info": {
   "codemirror_mode": {
    "name": "ipython",
    "version": 2
   },
   "file_extension": ".py",
   "mimetype": "text/x-python",
   "name": "python",
   "nbconvert_exporter": "python",
   "pygments_lexer": "ipython2",
   "version": "2.7.6"
  }
 },
 "nbformat": 4,
 "nbformat_minor": 0
}